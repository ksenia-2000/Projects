{
 "cells": [
  {
   "cell_type": "markdown",
   "id": "ad3d07f2",
   "metadata": {},
   "source": [
    "##  Исследование рынка заведений общественного питания Москвы"
   ]
  },
  {
   "cell_type": "markdown",
   "id": "65d40b10",
   "metadata": {},
   "source": [
    "**Инвесторы из фонда \"Shut Up and Take My Money\" решили открыть заведение в городе с учетом актуальных трендов на рынке общепита.**\n",
    "\n",
    "**В распоряжении данные заведений общественного питания в городе Москве (по состоянию на лето 2022 г.), собранные при помощи сервисов Яндекс Карты и Яндекс Бизнес для исследования местного рынка.** "
   ]
  },
  {
   "cell_type": "markdown",
   "id": "8d7e4627",
   "metadata": {},
   "source": [
    "### Цель, задачи и алгоритм действий"
   ]
  },
  {
   "cell_type": "markdown",
   "id": "9cda731f",
   "metadata": {},
   "source": [
    "Данное исследование направлено на выявление актуальных тенденций и закономерностей на рынке общественного питания Москвы. \n",
    "\n",
    "Посредством решения данной задачи ставится цель выявить, открытие какого типа заведения является наиболее перспективным для инвесторов.\n",
    "\n",
    "Для достижения поставленной цели будут предприняты следующие шаги: \n",
    "\n",
    "      -открытие и изучение файла;\n",
    "      -предобработка данных, включающая в себя изучение типов данных в датафрейме, его изменение в случае необходимости,\n",
    "      проверка датафрейма на наличие пропусков, а также дубликатов (как явных, так и неявных);\n",
    "      -добавление в датафрейм столбцов с названием улицы, где расположено заведение, и идентификатором круглосуточных \n",
    "      заведений;\n",
    "      -выявление количества уникальных заведений в датафрейме;\n",
    "      -выявление количества уникальных заведений с более чемодной локацией в городе;\n",
    "      -исследование аномалий в значениях среднего чека и количества посадочных мест;\n",
    "      -исследование категорий значений и наиболее распространенных из них посредством визуализации данных; \n",
    "      -изучение медианного количества посадочных мест в зависимосит от категории заведения;\n",
    "      -исследование соотношения сетевых и несетвых заведений в городе посредством визуализации данных;\n",
    "      -изучение 15 самых популярных сетей в Москве и наиболее распространенных среди сетей категорий заведений;\n",
    "      -исследование географии заведений, в частности, рассмотрение округов, в которых расположены заведения, и расчет \n",
    "      количества заведений каждой категории в 9 округах;\n",
    "      -изучение распределения средних рейтингов по категориям заведений;\n",
    "      -исследование рейтинга заведений в зависимости от того, в каком округе те расположены посредством построения\n",
    "      фоновой картограммы;\n",
    "      -визуализация кластеров заведений на карте Москвы;\n",
    "      -выявление 15 улиц с наибольшим количеством заведений и выявление на них количества заведений каждой \n",
    "      категории посредством визуализации;\n",
    "      -исследование улиц с одним заведением, в частности, расчет их количества, рассмотрение наиболее популярных \n",
    "      на них категорий заведений, а также сравнение показателей с городом в целом;\n",
    "      -исследование медианы среднего чека по округам Москвы и построение фоноаой картограммы;\n",
    "      -выявление количества кофеен в датафрейме, выявление степени их распространенности в разных округах Москвы и \n",
    "      изучение их графиков работы.\n",
    "     \n",
    "      "
   ]
  },
  {
   "cell_type": "code",
   "execution_count": 1,
   "id": "04c07584",
   "metadata": {},
   "outputs": [],
   "source": [
    "import pandas as pd #импортируем бибилиотеку pandas для работы с датафреймом\n",
    "import numpy as np\n",
    "import seaborn as sns\n",
    "import warnings\n",
    "warnings.filterwarnings(\"ignore\")\n",
    "from datetime import datetime\n",
    "import matplotlib.pyplot as plt #импортируем библиотеку matpolib.byplot для того, чтобы в дальейшем присваивать осям и самим графикам названиям\n",
    "import plotly.express as px\n",
    "import plotly.graph_objects as go\n",
    "import plotly.io as pio\n",
    "import folium\n",
    "import json"
   ]
  },
  {
   "cell_type": "markdown",
   "id": "5e489245",
   "metadata": {},
   "source": [
    "## Изучение файла и предобработка данных"
   ]
  },
  {
   "cell_type": "code",
   "execution_count": 2,
   "id": "9c77d520",
   "metadata": {},
   "outputs": [],
   "source": [
    "try:\n",
    "    data = pd.read_csv('/datasets/moscow_places.csv')\n",
    "except:\n",
    "    data = pd.read_csv('moscow_places.csv')"
   ]
  },
  {
   "cell_type": "code",
   "execution_count": 3,
   "id": "3ac3bb3a",
   "metadata": {},
   "outputs": [],
   "source": [
    "def dataframe_info(data):\n",
    "    display(data.head(), data.info(), data.describe()), \\\n",
    "    print('Количество дубликатов в датафрейме:', data.duplicated().sum())\n",
    "    "
   ]
  },
  {
   "cell_type": "code",
   "execution_count": 4,
   "id": "38daa88a",
   "metadata": {},
   "outputs": [
    {
     "name": "stdout",
     "output_type": "stream",
     "text": [
      "<class 'pandas.core.frame.DataFrame'>\n",
      "RangeIndex: 8406 entries, 0 to 8405\n",
      "Data columns (total 14 columns):\n",
      " #   Column             Non-Null Count  Dtype  \n",
      "---  ------             --------------  -----  \n",
      " 0   name               8406 non-null   object \n",
      " 1   category           8406 non-null   object \n",
      " 2   address            8406 non-null   object \n",
      " 3   district           8406 non-null   object \n",
      " 4   hours              7870 non-null   object \n",
      " 5   lat                8406 non-null   float64\n",
      " 6   lng                8406 non-null   float64\n",
      " 7   rating             8406 non-null   float64\n",
      " 8   price              3315 non-null   object \n",
      " 9   avg_bill           3816 non-null   object \n",
      " 10  middle_avg_bill    3149 non-null   float64\n",
      " 11  middle_coffee_cup  535 non-null    float64\n",
      " 12  chain              8406 non-null   int64  \n",
      " 13  seats              4795 non-null   float64\n",
      "dtypes: float64(6), int64(1), object(7)\n",
      "memory usage: 919.5+ KB\n"
     ]
    },
    {
     "data": {
      "text/html": [
       "<div>\n",
       "<style scoped>\n",
       "    .dataframe tbody tr th:only-of-type {\n",
       "        vertical-align: middle;\n",
       "    }\n",
       "\n",
       "    .dataframe tbody tr th {\n",
       "        vertical-align: top;\n",
       "    }\n",
       "\n",
       "    .dataframe thead th {\n",
       "        text-align: right;\n",
       "    }\n",
       "</style>\n",
       "<table border=\"1\" class=\"dataframe\">\n",
       "  <thead>\n",
       "    <tr style=\"text-align: right;\">\n",
       "      <th></th>\n",
       "      <th>name</th>\n",
       "      <th>category</th>\n",
       "      <th>address</th>\n",
       "      <th>district</th>\n",
       "      <th>hours</th>\n",
       "      <th>lat</th>\n",
       "      <th>lng</th>\n",
       "      <th>rating</th>\n",
       "      <th>price</th>\n",
       "      <th>avg_bill</th>\n",
       "      <th>middle_avg_bill</th>\n",
       "      <th>middle_coffee_cup</th>\n",
       "      <th>chain</th>\n",
       "      <th>seats</th>\n",
       "    </tr>\n",
       "  </thead>\n",
       "  <tbody>\n",
       "    <tr>\n",
       "      <th>0</th>\n",
       "      <td>WoWфли</td>\n",
       "      <td>кафе</td>\n",
       "      <td>Москва, улица Дыбенко, 7/1</td>\n",
       "      <td>Северный административный округ</td>\n",
       "      <td>ежедневно, 10:00–22:00</td>\n",
       "      <td>55.878494</td>\n",
       "      <td>37.478860</td>\n",
       "      <td>5.0</td>\n",
       "      <td>NaN</td>\n",
       "      <td>NaN</td>\n",
       "      <td>NaN</td>\n",
       "      <td>NaN</td>\n",
       "      <td>0</td>\n",
       "      <td>NaN</td>\n",
       "    </tr>\n",
       "    <tr>\n",
       "      <th>1</th>\n",
       "      <td>Четыре комнаты</td>\n",
       "      <td>ресторан</td>\n",
       "      <td>Москва, улица Дыбенко, 36, корп. 1</td>\n",
       "      <td>Северный административный округ</td>\n",
       "      <td>ежедневно, 10:00–22:00</td>\n",
       "      <td>55.875801</td>\n",
       "      <td>37.484479</td>\n",
       "      <td>4.5</td>\n",
       "      <td>выше среднего</td>\n",
       "      <td>Средний счёт:1500–1600 ₽</td>\n",
       "      <td>1550.0</td>\n",
       "      <td>NaN</td>\n",
       "      <td>0</td>\n",
       "      <td>4.0</td>\n",
       "    </tr>\n",
       "    <tr>\n",
       "      <th>2</th>\n",
       "      <td>Хазри</td>\n",
       "      <td>кафе</td>\n",
       "      <td>Москва, Клязьминская улица, 15</td>\n",
       "      <td>Северный административный округ</td>\n",
       "      <td>пн-чт 11:00–02:00; пт,сб 11:00–05:00; вс 11:00...</td>\n",
       "      <td>55.889146</td>\n",
       "      <td>37.525901</td>\n",
       "      <td>4.6</td>\n",
       "      <td>средние</td>\n",
       "      <td>Средний счёт:от 1000 ₽</td>\n",
       "      <td>1000.0</td>\n",
       "      <td>NaN</td>\n",
       "      <td>0</td>\n",
       "      <td>45.0</td>\n",
       "    </tr>\n",
       "    <tr>\n",
       "      <th>3</th>\n",
       "      <td>Dormouse Coffee Shop</td>\n",
       "      <td>кофейня</td>\n",
       "      <td>Москва, улица Маршала Федоренко, 12</td>\n",
       "      <td>Северный административный округ</td>\n",
       "      <td>ежедневно, 09:00–22:00</td>\n",
       "      <td>55.881608</td>\n",
       "      <td>37.488860</td>\n",
       "      <td>5.0</td>\n",
       "      <td>NaN</td>\n",
       "      <td>Цена чашки капучино:155–185 ₽</td>\n",
       "      <td>NaN</td>\n",
       "      <td>170.0</td>\n",
       "      <td>0</td>\n",
       "      <td>NaN</td>\n",
       "    </tr>\n",
       "    <tr>\n",
       "      <th>4</th>\n",
       "      <td>Иль Марко</td>\n",
       "      <td>пиццерия</td>\n",
       "      <td>Москва, Правобережная улица, 1Б</td>\n",
       "      <td>Северный административный округ</td>\n",
       "      <td>ежедневно, 10:00–22:00</td>\n",
       "      <td>55.881166</td>\n",
       "      <td>37.449357</td>\n",
       "      <td>5.0</td>\n",
       "      <td>средние</td>\n",
       "      <td>Средний счёт:400–600 ₽</td>\n",
       "      <td>500.0</td>\n",
       "      <td>NaN</td>\n",
       "      <td>1</td>\n",
       "      <td>148.0</td>\n",
       "    </tr>\n",
       "  </tbody>\n",
       "</table>\n",
       "</div>"
      ],
      "text/plain": [
       "                   name  category                              address  \\\n",
       "0                WoWфли      кафе           Москва, улица Дыбенко, 7/1   \n",
       "1        Четыре комнаты  ресторан   Москва, улица Дыбенко, 36, корп. 1   \n",
       "2                 Хазри      кафе       Москва, Клязьминская улица, 15   \n",
       "3  Dormouse Coffee Shop   кофейня  Москва, улица Маршала Федоренко, 12   \n",
       "4             Иль Марко  пиццерия      Москва, Правобережная улица, 1Б   \n",
       "\n",
       "                          district  \\\n",
       "0  Северный административный округ   \n",
       "1  Северный административный округ   \n",
       "2  Северный административный округ   \n",
       "3  Северный административный округ   \n",
       "4  Северный административный округ   \n",
       "\n",
       "                                               hours        lat        lng  \\\n",
       "0                             ежедневно, 10:00–22:00  55.878494  37.478860   \n",
       "1                             ежедневно, 10:00–22:00  55.875801  37.484479   \n",
       "2  пн-чт 11:00–02:00; пт,сб 11:00–05:00; вс 11:00...  55.889146  37.525901   \n",
       "3                             ежедневно, 09:00–22:00  55.881608  37.488860   \n",
       "4                             ежедневно, 10:00–22:00  55.881166  37.449357   \n",
       "\n",
       "   rating          price                       avg_bill  middle_avg_bill  \\\n",
       "0     5.0            NaN                            NaN              NaN   \n",
       "1     4.5  выше среднего       Средний счёт:1500–1600 ₽           1550.0   \n",
       "2     4.6        средние         Средний счёт:от 1000 ₽           1000.0   \n",
       "3     5.0            NaN  Цена чашки капучино:155–185 ₽              NaN   \n",
       "4     5.0        средние         Средний счёт:400–600 ₽            500.0   \n",
       "\n",
       "   middle_coffee_cup  chain  seats  \n",
       "0                NaN      0    NaN  \n",
       "1                NaN      0    4.0  \n",
       "2                NaN      0   45.0  \n",
       "3              170.0      0    NaN  \n",
       "4                NaN      1  148.0  "
      ]
     },
     "metadata": {},
     "output_type": "display_data"
    },
    {
     "data": {
      "text/plain": [
       "None"
      ]
     },
     "metadata": {},
     "output_type": "display_data"
    },
    {
     "data": {
      "text/html": [
       "<div>\n",
       "<style scoped>\n",
       "    .dataframe tbody tr th:only-of-type {\n",
       "        vertical-align: middle;\n",
       "    }\n",
       "\n",
       "    .dataframe tbody tr th {\n",
       "        vertical-align: top;\n",
       "    }\n",
       "\n",
       "    .dataframe thead th {\n",
       "        text-align: right;\n",
       "    }\n",
       "</style>\n",
       "<table border=\"1\" class=\"dataframe\">\n",
       "  <thead>\n",
       "    <tr style=\"text-align: right;\">\n",
       "      <th></th>\n",
       "      <th>lat</th>\n",
       "      <th>lng</th>\n",
       "      <th>rating</th>\n",
       "      <th>middle_avg_bill</th>\n",
       "      <th>middle_coffee_cup</th>\n",
       "      <th>chain</th>\n",
       "      <th>seats</th>\n",
       "    </tr>\n",
       "  </thead>\n",
       "  <tbody>\n",
       "    <tr>\n",
       "      <th>count</th>\n",
       "      <td>8406.000000</td>\n",
       "      <td>8406.000000</td>\n",
       "      <td>8406.000000</td>\n",
       "      <td>3149.000000</td>\n",
       "      <td>535.000000</td>\n",
       "      <td>8406.000000</td>\n",
       "      <td>4795.000000</td>\n",
       "    </tr>\n",
       "    <tr>\n",
       "      <th>mean</th>\n",
       "      <td>55.750109</td>\n",
       "      <td>37.608570</td>\n",
       "      <td>4.229895</td>\n",
       "      <td>958.053668</td>\n",
       "      <td>174.721495</td>\n",
       "      <td>0.381275</td>\n",
       "      <td>108.421689</td>\n",
       "    </tr>\n",
       "    <tr>\n",
       "      <th>std</th>\n",
       "      <td>0.069658</td>\n",
       "      <td>0.098597</td>\n",
       "      <td>0.470348</td>\n",
       "      <td>1009.732845</td>\n",
       "      <td>88.951103</td>\n",
       "      <td>0.485729</td>\n",
       "      <td>122.833396</td>\n",
       "    </tr>\n",
       "    <tr>\n",
       "      <th>min</th>\n",
       "      <td>55.573942</td>\n",
       "      <td>37.355651</td>\n",
       "      <td>1.000000</td>\n",
       "      <td>0.000000</td>\n",
       "      <td>60.000000</td>\n",
       "      <td>0.000000</td>\n",
       "      <td>0.000000</td>\n",
       "    </tr>\n",
       "    <tr>\n",
       "      <th>25%</th>\n",
       "      <td>55.705155</td>\n",
       "      <td>37.538583</td>\n",
       "      <td>4.100000</td>\n",
       "      <td>375.000000</td>\n",
       "      <td>124.500000</td>\n",
       "      <td>0.000000</td>\n",
       "      <td>40.000000</td>\n",
       "    </tr>\n",
       "    <tr>\n",
       "      <th>50%</th>\n",
       "      <td>55.753425</td>\n",
       "      <td>37.605246</td>\n",
       "      <td>4.300000</td>\n",
       "      <td>750.000000</td>\n",
       "      <td>169.000000</td>\n",
       "      <td>0.000000</td>\n",
       "      <td>75.000000</td>\n",
       "    </tr>\n",
       "    <tr>\n",
       "      <th>75%</th>\n",
       "      <td>55.795041</td>\n",
       "      <td>37.664792</td>\n",
       "      <td>4.400000</td>\n",
       "      <td>1250.000000</td>\n",
       "      <td>225.000000</td>\n",
       "      <td>1.000000</td>\n",
       "      <td>140.000000</td>\n",
       "    </tr>\n",
       "    <tr>\n",
       "      <th>max</th>\n",
       "      <td>55.928943</td>\n",
       "      <td>37.874466</td>\n",
       "      <td>5.000000</td>\n",
       "      <td>35000.000000</td>\n",
       "      <td>1568.000000</td>\n",
       "      <td>1.000000</td>\n",
       "      <td>1288.000000</td>\n",
       "    </tr>\n",
       "  </tbody>\n",
       "</table>\n",
       "</div>"
      ],
      "text/plain": [
       "               lat          lng       rating  middle_avg_bill  \\\n",
       "count  8406.000000  8406.000000  8406.000000      3149.000000   \n",
       "mean     55.750109    37.608570     4.229895       958.053668   \n",
       "std       0.069658     0.098597     0.470348      1009.732845   \n",
       "min      55.573942    37.355651     1.000000         0.000000   \n",
       "25%      55.705155    37.538583     4.100000       375.000000   \n",
       "50%      55.753425    37.605246     4.300000       750.000000   \n",
       "75%      55.795041    37.664792     4.400000      1250.000000   \n",
       "max      55.928943    37.874466     5.000000     35000.000000   \n",
       "\n",
       "       middle_coffee_cup        chain        seats  \n",
       "count         535.000000  8406.000000  4795.000000  \n",
       "mean          174.721495     0.381275   108.421689  \n",
       "std            88.951103     0.485729   122.833396  \n",
       "min            60.000000     0.000000     0.000000  \n",
       "25%           124.500000     0.000000    40.000000  \n",
       "50%           169.000000     0.000000    75.000000  \n",
       "75%           225.000000     1.000000   140.000000  \n",
       "max          1568.000000     1.000000  1288.000000  "
      ]
     },
     "metadata": {},
     "output_type": "display_data"
    },
    {
     "name": "stdout",
     "output_type": "stream",
     "text": [
      "Количество дубликатов в датафрейме: 0\n"
     ]
    }
   ],
   "source": [
    "dataframe_info(data)"
   ]
  },
  {
   "cell_type": "markdown",
   "id": "4994bd3a",
   "metadata": {},
   "source": [
    "**С типами данных все в порядке. Никакие изменения не будут проводиться.**"
   ]
  },
  {
   "cell_type": "markdown",
   "id": "e6a62d5f",
   "metadata": {},
   "source": [
    "### Изучение пропусков"
   ]
  },
  {
   "cell_type": "markdown",
   "id": "b010d93f",
   "metadata": {},
   "source": [
    "**Напишем функцию для того, чтобы на графике отобразить долю пропущенных значений в каждом столбце датафрейма data.**"
   ]
  },
  {
   "cell_type": "code",
   "execution_count": 5,
   "id": "5484d03c",
   "metadata": {},
   "outputs": [],
   "source": [
    "def pass_value_barh(data):\n",
    "    try:\n",
    "        (\n",
    "            (data.isna().mean()*100)\n",
    "            .to_frame()\n",
    "            .rename(columns = {0:'space'})\n",
    "            .query('space > 0')\n",
    "            .sort_values(by = 'space', ascending = True)\n",
    "            .plot(kind= 'barh', figsize=(20,6), rot = -5, legend = False, fontsize = 15, color='#66c2a5')\n",
    "            .set_title('Количество пропусков в датафрейме' + \"\\n\", fontsize = 22)    \n",
    "        );    \n",
    "    except:\n",
    "        print('пропусков не осталось :) ')"
   ]
  },
  {
   "cell_type": "code",
   "execution_count": 6,
   "id": "747fb400",
   "metadata": {},
   "outputs": [
    {
     "data": {
      "image/png": "[encoded data removed]",
      "text/plain": [
       "<Figure size 2000x600 with 1 Axes>"
      ]
     },
     "metadata": {},
     "output_type": "display_data"
    }
   ],
   "source": [
    "pass_value_barh(data)"
   ]
  },
  {
   "cell_type": "markdown",
   "id": "27195407",
   "metadata": {},
   "source": [
    "**Как видно на графике, в столбце, содержащем числа с оценкой одной чашки капучино (middle_coffee_cup), отсутствует более 80% значений. В столбцах с оценкой среднего чека (middle_avg_bill) и категорией заведения (price), а также средней стоимостью заказа (avg_bill) доля пропусков превышает 50%. Также отсутствует более 40% значений в столбце с количеством посадочных мест. В силу этого фактически нет смысла заполнять в них пропуски. Мы также не можем применить логическую индексацию для замены пропусков медианным значением с учетом какого-либо стороннего параметра, так как средний чек и категорию заведения нельзя связать с местностью: на одной улице могут быть заведения как с низким, так и высоким рейтингом, также как и с низким и высоким средним чеком. Принято решение оставить пропуски.** "
   ]
  },
  {
   "cell_type": "markdown",
   "id": "323bcd3e",
   "metadata": {},
   "source": [
    "### Изучение дубликатов"
   ]
  },
  {
   "cell_type": "markdown",
   "id": "cafc3ca5",
   "metadata": {},
   "source": [
    "**В датафрейме отсутствуют явные дубликаты.Приведем к нижнему регистру названия заведений для того, чтобы найти неявные.**"
   ]
  },
  {
   "cell_type": "code",
   "execution_count": 7,
   "id": "1d366d68",
   "metadata": {},
   "outputs": [],
   "source": [
    "data['name'] = data['name'].str.lower()"
   ]
  },
  {
   "cell_type": "markdown",
   "id": "97f45154",
   "metadata": {},
   "source": [
    "**Найдем количество заведений, у которых совпадает название и адрес.**"
   ]
  },
  {
   "cell_type": "code",
   "execution_count": 8,
   "id": "8b217d56",
   "metadata": {},
   "outputs": [
    {
     "name": "stdout",
     "output_type": "stream",
     "text": [
      "Количество дубликатов: 3\n"
     ]
    }
   ],
   "source": [
    "print('Количество дубликатов:', data.duplicated(subset=['name', 'address']).sum())"
   ]
  },
  {
   "cell_type": "markdown",
   "id": "c71993c6",
   "metadata": {},
   "source": [
    "**Удалим их из датафрейма.**"
   ]
  },
  {
   "cell_type": "code",
   "execution_count": 9,
   "id": "d37ee479",
   "metadata": {},
   "outputs": [],
   "source": [
    "data = data.drop_duplicates(subset=['name','address'], keep='first').reset_index()\n"
   ]
  },
  {
   "cell_type": "markdown",
   "id": "24ec54ca",
   "metadata": {},
   "source": [
    "### Изучение заведений"
   ]
  },
  {
   "cell_type": "code",
   "execution_count": 10,
   "id": "cbd0972c",
   "metadata": {},
   "outputs": [
    {
     "name": "stdout",
     "output_type": "stream",
     "text": [
      "Количество уникальных заведений: 5512\n"
     ]
    }
   ],
   "source": [
    "print('Количество уникальных заведений:', data.name.nunique())"
   ]
  },
  {
   "cell_type": "code",
   "execution_count": 11,
   "id": "4fddc915",
   "metadata": {},
   "outputs": [
    {
     "name": "stdout",
     "output_type": "stream",
     "text": [
      "Количество заведений с более чем одной локацией: 752\n"
     ]
    }
   ],
   "source": [
    "print('Количество заведений с более чем одной локацией:',len(data.groupby('name').agg({'address':'count'}).query('address > 1')))"
   ]
  },
  {
   "cell_type": "markdown",
   "id": "03a7fd47",
   "metadata": {},
   "source": [
    "### Добавление столбцов"
   ]
  },
  {
   "cell_type": "markdown",
   "id": "86545d94",
   "metadata": {},
   "source": [
    "**При помощи метода split() и цикла добавим столбцев с названием улицы, на которой расположено заведение.**"
   ]
  },
  {
   "cell_type": "code",
   "execution_count": 12,
   "id": "ab1785b7",
   "metadata": {},
   "outputs": [],
   "source": [
    "data['street']=[x.split(', ')[1]\n",
    "for x in data['address'].values]"
   ]
  },
  {
   "cell_type": "code",
   "execution_count": 13,
   "id": "1551608e",
   "metadata": {},
   "outputs": [
    {
     "data": {
      "text/html": [
       "<div>\n",
       "<style scoped>\n",
       "    .dataframe tbody tr th:only-of-type {\n",
       "        vertical-align: middle;\n",
       "    }\n",
       "\n",
       "    .dataframe tbody tr th {\n",
       "        vertical-align: top;\n",
       "    }\n",
       "\n",
       "    .dataframe thead th {\n",
       "        text-align: right;\n",
       "    }\n",
       "</style>\n",
       "<table border=\"1\" class=\"dataframe\">\n",
       "  <thead>\n",
       "    <tr style=\"text-align: right;\">\n",
       "      <th></th>\n",
       "      <th>index</th>\n",
       "      <th>name</th>\n",
       "      <th>category</th>\n",
       "      <th>address</th>\n",
       "      <th>district</th>\n",
       "      <th>hours</th>\n",
       "      <th>lat</th>\n",
       "      <th>lng</th>\n",
       "      <th>rating</th>\n",
       "      <th>price</th>\n",
       "      <th>avg_bill</th>\n",
       "      <th>middle_avg_bill</th>\n",
       "      <th>middle_coffee_cup</th>\n",
       "      <th>chain</th>\n",
       "      <th>seats</th>\n",
       "      <th>street</th>\n",
       "    </tr>\n",
       "  </thead>\n",
       "  <tbody>\n",
       "    <tr>\n",
       "      <th>718</th>\n",
       "      <td>718</td>\n",
       "      <td>все лень</td>\n",
       "      <td>ресторан</td>\n",
       "      <td>Москва, проспект Мира, 119, стр. 528</td>\n",
       "      <td>Северо-Восточный административный округ</td>\n",
       "      <td>пн-чт 12:00–21:00; пт,сб 12:00–22:00; вс 12:00...</td>\n",
       "      <td>55.836107</td>\n",
       "      <td>37.614875</td>\n",
       "      <td>4.4</td>\n",
       "      <td>выше среднего</td>\n",
       "      <td>Средний счёт:от 1500 ₽</td>\n",
       "      <td>1500.0</td>\n",
       "      <td>NaN</td>\n",
       "      <td>0</td>\n",
       "      <td>NaN</td>\n",
       "      <td>проспект Мира</td>\n",
       "    </tr>\n",
       "    <tr>\n",
       "      <th>786</th>\n",
       "      <td>786</td>\n",
       "      <td>старое место</td>\n",
       "      <td>кафе</td>\n",
       "      <td>Москва, проспект Мира, 119, стр. 504</td>\n",
       "      <td>Северо-Восточный административный округ</td>\n",
       "      <td>ежедневно, 11:00–22:00</td>\n",
       "      <td>55.837212</td>\n",
       "      <td>37.616469</td>\n",
       "      <td>4.1</td>\n",
       "      <td>средние</td>\n",
       "      <td>Средний счёт:900–1100 ₽</td>\n",
       "      <td>1000.0</td>\n",
       "      <td>NaN</td>\n",
       "      <td>0</td>\n",
       "      <td>NaN</td>\n",
       "      <td>проспект Мира</td>\n",
       "    </tr>\n",
       "    <tr>\n",
       "      <th>792</th>\n",
       "      <td>792</td>\n",
       "      <td>doner one</td>\n",
       "      <td>кафе</td>\n",
       "      <td>Москва, проспект Мира, 119, стр. 596</td>\n",
       "      <td>Северо-Восточный административный округ</td>\n",
       "      <td>ежедневно, 11:00–21:00</td>\n",
       "      <td>55.839037</td>\n",
       "      <td>37.613027</td>\n",
       "      <td>4.2</td>\n",
       "      <td>NaN</td>\n",
       "      <td>NaN</td>\n",
       "      <td>NaN</td>\n",
       "      <td>NaN</td>\n",
       "      <td>0</td>\n",
       "      <td>NaN</td>\n",
       "      <td>проспект Мира</td>\n",
       "    </tr>\n",
       "    <tr>\n",
       "      <th>800</th>\n",
       "      <td>800</td>\n",
       "      <td>пян-се</td>\n",
       "      <td>быстрое питание</td>\n",
       "      <td>Москва, проспект Мира, 119, стр. 27</td>\n",
       "      <td>Северо-Восточный административный округ</td>\n",
       "      <td>ежедневно, 10:00–20:00</td>\n",
       "      <td>55.834563</td>\n",
       "      <td>37.613549</td>\n",
       "      <td>4.4</td>\n",
       "      <td>NaN</td>\n",
       "      <td>NaN</td>\n",
       "      <td>NaN</td>\n",
       "      <td>NaN</td>\n",
       "      <td>1</td>\n",
       "      <td>NaN</td>\n",
       "      <td>проспект Мира</td>\n",
       "    </tr>\n",
       "    <tr>\n",
       "      <th>909</th>\n",
       "      <td>909</td>\n",
       "      <td>космос</td>\n",
       "      <td>кафе</td>\n",
       "      <td>Москва, проспект Мира, 119, стр. 34</td>\n",
       "      <td>Северо-Восточный административный округ</td>\n",
       "      <td>вт-вс 10:45–21:00</td>\n",
       "      <td>55.835060</td>\n",
       "      <td>37.622033</td>\n",
       "      <td>3.8</td>\n",
       "      <td>NaN</td>\n",
       "      <td>NaN</td>\n",
       "      <td>NaN</td>\n",
       "      <td>NaN</td>\n",
       "      <td>0</td>\n",
       "      <td>NaN</td>\n",
       "      <td>проспект Мира</td>\n",
       "    </tr>\n",
       "    <tr>\n",
       "      <th>...</th>\n",
       "      <td>...</td>\n",
       "      <td>...</td>\n",
       "      <td>...</td>\n",
       "      <td>...</td>\n",
       "      <td>...</td>\n",
       "      <td>...</td>\n",
       "      <td>...</td>\n",
       "      <td>...</td>\n",
       "      <td>...</td>\n",
       "      <td>...</td>\n",
       "      <td>...</td>\n",
       "      <td>...</td>\n",
       "      <td>...</td>\n",
       "      <td>...</td>\n",
       "      <td>...</td>\n",
       "      <td>...</td>\n",
       "    </tr>\n",
       "    <tr>\n",
       "      <th>2566</th>\n",
       "      <td>2568</td>\n",
       "      <td>ice embassy</td>\n",
       "      <td>кафе</td>\n",
       "      <td>Москва, проспект Мира, 26, стр. 2</td>\n",
       "      <td>Центральный административный округ</td>\n",
       "      <td>ежедневно, круглосуточно</td>\n",
       "      <td>55.777311</td>\n",
       "      <td>37.636400</td>\n",
       "      <td>4.4</td>\n",
       "      <td>NaN</td>\n",
       "      <td>NaN</td>\n",
       "      <td>NaN</td>\n",
       "      <td>NaN</td>\n",
       "      <td>0</td>\n",
       "      <td>273.0</td>\n",
       "      <td>проспект Мира</td>\n",
       "    </tr>\n",
       "    <tr>\n",
       "      <th>2569</th>\n",
       "      <td>2571</td>\n",
       "      <td>халва, сеть почтоматов</td>\n",
       "      <td>кафе</td>\n",
       "      <td>Москва, проспект Мира, 146</td>\n",
       "      <td>Северо-Восточный административный округ</td>\n",
       "      <td>пн-пт 10:00–19:00</td>\n",
       "      <td>55.820575</td>\n",
       "      <td>37.641970</td>\n",
       "      <td>3.6</td>\n",
       "      <td>NaN</td>\n",
       "      <td>NaN</td>\n",
       "      <td>NaN</td>\n",
       "      <td>NaN</td>\n",
       "      <td>0</td>\n",
       "      <td>18.0</td>\n",
       "      <td>проспект Мира</td>\n",
       "    </tr>\n",
       "    <tr>\n",
       "      <th>2570</th>\n",
       "      <td>2572</td>\n",
       "      <td>ресторан</td>\n",
       "      <td>ресторан</td>\n",
       "      <td>Москва, проспект Мира, 62, стр. 1</td>\n",
       "      <td>Центральный административный округ</td>\n",
       "      <td>NaN</td>\n",
       "      <td>55.785618</td>\n",
       "      <td>37.635511</td>\n",
       "      <td>4.3</td>\n",
       "      <td>NaN</td>\n",
       "      <td>NaN</td>\n",
       "      <td>NaN</td>\n",
       "      <td>NaN</td>\n",
       "      <td>0</td>\n",
       "      <td>200.0</td>\n",
       "      <td>проспект Мира</td>\n",
       "    </tr>\n",
       "    <tr>\n",
       "      <th>4779</th>\n",
       "      <td>4782</td>\n",
       "      <td>food embassy</td>\n",
       "      <td>ресторан</td>\n",
       "      <td>Москва, проспект Мира, 26, стр. 2</td>\n",
       "      <td>Центральный административный округ</td>\n",
       "      <td>ежедневно, 10:00–00:00</td>\n",
       "      <td>55.777224</td>\n",
       "      <td>37.636288</td>\n",
       "      <td>4.5</td>\n",
       "      <td>высокие</td>\n",
       "      <td>Средний счёт:2500–3000 ₽</td>\n",
       "      <td>2750.0</td>\n",
       "      <td>NaN</td>\n",
       "      <td>0</td>\n",
       "      <td>273.0</td>\n",
       "      <td>проспект Мира</td>\n",
       "    </tr>\n",
       "    <tr>\n",
       "      <th>4783</th>\n",
       "      <td>4786</td>\n",
       "      <td>джимми ли</td>\n",
       "      <td>ресторан</td>\n",
       "      <td>Москва, проспект Мира, 12</td>\n",
       "      <td>Центральный административный округ</td>\n",
       "      <td>пн-чт 12:00–23:00; пт,сб 12:00–00:00; вс 12:00...</td>\n",
       "      <td>55.774715</td>\n",
       "      <td>37.632676</td>\n",
       "      <td>4.4</td>\n",
       "      <td>высокие</td>\n",
       "      <td>Средний счёт:1000–2500 ₽</td>\n",
       "      <td>1750.0</td>\n",
       "      <td>NaN</td>\n",
       "      <td>0</td>\n",
       "      <td>NaN</td>\n",
       "      <td>проспект Мира</td>\n",
       "    </tr>\n",
       "  </tbody>\n",
       "</table>\n",
       "<p>183 rows × 16 columns</p>\n",
       "</div>"
      ],
      "text/plain": [
       "      index                    name         category  \\\n",
       "718     718                все лень         ресторан   \n",
       "786     786            старое место             кафе   \n",
       "792     792               doner one             кафе   \n",
       "800     800                  пян-се  быстрое питание   \n",
       "909     909                  космос             кафе   \n",
       "...     ...                     ...              ...   \n",
       "2566   2568             ice embassy             кафе   \n",
       "2569   2571  халва, сеть почтоматов             кафе   \n",
       "2570   2572                ресторан         ресторан   \n",
       "4779   4782            food embassy         ресторан   \n",
       "4783   4786               джимми ли         ресторан   \n",
       "\n",
       "                                   address  \\\n",
       "718   Москва, проспект Мира, 119, стр. 528   \n",
       "786   Москва, проспект Мира, 119, стр. 504   \n",
       "792   Москва, проспект Мира, 119, стр. 596   \n",
       "800    Москва, проспект Мира, 119, стр. 27   \n",
       "909    Москва, проспект Мира, 119, стр. 34   \n",
       "...                                    ...   \n",
       "2566     Москва, проспект Мира, 26, стр. 2   \n",
       "2569            Москва, проспект Мира, 146   \n",
       "2570     Москва, проспект Мира, 62, стр. 1   \n",
       "4779     Москва, проспект Мира, 26, стр. 2   \n",
       "4783             Москва, проспект Мира, 12   \n",
       "\n",
       "                                     district  \\\n",
       "718   Северо-Восточный административный округ   \n",
       "786   Северо-Восточный административный округ   \n",
       "792   Северо-Восточный административный округ   \n",
       "800   Северо-Восточный административный округ   \n",
       "909   Северо-Восточный административный округ   \n",
       "...                                       ...   \n",
       "2566       Центральный административный округ   \n",
       "2569  Северо-Восточный административный округ   \n",
       "2570       Центральный административный округ   \n",
       "4779       Центральный административный округ   \n",
       "4783       Центральный административный округ   \n",
       "\n",
       "                                                  hours        lat        lng  \\\n",
       "718   пн-чт 12:00–21:00; пт,сб 12:00–22:00; вс 12:00...  55.836107  37.614875   \n",
       "786                              ежедневно, 11:00–22:00  55.837212  37.616469   \n",
       "792                              ежедневно, 11:00–21:00  55.839037  37.613027   \n",
       "800                              ежедневно, 10:00–20:00  55.834563  37.613549   \n",
       "909                                   вт-вс 10:45–21:00  55.835060  37.622033   \n",
       "...                                                 ...        ...        ...   \n",
       "2566                           ежедневно, круглосуточно  55.777311  37.636400   \n",
       "2569                                  пн-пт 10:00–19:00  55.820575  37.641970   \n",
       "2570                                                NaN  55.785618  37.635511   \n",
       "4779                             ежедневно, 10:00–00:00  55.777224  37.636288   \n",
       "4783  пн-чт 12:00–23:00; пт,сб 12:00–00:00; вс 12:00...  55.774715  37.632676   \n",
       "\n",
       "      rating          price                  avg_bill  middle_avg_bill  \\\n",
       "718      4.4  выше среднего    Средний счёт:от 1500 ₽           1500.0   \n",
       "786      4.1        средние   Средний счёт:900–1100 ₽           1000.0   \n",
       "792      4.2            NaN                       NaN              NaN   \n",
       "800      4.4            NaN                       NaN              NaN   \n",
       "909      3.8            NaN                       NaN              NaN   \n",
       "...      ...            ...                       ...              ...   \n",
       "2566     4.4            NaN                       NaN              NaN   \n",
       "2569     3.6            NaN                       NaN              NaN   \n",
       "2570     4.3            NaN                       NaN              NaN   \n",
       "4779     4.5        высокие  Средний счёт:2500–3000 ₽           2750.0   \n",
       "4783     4.4        высокие  Средний счёт:1000–2500 ₽           1750.0   \n",
       "\n",
       "      middle_coffee_cup  chain  seats         street  \n",
       "718                 NaN      0    NaN  проспект Мира  \n",
       "786                 NaN      0    NaN  проспект Мира  \n",
       "792                 NaN      0    NaN  проспект Мира  \n",
       "800                 NaN      1    NaN  проспект Мира  \n",
       "909                 NaN      0    NaN  проспект Мира  \n",
       "...                 ...    ...    ...            ...  \n",
       "2566                NaN      0  273.0  проспект Мира  \n",
       "2569                NaN      0   18.0  проспект Мира  \n",
       "2570                NaN      0  200.0  проспект Мира  \n",
       "4779                NaN      0  273.0  проспект Мира  \n",
       "4783                NaN      0    NaN  проспект Мира  \n",
       "\n",
       "[183 rows x 16 columns]"
      ]
     },
     "execution_count": 13,
     "metadata": {},
     "output_type": "execute_result"
    }
   ],
   "source": [
    "#Код ревьюера\n",
    "data.query('street == \"проспект Мира\"')"
   ]
  },
  {
   "cell_type": "markdown",
   "id": "eaea492e",
   "metadata": {},
   "source": [
    "**Добавим столбец с булевыми значениями для отображения заведений, работающих круглосуточно и ежедневно.**"
   ]
  },
  {
   "cell_type": "code",
   "execution_count": 14,
   "id": "e3d46e16",
   "metadata": {},
   "outputs": [],
   "source": [
    "\n",
    "data['is_24/7'] = data['hours'].str.contains('ежедневно, круглосуточно')"
   ]
  },
  {
   "cell_type": "markdown",
   "id": "0c2f21ea",
   "metadata": {},
   "source": [
    "**Выведем на экран первые 5 строк датафрейма после добавления новых столбцов.**"
   ]
  },
  {
   "cell_type": "code",
   "execution_count": 15,
   "id": "e23af8a3",
   "metadata": {},
   "outputs": [
    {
     "data": {
      "text/html": [
       "<div>\n",
       "<style scoped>\n",
       "    .dataframe tbody tr th:only-of-type {\n",
       "        vertical-align: middle;\n",
       "    }\n",
       "\n",
       "    .dataframe tbody tr th {\n",
       "        vertical-align: top;\n",
       "    }\n",
       "\n",
       "    .dataframe thead th {\n",
       "        text-align: right;\n",
       "    }\n",
       "</style>\n",
       "<table border=\"1\" class=\"dataframe\">\n",
       "  <thead>\n",
       "    <tr style=\"text-align: right;\">\n",
       "      <th></th>\n",
       "      <th>index</th>\n",
       "      <th>name</th>\n",
       "      <th>category</th>\n",
       "      <th>address</th>\n",
       "      <th>district</th>\n",
       "      <th>hours</th>\n",
       "      <th>lat</th>\n",
       "      <th>lng</th>\n",
       "      <th>rating</th>\n",
       "      <th>price</th>\n",
       "      <th>avg_bill</th>\n",
       "      <th>middle_avg_bill</th>\n",
       "      <th>middle_coffee_cup</th>\n",
       "      <th>chain</th>\n",
       "      <th>seats</th>\n",
       "      <th>street</th>\n",
       "      <th>is_24/7</th>\n",
       "    </tr>\n",
       "  </thead>\n",
       "  <tbody>\n",
       "    <tr>\n",
       "      <th>0</th>\n",
       "      <td>0</td>\n",
       "      <td>wowфли</td>\n",
       "      <td>кафе</td>\n",
       "      <td>Москва, улица Дыбенко, 7/1</td>\n",
       "      <td>Северный административный округ</td>\n",
       "      <td>ежедневно, 10:00–22:00</td>\n",
       "      <td>55.878494</td>\n",
       "      <td>37.478860</td>\n",
       "      <td>5.0</td>\n",
       "      <td>NaN</td>\n",
       "      <td>NaN</td>\n",
       "      <td>NaN</td>\n",
       "      <td>NaN</td>\n",
       "      <td>0</td>\n",
       "      <td>NaN</td>\n",
       "      <td>улица Дыбенко</td>\n",
       "      <td>False</td>\n",
       "    </tr>\n",
       "    <tr>\n",
       "      <th>1</th>\n",
       "      <td>1</td>\n",
       "      <td>четыре комнаты</td>\n",
       "      <td>ресторан</td>\n",
       "      <td>Москва, улица Дыбенко, 36, корп. 1</td>\n",
       "      <td>Северный административный округ</td>\n",
       "      <td>ежедневно, 10:00–22:00</td>\n",
       "      <td>55.875801</td>\n",
       "      <td>37.484479</td>\n",
       "      <td>4.5</td>\n",
       "      <td>выше среднего</td>\n",
       "      <td>Средний счёт:1500–1600 ₽</td>\n",
       "      <td>1550.0</td>\n",
       "      <td>NaN</td>\n",
       "      <td>0</td>\n",
       "      <td>4.0</td>\n",
       "      <td>улица Дыбенко</td>\n",
       "      <td>False</td>\n",
       "    </tr>\n",
       "    <tr>\n",
       "      <th>2</th>\n",
       "      <td>2</td>\n",
       "      <td>хазри</td>\n",
       "      <td>кафе</td>\n",
       "      <td>Москва, Клязьминская улица, 15</td>\n",
       "      <td>Северный административный округ</td>\n",
       "      <td>пн-чт 11:00–02:00; пт,сб 11:00–05:00; вс 11:00...</td>\n",
       "      <td>55.889146</td>\n",
       "      <td>37.525901</td>\n",
       "      <td>4.6</td>\n",
       "      <td>средние</td>\n",
       "      <td>Средний счёт:от 1000 ₽</td>\n",
       "      <td>1000.0</td>\n",
       "      <td>NaN</td>\n",
       "      <td>0</td>\n",
       "      <td>45.0</td>\n",
       "      <td>Клязьминская улица</td>\n",
       "      <td>False</td>\n",
       "    </tr>\n",
       "    <tr>\n",
       "      <th>3</th>\n",
       "      <td>3</td>\n",
       "      <td>dormouse coffee shop</td>\n",
       "      <td>кофейня</td>\n",
       "      <td>Москва, улица Маршала Федоренко, 12</td>\n",
       "      <td>Северный административный округ</td>\n",
       "      <td>ежедневно, 09:00–22:00</td>\n",
       "      <td>55.881608</td>\n",
       "      <td>37.488860</td>\n",
       "      <td>5.0</td>\n",
       "      <td>NaN</td>\n",
       "      <td>Цена чашки капучино:155–185 ₽</td>\n",
       "      <td>NaN</td>\n",
       "      <td>170.0</td>\n",
       "      <td>0</td>\n",
       "      <td>NaN</td>\n",
       "      <td>улица Маршала Федоренко</td>\n",
       "      <td>False</td>\n",
       "    </tr>\n",
       "    <tr>\n",
       "      <th>4</th>\n",
       "      <td>4</td>\n",
       "      <td>иль марко</td>\n",
       "      <td>пиццерия</td>\n",
       "      <td>Москва, Правобережная улица, 1Б</td>\n",
       "      <td>Северный административный округ</td>\n",
       "      <td>ежедневно, 10:00–22:00</td>\n",
       "      <td>55.881166</td>\n",
       "      <td>37.449357</td>\n",
       "      <td>5.0</td>\n",
       "      <td>средние</td>\n",
       "      <td>Средний счёт:400–600 ₽</td>\n",
       "      <td>500.0</td>\n",
       "      <td>NaN</td>\n",
       "      <td>1</td>\n",
       "      <td>148.0</td>\n",
       "      <td>Правобережная улица</td>\n",
       "      <td>False</td>\n",
       "    </tr>\n",
       "  </tbody>\n",
       "</table>\n",
       "</div>"
      ],
      "text/plain": [
       "   index                  name  category                              address  \\\n",
       "0      0                wowфли      кафе           Москва, улица Дыбенко, 7/1   \n",
       "1      1        четыре комнаты  ресторан   Москва, улица Дыбенко, 36, корп. 1   \n",
       "2      2                 хазри      кафе       Москва, Клязьминская улица, 15   \n",
       "3      3  dormouse coffee shop   кофейня  Москва, улица Маршала Федоренко, 12   \n",
       "4      4             иль марко  пиццерия      Москва, Правобережная улица, 1Б   \n",
       "\n",
       "                          district  \\\n",
       "0  Северный административный округ   \n",
       "1  Северный административный округ   \n",
       "2  Северный административный округ   \n",
       "3  Северный административный округ   \n",
       "4  Северный административный округ   \n",
       "\n",
       "                                               hours        lat        lng  \\\n",
       "0                             ежедневно, 10:00–22:00  55.878494  37.478860   \n",
       "1                             ежедневно, 10:00–22:00  55.875801  37.484479   \n",
       "2  пн-чт 11:00–02:00; пт,сб 11:00–05:00; вс 11:00...  55.889146  37.525901   \n",
       "3                             ежедневно, 09:00–22:00  55.881608  37.488860   \n",
       "4                             ежедневно, 10:00–22:00  55.881166  37.449357   \n",
       "\n",
       "   rating          price                       avg_bill  middle_avg_bill  \\\n",
       "0     5.0            NaN                            NaN              NaN   \n",
       "1     4.5  выше среднего       Средний счёт:1500–1600 ₽           1550.0   \n",
       "2     4.6        средние         Средний счёт:от 1000 ₽           1000.0   \n",
       "3     5.0            NaN  Цена чашки капучино:155–185 ₽              NaN   \n",
       "4     5.0        средние         Средний счёт:400–600 ₽            500.0   \n",
       "\n",
       "   middle_coffee_cup  chain  seats                   street is_24/7  \n",
       "0                NaN      0    NaN            улица Дыбенко   False  \n",
       "1                NaN      0    4.0            улица Дыбенко   False  \n",
       "2                NaN      0   45.0       Клязьминская улица   False  \n",
       "3              170.0      0    NaN  улица Маршала Федоренко   False  \n",
       "4                NaN      1  148.0      Правобережная улица   False  "
      ]
     },
     "execution_count": 15,
     "metadata": {},
     "output_type": "execute_result"
    }
   ],
   "source": [
    "data.head()"
   ]
  },
  {
   "cell_type": "markdown",
   "id": "a4145515",
   "metadata": {},
   "source": [
    "### Исследование аномалий"
   ]
  },
  {
   "cell_type": "markdown",
   "id": "544a35ca",
   "metadata": {},
   "source": [
    "**Отсортируем датафрейм по среднему чеку и выведем топ-10 заведений по этому показателю.**"
   ]
  },
  {
   "cell_type": "markdown",
   "id": "617d118c",
   "metadata": {},
   "source": [
    "**У кафе на Каширском шоссе средний чек составляет 35 тысяч рублей, что почти на 200% выше, чем у заведений, занимающих 2-е и 3-е места несмотря на то, что в тех цены также на высоком уровне.**"
   ]
  },
  {
   "cell_type": "code",
   "execution_count": 16,
   "id": "25e0ed1e",
   "metadata": {},
   "outputs": [
    {
     "data": {
      "text/html": [
       "<div>\n",
       "<style scoped>\n",
       "    .dataframe tbody tr th:only-of-type {\n",
       "        vertical-align: middle;\n",
       "    }\n",
       "\n",
       "    .dataframe tbody tr th {\n",
       "        vertical-align: top;\n",
       "    }\n",
       "\n",
       "    .dataframe thead th {\n",
       "        text-align: right;\n",
       "    }\n",
       "</style>\n",
       "<table border=\"1\" class=\"dataframe\">\n",
       "  <thead>\n",
       "    <tr style=\"text-align: right;\">\n",
       "      <th></th>\n",
       "      <th>index</th>\n",
       "      <th>name</th>\n",
       "      <th>category</th>\n",
       "      <th>address</th>\n",
       "      <th>district</th>\n",
       "      <th>hours</th>\n",
       "      <th>lat</th>\n",
       "      <th>lng</th>\n",
       "      <th>rating</th>\n",
       "      <th>price</th>\n",
       "      <th>avg_bill</th>\n",
       "      <th>middle_avg_bill</th>\n",
       "      <th>middle_coffee_cup</th>\n",
       "      <th>chain</th>\n",
       "      <th>seats</th>\n",
       "      <th>street</th>\n",
       "      <th>is_24/7</th>\n",
       "    </tr>\n",
       "  </thead>\n",
       "  <tbody>\n",
       "    <tr>\n",
       "      <th>7174</th>\n",
       "      <td>7177</td>\n",
       "      <td>кафе</td>\n",
       "      <td>ресторан</td>\n",
       "      <td>Москва, Каширское шоссе, 23, стр. 2</td>\n",
       "      <td>Южный административный округ</td>\n",
       "      <td>ежедневно, круглосуточно</td>\n",
       "      <td>55.657450</td>\n",
       "      <td>37.646665</td>\n",
       "      <td>4.1</td>\n",
       "      <td>высокие</td>\n",
       "      <td>Средний счёт:20000–50000 ₽</td>\n",
       "      <td>35000.0</td>\n",
       "      <td>NaN</td>\n",
       "      <td>0</td>\n",
       "      <td>100.0</td>\n",
       "      <td>Каширское шоссе</td>\n",
       "      <td>True</td>\n",
       "    </tr>\n",
       "    <tr>\n",
       "      <th>730</th>\n",
       "      <td>730</td>\n",
       "      <td>чойхона</td>\n",
       "      <td>бар,паб</td>\n",
       "      <td>Москва, Дмитровское шоссе, 95А</td>\n",
       "      <td>Северный административный округ</td>\n",
       "      <td>ежедневно, 10:00–23:00</td>\n",
       "      <td>55.871497</td>\n",
       "      <td>37.543555</td>\n",
       "      <td>4.4</td>\n",
       "      <td>высокие</td>\n",
       "      <td>Средний счёт:5000–17000 ₽</td>\n",
       "      <td>11000.0</td>\n",
       "      <td>NaN</td>\n",
       "      <td>0</td>\n",
       "      <td>49.0</td>\n",
       "      <td>Дмитровское шоссе</td>\n",
       "      <td>False</td>\n",
       "    </tr>\n",
       "    <tr>\n",
       "      <th>5478</th>\n",
       "      <td>5481</td>\n",
       "      <td>гости</td>\n",
       "      <td>ресторан</td>\n",
       "      <td>Москва, шоссе Энтузиастов, 52</td>\n",
       "      <td>Восточный административный округ</td>\n",
       "      <td>пн,вс 18:00–22:30</td>\n",
       "      <td>55.759088</td>\n",
       "      <td>37.760570</td>\n",
       "      <td>4.1</td>\n",
       "      <td>высокие</td>\n",
       "      <td>Средний счёт:5000–15000 ₽</td>\n",
       "      <td>10000.0</td>\n",
       "      <td>NaN</td>\n",
       "      <td>0</td>\n",
       "      <td>NaN</td>\n",
       "      <td>шоссе Энтузиастов</td>\n",
       "      <td>False</td>\n",
       "    </tr>\n",
       "    <tr>\n",
       "      <th>3879</th>\n",
       "      <td>3882</td>\n",
       "      <td>white rabbit</td>\n",
       "      <td>ресторан</td>\n",
       "      <td>Москва, Смоленская площадь, 3</td>\n",
       "      <td>Центральный административный округ</td>\n",
       "      <td>ежедневно, 12:00–00:00</td>\n",
       "      <td>55.747608</td>\n",
       "      <td>37.581248</td>\n",
       "      <td>4.9</td>\n",
       "      <td>высокие</td>\n",
       "      <td>Средний счёт:7000–7500 ₽</td>\n",
       "      <td>7250.0</td>\n",
       "      <td>NaN</td>\n",
       "      <td>0</td>\n",
       "      <td>150.0</td>\n",
       "      <td>Смоленская площадь</td>\n",
       "      <td>False</td>\n",
       "    </tr>\n",
       "    <tr>\n",
       "      <th>3484</th>\n",
       "      <td>3487</td>\n",
       "      <td>800°с contemporary steak</td>\n",
       "      <td>ресторан</td>\n",
       "      <td>Москва, Большой Патриарший переулок, 6, стр. 1</td>\n",
       "      <td>Центральный административный округ</td>\n",
       "      <td>ежедневно, 09:00–23:30</td>\n",
       "      <td>55.762708</td>\n",
       "      <td>37.592138</td>\n",
       "      <td>4.7</td>\n",
       "      <td>высокие</td>\n",
       "      <td>Средний счёт:6000–8000 ₽</td>\n",
       "      <td>7000.0</td>\n",
       "      <td>NaN</td>\n",
       "      <td>0</td>\n",
       "      <td>75.0</td>\n",
       "      <td>Большой Патриарший переулок</td>\n",
       "      <td>False</td>\n",
       "    </tr>\n",
       "    <tr>\n",
       "      <th>3393</th>\n",
       "      <td>3396</td>\n",
       "      <td>марио</td>\n",
       "      <td>ресторан</td>\n",
       "      <td>Москва, улица Климашкина, 17</td>\n",
       "      <td>Центральный административный округ</td>\n",
       "      <td>ежедневно, 12:00–00:00</td>\n",
       "      <td>55.767792</td>\n",
       "      <td>37.568453</td>\n",
       "      <td>4.5</td>\n",
       "      <td>высокие</td>\n",
       "      <td>Средний счёт:7000 ₽</td>\n",
       "      <td>7000.0</td>\n",
       "      <td>NaN</td>\n",
       "      <td>0</td>\n",
       "      <td>100.0</td>\n",
       "      <td>улица Климашкина</td>\n",
       "      <td>False</td>\n",
       "    </tr>\n",
       "    <tr>\n",
       "      <th>3515</th>\n",
       "      <td>3518</td>\n",
       "      <td>чайка</td>\n",
       "      <td>ресторан</td>\n",
       "      <td>Москва, Краснопресненская набережная, 12А</td>\n",
       "      <td>Центральный административный округ</td>\n",
       "      <td>ежедневно, 12:00–00:00</td>\n",
       "      <td>55.752857</td>\n",
       "      <td>37.556365</td>\n",
       "      <td>4.8</td>\n",
       "      <td>высокие</td>\n",
       "      <td>Средний счёт:5000–8000 ₽</td>\n",
       "      <td>6500.0</td>\n",
       "      <td>NaN</td>\n",
       "      <td>1</td>\n",
       "      <td>250.0</td>\n",
       "      <td>Краснопресненская набережная</td>\n",
       "      <td>False</td>\n",
       "    </tr>\n",
       "    <tr>\n",
       "      <th>3907</th>\n",
       "      <td>3910</td>\n",
       "      <td>кантинетта антинори</td>\n",
       "      <td>ресторан</td>\n",
       "      <td>Москва, Денежный переулок, 20</td>\n",
       "      <td>Центральный административный округ</td>\n",
       "      <td>ежедневно, 12:00–00:00</td>\n",
       "      <td>55.745383</td>\n",
       "      <td>37.586595</td>\n",
       "      <td>4.7</td>\n",
       "      <td>высокие</td>\n",
       "      <td>Средний счёт:6000 ₽</td>\n",
       "      <td>6000.0</td>\n",
       "      <td>NaN</td>\n",
       "      <td>0</td>\n",
       "      <td>80.0</td>\n",
       "      <td>Денежный переулок</td>\n",
       "      <td>False</td>\n",
       "    </tr>\n",
       "    <tr>\n",
       "      <th>2793</th>\n",
       "      <td>2795</td>\n",
       "      <td>крошка картошка</td>\n",
       "      <td>быстрое питание</td>\n",
       "      <td>Москва, Щёлковское шоссе, вл75</td>\n",
       "      <td>Восточный административный округ</td>\n",
       "      <td>ежедневно, 10:00–22:00</td>\n",
       "      <td>55.811160</td>\n",
       "      <td>37.799823</td>\n",
       "      <td>4.0</td>\n",
       "      <td>высокие</td>\n",
       "      <td>Средний счёт:1000–10000 ₽</td>\n",
       "      <td>5500.0</td>\n",
       "      <td>NaN</td>\n",
       "      <td>1</td>\n",
       "      <td>NaN</td>\n",
       "      <td>Щёлковское шоссе</td>\n",
       "      <td>False</td>\n",
       "    </tr>\n",
       "    <tr>\n",
       "      <th>3600</th>\n",
       "      <td>3603</td>\n",
       "      <td>lucky izakaya bar</td>\n",
       "      <td>бар,паб</td>\n",
       "      <td>Москва, Калашный переулок, 9</td>\n",
       "      <td>Центральный административный округ</td>\n",
       "      <td>пн-чт 12:00–00:00; пт,сб 12:00–02:00; вс 12:00...</td>\n",
       "      <td>55.757313</td>\n",
       "      <td>37.599581</td>\n",
       "      <td>4.8</td>\n",
       "      <td>высокие</td>\n",
       "      <td>Средний счёт:5500 ₽</td>\n",
       "      <td>5500.0</td>\n",
       "      <td>NaN</td>\n",
       "      <td>0</td>\n",
       "      <td>NaN</td>\n",
       "      <td>Калашный переулок</td>\n",
       "      <td>False</td>\n",
       "    </tr>\n",
       "  </tbody>\n",
       "</table>\n",
       "</div>"
      ],
      "text/plain": [
       "      index                      name         category  \\\n",
       "7174   7177                      кафе         ресторан   \n",
       "730     730                   чойхона          бар,паб   \n",
       "5478   5481                     гости         ресторан   \n",
       "3879   3882              white rabbit         ресторан   \n",
       "3484   3487  800°с contemporary steak         ресторан   \n",
       "3393   3396                     марио         ресторан   \n",
       "3515   3518                     чайка         ресторан   \n",
       "3907   3910       кантинетта антинори         ресторан   \n",
       "2793   2795           крошка картошка  быстрое питание   \n",
       "3600   3603         lucky izakaya bar          бар,паб   \n",
       "\n",
       "                                             address  \\\n",
       "7174             Москва, Каширское шоссе, 23, стр. 2   \n",
       "730                   Москва, Дмитровское шоссе, 95А   \n",
       "5478                   Москва, шоссе Энтузиастов, 52   \n",
       "3879                   Москва, Смоленская площадь, 3   \n",
       "3484  Москва, Большой Патриарший переулок, 6, стр. 1   \n",
       "3393                    Москва, улица Климашкина, 17   \n",
       "3515       Москва, Краснопресненская набережная, 12А   \n",
       "3907                   Москва, Денежный переулок, 20   \n",
       "2793                  Москва, Щёлковское шоссе, вл75   \n",
       "3600                    Москва, Калашный переулок, 9   \n",
       "\n",
       "                                district  \\\n",
       "7174        Южный административный округ   \n",
       "730      Северный административный округ   \n",
       "5478    Восточный административный округ   \n",
       "3879  Центральный административный округ   \n",
       "3484  Центральный административный округ   \n",
       "3393  Центральный административный округ   \n",
       "3515  Центральный административный округ   \n",
       "3907  Центральный административный округ   \n",
       "2793    Восточный административный округ   \n",
       "3600  Центральный административный округ   \n",
       "\n",
       "                                                  hours        lat        lng  \\\n",
       "7174                           ежедневно, круглосуточно  55.657450  37.646665   \n",
       "730                              ежедневно, 10:00–23:00  55.871497  37.543555   \n",
       "5478                                  пн,вс 18:00–22:30  55.759088  37.760570   \n",
       "3879                             ежедневно, 12:00–00:00  55.747608  37.581248   \n",
       "3484                             ежедневно, 09:00–23:30  55.762708  37.592138   \n",
       "3393                             ежедневно, 12:00–00:00  55.767792  37.568453   \n",
       "3515                             ежедневно, 12:00–00:00  55.752857  37.556365   \n",
       "3907                             ежедневно, 12:00–00:00  55.745383  37.586595   \n",
       "2793                             ежедневно, 10:00–22:00  55.811160  37.799823   \n",
       "3600  пн-чт 12:00–00:00; пт,сб 12:00–02:00; вс 12:00...  55.757313  37.599581   \n",
       "\n",
       "      rating    price                    avg_bill  middle_avg_bill  \\\n",
       "7174     4.1  высокие  Средний счёт:20000–50000 ₽          35000.0   \n",
       "730      4.4  высокие   Средний счёт:5000–17000 ₽          11000.0   \n",
       "5478     4.1  высокие   Средний счёт:5000–15000 ₽          10000.0   \n",
       "3879     4.9  высокие    Средний счёт:7000–7500 ₽           7250.0   \n",
       "3484     4.7  высокие    Средний счёт:6000–8000 ₽           7000.0   \n",
       "3393     4.5  высокие         Средний счёт:7000 ₽           7000.0   \n",
       "3515     4.8  высокие    Средний счёт:5000–8000 ₽           6500.0   \n",
       "3907     4.7  высокие         Средний счёт:6000 ₽           6000.0   \n",
       "2793     4.0  высокие   Средний счёт:1000–10000 ₽           5500.0   \n",
       "3600     4.8  высокие         Средний счёт:5500 ₽           5500.0   \n",
       "\n",
       "      middle_coffee_cup  chain  seats                        street is_24/7  \n",
       "7174                NaN      0  100.0               Каширское шоссе    True  \n",
       "730                 NaN      0   49.0             Дмитровское шоссе   False  \n",
       "5478                NaN      0    NaN             шоссе Энтузиастов   False  \n",
       "3879                NaN      0  150.0            Смоленская площадь   False  \n",
       "3484                NaN      0   75.0   Большой Патриарший переулок   False  \n",
       "3393                NaN      0  100.0              улица Климашкина   False  \n",
       "3515                NaN      1  250.0  Краснопресненская набережная   False  \n",
       "3907                NaN      0   80.0             Денежный переулок   False  \n",
       "2793                NaN      1    NaN              Щёлковское шоссе   False  \n",
       "3600                NaN      0    NaN             Калашный переулок   False  "
      ]
     },
     "execution_count": 16,
     "metadata": {},
     "output_type": "execute_result"
    }
   ],
   "source": [
    "data.sort_values(by='middle_avg_bill', ascending=False).head(10)"
   ]
  },
  {
   "cell_type": "code",
   "execution_count": 17,
   "id": "b7c702cb",
   "metadata": {},
   "outputs": [],
   "source": [
    "data = data.query('middle_avg_bill != 35000')"
   ]
  },
  {
   "cell_type": "markdown",
   "id": "894a8b1a",
   "metadata": {},
   "source": [
    "**Построим диаграмму размаха для того, чтобы изучить, как распределены значения количества мест.**"
   ]
  },
  {
   "cell_type": "code",
   "execution_count": 18,
   "id": "9cc6a6c3",
   "metadata": {},
   "outputs": [
    {
     "data": {
      "image/png": "[encoded data removed]",
      "text/plain": [
       "<Figure size 1000x600 with 1 Axes>"
      ]
     },
     "metadata": {},
     "output_type": "display_data"
    }
   ],
   "source": [
    "plt.figure(figsize=(10, 6))\n",
    "sns.boxplot(x=data['seats'],color='#66c2a5');\n",
    "plt.title('Диаграмма размаха значений количества посадочных мест')\n",
    "plt.xlabel('Количество мест')\n",
    "plt.show();\n"
   ]
  },
  {
   "cell_type": "markdown",
   "id": "7e1bcee9",
   "metadata": {},
   "source": [
    "**Медианное значение составялет около 50 посадочных мест, а их количество в 75 % случаев не превышает 150. Максимальное значение составляет около 300. На графике видно наличие большого количества аномалий. В некоторых случаях количество посадочных мест превышало 600. Даже в больших торговых центрах и фудкортах не всегда бывает так много мест. Удалим места, где количество мест превышает 600.**"
   ]
  },
  {
   "cell_type": "code",
   "execution_count": 19,
   "id": "23e551cb",
   "metadata": {},
   "outputs": [
    {
     "name": "stdout",
     "output_type": "stream",
     "text": [
      "<class 'pandas.core.frame.DataFrame'>\n",
      "Int64Index: 8349 entries, 0 to 8402\n",
      "Data columns (total 17 columns):\n",
      " #   Column             Non-Null Count  Dtype  \n",
      "---  ------             --------------  -----  \n",
      " 0   index              8349 non-null   int64  \n",
      " 1   name               8349 non-null   object \n",
      " 2   category           8349 non-null   object \n",
      " 3   address            8349 non-null   object \n",
      " 4   district           8349 non-null   object \n",
      " 5   hours              7821 non-null   object \n",
      " 6   lat                8349 non-null   float64\n",
      " 7   lng                8349 non-null   float64\n",
      " 8   rating             8349 non-null   float64\n",
      " 9   price              3295 non-null   object \n",
      " 10  avg_bill           3793 non-null   object \n",
      " 11  middle_avg_bill    3132 non-null   float64\n",
      " 12  middle_coffee_cup  529 non-null    float64\n",
      " 13  chain              8349 non-null   int64  \n",
      " 14  seats              4738 non-null   float64\n",
      " 15  street             8349 non-null   object \n",
      " 16  is_24/7            7821 non-null   object \n",
      "dtypes: float64(6), int64(2), object(9)\n",
      "memory usage: 1.1+ MB\n"
     ]
    }
   ],
   "source": [
    "data = data.query('seats <= 600 | seats.isnull()') \n",
    "data.info()"
   ]
  },
  {
   "cell_type": "markdown",
   "id": "a24934b4",
   "metadata": {},
   "source": [
    "## Анализ данных"
   ]
  },
  {
   "cell_type": "markdown",
   "id": "87182101",
   "metadata": {},
   "source": [
    "### Исследование категорий заведений"
   ]
  },
  {
   "cell_type": "markdown",
   "id": "bfb3ffe0",
   "metadata": {},
   "source": [
    "**Выведем на экран все категории.**"
   ]
  },
  {
   "cell_type": "code",
   "execution_count": 20,
   "id": "5dc78df6",
   "metadata": {},
   "outputs": [
    {
     "data": {
      "text/plain": [
       "array(['кафе', 'ресторан', 'кофейня', 'пиццерия', 'бар,паб',\n",
       "       'быстрое питание', 'булочная', 'столовая'], dtype=object)"
      ]
     },
     "execution_count": 20,
     "metadata": {},
     "output_type": "execute_result"
    }
   ],
   "source": [
    "data.category.unique()"
   ]
  },
  {
   "cell_type": "code",
   "execution_count": 21,
   "id": "2a51c42a",
   "metadata": {},
   "outputs": [
    {
     "name": "stdout",
     "output_type": "stream",
     "text": [
      "Количество категорий значений: 8\n"
     ]
    }
   ],
   "source": [
    "print('Количество категорий значений:',data.category.nunique())"
   ]
  },
  {
   "cell_type": "markdown",
   "id": "9f5364b9",
   "metadata": {},
   "source": [
    "**Построим столбчатую диаграмму для того, чтобы выявить наиболее распространенные категории заведений.**"
   ]
  },
  {
   "cell_type": "code",
   "execution_count": 22,
   "id": "4f2f7a3e",
   "metadata": {},
   "outputs": [
    {
     "data": {
      "image/png": "[encoded data removed]",
      "text/plain": [
       "<Figure size 800x600 with 1 Axes>"
      ]
     },
     "metadata": {},
     "output_type": "display_data"
    }
   ],
   "source": [
    "fig, ax = plt.subplots(figsize=(8,6))\n",
    "\n",
    "category_count = pd.DataFrame(data['category'].value_counts()).reset_index()\n",
    "\n",
    "sns.barplot(data = category_count, x='category', y='index', palette='Set2')\n",
    "plt.xlabel('Количество заведений')\n",
    "plt.ylabel('Категория')\n",
    "plt.title('Количество заведений каждой категории в Москве')\n",
    "plt.show()"
   ]
  },
  {
   "cell_type": "markdown",
   "id": "f7c8c45f",
   "metadata": {},
   "source": [
    "**Как видно на графике, самыми распространенными в городе являются кафе: таких заведний, согласно Яндекс.Картам, в городе 2365. В Москве также более 2 тыс. ресторанвв. Тройку лидеров замыкают кофейни: выявлено 1401 заведения данной категории. Баров/пабов почтив 2 раза меньше, чем кофеен. Почти совпадает количество ресторанов быстрого питания и пиццерий. В 2 раза меньше количество столовых по сравнению с ресторанами быстрого питания. Реже всего в городе встречаются булочные.**"
   ]
  },
  {
   "cell_type": "markdown",
   "id": "5490f284",
   "metadata": {},
   "source": [
    "### Исследование количества посадочных мест в зависимости от категории заведения"
   ]
  },
  {
   "cell_type": "markdown",
   "id": "3820c6b7",
   "metadata": {},
   "source": [
    "**Построим столбчатую диаграмму медианного количества посадочных мест по категориям заведений.**"
   ]
  },
  {
   "cell_type": "code",
   "execution_count": 23,
   "id": "fa103d2e",
   "metadata": {},
   "outputs": [
    {
     "data": {
      "image/png": "[encoded data removed]",
      "text/plain": [
       "<Figure size 800x600 with 1 Axes>"
      ]
     },
     "metadata": {},
     "output_type": "display_data"
    }
   ],
   "source": [
    "category_seats = data.pivot_table(index='category', values='seats', aggfunc='median').sort_values(by='seats',ascending=False)\n",
    "category_seats = category_seats.reset_index()\n",
    "fig, ax = plt.subplots(figsize=(8,6))\n",
    "sns.barplot(data=category_seats, x='category', y='seats',palette='Set2')\n",
    "plt.title('Медианное количество посадочных мест по категориям заведений')\n",
    "plt.xlabel('Категория заведения')\n",
    "plt.ylabel('Количество мест')\n",
    "plt.xticks(rotation=45)\n",
    "plt.show();"
   ]
  },
  {
   "cell_type": "markdown",
   "id": "39bf5dc8",
   "metadata": {},
   "source": [
    "**Больше всего посадочных мест в ресторанах, барах/пабах и кофейнях. Стоит обратить внимание на то, что в кафе мест меньше, чем кофейнях. Скорее всего, это связано с тем, что многие кофейни расположены в фудкортах, где всегда много мест. Обычно если кофейни расположены в отдельном помещении, то они занимают небольшую площадь, где число посадочных мест редко бывает больше 20-30.**"
   ]
  },
  {
   "cell_type": "code",
   "execution_count": 24,
   "id": "a130564f",
   "metadata": {},
   "outputs": [
    {
     "data": {
      "image/png": "[encoded data removed]",
      "text/plain": [
       "<Figure size 800x600 with 1 Axes>"
      ]
     },
     "metadata": {},
     "output_type": "display_data"
    }
   ],
   "source": [
    "palette = sns.color_palette('Set2')\n",
    "\n",
    "fig, ax = plt.subplots(figsize=(8,6))\n",
    "\n",
    "sns.boxplot(x='category', y='seats', data=data, palette=palette)\n",
    "\n",
    "plt.title('Количество посадочных мест по категориям')\n",
    "plt.xlabel('Категория')\n",
    "plt.ylabel('Количество мест')\n",
    "plt.xticks(rotation=45)\n",
    "plt.show();"
   ]
  },
  {
   "cell_type": "markdown",
   "id": "f7c58907",
   "metadata": {},
   "source": [
    "**Анализируя диаграмму размаха значений количества посадочных мест, можно сделать вывод о присутствии фудкортов в датафрейме: на это указывают выбросы в каждой категории заведений. Отсутствуют значительные различия между категориями по количеству посадочных мест: медианные значения почти совпадают у ресторанов, кофеен и баров/пабов, а также у кафе и пиццерий. При этом у кафе наименьшее максимальное значение количества посадочных мест: разница с рестораном и кофейней составляет около 90-100 мест.Если для ресторанов большое количество посадочных мест является нормальным явлением, то в случае кофеен это, как было выше сказано, указывает, скорее всего, на то, что они расположены в фудкортах. Удалять большие значения нельзя: фудкорты не искажают картину рынка, а, наоборот, характеризуют одну из его особенностей.**"
   ]
  },
  {
   "cell_type": "markdown",
   "id": "3bee8a05",
   "metadata": {},
   "source": [
    "### Изучение соотношения сетевых и сетевых заведений"
   ]
  },
  {
   "cell_type": "markdown",
   "id": "c8493431",
   "metadata": {},
   "source": [
    "**Построим столбчатую диаграмму количества сетевых и несетвых заведений.**"
   ]
  },
  {
   "cell_type": "code",
   "execution_count": 25,
   "id": "46237497",
   "metadata": {},
   "outputs": [
    {
     "data": {
      "image/png": "[encoded data removed]",
      "text/plain": [
       "<Figure size 700x600 with 1 Axes>"
      ]
     },
     "metadata": {},
     "output_type": "display_data"
    }
   ],
   "source": [
    "#для удобства изменим значений в столбце chain\n",
    "data['chain'] = data['chain'].replace(0, 'несетевое заведение')\n",
    "data['chain'] = data['chain'].replace(1, 'сеть')\n",
    "\n",
    "\n",
    "chain_info = data.pivot_table(index='chain', values='name', aggfunc='count').reset_index()\n",
    "fig, ax = plt.subplots(figsize=(7,6))\n",
    "sns.barplot(data=chain_info, x='chain', y='name',palette='Set2')\n",
    "plt.title('Количество заведений: cетевые и несетевые заведения')\n",
    "plt.xlabel('Категория заведения')\n",
    "plt.ylabel('Количество заведений')\n",
    "\n",
    "plt.show();"
   ]
  },
  {
   "cell_type": "markdown",
   "id": "7b0f0d7b",
   "metadata": {},
   "source": [
    "**В городе преобладают несетевые заведения. Их на 2 тыс. больше, чем сетевых.**"
   ]
  },
  {
   "cell_type": "code",
   "execution_count": 26,
   "id": "b4f5a468",
   "metadata": {},
   "outputs": [
    {
     "data": {
      "image/png": "[encoded data removed]",
      "text/plain": [
       "<Figure size 640x480 with 1 Axes>"
      ]
     },
     "metadata": {},
     "output_type": "display_data"
    }
   ],
   "source": [
    "info = [5172, 3177]\n",
    "labels = ['доля несетевых заведений', 'доля сетей']\n",
    "\n",
    "#define Seaborn color palette to use\n",
    "colors = sns.color_palette('Set2')[0:2]\n",
    "myexplode = [0.2, 0]\n",
    "\n",
    "#create pie chart\n",
    "plt.pie(info, labels = labels, colors = colors, explode=myexplode, autopct='%.0f%%')\n",
    "plt.show()\n"
   ]
  },
  {
   "cell_type": "markdown",
   "id": "ff4166f3",
   "metadata": {},
   "source": [
    "**Как видно на круговой диаграмме, в Москве 38% заведений относятся к сети, в то время как несетвыми является почти 62%.**"
   ]
  },
  {
   "cell_type": "markdown",
   "id": "b4aca1ad",
   "metadata": {},
   "source": [
    "### Исследование  категорий сетевых заведний"
   ]
  },
  {
   "cell_type": "markdown",
   "id": "389cc747",
   "metadata": {},
   "source": [
    "**Создадим сводную таблицу с количеством сетевых заведений каждой категории и их долей от общего количества заведений (по категориям).**"
   ]
  },
  {
   "cell_type": "code",
   "execution_count": 27,
   "id": "55a13250",
   "metadata": {},
   "outputs": [
    {
     "data": {
      "text/html": [
       "<div>\n",
       "<style scoped>\n",
       "    .dataframe tbody tr th:only-of-type {\n",
       "        vertical-align: middle;\n",
       "    }\n",
       "\n",
       "    .dataframe tbody tr th {\n",
       "        vertical-align: top;\n",
       "    }\n",
       "\n",
       "    .dataframe thead th {\n",
       "        text-align: right;\n",
       "    }\n",
       "</style>\n",
       "<table border=\"1\" class=\"dataframe\">\n",
       "  <thead>\n",
       "    <tr style=\"text-align: right;\">\n",
       "      <th></th>\n",
       "      <th>category</th>\n",
       "      <th>chain</th>\n",
       "      <th>total</th>\n",
       "      <th>chain_perc</th>\n",
       "    </tr>\n",
       "  </thead>\n",
       "  <tbody>\n",
       "    <tr>\n",
       "      <th>1</th>\n",
       "      <td>булочная</td>\n",
       "      <td>156</td>\n",
       "      <td>255</td>\n",
       "      <td>61.18</td>\n",
       "    </tr>\n",
       "    <tr>\n",
       "      <th>5</th>\n",
       "      <td>пиццерия</td>\n",
       "      <td>328</td>\n",
       "      <td>629</td>\n",
       "      <td>52.15</td>\n",
       "    </tr>\n",
       "    <tr>\n",
       "      <th>4</th>\n",
       "      <td>кофейня</td>\n",
       "      <td>713</td>\n",
       "      <td>1401</td>\n",
       "      <td>50.89</td>\n",
       "    </tr>\n",
       "    <tr>\n",
       "      <th>2</th>\n",
       "      <td>быстрое питание</td>\n",
       "      <td>231</td>\n",
       "      <td>602</td>\n",
       "      <td>38.37</td>\n",
       "    </tr>\n",
       "    <tr>\n",
       "      <th>6</th>\n",
       "      <td>ресторан</td>\n",
       "      <td>721</td>\n",
       "      <td>2029</td>\n",
       "      <td>35.53</td>\n",
       "    </tr>\n",
       "    <tr>\n",
       "      <th>3</th>\n",
       "      <td>кафе</td>\n",
       "      <td>774</td>\n",
       "      <td>2365</td>\n",
       "      <td>32.73</td>\n",
       "    </tr>\n",
       "    <tr>\n",
       "      <th>7</th>\n",
       "      <td>столовая</td>\n",
       "      <td>87</td>\n",
       "      <td>313</td>\n",
       "      <td>27.80</td>\n",
       "    </tr>\n",
       "    <tr>\n",
       "      <th>0</th>\n",
       "      <td>бар,паб</td>\n",
       "      <td>167</td>\n",
       "      <td>755</td>\n",
       "      <td>22.12</td>\n",
       "    </tr>\n",
       "  </tbody>\n",
       "</table>\n",
       "</div>"
      ],
      "text/plain": [
       "          category  chain  total  chain_perc\n",
       "1         булочная    156    255       61.18\n",
       "5         пиццерия    328    629       52.15\n",
       "4          кофейня    713   1401       50.89\n",
       "2  быстрое питание    231    602       38.37\n",
       "6         ресторан    721   2029       35.53\n",
       "3             кафе    774   2365       32.73\n",
       "7         столовая     87    313       27.80\n",
       "0          бар,паб    167    755       22.12"
      ]
     },
     "execution_count": 27,
     "metadata": {},
     "output_type": "execute_result"
    }
   ],
   "source": [
    "chain_info = data.query('chain == \"сеть\"')\n",
    "chain_info = chain_info.groupby('category').agg({'name':'count'}).sort_values(by='name',ascending=False)\n",
    "chain_info = chain_info.reset_index()\n",
    "chain_info.columns = [\n",
    "    'category',\n",
    "    'chain'\n",
    "]\n",
    "#создадим таблицу с общим количеством заведений каждой категории\n",
    "category_total = data.pivot_table(index='category', values='name',aggfunc='count').reset_index() \n",
    "\n",
    "chain_info = chain_info.merge(category_total, on='category', how='right') #объединяем таблицы\n",
    "chain_info.columns = [\n",
    "    'category',\n",
    "    'chain',\n",
    "    'total'\n",
    "]\n",
    "#добавим столбец с долей сетевых заведений каждой категории\n",
    "chain_info['chain_perc'] = round((chain_info['chain']/ chain_info['total'] * 100),2)\n",
    "chain_info = chain_info.sort_values(by='chain_perc',ascending=False)\n",
    "chain_info\n"
   ]
  },
  {
   "cell_type": "code",
   "execution_count": 28,
   "id": "9d3a7484",
   "metadata": {},
   "outputs": [
    {
     "data": {
      "image/png": "[encoded data removed]",
      "text/plain": [
       "<Figure size 800x600 with 1 Axes>"
      ]
     },
     "metadata": {},
     "output_type": "display_data"
    }
   ],
   "source": [
    "# строим столбчатую диаграмму \n",
    "fig, ax = plt.subplots(figsize=(8,6))\n",
    "sns.barplot(data=chain_info, x='chain_perc', y='category',palette='Set2')\n",
    "plt.title('Доля сетевых заведений в каждой категориии')\n",
    "plt.xlabel('Доля')\n",
    "plt.ylabel('Категория')\n",
    "plt.show();"
   ]
  },
  {
   "cell_type": "markdown",
   "id": "07a4f693",
   "metadata": {},
   "source": [
    "**Больше половины кофеен,пиццерий и булочных в Москве входят в сети. Реже всего сетевые заведения встречаются среди баров/пабов, столовых и кафе.**"
   ]
  },
  {
   "cell_type": "markdown",
   "id": "9258d5d6",
   "metadata": {},
   "source": [
    "**Аналогично сделаем сводную таблицу для несетевых заведений.**"
   ]
  },
  {
   "cell_type": "code",
   "execution_count": 29,
   "id": "f213cb56",
   "metadata": {},
   "outputs": [
    {
     "data": {
      "text/html": [
       "<div>\n",
       "<style scoped>\n",
       "    .dataframe tbody tr th:only-of-type {\n",
       "        vertical-align: middle;\n",
       "    }\n",
       "\n",
       "    .dataframe tbody tr th {\n",
       "        vertical-align: top;\n",
       "    }\n",
       "\n",
       "    .dataframe thead th {\n",
       "        text-align: right;\n",
       "    }\n",
       "</style>\n",
       "<table border=\"1\" class=\"dataframe\">\n",
       "  <thead>\n",
       "    <tr style=\"text-align: right;\">\n",
       "      <th></th>\n",
       "      <th>category</th>\n",
       "      <th>not_chain</th>\n",
       "      <th>total</th>\n",
       "      <th>not_chain_perc</th>\n",
       "    </tr>\n",
       "  </thead>\n",
       "  <tbody>\n",
       "    <tr>\n",
       "      <th>0</th>\n",
       "      <td>бар,паб</td>\n",
       "      <td>588</td>\n",
       "      <td>755</td>\n",
       "      <td>77.88</td>\n",
       "    </tr>\n",
       "    <tr>\n",
       "      <th>7</th>\n",
       "      <td>столовая</td>\n",
       "      <td>226</td>\n",
       "      <td>313</td>\n",
       "      <td>72.20</td>\n",
       "    </tr>\n",
       "    <tr>\n",
       "      <th>3</th>\n",
       "      <td>кафе</td>\n",
       "      <td>1591</td>\n",
       "      <td>2365</td>\n",
       "      <td>67.27</td>\n",
       "    </tr>\n",
       "    <tr>\n",
       "      <th>6</th>\n",
       "      <td>ресторан</td>\n",
       "      <td>1308</td>\n",
       "      <td>2029</td>\n",
       "      <td>64.47</td>\n",
       "    </tr>\n",
       "    <tr>\n",
       "      <th>2</th>\n",
       "      <td>быстрое питание</td>\n",
       "      <td>371</td>\n",
       "      <td>602</td>\n",
       "      <td>61.63</td>\n",
       "    </tr>\n",
       "    <tr>\n",
       "      <th>4</th>\n",
       "      <td>кофейня</td>\n",
       "      <td>688</td>\n",
       "      <td>1401</td>\n",
       "      <td>49.11</td>\n",
       "    </tr>\n",
       "    <tr>\n",
       "      <th>5</th>\n",
       "      <td>пиццерия</td>\n",
       "      <td>301</td>\n",
       "      <td>629</td>\n",
       "      <td>47.85</td>\n",
       "    </tr>\n",
       "    <tr>\n",
       "      <th>1</th>\n",
       "      <td>булочная</td>\n",
       "      <td>99</td>\n",
       "      <td>255</td>\n",
       "      <td>38.82</td>\n",
       "    </tr>\n",
       "  </tbody>\n",
       "</table>\n",
       "</div>"
      ],
      "text/plain": [
       "          category  not_chain  total  not_chain_perc\n",
       "0          бар,паб        588    755           77.88\n",
       "7         столовая        226    313           72.20\n",
       "3             кафе       1591   2365           67.27\n",
       "6         ресторан       1308   2029           64.47\n",
       "2  быстрое питание        371    602           61.63\n",
       "4          кофейня        688   1401           49.11\n",
       "5         пиццерия        301    629           47.85\n",
       "1         булочная         99    255           38.82"
      ]
     },
     "execution_count": 29,
     "metadata": {},
     "output_type": "execute_result"
    }
   ],
   "source": [
    "not_chain_info = data.query('chain == \"несетевое заведение\"')\n",
    "not_chain_info = not_chain_info.groupby('category').agg({'name':'count'}).sort_values(by='name',ascending=False)\n",
    "not_chain_info = not_chain_info.reset_index()\n",
    "not_chain_info.columns = [\n",
    "    'category',\n",
    "    'not_chain'\n",
    "]\n",
    "\n",
    "not_chain_info = not_chain_info.merge(category_total, on='category', how='right')\n",
    "not_chain_info.columns = [\n",
    "    'category',\n",
    "    'not_chain',\n",
    "    'total'\n",
    "]\n",
    "not_chain_info['not_chain_perc'] = round((not_chain_info['not_chain']/ not_chain_info['total'] * 100),2)\n",
    "not_chain_info = not_chain_info.sort_values(by='not_chain_perc',ascending=False)\n",
    "not_chain_info"
   ]
  },
  {
   "cell_type": "code",
   "execution_count": 30,
   "id": "7ec8c797",
   "metadata": {},
   "outputs": [
    {
     "data": {
      "image/png": "[encoded data removed]",
      "text/plain": [
       "<Figure size 800x600 with 1 Axes>"
      ]
     },
     "metadata": {},
     "output_type": "display_data"
    }
   ],
   "source": [
    "\n",
    "# строим столбчатую диаграмму \n",
    "fig, ax = plt.subplots(figsize=(8,6))\n",
    "sns.barplot(data=not_chain_info, x='not_chain_perc', y='category',palette='Set2')\n",
    "plt.title('Доля несетевых заведений в каждой категориии')\n",
    "plt.xlabel('Доля')\n",
    "plt.ylabel('Категория')\n",
    "plt.show();\n"
   ]
  },
  {
   "cell_type": "markdown",
   "id": "e4455a51",
   "metadata": {},
   "source": [
    "**Более 70% всех столовых и баров/пабов являются несетвыми заведениями. В это же время менее половины булочных, пиццерий и кофеен принадлежат к какой-либо сети.**"
   ]
  },
  {
   "cell_type": "markdown",
   "id": "3d95b3ae",
   "metadata": {},
   "source": [
    "### Исследование топ-15 самых популярных сетей в Москве"
   ]
  },
  {
   "cell_type": "markdown",
   "id": "04fffff7",
   "metadata": {},
   "source": [
    "**Построим круговую столбчатую диаграмму топ-15 сетей в городе.**"
   ]
  },
  {
   "cell_type": "code",
   "execution_count": 31,
   "id": "f1c9812a",
   "metadata": {},
   "outputs": [
    {
     "data": {
      "image/png": "[encoded data removed]",
      "text/plain": [
       "<Figure size 800x600 with 1 Axes>"
      ]
     },
     "metadata": {},
     "output_type": "display_data"
    }
   ],
   "source": [
    "chain_data = data.query('chain == \"сеть\"') #отфильтруем данные \n",
    "top_fifteen = pd.DataFrame(chain_data['name'].value_counts()).reset_index().head(15) \n",
    "\n",
    "# строим столбчатую диаграмму \n",
    "fig, ax = plt.subplots(figsize=(8,6))\n",
    "sns.barplot(data=top_fifteen, x='index', y='name',color='#66c2a5')\n",
    "plt.title('ТОП-15 популярных сетей в Москве')\n",
    "plt.xlabel('Название сети')\n",
    "plt.ylabel('Количество заведений')\n",
    "plt.xticks(rotation=90)\n",
    "plt.show();\n"
   ]
  },
  {
   "cell_type": "markdown",
   "id": "77e95141",
   "metadata": {},
   "source": [
    "**Лидером является сеть \"Шоколадница\": у этой сети в Москве 118 локаций. Второе место \"Домино'с Пицца\" (76 точек), а третье - \"Додо Пицца\" (74 точки).** "
   ]
  },
  {
   "cell_type": "markdown",
   "id": "d02ca68e",
   "metadata": {},
   "source": [
    "**Теперь рассмотрим, как распространены категории заведений среди сетей.**"
   ]
  },
  {
   "cell_type": "code",
   "execution_count": 32,
   "id": "c47444ba",
   "metadata": {},
   "outputs": [
    {
     "name": "stdout",
     "output_type": "stream",
     "text": [
      "Количество сетевых кафе: 5\n",
      "Количество сетевых пиццерий: 2\n",
      "Количество сетевых ресторанов; 2\n",
      "Количество сетевых баров/пабов: 3\n",
      "Количество сетевых кофеен: 1\n",
      "Количество сетевых заведений быстрого питания: 1\n",
      "Количество сетевых булочных: 1\n"
     ]
    }
   ],
   "source": [
    "top_fifteen['category'] = data['category']\n",
    "cafe_chain_count = top_fifteen.loc[top_fifteen['category'] == 'кафе']\n",
    "pizzeria_chain_count = top_fifteen.loc[top_fifteen['category'] == 'пиццерия']\n",
    "restaurant_chain_count = top_fifteen.loc[top_fifteen['category'] == 'ресторан']\n",
    "bar_chain_count = top_fifteen.loc[top_fifteen['category'] == 'бар,паб']\n",
    "coffeeshop_chain_count = top_fifteen.loc[top_fifteen['category'] == 'кофейня']\n",
    "fastfood_chain_count = top_fifteen.loc[top_fifteen['category'] == 'быстрое питание']\n",
    "bakery_chain_count = top_fifteen.loc[top_fifteen['category'] == 'булочная']\n",
    "print('Количество сетевых кафе:', len(cafe_chain_count))\n",
    "print('Количество сетевых пиццерий:', len(pizzeria_chain_count))\n",
    "print('Количество сетевых ресторанов;', len(restaurant_chain_count))\n",
    "print('Количество сетевых баров/пабов:', len(bar_chain_count))\n",
    "print('Количество сетевых кофеен:', len(coffeeshop_chain_count))\n",
    "print('Количество сетевых заведений быстрого питания:', len(fastfood_chain_count))\n",
    "print('Количество сетевых булочных:', len(bakery_chain_count))"
   ]
  },
  {
   "cell_type": "code",
   "execution_count": 33,
   "id": "56d280b4",
   "metadata": {},
   "outputs": [
    {
     "data": {
      "image/png": "[encoded data removed]",
      "text/plain": [
       "<Figure size 640x480 with 1 Axes>"
      ]
     },
     "metadata": {},
     "output_type": "display_data"
    }
   ],
   "source": [
    "info = [5, 2, 2, 3, 1, 1, 1]\n",
    "labels = ['сетевые кафе', 'сетевые пиццерии', 'сетевые рестораны',\n",
    "          'сетевые пабы/бары', 'сетевые кофейни', 'сетевые заведения быстрого питания',\n",
    "          'сетевые булочные']\n",
    "\n",
    "#define Seaborn color palette to use\n",
    "colors = sns.color_palette('Set2')\n",
    "myexplode = [0.2, 0.1, 0, 0, 0, 0, 0]\n",
    "\n",
    "#create pie chart\n",
    "plt.pie(info, labels = labels, colors = colors, explode=myexplode, autopct='%.0f%%')\n",
    "plt.show()\n"
   ]
  },
  {
   "cell_type": "markdown",
   "id": "5d065ac2",
   "metadata": {},
   "source": [
    "**33% всех заведений среди топ-15 сетей составляют кафе. Второе место (13 %) занимают пиццерии и сетевые рестораны. Примечательно, что  топ-3 категорий в 15 самых популярных сетях отличается от топ-3 в целом по городу: во втором случае тройку лидеров замыкакают кофейни и пиццерии расположены на 5-ом месте. Среди топ-15 сетей кофейни занимают 5-ое место.** "
   ]
  },
  {
   "cell_type": "markdown",
   "id": "9df81692",
   "metadata": {},
   "source": [
    "### Изучение географии заведений"
   ]
  },
  {
   "cell_type": "markdown",
   "id": "fdfad8b7",
   "metadata": {},
   "source": [
    "**Сначала узнаем, в каких административных районах расположены представленные в датарфейм заведения.**"
   ]
  },
  {
   "cell_type": "code",
   "execution_count": 34,
   "id": "600e48e3",
   "metadata": {},
   "outputs": [
    {
     "data": {
      "text/plain": [
       "array(['Северный административный округ',\n",
       "       'Северо-Восточный административный округ',\n",
       "       'Северо-Западный административный округ',\n",
       "       'Западный административный округ',\n",
       "       'Центральный административный округ',\n",
       "       'Восточный административный округ',\n",
       "       'Юго-Восточный административный округ',\n",
       "       'Южный административный округ',\n",
       "       'Юго-Западный административный округ'], dtype=object)"
      ]
     },
     "execution_count": 34,
     "metadata": {},
     "output_type": "execute_result"
    }
   ],
   "source": [
    "data.district.unique()"
   ]
  },
  {
   "cell_type": "markdown",
   "id": "86afc6fe",
   "metadata": {},
   "source": [
    "**Похоже, что в датафрейме есть данные только заведениях, расположенных в пределах МКАД.**"
   ]
  },
  {
   "cell_type": "code",
   "execution_count": 35,
   "id": "dbf16ae7",
   "metadata": {},
   "outputs": [
    {
     "name": "stdout",
     "output_type": "stream",
     "text": [
      "Количество административных районов: 9\n"
     ]
    }
   ],
   "source": [
    "print('Количество административных районов:', data.district.nunique())"
   ]
  },
  {
   "cell_type": "markdown",
   "id": "cefee815",
   "metadata": {},
   "source": [
    "**Отобразим общее количество заведений в каждом административном районе.**"
   ]
  },
  {
   "cell_type": "code",
   "execution_count": 36,
   "id": "9d4430f6",
   "metadata": {},
   "outputs": [
    {
     "data": {
      "image/png": "[encoded data removed]",
      "text/plain": [
       "<Figure size 800x600 with 1 Axes>"
      ]
     },
     "metadata": {},
     "output_type": "display_data"
    }
   ],
   "source": [
    "# назначаем размер графика\n",
    "plt.figure(figsize=(8, 6))\n",
    "\n",
    "# группируем данные по образованию и задолженности и считаем медианный доход\n",
    "district_data = data.groupby(['district', 'category'], \\\n",
    "                        as_index = False)[['name']].count().sort_values(by='name',ascending=False)\n",
    "\n",
    "# строим столбчатый график средствами seaborn\n",
    "sns.barplot(x='name', y='district', data=district_data, hue='category', palette='Set2')\n",
    "# формируем заголовок графика и подписи осей средствами matplotlib\n",
    "plt.title('График количества заведений по категориям в округах')\n",
    "plt.xlabel('Количество заведений')\n",
    "plt.ylabel('Округ')\n",
    "# добавляем сетку\n",
    "plt.grid()\n",
    "# отображаем график на экране\n",
    "plt.show()"
   ]
  },
  {
   "cell_type": "markdown",
   "id": "73dab1b8",
   "metadata": {},
   "source": [
    "**Во всех округах за исключением ЦАО наблюдается единая тенденция: cамой распространенной категорией является кафе, второе место занимают рестораны, третье - кофейни. В центре города с большим отрывом лидируют рестораны: их на 200 больше, чем кафе. Также в ЦАО довольно распространены бары и пабы; в других округах эта категория заведений занимает 6-ое место.**"
   ]
  },
  {
   "cell_type": "markdown",
   "id": "4e3e91b0",
   "metadata": {},
   "source": [
    "### Изучение распределения средних рейтингов по категориям заведений"
   ]
  },
  {
   "cell_type": "markdown",
   "id": "ad1b0dfa",
   "metadata": {},
   "source": [
    "**Построим столбчатую диаграмму.**"
   ]
  },
  {
   "cell_type": "code",
   "execution_count": 37,
   "id": "aa3b7de1",
   "metadata": {},
   "outputs": [
    {
     "data": {
      "image/png": "[encoded data removed]",
      "text/plain": [
       "<Figure size 640x480 with 1 Axes>"
      ]
     },
     "metadata": {},
     "output_type": "display_data"
    }
   ],
   "source": [
    "rating_data = data.groupby(['category'], \\\n",
    "                        as_index = False)[['rating']].median().sort_values(by='rating',ascending=True)\n",
    "\n",
    "sns.barplot(data=rating_data, x='rating', y='category', palette='Set2')\n",
    "plt.xlabel('Рейтинг')\n",
    "plt.ylabel('Категория заведений')\n",
    "plt.title('График медианного значения рейтинга заведений в зависимости от их категории')\n",
    "plt.show()"
   ]
  },
  {
   "cell_type": "markdown",
   "id": "0b373513",
   "metadata": {},
   "source": [
    "**Дополним ее диаграммой размаха.**"
   ]
  },
  {
   "cell_type": "code",
   "execution_count": null,
   "id": "b27c72d2",
   "metadata": {},
   "outputs": [],
   "source": [
    "sns.boxplot(x='category', y='rating', data=data, palette='Set2')\n",
    "plt.title('Количество посадочных мест по категориям')\n",
    "plt.xlabel('Категория')\n",
    "plt.ylabel('Количество мест')\n",
    "plt.xticks(rotation=45)\n",
    "plt.show();"
   ]
  },
  {
   "cell_type": "markdown",
   "id": "6440f29a",
   "metadata": {},
   "source": [
    "**Самый высокий рейтинг у баров/пабов - 4.4. У столовых, ресторанов, пиццерий, кофеен и булочных рейтинг совпадает: 4.3. У кафе и ресторанов быстрого питания  самый низкий рейтинг - 4.2. Чаще всего аномально низкие значения рейтинга встречаются среди кафе, ресторанов и заведений быстрого питания. Минимальное значение рейтинга у ресторанов быстрого питания, а максимальное - у кафе.**"
   ]
  },
  {
   "cell_type": "markdown",
   "id": "77fd7f1a",
   "metadata": {},
   "source": [
    "### Изучение среднего рейтинга заведений в зависимости от административного округа"
   ]
  },
  {
   "cell_type": "markdown",
   "id": "c2a2a0cc",
   "metadata": {},
   "source": [
    "**Создадим сводную таблицу для расчета медианного рейтинга заведений по округам.**"
   ]
  },
  {
   "cell_type": "code",
   "execution_count": null,
   "id": "ac4ff37c",
   "metadata": {},
   "outputs": [],
   "source": [
    "district_rating = data.pivot_table(index='district', values='rating', aggfunc='median').reset_index()\n"
   ]
  },
  {
   "cell_type": "markdown",
   "id": "c48bd27a",
   "metadata": {},
   "source": [
    "**Теперь построим фоновую картограмму, чтобы визуализировать зависимость рейтинга заведений от их расположения.**"
   ]
  },
  {
   "cell_type": "code",
   "execution_count": null,
   "id": "95398507",
   "metadata": {},
   "outputs": [],
   "source": [
    "# импортируем карту и хороплет\n",
    "from folium import Map, Choropleth\n",
    "\n",
    "\n",
    "state_geo = 'https://code.s3.yandex.net/data-analyst/admin_level_geomap.geojson'\n",
    "\n",
    "# moscow_lat - широта центра Москвы, moscow_lng - долгота центра Москвы\n",
    "moscow_lat, moscow_lng = 55.751244, 37.618423\n",
    "\n",
    "# создаём карту Москвы\n",
    "m = Map(location=[moscow_lat, moscow_lng], zoom_start=10)\n",
    "\n",
    "# создаём хороплет с помощью конструктора Choropleth и добавляем его на карту\n",
    "Choropleth(\n",
    "    geo_data=state_geo,\n",
    "    data=district_rating,\n",
    "    columns=['district', 'rating'],\n",
    "    key_on='feature.name',\n",
    "    #fill_color='YlGn',\n",
    "    #fill_opacity=0.8,\n",
    "    legend_name='Средний рейтинг заведений по районам',\n",
    ").add_to(m)\n",
    "\n",
    "# выводим карту\n",
    "m"
   ]
  },
  {
   "cell_type": "markdown",
   "id": "d6c19ead",
   "metadata": {},
   "source": [
    "**Самый высокий рейтинг у заведений, расположенных в центре Москвы. В ВАО, САО, СЗАО, ЮАО, ЮЗАО рейтинг заведений  находится на одном уровне. Самый низкий рейтинг в ЮВАО и САО.**"
   ]
  },
  {
   "cell_type": "markdown",
   "id": "3b1ad3c6",
   "metadata": {},
   "source": [
    "### Визуализация кластеров заведений"
   ]
  },
  {
   "cell_type": "markdown",
   "id": "4434d79f",
   "metadata": {},
   "source": [
    "**Для того, чтобы наглядно визуализировать все заведения в Москве, создадим карту с кластерами.**"
   ]
  },
  {
   "cell_type": "code",
   "execution_count": null,
   "id": "e479bcc5",
   "metadata": {},
   "outputs": [],
   "source": [
    "# импортируем карту и маркер\n",
    "from folium import Map, Marker\n",
    "# импортируем кластер\n",
    "from folium.plugins import MarkerCluster\n",
    "\n",
    "# moscow_lat - широта центра Москвы, moscow_lng - долгота центра Москвы\n",
    "moscow_lat, moscow_lng = 55.751244, 37.618423\n",
    "\n",
    "# создаём карту Москвы\n",
    "m = Map(location=[moscow_lat, moscow_lng], zoom_start=10)\n",
    "# создаём пустой кластер, добавляем его на карту\n",
    "marker_cluster = MarkerCluster().add_to(m)\n",
    "\n",
    "# пишем функцию, которая принимает строку датафрейма,\n",
    "# создаёт маркер в текущей точке и добавляет его в кластер marker_cluster\n",
    "def create_clusters(row):\n",
    "    Marker(\n",
    "        [row['lat'], row['lng']],\n",
    "        popup=f\"{row['name']} {row['rating']}\",\n",
    "    ).add_to(marker_cluster)\n",
    "\n",
    "# применяем функцию create_clusters() к каждой строке датафрейма\n",
    "data.apply(create_clusters, axis=1)\n",
    "\n",
    "# выводим карту\n",
    "m"
   ]
  },
  {
   "cell_type": "markdown",
   "id": "2e7f5c98",
   "metadata": {},
   "source": [
    "### Изучение топ-15 улиц по количеству заведений"
   ]
  },
  {
   "cell_type": "markdown",
   "id": "ecf51ea7",
   "metadata": {},
   "source": [
    "**Получим сведения о 15 улицах c наибольшим количеством заведений и построим по ним столбчатую диаграмму.**"
   ]
  },
  {
   "cell_type": "code",
   "execution_count": null,
   "id": "fa4b319c",
   "metadata": {},
   "outputs": [],
   "source": [
    "top_15= data.pivot_table(index='street',values = 'name', aggfunc = 'count').sort_values(by='name',ascending=False).reset_index().head(15)\n",
    "top_15 = top_15.sort_values(by='name',ascending=False)\n",
    "\n",
    "# строим столбчатую диаграмму \n",
    "fig, ax = plt.subplots(figsize=(10,5))\n",
    "sns.barplot(data=top_15, x='street', y='name',color='#66c2a5')\n",
    "plt.title('Топ-15 улиц по количеству заведений')\n",
    "plt.xlabel('Улиц')\n",
    "plt.ylabel('Количество заведений')\n",
    "plt.xticks(rotation=90)\n",
    "plt.show();\n",
    " "
   ]
  },
  {
   "cell_type": "markdown",
   "id": "f183423a",
   "metadata": {},
   "source": [
    "**По количеству заведений лидирует проспект Мира; отрыв от 2-го места (Профсоюзная улица) занимает 61 заведение. Тройку лидеров замыкает Ленинский проспект. Большинство в топ-15 составлят шоссе и проспекты, т.е. длинные улицы с большим автомобильным потоком. Из центра только одна улица - Пятницкая.**"
   ]
  },
  {
   "cell_type": "markdown",
   "id": "2c50b3f5",
   "metadata": {},
   "source": [
    "**Теперь узнаем, сколько заведений каждой категории расположены на топ-15 улицах.**"
   ]
  },
  {
   "cell_type": "code",
   "execution_count": null,
   "id": "0a985782",
   "metadata": {},
   "outputs": [],
   "source": [
    "top15_categories = data[data['street'].isin(top_15['street'])].pivot_table(index=['street','category'], \\\n",
    "                                                                           values='name', aggfunc='count').reset_index()\n",
    "\n",
    "\n",
    "# строим столбчатый график средствами seaborn\n",
    "fig, ax = plt.subplots(figsize=(10,8))\n",
    "sns.barplot(x='name', y='street', data=top15_categories, hue='category', palette='Set2')\n",
    "# формируем заголовок графика и подписи осей средствами matplotlib\n",
    "plt.title('Количество заведений по категориям на топ-15 улицах')\n",
    "plt.xlabel('Количество заведений  по категориям')\n",
    "plt.ylabel('Улица')\n",
    "# добавляем сетку\n",
    "plt.grid()\n",
    "# отображаем график на экране\n",
    "plt.show()"
   ]
  },
  {
   "cell_type": "markdown",
   "id": "6b3ace8e",
   "metadata": {},
   "source": [
    "**На каждой из топ-15 улиц в тройку категорий-лидеров по количеству заведений входят рестораны, кафе и кофейни.**"
   ]
  },
  {
   "cell_type": "markdown",
   "id": "1b9407b8",
   "metadata": {},
   "source": [
    "### Исследование улиц с одним заведением"
   ]
  },
  {
   "cell_type": "markdown",
   "id": "8a16cbde",
   "metadata": {},
   "source": [
    "**Сгруппируем датафрейм по улицам и ограничим улицы только теми, где расположено только одно заведение.**"
   ]
  },
  {
   "cell_type": "code",
   "execution_count": null,
   "id": "7e200e72",
   "metadata": {},
   "outputs": [],
   "source": [
    "one_spot = data.groupby('street').agg({'name':'count'}).query('name < 2').reset_index()\n",
    "print('Количество улиц с одним заведением:', len(one_spot))\n"
   ]
  },
  {
   "cell_type": "markdown",
   "id": "e01e837a",
   "metadata": {},
   "source": [
    "**Отфильтруем датафрейм таким образом, чтобы в нем была информация только об улицах с одним заведением.**"
   ]
  },
  {
   "cell_type": "code",
   "execution_count": null,
   "id": "743f40bd",
   "metadata": {},
   "outputs": [],
   "source": [
    "one_spot_data =  data[data['street'].isin(one_spot['street'])].reset_index()\n",
    "one_spot_data.head()"
   ]
  },
  {
   "cell_type": "markdown",
   "id": "74138746",
   "metadata": {},
   "source": [
    "**Посмотрим, какие категории заведений чаще всего встречаются на таких улицах.**"
   ]
  },
  {
   "cell_type": "code",
   "execution_count": null,
   "id": "3b7bfa7a",
   "metadata": {},
   "outputs": [],
   "source": [
    "spot1_category_count = pd.DataFrame(one_spot_data['category'].value_counts()).reset_index()\n",
    "spot1_category_count"
   ]
  },
  {
   "cell_type": "code",
   "execution_count": null,
   "id": "bad81ad2",
   "metadata": {},
   "outputs": [],
   "source": [
    "info = [160, 93, 84, 39, 36, 23, 15, 8]\n",
    "labels = ['кафе', 'рестораны', 'кофейни',\n",
    "          'пабы/бары', 'столовые', 'заведения быстрого питания',\n",
    "          'булочные', 'пиццерии']\n",
    "\n",
    "#define Seaborn color palette to use\n",
    "colors = sns.color_palette('Set2')\n",
    "myexplode = [0.2, 0.1, 0, 0, 0, 0, 0, 0]\n",
    "\n",
    "#create pie chart\n",
    "plt.pie(info, labels = labels, colors = colors, explode=myexplode, autopct='%.0f%%')\n",
    "plt.show()\n"
   ]
  },
  {
   "cell_type": "markdown",
   "id": "1308f1c4",
   "metadata": {},
   "source": [
    "**На улицах с только одним заведением чаще всего бывают кафе: их доля составляет 35%. В 20% случаев на таких улицах расположены рестораны и в 18% - кофейни.Реже всего встречаются пиццерии(2%) и булочные(3 %).**"
   ]
  },
  {
   "cell_type": "markdown",
   "id": "1b386922",
   "metadata": {},
   "source": [
    "**Теперь сравним распределение категорий на улицах с одним заведением с распределением в городе в целом.**"
   ]
  },
  {
   "cell_type": "code",
   "execution_count": null,
   "id": "64bf0528",
   "metadata": {},
   "outputs": [],
   "source": [
    "spot1 = spot1_category_count['category'].tolist()\n",
    "spot1"
   ]
  },
  {
   "cell_type": "code",
   "execution_count": null,
   "id": "f22f98ea",
   "metadata": {},
   "outputs": [],
   "source": [
    "multiple_spots = category_count['category'].tolist()\n",
    "multiple_spots"
   ]
  },
  {
   "cell_type": "code",
   "execution_count": null,
   "id": "7e6b27e0",
   "metadata": {},
   "outputs": [],
   "source": [
    "spot1_category = spot1_category_count['index'].tolist()\n",
    "spot1_category"
   ]
  },
  {
   "cell_type": "code",
   "execution_count": null,
   "id": "3879968e",
   "metadata": {},
   "outputs": [],
   "source": [
    "multiple_spots_category = category_count['index'].tolist()\n",
    "multiple_spots_category"
   ]
  },
  {
   "cell_type": "code",
   "execution_count": null,
   "id": "ad32ff91",
   "metadata": {},
   "outputs": [],
   "source": [
    "fig = plt.figure(figsize=(28,10))\n",
    "\n",
    "info_spot1 = spot1\n",
    "info = multiple_spots\n",
    "\n",
    "labels_spot1 = spot1_category\n",
    "labels = multiple_spots_category\n",
    "\n",
    "\n",
    "colors = sns.color_palette('Set2')\n",
    "myexplode = [0.2, 0.1, 0, 0, 0, 0, 0, 0] \n",
    "\n",
    "\n",
    "ax1 = plt.subplot2grid((2,4),(0,0))\n",
    "plt.pie(info_spot1, labels = labels_spot1, colors = colors, explode=myexplode, autopct='%.0f%%')\n",
    "plt.title('Распространенность категорий на улицах с 1 заведением')\n",
    "#next one\n",
    "ax1 = plt.subplot2grid((2, 4), (0, 1))\n",
    "plt.pie(info, labels = labels, colors = colors, explode=myexplode, autopct='%.0f%%')\n",
    "plt.title('Распространенность категорий в Москве в целом')\n",
    "\n",
    "\n",
    "plt.show()"
   ]
  },
  {
   "cell_type": "markdown",
   "id": "ad024f67",
   "metadata": {},
   "source": [
    "**Нет различий в порядке категорий, однако заметны различия в долях. На улицах с одним заведением кафе расположены на 1% чаще , чем во всем городе. на таких Также на таких улицах на 4% реже встречаются рестораны.Вероятность, что на такой улице расположена кофейня на 1% выше. С практически одинаковой частотой в Москве в целом и на улицах с одним заведением расположены бары и пабы.**"
   ]
  },
  {
   "cell_type": "markdown",
   "id": "528c8acd",
   "metadata": {},
   "source": [
    "**Теперь посмотрим, в каком округе Москве чаще всего на улице только одно заведение.**"
   ]
  },
  {
   "cell_type": "code",
   "execution_count": null,
   "id": "38999de0",
   "metadata": {},
   "outputs": [],
   "source": [
    "spot1_district = one_spot_data.pivot_table(index='district', values='street', aggfunc='count').sort_values(by='street',ascending=False)\n",
    "spot1_district = spot1_district.reset_index()\n",
    "\n",
    "\n",
    "# строим столбчатую диаграмму \n",
    "fig, ax = plt.subplots(figsize=(8,6))\n",
    "sns.barplot(data=spot1_district, x='district', y='street',color='#66c2a5')\n",
    "plt.title('Количество улиц с одним заведением по округам Москвы')\n",
    "plt.xlabel('Округ')\n",
    "plt.ylabel('Количество улиц')\n",
    "plt.xticks(rotation=45)\n",
    "plt.show();"
   ]
  },
  {
   "cell_type": "markdown",
   "id": "7374e702",
   "metadata": {},
   "source": [
    "**ЦАО лидирует по количеству улиц с одним заведением; отрыв от занимающего 2-ое место СВАО составляет 90 улиц. Тройку лидеров замыкает ВАО. Наименьшее количество улиц с 1 заведением в СЗАО (19 улиц) и ЮЗАО (18 улиц).**"
   ]
  },
  {
   "cell_type": "markdown",
   "id": "be64700a",
   "metadata": {},
   "source": [
    "### Исследование медианы среднего чека по округам "
   ]
  },
  {
   "cell_type": "markdown",
   "id": "8a715168",
   "metadata": {},
   "source": [
    "**Построим столбчатую диаграмму.**"
   ]
  },
  {
   "cell_type": "code",
   "execution_count": null,
   "id": "1a572988",
   "metadata": {},
   "outputs": [],
   "source": [
    "avg_bill_per_district = data.pivot_table(index='district', values='middle_avg_bill', aggfunc='median').sort_values(by='middle_avg_bill',ascending=False)\n",
    "avg_bill_per_district = avg_bill_per_district.reset_index()\n",
    "\n",
    "fig, ax = plt.subplots(figsize=(10,8))\n",
    "sns.barplot(data=avg_bill_per_district, x='district', y='middle_avg_bill',color='#66c2a5')\n",
    "plt.title('Средний чек в разных округах Москвы')\n",
    "plt.xlabel('Округ')\n",
    "plt.ylabel('Средний чек')\n",
    "plt.xticks(rotation=45)\n",
    "plt.show();"
   ]
  },
  {
   "cell_type": "markdown",
   "id": "79ed41df",
   "metadata": {},
   "source": [
    "**В центре и на западе Москвы самый высокий показатель медианного среднего чека, он на 300 и на 250 рублей выше по сравнению с северо-западом и севером. На юго-западе средний чек составляет 600 рублей, что на 50 рублей больше, чем на востоке. На северо-востоке и юге медианные значения среднего чека совпадают и составляеют 500 рублей. Самый низкий средний чек на юго-востоке.**"
   ]
  },
  {
   "cell_type": "code",
   "execution_count": null,
   "id": "c0f974c1",
   "metadata": {},
   "outputs": [],
   "source": [
    "state_geo = 'https://code.s3.yandex.net/data-analyst/admin_level_geomap.geojson'\n",
    "\n",
    "# moscow_lat - широта центра Москвы, moscow_lng - долгота центра Москвы\n",
    "moscow_lat, moscow_lng = 55.751244, 37.618423\n",
    "\n",
    "# создаём карту Москвы\n",
    "m = Map(location=[moscow_lat, moscow_lng], zoom_start=10)\n",
    "\n",
    "# создаём хороплет с помощью конструктора Choropleth и добавляем его на карту\n",
    "Choropleth(\n",
    "    geo_data=state_geo,\n",
    "    data=avg_bill_per_district,\n",
    "    columns=['district', 'middle_avg_bill'],\n",
    "    key_on='feature.name',\n",
    "    #fill_color='YlGn',\n",
    "    #fill_opacity=0.8,\n",
    "    legend_name='Средний рейтинг заведений по районам',\n",
    ").add_to(m)\n",
    "\n",
    "# выводим карту\n",
    "m"
   ]
  },
  {
   "cell_type": "markdown",
   "id": "5336096c",
   "metadata": {},
   "source": [
    "**Хороплет подкрепляет информацию, представленную на столбчатой диаграмме. В целом, нельзя говорить о том, что по мере приближения заведения к центре точно растет его средний чек; в этом случае в западном округе средний чек не совпадал с чеком в ЦАО.**"
   ]
  },
  {
   "cell_type": "markdown",
   "id": "dd975ea2",
   "metadata": {},
   "source": [
    "**Проанализировав в общих чертах рынок заведений общественногопитания в Москве, можно прийти к следующим промежуточным выводам:**\n",
    "    \n",
    "    - как на улицах с одним заведением, так и в городе в целом наиболее распространенными категориями являются кафе, ресторан и кофейня, в обоих случаях реже всего встречаются рестораны быстрого питания и булочные;\n",
    "    - наибольшее количество посадочных мест в ресторанах, пабах/барах и кофейнях; с учетом того, что у арендующих отдельные помещения кофеен редко бывает мноо посадочных мест, можно говорить о том, что в большое количество кофеен расположенл в фудкортах;\n",
    "    - в Москве преобладают несетевые заведения; их в 2 раза больше, чем несетевых;\n",
    "    - как в сетевых, так и несетевых заведениях лидерами по количеству заведений являются кафе, рестораны и кофейни;\n",
    "    - среди топ-15 сетей наиболее распространенными категориями являются кафе, пиццерии и ресторанами; выход в тройку лидеров категории \"пиццерия\" объясняется тем, что  \"Домино'c пицца\" и \"Додо пицца\" являются одними из самых болших сетей в Москве;\n",
    "    - за исключением ЦАО во всех округах города cамой распространенной категорией является кафе, второе место занимают рестораны, третье - кофейни;\n",
    "    - в центре Москвы с большим отрывом лидируют рестораны, а не кафе; также в ЦАО по сравнению с другими округами чаще встречаются бары и пабы; \n",
    "    - в центре Москвы у заведений самый высокий показатель среднего рейтинга заведений;\n",
    "    - большинство в топ-15 составлят шоссе и проспекты, и из центра только одна улица - Пятницкая.\n",
    "    \n",
    "    \n",
    "    "
   ]
  },
  {
   "cell_type": "markdown",
   "id": "13dc76f9",
   "metadata": {},
   "source": [
    "## Детализация исследования: открытие кофейни"
   ]
  },
  {
   "cell_type": "code",
   "execution_count": null,
   "id": "28903b12",
   "metadata": {},
   "outputs": [],
   "source": [
    "print('Количество кофеен в датафрейме:',len(data.query('category == \"кофейня\"')))"
   ]
  },
  {
   "cell_type": "markdown",
   "id": "36650fd3",
   "metadata": {},
   "source": [
    "**Построим столбчатую диаграмму количества улиц с одним заведением по районам.**"
   ]
  },
  {
   "cell_type": "code",
   "execution_count": null,
   "id": "ceebf346",
   "metadata": {},
   "outputs": [],
   "source": [
    "#отфильтруем датафрейм\n",
    "coffeeshop_only = data.query('category == \"кофейня\"')\n"
   ]
  },
  {
   "cell_type": "markdown",
   "id": "f67cf2b5",
   "metadata": {},
   "source": [
    "### Изучение географии кофеен"
   ]
  },
  {
   "cell_type": "code",
   "execution_count": null,
   "id": "53a63f7b",
   "metadata": {},
   "outputs": [],
   "source": [
    "coffeeshop_location = coffeeshop_only.pivot_table(index='district', values='name', aggfunc='count')\n",
    "coffeeshop_location = coffeeshop_location.sort_values(by='name',ascending=False).reset_index()\n",
    "\n",
    "# строим столбчатую диаграмму \n",
    "fig, ax = plt.subplots(figsize=(8,6))\n",
    "sns.barplot(data=coffeeshop_location, x='district', y='name',palette='Set2')\n",
    "plt.title('Количество кофеен в округах Москвы')\n",
    "plt.xlabel('Округ')\n",
    "plt.ylabel('Количество кофеен')\n",
    "plt.xticks(rotation=45)\n",
    "plt.show();"
   ]
  },
  {
   "cell_type": "markdown",
   "id": "2e1b9228",
   "metadata": {},
   "source": [
    "**Со значительным отрывом по кофеен лидирует ЦАО. 2-ое место занимает  САО, а 3-е- СВАО. Меньше всего таких заведений на северо-западе Москвы.**"
   ]
  },
  {
   "cell_type": "code",
   "execution_count": null,
   "id": "8b154313",
   "metadata": {},
   "outputs": [],
   "source": [
    "coffeeshop_location"
   ]
  },
  {
   "cell_type": "code",
   "execution_count": null,
   "id": "aac3d69e",
   "metadata": {},
   "outputs": [],
   "source": [
    "info = coffeeshop_location['name'].tolist()\n",
    "labels = coffeeshop_location['district'].tolist()\n",
    "\n",
    "colors = sns.color_palette('Set2')\n",
    "myexplode = [0.2, 0.1, 0, 0, 0, 0, 0, 0, 0]\n",
    "\n",
    "plt.pie(info, labels = labels, colors = colors, explode=myexplode, autopct='%.0f%%')\n",
    "plt.title('Распределение кофеен по округам Москвы')\n",
    "plt.show()\n"
   ]
  },
  {
   "cell_type": "markdown",
   "id": "77aba6f6",
   "metadata": {},
   "source": [
    "**На центр приходится 31 % всех кофеен города, а на север и северо-восток - 13% и 11% соответственно. В случае открытия кофейни в ЦАО, придется столкнуться с очень высокой конкуренцией. На севере и северо-востоке конуренция тоже, скорее всего, придется столкнуться с конкуренцией. Стоит также обратить внимание на запад: отставание от 3-го места лишь на 1%. К тому же ЗАО занимает второе место по среднему чеку.**"
   ]
  },
  {
   "cell_type": "markdown",
   "id": "30ae26f6",
   "metadata": {},
   "source": [
    "### Изучение графика работы кофеен"
   ]
  },
  {
   "cell_type": "markdown",
   "id": "dd57fad3",
   "metadata": {},
   "source": [
    "**Проверим, есть ли в датафрейме кофейни, которые работают круглосуточно.**"
   ]
  },
  {
   "cell_type": "code",
   "execution_count": null,
   "id": "9c08d3b5",
   "metadata": {},
   "outputs": [],
   "source": [
    "print('Количество кофеен, которые работают круглосуточно:',len(coffeeshop_only.loc[coffeeshop_only['is_24/7'] == True]))"
   ]
  },
  {
   "cell_type": "markdown",
   "id": "bd68053b",
   "metadata": {},
   "source": [
    "**59 кофеен открыты 24/7.**"
   ]
  },
  {
   "cell_type": "markdown",
   "id": "bed59c7d",
   "metadata": {},
   "source": [
    "**Изучим, по какому графику чаще всего работают кофейни.**"
   ]
  },
  {
   "cell_type": "code",
   "execution_count": null,
   "id": "117e3914",
   "metadata": {},
   "outputs": [],
   "source": [
    "working_hours = coffeeshop_only.pivot_table(index='hours', values='name',aggfunc='count').sort_values(by='name', ascending=False)\n",
    "working_hours = working_hours.reset_index().head()\n",
    "fig, ax = plt.subplots(figsize=(8,5))\n",
    "sns.barplot(data=working_hours, x='hours', y='name',palette='Set2')\n",
    "plt.title('ТОП-5 графиков работы кофеен')\n",
    "plt.xlabel('Графкик работы')\n",
    "plt.ylabel('Количество кофеен')\n",
    "plt.xticks(rotation=45)\n",
    "plt.show();"
   ]
  },
  {
   "cell_type": "markdown",
   "id": "3a684121",
   "metadata": {},
   "source": [
    "**Чаще всего кофейни работают ежедневно с 10 до 22. В 2 раза реже встречаются кофейни, которые открываются в 8 утра; их немного больше, чем работающих круглосуточно. В топ-5 также есть кофейни,открывающиеся ежедневно в 9:00. В городе около 45 кофеен, которые работают толко в будни; график их работы совпадает с рабочим днем. Скорее всего, они расположены в бизнес-центрах.**"
   ]
  },
  {
   "cell_type": "markdown",
   "id": "5a1ee9d9",
   "metadata": {},
   "source": [
    "### Исследование рейтинга кофеен"
   ]
  },
  {
   "cell_type": "code",
   "execution_count": null,
   "id": "bb6eae59",
   "metadata": {},
   "outputs": [],
   "source": [
    "coffeeshop_rating = coffeeshop_only.pivot_table(index='rating', values='name', aggfunc='count').sort_values(by='name',ascending=False)\n",
    "coffeeshop_rating = coffeeshop_rating.reset_index()\n",
    "\n",
    "fig, ax = plt.subplots(figsize=(10,4))\n",
    "sns.barplot(data=coffeeshop_rating, x='rating', y='name', color='#66c2a5')\n",
    "plt.title('Количество кофеен по рейтингу в Москве')\n",
    "plt.xlabel('Рейтинг')\n",
    "plt.ylabel('Количество кофеен')\n",
    "plt.show();"
   ]
  },
  {
   "cell_type": "markdown",
   "id": "52847e3e",
   "metadata": {},
   "source": [
    "**У большинства кофеен рейтинг составляет 4.3 и 4.4.**"
   ]
  },
  {
   "cell_type": "markdown",
   "id": "9ebb3286",
   "metadata": {},
   "source": [
    "### Изучение медианного рейтинга кофеен по округам Москвы"
   ]
  },
  {
   "cell_type": "code",
   "execution_count": null,
   "id": "58c9d4a5",
   "metadata": {},
   "outputs": [],
   "source": [
    "#создадим сводную таблицу для вычисления значений\n",
    "district_сoffee_data = coffeeshop_only.pivot_table(index='district', values='rating', aggfunc='median')\n",
    "district_сoffee_data = district_сoffee_data.sort_values(by='rating', ascending=False).reset_index()\n",
    "district_сoffee_data"
   ]
  },
  {
   "cell_type": "code",
   "execution_count": null,
   "id": "7d6ed38d",
   "metadata": {},
   "outputs": [],
   "source": [
    "state_geo = 'https://code.s3.yandex.net/data-analyst/admin_level_geomap.geojson'\n",
    "\n",
    "# moscow_lat - широта центра Москвы, moscow_lng - долгота центра Москвы\n",
    "moscow_lat, moscow_lng = 55.751244, 37.618423\n",
    "\n",
    "# создаём карту Москвы\n",
    "m = Map(location=[moscow_lat, moscow_lng], zoom_start=10)\n",
    "\n",
    "# создаём хороплет с помощью конструктора Choropleth и добавляем его на карту\n",
    "Choropleth(\n",
    "    geo_data=state_geo,\n",
    "    data=district_сoffee_data,\n",
    "    columns=['district', 'rating'],\n",
    "    key_on='feature.name',\n",
    "    #fill_color='YlGn',\n",
    "    #fill_opacity=0.8,\n",
    "    legend_name='Средний рейтинг кофеен оп округам',\n",
    ").add_to(m)\n",
    "\n",
    "# выводим карту\n",
    "m"
   ]
  },
  {
   "cell_type": "markdown",
   "id": "2671f951",
   "metadata": {},
   "source": [
    "**Во всех округах за исключением ЗАО медианный рейтинг составляет 4.3. На западе города он ниже на 0.1. Значит, отвергаем предположение о том,что ЗАО можно рассматривать как потенциальный район для открытия заведения.**"
   ]
  },
  {
   "cell_type": "markdown",
   "id": "a70373be",
   "metadata": {},
   "source": [
    "### Изучение средней стоимости чашки капуччино в кофейнях Москвы"
   ]
  },
  {
   "cell_type": "markdown",
   "id": "e02f5ef5",
   "metadata": {},
   "source": [
    "**Cоздадим сводную таблицу для выявления наиболее распространенной стоимость чашки капуччино в московских кофейнях.**"
   ]
  },
  {
   "cell_type": "code",
   "execution_count": null,
   "id": "b85653fa",
   "metadata": {
    "scrolled": true
   },
   "outputs": [],
   "source": [
    "avg_bill = coffeeshop_only.pivot_table(index='avg_bill', values='name',aggfunc='count').sort_values(by='name',ascending=False)\n",
    "avg_bill = avg_bill.reset_index().head(5)\n",
    "avg_bill "
   ]
  },
  {
   "cell_type": "markdown",
   "id": "4721e834",
   "metadata": {},
   "source": [
    "**Построим столбчатую диаграмму.**"
   ]
  },
  {
   "cell_type": "code",
   "execution_count": null,
   "id": "37a45125",
   "metadata": {},
   "outputs": [],
   "source": [
    "fig, ax = plt.subplots(figsize=(7,5))\n",
    "sns.barplot(data=avg_bill, x='avg_bill', y='name',palette='Set2')\n",
    "plt.title('Количество кофеен с разной стоимостью чашки капуччино')\n",
    "plt.xlabel('Стоимость чашки капушки')\n",
    "plt.ylabel('Количество кофеен')\n",
    "plt.xticks(rotation=45)\n",
    "plt.show();"
   ]
  },
  {
   "cell_type": "markdown",
   "id": "bce04925",
   "metadata": {},
   "source": [
    "**Чаще всего чашка капуччино в Москве стоит от 239 до 274 рублей. Также в городе часто встречаются заведения, где стоимость чашки составляет 90-100 рублей: скорее всего, это сетевые кофейни, где на все виды кофе установлена одна цена.  \n",
    "Стоимость в 200-250 тоже, возможно, стоит взять во внимание: можно получить конкуретное преимущество перед несетвыми кофейнями, где обычно кофе стоит дороже, чем в сетевых.**"
   ]
  },
  {
   "cell_type": "markdown",
   "id": "efdd7408",
   "metadata": {},
   "source": [
    "**Создадим график, который будет иллюстрировать количество кофеен с различной стоимостью капуччино по округам.** "
   ]
  },
  {
   "cell_type": "code",
   "execution_count": null,
   "id": "b7d0838e",
   "metadata": {
    "scrolled": false
   },
   "outputs": [],
   "source": [
    "#перед визуализацией сократим названияадминистративных округов\n",
    "coffeeshop_only['district'] = coffeeshop_only['district'].replace('Восточный административный округ', 'ВАО')\n",
    "coffeeshop_only['district'] = coffeeshop_only['district'].replace('Западный административный округ', 'ЗАО')\n",
    "coffeeshop_only['district'] = coffeeshop_only['district'].replace('Северный административный округ', 'САО')\n",
    "coffeeshop_only['district'] = coffeeshop_only['district'].replace('Северо-Восточный административный округ', 'СВАО')\n",
    "coffeeshop_only['district'] = coffeeshop_only['district'].replace('Северо-Западный административный округ', 'СЗАО')\n",
    "coffeeshop_only['district'] = coffeeshop_only['district'].replace('Центральный административный округ', 'ЦАО')\n",
    "coffeeshop_only['district'] = coffeeshop_only['district'].replace('Юго-Восточный административный округ', 'ЮВАО')\n",
    "coffeeshop_only['district'] = coffeeshop_only['district'].replace('Юго-Западный административный округ', 'ЮЗАО')\n",
    "coffeeshop_only['district'] = coffeeshop_only['district'].replace('Южный административный округ', 'ЮАО')\n",
    "\n",
    "\n",
    "capuccino_info = coffeeshop_only[coffeeshop_only['avg_bill'].isin(avg_bill['avg_bill'])].pivot_table(index=['avg_bill',\\\n",
    "                                                                                                            'district'],\n",
    "                                                                                                     values='name',\n",
    "                                                                                                     aggfunc='count')   \n",
    "capuccino_info = capuccino_info.reset_index()\n",
    "\n",
    "# строим столбчатый график средствами seaborn\n",
    "fig, ax = plt.subplots(figsize=(8,6))\n",
    "sns.barplot(x='name', y='district', data=capuccino_info, hue='avg_bill', palette='Set2')\n",
    "# формируем заголовок графика и подписи осей средствами matplotlib\n",
    "plt.title('Количество заведений с различной стоимость чашки капуччино по округам')\n",
    "plt.xlabel('Количество заведений')\n",
    "plt.ylabel('Округ Москвы')\n",
    "# добавляем сетку\n",
    "plt.grid()\n",
    "# отображаем график на экране\n",
    "plt.show()"
   ]
  },
  {
   "cell_type": "markdown",
   "id": "0f723ebc",
   "metadata": {},
   "source": [
    "**В центре Москвы чашка капуччино самая дорогая: в этом округе преобладают кофейни, где она стоит 239-274 рублей. В других районах чашка чаще всего стоит или 90-100 рублей, или 200-250 рублей. На севере города, где кофейни распространены, с одинаковой частотой встречаются кофейни, где чашка стоит 90-100 и 239-274 рублей. А на северо-востоке, занимающем 3-е место по количеству кофеен - чаще всего капуччино стоит 90-100 рублей.**"
   ]
  },
  {
   "cell_type": "markdown",
   "id": "fb7566d2",
   "metadata": {},
   "source": [
    "## Выводы "
   ]
  },
  {
   "cell_type": "markdown",
   "id": "f2202bb6",
   "metadata": {},
   "source": [
    "**Для того, чтобы выявить основные особенности рынка общественного питания в Москве, в исследовании были предприняты следующие шаги:**\n",
    "    \n",
    "     -открытие и изучение файла;\n",
    "      -предобработка данных, включающая в себя изучение типов данных в датафрейме, его изменение в случае необходимости,\n",
    "      проверка датафрейма на наличие пропусков, а также дубликатов (как явных, так и неявных);\n",
    "      -добавление в датафрейм столбцов с названием улицы, где расположено заведение, и идентификатором круглосуточных \n",
    "      заведений;\n",
    "      -выявление количества уникальных заведений в датафрейме;\n",
    "      -выявление количества уникальных заведений с более чемодной локацией в городе;\n",
    "      -исследование аномалий в значениях среднего чека и количества посадочных мест;\n",
    "      -исследование категорий значений и наиболее распространенных из них посредством визуализации данных; \n",
    "      -изучение медианного количества посадочных мест в зависимосит от категории заведения;\n",
    "      -исследование соотношения сетевых и несетвых заведений в городе посредством визуализации данных;\n",
    "      -изучение 15 самых популярных сетей в Москве и наиболее распространенных среди сетей категорий заведений;\n",
    "      -исследование географии заведений, в частности, рассмотрение округов, в которых расположены заведения, и расчет  \n",
    "      количества заведений каждой категории в 9 округах;\n",
    "      -изучение распределения средних рейтингов по категориям заведений;\n",
    "      -исследование рейтинга заведений в зависимости от того, в каком округе те расположены посредством построения\n",
    "      фоновой  картограммы;\n",
    "      -визуализация кластеров заведений на карте Москвы;\n",
    "      -выявление 15 улиц с наибольшим количеством заведений и выявление на них количества заведений каждой категории \n",
    "      посредством визуализации;\n",
    "      -исследование улиц с одним заведением, в частности, расчет их количества, рассмотрение наиболее популярных\n",
    "      на них категорий заведений, а также сравнение показателей с городом в целом;\n",
    "      -исследование медианы среднего чека по округам Москвы и построение фоноаой картограммы;\n",
    "      -выявление количества кофеен в датафрейме, выявление степени их распространенности в разных округах Москвы\n",
    "      и изучение графиков работы и стоимости одной чашки капуччино в них.\n",
    "      \n",
    "      \n",
    "**Выполнив данные алгоритм, мы установили, что в Москве наиболее распространенными категориями заведений являются кафе, ресторан и кофейни. Самый высокий средний рейтинг был выявлен у заведений, расположенных в центре города. Также было установлено, что улицы с наибольшим количеством заведений в большинстве случаев являются шоссе и проспектами с оживленным дорожным движением; лишь одна улица из ЦАО входит в топ-15 улиц по количеству заведений. В связи с очень высокой конкуренцией не рекомендуется для новой локации выбирать улицу, где много заведений.**\n",
    "\n",
    "**Результаты исследования показывают, что кофейня может быть перспективным проектом. Поскольку в ЦАО количество кофеен в несколько раз превышает их количество в других округах, в качестве потенциальной локации рекомендуется рассмотреть ВАО и СВАО. В обоих округах более 100 кофеен:с о дной стороны, придется столкнуться с конкуренцией, но с другой стороны, есть возможность представить свое конкурентное преимущество и выделиться на фоне других кофеен в районе. Поскольку инвесторов вдохновляет сериал \"Друзья\", можно оформить заведение в его стиле; сериал сохраняет популярность спустя много лет. К тому же креативная концепция нового проекта будет более гармонична не в центре, где многие кофейни расположены в бизнес-центрах и поэтому работают только в будни, а на севере и северо-востоке города, где  больше жилой застройки. Инвесторы хотят открыть заведение с доступными ценами: рекомендуется продавать чашку капуччино по 90-100 рублей.**\n",
    "\n"
   ]
  },
  {
   "cell_type": "markdown",
   "id": "9817592b",
   "metadata": {},
   "source": [
    "**Презентация - https://drive.google.com/drive/folders/1wWS6ULZsvIHnH0G28Gsg7tdU47Pcx_mv**"
   ]
  },
  {
   "cell_type": "code",
   "execution_count": null,
   "id": "e4940a91",
   "metadata": {},
   "outputs": [],
   "source": []
  }
 ],
 "metadata": {
  "ExecuteTimeLog": [
   {
    "duration": 1443,
    "start_time": "2023-02-25T04:47:28.908Z"
   },
   {
    "duration": 261,
    "start_time": "2023-02-25T04:47:30.353Z"
   },
   {
    "duration": 21,
    "start_time": "2023-02-25T04:47:30.615Z"
   },
   {
    "duration": 25,
    "start_time": "2023-02-25T04:47:30.639Z"
   },
   {
    "duration": 17,
    "start_time": "2023-02-25T04:47:30.666Z"
   },
   {
    "duration": 232,
    "start_time": "2023-02-25T04:47:30.685Z"
   },
   {
    "duration": 15,
    "start_time": "2023-02-25T04:47:30.919Z"
   },
   {
    "duration": 29,
    "start_time": "2023-02-25T04:47:30.936Z"
   },
   {
    "duration": 69,
    "start_time": "2023-02-25T04:47:30.967Z"
   },
   {
    "duration": 25,
    "start_time": "2023-02-25T04:47:31.039Z"
   },
   {
    "duration": 25,
    "start_time": "2023-02-25T04:47:31.067Z"
   },
   {
    "duration": 76,
    "start_time": "2023-02-25T04:47:31.094Z"
   },
   {
    "duration": 30,
    "start_time": "2023-02-25T04:47:31.172Z"
   },
   {
    "duration": 73,
    "start_time": "2023-02-25T04:47:31.205Z"
   },
   {
    "duration": 67,
    "start_time": "2023-02-25T04:47:31.280Z"
   },
   {
    "duration": 64,
    "start_time": "2023-02-25T04:47:31.349Z"
   },
   {
    "duration": 24,
    "start_time": "2023-02-25T04:47:31.414Z"
   },
   {
    "duration": 141,
    "start_time": "2023-02-25T04:47:31.440Z"
   },
   {
    "duration": 30,
    "start_time": "2023-02-25T04:47:31.583Z"
   },
   {
    "duration": 27,
    "start_time": "2023-02-25T04:47:31.615Z"
   },
   {
    "duration": 42,
    "start_time": "2023-02-25T04:47:31.644Z"
   },
   {
    "duration": 563,
    "start_time": "2023-02-25T04:47:31.688Z"
   },
   {
    "duration": 57,
    "start_time": "2023-02-25T04:47:32.253Z"
   },
   {
    "duration": 251,
    "start_time": "2023-02-25T04:47:32.312Z"
   },
   {
    "duration": 244,
    "start_time": "2023-02-25T04:47:32.565Z"
   },
   {
    "duration": 126,
    "start_time": "2023-02-25T04:47:32.810Z"
   },
   {
    "duration": 32,
    "start_time": "2023-02-25T04:47:32.937Z"
   },
   {
    "duration": 266,
    "start_time": "2023-02-25T04:47:32.973Z"
   },
   {
    "duration": 67,
    "start_time": "2023-02-25T04:47:33.240Z"
   },
   {
    "duration": 35,
    "start_time": "2023-02-25T04:47:33.309Z"
   },
   {
    "duration": 6,
    "start_time": "2023-02-25T04:47:33.346Z"
   },
   {
    "duration": 7,
    "start_time": "2023-02-25T04:47:33.353Z"
   },
   {
    "duration": 647,
    "start_time": "2023-02-25T04:47:33.361Z"
   },
   {
    "duration": 50,
    "start_time": "2023-02-25T04:47:34.009Z"
   },
   {
    "duration": 32,
    "start_time": "2023-02-25T04:47:34.060Z"
   },
   {
    "duration": 188,
    "start_time": "2023-02-25T04:47:34.095Z"
   },
   {
    "duration": 13231,
    "start_time": "2023-02-25T04:47:34.285Z"
   },
   {
    "duration": 203,
    "start_time": "2023-02-25T04:47:47.518Z"
   },
   {
    "duration": 499,
    "start_time": "2023-02-25T04:47:47.723Z"
   },
   {
    "duration": 0,
    "start_time": "2023-02-25T04:47:48.223Z"
   },
   {
    "duration": 0,
    "start_time": "2023-02-25T04:47:48.225Z"
   },
   {
    "duration": 0,
    "start_time": "2023-02-25T04:47:48.226Z"
   },
   {
    "duration": 0,
    "start_time": "2023-02-25T04:47:48.227Z"
   },
   {
    "duration": 0,
    "start_time": "2023-02-25T04:47:48.228Z"
   },
   {
    "duration": 1,
    "start_time": "2023-02-25T04:47:48.229Z"
   },
   {
    "duration": 0,
    "start_time": "2023-02-25T04:47:48.231Z"
   },
   {
    "duration": 0,
    "start_time": "2023-02-25T04:47:48.293Z"
   },
   {
    "duration": 0,
    "start_time": "2023-02-25T04:47:48.294Z"
   },
   {
    "duration": 0,
    "start_time": "2023-02-25T04:47:48.295Z"
   },
   {
    "duration": 0,
    "start_time": "2023-02-25T04:47:48.296Z"
   },
   {
    "duration": 0,
    "start_time": "2023-02-25T04:47:48.296Z"
   },
   {
    "duration": 0,
    "start_time": "2023-02-25T04:47:48.297Z"
   },
   {
    "duration": 0,
    "start_time": "2023-02-25T04:47:48.298Z"
   },
   {
    "duration": 0,
    "start_time": "2023-02-25T04:47:48.299Z"
   },
   {
    "duration": 0,
    "start_time": "2023-02-25T04:47:48.300Z"
   },
   {
    "duration": 0,
    "start_time": "2023-02-25T04:47:48.301Z"
   },
   {
    "duration": 0,
    "start_time": "2023-02-25T04:47:48.302Z"
   },
   {
    "duration": 0,
    "start_time": "2023-02-25T04:47:48.303Z"
   },
   {
    "duration": 9,
    "start_time": "2023-02-25T05:20:27.725Z"
   },
   {
    "duration": 11,
    "start_time": "2023-02-25T05:20:31.637Z"
   },
   {
    "duration": 11,
    "start_time": "2023-02-25T05:20:35.286Z"
   },
   {
    "duration": 1367,
    "start_time": "2023-02-25T05:27:58.635Z"
   },
   {
    "duration": 63,
    "start_time": "2023-02-25T05:28:00.004Z"
   },
   {
    "duration": 20,
    "start_time": "2023-02-25T05:28:00.069Z"
   },
   {
    "duration": 15,
    "start_time": "2023-02-25T05:28:00.091Z"
   },
   {
    "duration": 18,
    "start_time": "2023-02-25T05:28:00.107Z"
   },
   {
    "duration": 204,
    "start_time": "2023-02-25T05:28:00.127Z"
   },
   {
    "duration": 15,
    "start_time": "2023-02-25T05:28:00.333Z"
   },
   {
    "duration": 32,
    "start_time": "2023-02-25T05:28:00.350Z"
   },
   {
    "duration": 32,
    "start_time": "2023-02-25T05:28:00.384Z"
   },
   {
    "duration": 29,
    "start_time": "2023-02-25T05:28:00.419Z"
   },
   {
    "duration": 22,
    "start_time": "2023-02-25T05:28:00.450Z"
   },
   {
    "duration": 24,
    "start_time": "2023-02-25T05:28:00.474Z"
   },
   {
    "duration": 23,
    "start_time": "2023-02-25T05:28:00.499Z"
   },
   {
    "duration": 70,
    "start_time": "2023-02-25T05:28:00.524Z"
   },
   {
    "duration": 32,
    "start_time": "2023-02-25T05:28:00.597Z"
   },
   {
    "duration": 33,
    "start_time": "2023-02-25T05:28:00.631Z"
   },
   {
    "duration": 73,
    "start_time": "2023-02-25T05:28:00.666Z"
   },
   {
    "duration": 9,
    "start_time": "2023-02-25T05:28:00.741Z"
   },
   {
    "duration": 143,
    "start_time": "2023-02-25T05:28:00.751Z"
   },
   {
    "duration": 19,
    "start_time": "2023-02-25T05:28:00.896Z"
   },
   {
    "duration": 15,
    "start_time": "2023-02-25T05:28:00.916Z"
   },
   {
    "duration": 24,
    "start_time": "2023-02-25T05:28:00.933Z"
   },
   {
    "duration": 511,
    "start_time": "2023-02-25T05:28:00.960Z"
   },
   {
    "duration": 52,
    "start_time": "2023-02-25T05:28:01.473Z"
   },
   {
    "duration": 256,
    "start_time": "2023-02-25T05:28:01.527Z"
   },
   {
    "duration": 248,
    "start_time": "2023-02-25T05:28:01.785Z"
   },
   {
    "duration": 139,
    "start_time": "2023-02-25T05:28:02.035Z"
   },
   {
    "duration": 47,
    "start_time": "2023-02-25T05:28:02.179Z"
   },
   {
    "duration": 244,
    "start_time": "2023-02-25T05:28:02.228Z"
   },
   {
    "duration": 58,
    "start_time": "2023-02-25T05:28:02.473Z"
   },
   {
    "duration": 36,
    "start_time": "2023-02-25T05:28:02.533Z"
   },
   {
    "duration": 27,
    "start_time": "2023-02-25T05:28:02.570Z"
   },
   {
    "duration": 5,
    "start_time": "2023-02-25T05:28:02.599Z"
   },
   {
    "duration": 633,
    "start_time": "2023-02-25T05:28:02.605Z"
   },
   {
    "duration": 54,
    "start_time": "2023-02-25T05:28:03.241Z"
   },
   {
    "duration": 10,
    "start_time": "2023-02-25T05:28:03.297Z"
   },
   {
    "duration": 134,
    "start_time": "2023-02-25T05:28:03.308Z"
   },
   {
    "duration": 9385,
    "start_time": "2023-02-25T05:28:03.444Z"
   },
   {
    "duration": 88,
    "start_time": "2023-02-25T05:28:12.830Z"
   },
   {
    "duration": 256,
    "start_time": "2023-02-25T05:28:12.919Z"
   },
   {
    "duration": 0,
    "start_time": "2023-02-25T05:28:13.177Z"
   },
   {
    "duration": 0,
    "start_time": "2023-02-25T05:28:13.178Z"
   },
   {
    "duration": 0,
    "start_time": "2023-02-25T05:28:13.179Z"
   },
   {
    "duration": 0,
    "start_time": "2023-02-25T05:28:13.180Z"
   },
   {
    "duration": 0,
    "start_time": "2023-02-25T05:28:13.181Z"
   },
   {
    "duration": 0,
    "start_time": "2023-02-25T05:28:13.182Z"
   },
   {
    "duration": 0,
    "start_time": "2023-02-25T05:28:13.183Z"
   },
   {
    "duration": 0,
    "start_time": "2023-02-25T05:28:13.192Z"
   },
   {
    "duration": 0,
    "start_time": "2023-02-25T05:28:13.193Z"
   },
   {
    "duration": 0,
    "start_time": "2023-02-25T05:28:13.194Z"
   },
   {
    "duration": 0,
    "start_time": "2023-02-25T05:28:13.196Z"
   },
   {
    "duration": 0,
    "start_time": "2023-02-25T05:28:13.197Z"
   },
   {
    "duration": 1,
    "start_time": "2023-02-25T05:28:13.198Z"
   },
   {
    "duration": 0,
    "start_time": "2023-02-25T05:28:13.200Z"
   },
   {
    "duration": 0,
    "start_time": "2023-02-25T05:28:13.201Z"
   },
   {
    "duration": 0,
    "start_time": "2023-02-25T05:28:13.202Z"
   },
   {
    "duration": 0,
    "start_time": "2023-02-25T05:28:13.203Z"
   },
   {
    "duration": 0,
    "start_time": "2023-02-25T05:28:13.205Z"
   },
   {
    "duration": 0,
    "start_time": "2023-02-25T05:28:13.207Z"
   },
   {
    "duration": 1494,
    "start_time": "2023-02-25T10:47:03.190Z"
   },
   {
    "duration": 105,
    "start_time": "2023-02-25T10:47:04.685Z"
   },
   {
    "duration": 18,
    "start_time": "2023-02-25T10:47:04.792Z"
   },
   {
    "duration": 71,
    "start_time": "2023-02-25T10:47:04.812Z"
   },
   {
    "duration": 5,
    "start_time": "2023-02-25T10:47:04.884Z"
   },
   {
    "duration": 195,
    "start_time": "2023-02-25T10:47:04.890Z"
   },
   {
    "duration": 15,
    "start_time": "2023-02-25T10:47:05.087Z"
   },
   {
    "duration": 12,
    "start_time": "2023-02-25T10:47:05.104Z"
   },
   {
    "duration": 23,
    "start_time": "2023-02-25T10:47:05.118Z"
   },
   {
    "duration": 14,
    "start_time": "2023-02-25T10:47:05.144Z"
   },
   {
    "duration": 23,
    "start_time": "2023-02-25T10:47:05.159Z"
   },
   {
    "duration": 34,
    "start_time": "2023-02-25T10:47:05.183Z"
   },
   {
    "duration": 15,
    "start_time": "2023-02-25T10:47:05.219Z"
   },
   {
    "duration": 45,
    "start_time": "2023-02-25T10:47:05.235Z"
   },
   {
    "duration": 9,
    "start_time": "2023-02-25T10:47:05.281Z"
   },
   {
    "duration": 21,
    "start_time": "2023-02-25T10:47:05.291Z"
   },
   {
    "duration": 28,
    "start_time": "2023-02-25T10:47:05.314Z"
   },
   {
    "duration": 6,
    "start_time": "2023-02-25T10:47:05.343Z"
   },
   {
    "duration": 106,
    "start_time": "2023-02-25T10:47:05.351Z"
   },
   {
    "duration": 17,
    "start_time": "2023-02-25T10:47:05.458Z"
   },
   {
    "duration": 11,
    "start_time": "2023-02-25T10:47:05.476Z"
   },
   {
    "duration": 23,
    "start_time": "2023-02-25T10:47:05.488Z"
   },
   {
    "duration": 405,
    "start_time": "2023-02-25T10:47:05.512Z"
   },
   {
    "duration": 68,
    "start_time": "2023-02-25T10:47:05.918Z"
   },
   {
    "duration": 206,
    "start_time": "2023-02-25T10:47:05.987Z"
   },
   {
    "duration": 208,
    "start_time": "2023-02-25T10:47:06.195Z"
   },
   {
    "duration": 118,
    "start_time": "2023-02-25T10:47:06.404Z"
   },
   {
    "duration": 32,
    "start_time": "2023-02-25T10:47:06.525Z"
   },
   {
    "duration": 219,
    "start_time": "2023-02-25T10:47:06.558Z"
   },
   {
    "duration": 48,
    "start_time": "2023-02-25T10:47:06.779Z"
   },
   {
    "duration": 31,
    "start_time": "2023-02-25T10:47:06.828Z"
   },
   {
    "duration": 37,
    "start_time": "2023-02-25T10:47:06.860Z"
   },
   {
    "duration": 13,
    "start_time": "2023-02-25T10:47:06.898Z"
   },
   {
    "duration": 577,
    "start_time": "2023-02-25T10:47:06.912Z"
   },
   {
    "duration": 42,
    "start_time": "2023-02-25T10:47:07.491Z"
   },
   {
    "duration": 10,
    "start_time": "2023-02-25T10:47:07.535Z"
   },
   {
    "duration": 146,
    "start_time": "2023-02-25T10:47:07.546Z"
   },
   {
    "duration": 8842,
    "start_time": "2023-02-25T10:47:07.693Z"
   },
   {
    "duration": 81,
    "start_time": "2023-02-25T10:47:16.536Z"
   },
   {
    "duration": 259,
    "start_time": "2023-02-25T10:47:16.618Z"
   },
   {
    "duration": 0,
    "start_time": "2023-02-25T10:47:16.886Z"
   },
   {
    "duration": 0,
    "start_time": "2023-02-25T10:47:16.887Z"
   },
   {
    "duration": 0,
    "start_time": "2023-02-25T10:47:16.888Z"
   },
   {
    "duration": 0,
    "start_time": "2023-02-25T10:47:16.889Z"
   },
   {
    "duration": 0,
    "start_time": "2023-02-25T10:47:16.890Z"
   },
   {
    "duration": 0,
    "start_time": "2023-02-25T10:47:16.891Z"
   },
   {
    "duration": 0,
    "start_time": "2023-02-25T10:47:16.893Z"
   },
   {
    "duration": 0,
    "start_time": "2023-02-25T10:47:16.894Z"
   },
   {
    "duration": 0,
    "start_time": "2023-02-25T10:47:16.895Z"
   },
   {
    "duration": 0,
    "start_time": "2023-02-25T10:47:16.896Z"
   },
   {
    "duration": 0,
    "start_time": "2023-02-25T10:47:16.897Z"
   },
   {
    "duration": 0,
    "start_time": "2023-02-25T10:47:16.898Z"
   },
   {
    "duration": 0,
    "start_time": "2023-02-25T10:47:16.899Z"
   },
   {
    "duration": 0,
    "start_time": "2023-02-25T10:47:16.900Z"
   },
   {
    "duration": 0,
    "start_time": "2023-02-25T10:47:16.901Z"
   },
   {
    "duration": 0,
    "start_time": "2023-02-25T10:47:16.902Z"
   },
   {
    "duration": 0,
    "start_time": "2023-02-25T10:47:16.903Z"
   },
   {
    "duration": 0,
    "start_time": "2023-02-25T10:47:16.904Z"
   },
   {
    "duration": 0,
    "start_time": "2023-02-25T10:47:16.905Z"
   },
   {
    "duration": 1335,
    "start_time": "2023-02-25T10:47:42.004Z"
   },
   {
    "duration": 54,
    "start_time": "2023-02-25T10:47:43.341Z"
   },
   {
    "duration": 18,
    "start_time": "2023-02-25T10:47:43.396Z"
   },
   {
    "duration": 12,
    "start_time": "2023-02-25T10:47:43.415Z"
   },
   {
    "duration": 4,
    "start_time": "2023-02-25T10:47:43.428Z"
   },
   {
    "duration": 179,
    "start_time": "2023-02-25T10:47:43.433Z"
   },
   {
    "duration": 14,
    "start_time": "2023-02-25T10:47:43.614Z"
   },
   {
    "duration": 6,
    "start_time": "2023-02-25T10:47:43.630Z"
   },
   {
    "duration": 10,
    "start_time": "2023-02-25T10:47:43.637Z"
   },
   {
    "duration": 9,
    "start_time": "2023-02-25T10:47:43.649Z"
   },
   {
    "duration": 26,
    "start_time": "2023-02-25T10:47:43.659Z"
   },
   {
    "duration": 11,
    "start_time": "2023-02-25T10:47:43.686Z"
   },
   {
    "duration": 6,
    "start_time": "2023-02-25T10:47:43.699Z"
   },
   {
    "duration": 28,
    "start_time": "2023-02-25T10:47:43.706Z"
   },
   {
    "duration": 6,
    "start_time": "2023-02-25T10:47:43.735Z"
   },
   {
    "duration": 21,
    "start_time": "2023-02-25T10:47:43.743Z"
   },
   {
    "duration": 32,
    "start_time": "2023-02-25T10:47:43.766Z"
   },
   {
    "duration": 6,
    "start_time": "2023-02-25T10:47:43.800Z"
   },
   {
    "duration": 113,
    "start_time": "2023-02-25T10:47:43.807Z"
   },
   {
    "duration": 16,
    "start_time": "2023-02-25T10:47:43.922Z"
   },
   {
    "duration": 4,
    "start_time": "2023-02-25T10:47:43.939Z"
   },
   {
    "duration": 5,
    "start_time": "2023-02-25T10:47:43.945Z"
   },
   {
    "duration": 421,
    "start_time": "2023-02-25T10:47:43.952Z"
   },
   {
    "duration": 39,
    "start_time": "2023-02-25T10:47:44.375Z"
   },
   {
    "duration": 217,
    "start_time": "2023-02-25T10:47:44.416Z"
   },
   {
    "duration": 212,
    "start_time": "2023-02-25T10:47:44.635Z"
   },
   {
    "duration": 118,
    "start_time": "2023-02-25T10:47:44.849Z"
   },
   {
    "duration": 34,
    "start_time": "2023-02-25T10:47:44.970Z"
   },
   {
    "duration": 228,
    "start_time": "2023-02-25T10:47:45.005Z"
   },
   {
    "duration": 53,
    "start_time": "2023-02-25T10:47:45.235Z"
   },
   {
    "duration": 33,
    "start_time": "2023-02-25T10:47:45.289Z"
   },
   {
    "duration": 5,
    "start_time": "2023-02-25T10:47:45.323Z"
   },
   {
    "duration": 5,
    "start_time": "2023-02-25T10:47:45.330Z"
   },
   {
    "duration": 616,
    "start_time": "2023-02-25T10:47:45.336Z"
   },
   {
    "duration": 51,
    "start_time": "2023-02-25T10:47:45.954Z"
   },
   {
    "duration": 10,
    "start_time": "2023-02-25T10:47:46.006Z"
   },
   {
    "duration": 136,
    "start_time": "2023-02-25T10:47:46.018Z"
   },
   {
    "duration": 8910,
    "start_time": "2023-02-25T10:47:46.156Z"
   },
   {
    "duration": 132,
    "start_time": "2023-02-25T10:47:55.069Z"
   },
   {
    "duration": 129,
    "start_time": "2023-02-25T10:47:55.203Z"
   },
   {
    "duration": 11,
    "start_time": "2023-02-25T10:47:55.333Z"
   },
   {
    "duration": 20,
    "start_time": "2023-02-25T10:47:55.386Z"
   },
   {
    "duration": 37,
    "start_time": "2023-02-25T10:47:55.408Z"
   },
   {
    "duration": 44,
    "start_time": "2023-02-25T10:47:55.446Z"
   },
   {
    "duration": 46,
    "start_time": "2023-02-25T10:47:55.491Z"
   },
   {
    "duration": 72,
    "start_time": "2023-02-25T10:47:55.538Z"
   },
   {
    "duration": 128,
    "start_time": "2023-02-25T10:47:55.612Z"
   },
   {
    "duration": 7,
    "start_time": "2023-02-25T10:47:55.741Z"
   },
   {
    "duration": 13,
    "start_time": "2023-02-25T10:47:55.749Z"
   },
   {
    "duration": 59,
    "start_time": "2023-02-25T10:47:55.764Z"
   },
   {
    "duration": 33,
    "start_time": "2023-02-25T10:47:55.825Z"
   },
   {
    "duration": 8,
    "start_time": "2023-02-25T10:47:55.860Z"
   },
   {
    "duration": 169,
    "start_time": "2023-02-25T10:47:55.869Z"
   },
   {
    "duration": 64,
    "start_time": "2023-02-25T10:47:56.040Z"
   },
   {
    "duration": 12,
    "start_time": "2023-02-25T10:47:56.106Z"
   },
   {
    "duration": 125,
    "start_time": "2023-02-25T10:47:56.120Z"
   },
   {
    "duration": 13,
    "start_time": "2023-02-25T10:47:56.246Z"
   },
   {
    "duration": 166,
    "start_time": "2023-02-25T10:47:56.260Z"
   },
   {
    "duration": 171,
    "start_time": "2023-02-25T10:47:56.428Z"
   },
   {
    "duration": 66,
    "start_time": "2023-02-25T10:48:46.447Z"
   },
   {
    "duration": 19,
    "start_time": "2023-02-25T10:55:50.671Z"
   }
  ],
  "kernelspec": {
   "display_name": "Python 3 (ipykernel)",
   "language": "python",
   "name": "python3"
  },
  "language_info": {
   "codemirror_mode": {
    "name": "ipython",
    "version": 3
   },
   "file_extension": ".py",
   "mimetype": "text/x-python",
   "name": "python",
   "nbconvert_exporter": "python",
   "pygments_lexer": "ipython3",
   "version": "3.9.13"
  },
  "toc": {
   "base_numbering": 1,
   "nav_menu": {},
   "number_sections": true,
   "sideBar": true,
   "skip_h1_title": false,
   "title_cell": "Table of Contents",
   "title_sidebar": "Contents",
   "toc_cell": false,
   "toc_position": {
    "height": "105.6px",
    "left": "110px",
    "top": "110.325px",
    "width": "300px"
   },
   "toc_section_display": true,
   "toc_window_display": true
  }
 },
 "nbformat": 4,
 "nbformat_minor": 5
}
