{
 "cells": [
  {
   "cell_type": "markdown",
   "id": "0f1e96f2",
   "metadata": {},
   "source": [
    "## Изучение воронки продаж продуктового стартапа\n",
    "\n",
    "В распоряжении экспериментальные данные пользователей приложения продуктового стартапа, которые были накоплены в ходе A/A/B-теста, направленного на выявление положительного/негативного влияния измененного шрифта на пользовательское поведение. \n",
    "\n",
    "Пользователей разбили на 3 группы: 2 контрольные со старыми шрифтами и одну экспериментальную — с новыми. "
   ]
  },
  {
   "cell_type": "markdown",
   "id": "5f1c0ee8",
   "metadata": {},
   "source": [
    "## Цель, задачи и алгоритм действий\n",
    "\n",
    "Данное исследование направлено на выявление закономерностей пользовательского поведения при использовании мобильньного приложения магазина с разными шрифатми. В частности, планируется выявить, сколько пользователей доходит до покупки в зависимости от того, какой шрифт они видят, и какие действия они совершают в приложении прежде чем оплатить заказ. \n",
    "\n",
    "Посредством решения данных задач ставится цель определить, какой шрифт воспринимается пользователями лучше: старый или новый. \n",
    "\n",
    "Для достижения поставленной цели будут предприняты следующие шаги: \n",
    "\n",
    "      -открытие и изучение файла;\n",
    "      -предобработка данных, включающая в себя изучение типов данных в датафрейме, его изменение в случае необходимости, \n",
    "      проверка датафрейма на наличие пропусков, дубликатов и пересечения (т.е. присутствия пользователей в нескольких \n",
    "      группах);\n",
    "      -выявление количества логов, а также уникальных пользователей в датафрейме и в каждой отдельной группе; \n",
    "      -изучение периода проведения эксперимента, в частности выявление даты его начала и завершения; \n",
    "      - проверка присутствия пользователей во всех группах после корректирования исследуемого периода, а также\n",
    "      выявление числа удаленных уникальных пользователей;\n",
    "      -изучение воронки событий, что включает в себя выявление наиболее распространенных событий во время эксперимента,\n",
    "      расчет количества уникальных пользователей, совершивших каждое событие, а также исследование последовательности\n",
    "      событий и расчет доли пользователей, которая переходит на следующий шаг и доходит от первого события до оплаты заказа;\n",
    "      - статистический анализ эксперимента в несколько этапов: \n",
    "          1)проверка отсутствия статистически значимых различий между контрольными группами в доле пользователей,\n",
    "          ставших покупателями (A/A-эксперимент);\n",
    "          2)проверка отсутствия статистически значимых различий между контрольными группами в доле пользователей,\n",
    "          совершивших различные события (A/A-эксперимент);\n",
    "          3)проверка отсутствия статистически значимых различий между контрольной группой №1 и экспериментальной \n",
    "          в доле пользователей, совершивших различные события (A/B-эксперимент);\n",
    "          4)проверка отсутствия статистически значимых различий между контрольной группой №2 и экспериментальной\n",
    "          в доле пользователей, совершивших различные события (A/B-эксперимент);\n",
    "          5)проверка отсутствия статистически значимых различий суммарными показателями контрольных групп и \n",
    "          экспериментальной в доле пользователей, совершивших различные события."
   ]
  },
  {
   "cell_type": "code",
   "execution_count": 1,
   "id": "b261c319",
   "metadata": {},
   "outputs": [],
   "source": [
    "import pandas as pd #импортируем бибилиотеку pandas для работы с датафреймом\n",
    "pd.set_option('display.max_colwidth', 0)\n",
    "import seaborn as sns\n",
    "sns.set(rc={'figure.figsize':(10,6)})\n",
    "import warnings\n",
    "warnings.filterwarnings(\"ignore\")\n",
    "from datetime import datetime\n",
    "import matplotlib.pyplot as plt #импортируем библиотеку matpolib.byplot для того, чтобы в дальейшем присваивать осям и самим графикам названиям\n",
    "import plotly.express as px\n",
    "import plotly.graph_objects as go\n",
    "import plotly.io as pio\n",
    "from scipy import stats as st #импортируем библиотеку scipy для статистического анализа\n",
    "import numpy as np\n",
    "import math as mth"
   ]
  },
  {
   "cell_type": "markdown",
   "id": "1516b0a7",
   "metadata": {},
   "source": [
    "## Изучение файла и предобработка данных"
   ]
  },
  {
   "cell_type": "code",
   "execution_count": 2,
   "id": "f84368cc",
   "metadata": {},
   "outputs": [],
   "source": [
    "try:\n",
    "    data = pd.read_csv('/datasets/logs_exp.csv', sep='\\t')\n",
    "except:\n",
    "    data = pd.read_csv('logs_exp.csv', sep='\\t')"
   ]
  },
  {
   "cell_type": "markdown",
   "id": "6aae39c4",
   "metadata": {},
   "source": [
    "**Выведем на экран первые 5 строк датафрейма для ознакомления.**"
   ]
  },
  {
   "cell_type": "code",
   "execution_count": 3,
   "id": "36e62023",
   "metadata": {},
   "outputs": [
    {
     "data": {
      "text/html": [
       "<div>\n",
       "<style scoped>\n",
       "    .dataframe tbody tr th:only-of-type {\n",
       "        vertical-align: middle;\n",
       "    }\n",
       "\n",
       "    .dataframe tbody tr th {\n",
       "        vertical-align: top;\n",
       "    }\n",
       "\n",
       "    .dataframe thead th {\n",
       "        text-align: right;\n",
       "    }\n",
       "</style>\n",
       "<table border=\"1\" class=\"dataframe\">\n",
       "  <thead>\n",
       "    <tr style=\"text-align: right;\">\n",
       "      <th></th>\n",
       "      <th>EventName</th>\n",
       "      <th>DeviceIDHash</th>\n",
       "      <th>EventTimestamp</th>\n",
       "      <th>ExpId</th>\n",
       "    </tr>\n",
       "  </thead>\n",
       "  <tbody>\n",
       "    <tr>\n",
       "      <th>0</th>\n",
       "      <td>MainScreenAppear</td>\n",
       "      <td>4575588528974610257</td>\n",
       "      <td>1564029816</td>\n",
       "      <td>246</td>\n",
       "    </tr>\n",
       "    <tr>\n",
       "      <th>1</th>\n",
       "      <td>MainScreenAppear</td>\n",
       "      <td>7416695313311560658</td>\n",
       "      <td>1564053102</td>\n",
       "      <td>246</td>\n",
       "    </tr>\n",
       "    <tr>\n",
       "      <th>2</th>\n",
       "      <td>PaymentScreenSuccessful</td>\n",
       "      <td>3518123091307005509</td>\n",
       "      <td>1564054127</td>\n",
       "      <td>248</td>\n",
       "    </tr>\n",
       "    <tr>\n",
       "      <th>3</th>\n",
       "      <td>CartScreenAppear</td>\n",
       "      <td>3518123091307005509</td>\n",
       "      <td>1564054127</td>\n",
       "      <td>248</td>\n",
       "    </tr>\n",
       "    <tr>\n",
       "      <th>4</th>\n",
       "      <td>PaymentScreenSuccessful</td>\n",
       "      <td>6217807653094995999</td>\n",
       "      <td>1564055322</td>\n",
       "      <td>248</td>\n",
       "    </tr>\n",
       "  </tbody>\n",
       "</table>\n",
       "</div>"
      ],
      "text/plain": [
       "                 EventName         DeviceIDHash  EventTimestamp  ExpId\n",
       "0  MainScreenAppear         4575588528974610257  1564029816      246  \n",
       "1  MainScreenAppear         7416695313311560658  1564053102      246  \n",
       "2  PaymentScreenSuccessful  3518123091307005509  1564054127      248  \n",
       "3  CartScreenAppear         3518123091307005509  1564054127      248  \n",
       "4  PaymentScreenSuccessful  6217807653094995999  1564055322      248  "
      ]
     },
     "execution_count": 3,
     "metadata": {},
     "output_type": "execute_result"
    }
   ],
   "source": [
    "data.head()"
   ]
  },
  {
   "cell_type": "markdown",
   "id": "52e057aa",
   "metadata": {},
   "source": [
    "**Теперь выведем общую информацию о датафрейме, чтобы ознакомиться с типами данных и количеством пропуском в каждом столбце.**"
   ]
  },
  {
   "cell_type": "code",
   "execution_count": 4,
   "id": "69c92fca",
   "metadata": {},
   "outputs": [
    {
     "name": "stdout",
     "output_type": "stream",
     "text": [
      "<class 'pandas.core.frame.DataFrame'>\n",
      "RangeIndex: 244126 entries, 0 to 244125\n",
      "Data columns (total 4 columns):\n",
      " #   Column          Non-Null Count   Dtype \n",
      "---  ------          --------------   ----- \n",
      " 0   EventName       244126 non-null  object\n",
      " 1   DeviceIDHash    244126 non-null  int64 \n",
      " 2   EventTimestamp  244126 non-null  int64 \n",
      " 3   ExpId           244126 non-null  int64 \n",
      "dtypes: int64(3), object(1)\n",
      "memory usage: 7.5+ MB\n"
     ]
    }
   ],
   "source": [
    "data.info()"
   ]
  },
  {
   "cell_type": "markdown",
   "id": "223b6020",
   "metadata": {},
   "source": [
    "**Для удобства добавим нижние подчеркивания в названия столбцов.**"
   ]
  },
  {
   "cell_type": "code",
   "execution_count": 5,
   "id": "e63ba32c",
   "metadata": {},
   "outputs": [],
   "source": [
    "data = data.rename(columns = {\n",
    "    'EventName':'event_name',\n",
    "    'DeviceIDHash':'device_id',\n",
    "    'EventTimestamp':'event_timestamp',\n",
    "    'ExpId':'exp_id'})"
   ]
  },
  {
   "cell_type": "markdown",
   "id": "d55a9b40",
   "metadata": {},
   "source": [
    "**Пропусков в датафрейме нет. Добавим столбец даты и времени.**"
   ]
  },
  {
   "cell_type": "code",
   "execution_count": 6,
   "id": "1a67be93",
   "metadata": {},
   "outputs": [],
   "source": [
    "data['event_time'] = pd.to_datetime(data['event_timestamp'],unit='s')"
   ]
  },
  {
   "cell_type": "markdown",
   "id": "397d6e62",
   "metadata": {},
   "source": [
    "**Добавим столбец, в котором будет отображаться дата события.**"
   ]
  },
  {
   "cell_type": "code",
   "execution_count": 7,
   "id": "9d4c66d8",
   "metadata": {},
   "outputs": [],
   "source": [
    "data['dt'] = data['event_time'].dt.date"
   ]
  },
  {
   "cell_type": "markdown",
   "id": "b0f328e7",
   "metadata": {},
   "source": [
    "**Теперь проверим, как выглядит датафрейм после изменения типа данных в столбце event_time и добавления dt.**"
   ]
  },
  {
   "cell_type": "code",
   "execution_count": 8,
   "id": "252fed4c",
   "metadata": {},
   "outputs": [
    {
     "data": {
      "text/html": [
       "<div>\n",
       "<style scoped>\n",
       "    .dataframe tbody tr th:only-of-type {\n",
       "        vertical-align: middle;\n",
       "    }\n",
       "\n",
       "    .dataframe tbody tr th {\n",
       "        vertical-align: top;\n",
       "    }\n",
       "\n",
       "    .dataframe thead th {\n",
       "        text-align: right;\n",
       "    }\n",
       "</style>\n",
       "<table border=\"1\" class=\"dataframe\">\n",
       "  <thead>\n",
       "    <tr style=\"text-align: right;\">\n",
       "      <th></th>\n",
       "      <th>event_name</th>\n",
       "      <th>device_id</th>\n",
       "      <th>event_timestamp</th>\n",
       "      <th>exp_id</th>\n",
       "      <th>event_time</th>\n",
       "      <th>dt</th>\n",
       "    </tr>\n",
       "  </thead>\n",
       "  <tbody>\n",
       "    <tr>\n",
       "      <th>0</th>\n",
       "      <td>MainScreenAppear</td>\n",
       "      <td>4575588528974610257</td>\n",
       "      <td>1564029816</td>\n",
       "      <td>246</td>\n",
       "      <td>2019-07-25 04:43:36</td>\n",
       "      <td>2019-07-25</td>\n",
       "    </tr>\n",
       "    <tr>\n",
       "      <th>1</th>\n",
       "      <td>MainScreenAppear</td>\n",
       "      <td>7416695313311560658</td>\n",
       "      <td>1564053102</td>\n",
       "      <td>246</td>\n",
       "      <td>2019-07-25 11:11:42</td>\n",
       "      <td>2019-07-25</td>\n",
       "    </tr>\n",
       "    <tr>\n",
       "      <th>2</th>\n",
       "      <td>PaymentScreenSuccessful</td>\n",
       "      <td>3518123091307005509</td>\n",
       "      <td>1564054127</td>\n",
       "      <td>248</td>\n",
       "      <td>2019-07-25 11:28:47</td>\n",
       "      <td>2019-07-25</td>\n",
       "    </tr>\n",
       "    <tr>\n",
       "      <th>3</th>\n",
       "      <td>CartScreenAppear</td>\n",
       "      <td>3518123091307005509</td>\n",
       "      <td>1564054127</td>\n",
       "      <td>248</td>\n",
       "      <td>2019-07-25 11:28:47</td>\n",
       "      <td>2019-07-25</td>\n",
       "    </tr>\n",
       "    <tr>\n",
       "      <th>4</th>\n",
       "      <td>PaymentScreenSuccessful</td>\n",
       "      <td>6217807653094995999</td>\n",
       "      <td>1564055322</td>\n",
       "      <td>248</td>\n",
       "      <td>2019-07-25 11:48:42</td>\n",
       "      <td>2019-07-25</td>\n",
       "    </tr>\n",
       "  </tbody>\n",
       "</table>\n",
       "</div>"
      ],
      "text/plain": [
       "                event_name            device_id  event_timestamp  exp_id  \\\n",
       "0  MainScreenAppear         4575588528974610257  1564029816       246      \n",
       "1  MainScreenAppear         7416695313311560658  1564053102       246      \n",
       "2  PaymentScreenSuccessful  3518123091307005509  1564054127       248      \n",
       "3  CartScreenAppear         3518123091307005509  1564054127       248      \n",
       "4  PaymentScreenSuccessful  6217807653094995999  1564055322       248      \n",
       "\n",
       "           event_time          dt  \n",
       "0 2019-07-25 04:43:36  2019-07-25  \n",
       "1 2019-07-25 11:11:42  2019-07-25  \n",
       "2 2019-07-25 11:28:47  2019-07-25  \n",
       "3 2019-07-25 11:28:47  2019-07-25  \n",
       "4 2019-07-25 11:48:42  2019-07-25  "
      ]
     },
     "execution_count": 8,
     "metadata": {},
     "output_type": "execute_result"
    }
   ],
   "source": [
    "data.head()"
   ]
  },
  {
   "cell_type": "code",
   "execution_count": 9,
   "id": "9d4a9145",
   "metadata": {},
   "outputs": [
    {
     "name": "stdout",
     "output_type": "stream",
     "text": [
      "Количество дубликатов в датафрейме: 413\n"
     ]
    }
   ],
   "source": [
    "print('Количество дубликатов в датафрейме:', data.duplicated().sum())"
   ]
  },
  {
   "cell_type": "markdown",
   "id": "771b0413",
   "metadata": {},
   "source": [
    "**Удалим дубликаты из датафрейма.**"
   ]
  },
  {
   "cell_type": "code",
   "execution_count": 10,
   "id": "73bfd8b3",
   "metadata": {},
   "outputs": [],
   "source": [
    "data = data.drop_duplicates().reset_index()"
   ]
  },
  {
   "cell_type": "markdown",
   "id": "b37443df",
   "metadata": {},
   "source": [
    "**Изучим уникальные названия событий с целью проверки наличия среди них неявных дубликатов.**"
   ]
  },
  {
   "cell_type": "code",
   "execution_count": 11,
   "id": "f80f06e4",
   "metadata": {},
   "outputs": [
    {
     "data": {
      "text/plain": [
       "array(['MainScreenAppear', 'PaymentScreenSuccessful', 'CartScreenAppear',\n",
       "       'OffersScreenAppear', 'Tutorial'], dtype=object)"
      ]
     },
     "execution_count": 11,
     "metadata": {},
     "output_type": "execute_result"
    }
   ],
   "source": [
    "data.event_name.unique()"
   ]
  },
  {
   "cell_type": "markdown",
   "id": "13b391a6",
   "metadata": {},
   "source": [
    "**Дубликатов нет.**"
   ]
  },
  {
   "cell_type": "markdown",
   "id": "006be462",
   "metadata": {},
   "source": [
    "**Теперь посмотрим, есть ли в датафрейме пользователи, которые записаны сразу в несколько групп.**"
   ]
  },
  {
   "cell_type": "code",
   "execution_count": 12,
   "id": "87c01c51",
   "metadata": {},
   "outputs": [
    {
     "name": "stdout",
     "output_type": "stream",
     "text": [
      "Количество пользователей, присутствующих одновременно в нескольких группах: 0\n"
     ]
    }
   ],
   "source": [
    "duplicates = data.groupby('device_id').agg({'exp_id':'nunique'}).query('exp_id > 1')\n",
    "print('Количество пользователей, присутствующих одновременно в нескольких группах:', len(duplicates))"
   ]
  },
  {
   "cell_type": "markdown",
   "id": "10d01bad",
   "metadata": {},
   "source": [
    "## Изучение и проверка данных"
   ]
  },
  {
   "cell_type": "markdown",
   "id": "8ffc329f",
   "metadata": {},
   "source": [
    "### Проверка количество событий в логе"
   ]
  },
  {
   "cell_type": "code",
   "execution_count": 13,
   "id": "2c20da4a",
   "metadata": {},
   "outputs": [
    {
     "name": "stdout",
     "output_type": "stream",
     "text": [
      "Количество событий в логе: 5\n"
     ]
    }
   ],
   "source": [
    "print('Количество событий в логе:', data.event_name.nunique())"
   ]
  },
  {
   "cell_type": "markdown",
   "id": "c71a929f",
   "metadata": {},
   "source": [
    "### Проверка количества пользователей в логе"
   ]
  },
  {
   "cell_type": "code",
   "execution_count": 14,
   "id": "86767780",
   "metadata": {},
   "outputs": [
    {
     "name": "stdout",
     "output_type": "stream",
     "text": [
      "Количество пользователей в логе: 7551\n"
     ]
    }
   ],
   "source": [
    "print('Количество пользователей в логе:', data.device_id.nunique())"
   ]
  },
  {
   "cell_type": "markdown",
   "id": "62655835",
   "metadata": {},
   "source": [
    "### Расчет среднего количества событий на пользователя"
   ]
  },
  {
   "cell_type": "code",
   "execution_count": 15,
   "id": "e078d630",
   "metadata": {},
   "outputs": [
    {
     "data": {
      "text/plain": [
       "event_name    32.275593\n",
       "dtype: float64"
      ]
     },
     "execution_count": 15,
     "metadata": {},
     "output_type": "execute_result"
    }
   ],
   "source": [
    "avg_event_count =  data.groupby('device_id').agg({'event_name':'count'}).mean()\n",
    "avg_event_count"
   ]
  },
  {
   "cell_type": "markdown",
   "id": "423aa25f",
   "metadata": {},
   "source": [
    "**В среднем пользователи совершили 32 события.**"
   ]
  },
  {
   "cell_type": "markdown",
   "id": "24613824",
   "metadata": {},
   "source": [
    "**Теперь проведем подсчет медианного значения количества событий на пользователя. Этот показатель может быть более наглядным при изучении пользовательского поведения.**"
   ]
  },
  {
   "cell_type": "code",
   "execution_count": 16,
   "id": "cbb8f09e",
   "metadata": {},
   "outputs": [
    {
     "data": {
      "text/plain": [
       "event_name    20.0\n",
       "dtype: float64"
      ]
     },
     "execution_count": 16,
     "metadata": {},
     "output_type": "execute_result"
    }
   ],
   "source": [
    "median_event_count =  data.groupby('device_id').agg({'event_name':'count'}).median()\n",
    "median_event_count"
   ]
  },
  {
   "cell_type": "markdown",
   "id": "9827cb64",
   "metadata": {},
   "source": [
    "**Медианное значение - 20 событий.**"
   ]
  },
  {
   "cell_type": "markdown",
   "id": "e3927588",
   "metadata": {},
   "source": [
    "### Изучение периода проведения эксперимента"
   ]
  },
  {
   "cell_type": "markdown",
   "id": "14925e01",
   "metadata": {},
   "source": [
    "**Сначала узнаем минимальную дату.**"
   ]
  },
  {
   "cell_type": "code",
   "execution_count": 17,
   "id": "d5eb01b6",
   "metadata": {},
   "outputs": [
    {
     "data": {
      "text/plain": [
       "datetime.date(2019, 7, 25)"
      ]
     },
     "execution_count": 17,
     "metadata": {},
     "output_type": "execute_result"
    }
   ],
   "source": [
    "data.dt.min()"
   ]
  },
  {
   "cell_type": "markdown",
   "id": "1c2574f0",
   "metadata": {},
   "source": [
    "**Это 25 июля 2019 г. Посмотрим на максимальную дату.**"
   ]
  },
  {
   "cell_type": "code",
   "execution_count": 18,
   "id": "95fab12c",
   "metadata": {},
   "outputs": [
    {
     "data": {
      "text/plain": [
       "datetime.date(2019, 8, 7)"
      ]
     },
     "execution_count": 18,
     "metadata": {},
     "output_type": "execute_result"
    }
   ],
   "source": [
    "data.dt.max()"
   ]
  },
  {
   "cell_type": "markdown",
   "id": "21e3ff07",
   "metadata": {},
   "source": [
    "**Это 7 августа 2019 г. Таким образом,  эксперимент длился 13 дней.**"
   ]
  },
  {
   "cell_type": "markdown",
   "id": "1da7a813",
   "metadata": {},
   "source": [
    "**Визуалилизруем динамику эксперимента.**"
   ]
  },
  {
   "cell_type": "code",
   "execution_count": 19,
   "id": "daf8b3b0",
   "metadata": {},
   "outputs": [
    {
     "data": {
      "image/png": "[encoded data removed]",
      "text/plain": [
       "<Figure size 1600x800 with 1 Axes>"
      ]
     },
     "metadata": {},
     "output_type": "display_data"
    }
   ],
   "source": [
    "plt.figure(figsize=(16,8))\n",
    "sns.lineplot(data=data, x='dt', y='device_id',\\\n",
    "             estimator='nunique', \\\n",
    "             ci=None, markers=True,dashes=False)\n",
    "plt.title('Динамика эксперимента'),\n",
    "plt.xlabel('дата'),\n",
    "plt.ylabel('количество пользователей,совершивших шаг в приложении');"
   ]
  },
  {
   "cell_type": "markdown",
   "id": "8d97e721",
   "metadata": {},
   "source": [
    "**На графике представлено подтвержедние того, что 25-29 июля фактически пользователи не совершали шаги в приложении, либо их количество минимально. По большому счету пользователи начали предпринимать действия в приложени лишь начиная с 31 июля.**"
   ]
  },
  {
   "cell_type": "markdown",
   "id": "c33924a9",
   "metadata": {},
   "source": [
    "**Уберем 25-30 июля из анализа.Также удалим события, случившиеся до 22.00 31 июля.**"
   ]
  },
  {
   "cell_type": "code",
   "execution_count": 21,
   "id": "2ea8ba31",
   "metadata": {},
   "outputs": [
    {
     "data": {
      "text/plain": [
       "241300"
      ]
     },
     "execution_count": 21,
     "metadata": {},
     "output_type": "execute_result"
    }
   ],
   "source": [
    "data_new = data.query('event_time > \"2019-07-31 22:00:00\"')\n",
    "len(data_new)"
   ]
  },
  {
   "cell_type": "markdown",
   "id": "f2e670bf",
   "metadata": {},
   "source": [
    "### Подсчет количества удаленных событий"
   ]
  },
  {
   "cell_type": "code",
   "execution_count": 22,
   "id": "95d70d86",
   "metadata": {},
   "outputs": [
    {
     "name": "stdout",
     "output_type": "stream",
     "text": [
      "Количество удаленных событий: 2413\n"
     ]
    }
   ],
   "source": [
    "print('Количество удаленных событий:',len(data) - len(data_new))"
   ]
  },
  {
   "cell_type": "code",
   "execution_count": 23,
   "id": "896cf431",
   "metadata": {},
   "outputs": [
    {
     "name": "stdout",
     "output_type": "stream",
     "text": [
      "Процент удалений: 0.99\n"
     ]
    }
   ],
   "source": [
    "print('Процент удалений:', round((len(data) - len(data_new)) * 100 / len(data),2))"
   ]
  },
  {
   "cell_type": "markdown",
   "id": "773fe5a2",
   "metadata": {},
   "source": [
    "### Проверка присутствия пользователей в группах"
   ]
  },
  {
   "cell_type": "code",
   "execution_count": 24,
   "id": "d6b0c1b2",
   "metadata": {},
   "outputs": [
    {
     "data": {
      "text/html": [
       "<div>\n",
       "<style scoped>\n",
       "    .dataframe tbody tr th:only-of-type {\n",
       "        vertical-align: middle;\n",
       "    }\n",
       "\n",
       "    .dataframe tbody tr th {\n",
       "        vertical-align: top;\n",
       "    }\n",
       "\n",
       "    .dataframe thead th {\n",
       "        text-align: right;\n",
       "    }\n",
       "</style>\n",
       "<table border=\"1\" class=\"dataframe\">\n",
       "  <thead>\n",
       "    <tr style=\"text-align: right;\">\n",
       "      <th></th>\n",
       "      <th>device_id</th>\n",
       "    </tr>\n",
       "    <tr>\n",
       "      <th>exp_id</th>\n",
       "      <th></th>\n",
       "    </tr>\n",
       "  </thead>\n",
       "  <tbody>\n",
       "    <tr>\n",
       "      <th>246</th>\n",
       "      <td>2489</td>\n",
       "    </tr>\n",
       "    <tr>\n",
       "      <th>247</th>\n",
       "      <td>2520</td>\n",
       "    </tr>\n",
       "    <tr>\n",
       "      <th>248</th>\n",
       "      <td>2542</td>\n",
       "    </tr>\n",
       "  </tbody>\n",
       "</table>\n",
       "</div>"
      ],
      "text/plain": [
       "        device_id\n",
       "exp_id           \n",
       "246     2489     \n",
       "247     2520     \n",
       "248     2542     "
      ]
     },
     "execution_count": 24,
     "metadata": {},
     "output_type": "execute_result"
    }
   ],
   "source": [
    "grouped = data.groupby('exp_id').agg({'device_id':'nunique'})\n",
    "grouped['device_id'] = grouped['device_id'].astype('int64')\n",
    "grouped"
   ]
  },
  {
   "cell_type": "markdown",
   "id": "5c199719",
   "metadata": {},
   "source": [
    "**Отсутствуют значимые различия в количесте пользователей до удаления событий.**"
   ]
  },
  {
   "cell_type": "code",
   "execution_count": 25,
   "id": "14831372",
   "metadata": {},
   "outputs": [
    {
     "data": {
      "text/html": [
       "<div>\n",
       "<style scoped>\n",
       "    .dataframe tbody tr th:only-of-type {\n",
       "        vertical-align: middle;\n",
       "    }\n",
       "\n",
       "    .dataframe tbody tr th {\n",
       "        vertical-align: top;\n",
       "    }\n",
       "\n",
       "    .dataframe thead th {\n",
       "        text-align: right;\n",
       "    }\n",
       "</style>\n",
       "<table border=\"1\" class=\"dataframe\">\n",
       "  <thead>\n",
       "    <tr style=\"text-align: right;\">\n",
       "      <th></th>\n",
       "      <th>device_id</th>\n",
       "    </tr>\n",
       "    <tr>\n",
       "      <th>exp_id</th>\n",
       "      <th></th>\n",
       "    </tr>\n",
       "  </thead>\n",
       "  <tbody>\n",
       "    <tr>\n",
       "      <th>246</th>\n",
       "      <td>2484</td>\n",
       "    </tr>\n",
       "    <tr>\n",
       "      <th>247</th>\n",
       "      <td>2517</td>\n",
       "    </tr>\n",
       "    <tr>\n",
       "      <th>248</th>\n",
       "      <td>2537</td>\n",
       "    </tr>\n",
       "  </tbody>\n",
       "</table>\n",
       "</div>"
      ],
      "text/plain": [
       "        device_id\n",
       "exp_id           \n",
       "246     2484     \n",
       "247     2517     \n",
       "248     2537     "
      ]
     },
     "execution_count": 25,
     "metadata": {},
     "output_type": "execute_result"
    }
   ],
   "source": [
    "grouped_new = data_new.groupby('exp_id').agg({'device_id':'nunique'})\n",
    "grouped_new['device_id'] = grouped_new['device_id'].astype('int64')\n",
    "grouped_new"
   ]
  },
  {
   "cell_type": "markdown",
   "id": "6c368f7f",
   "metadata": {},
   "source": [
    "**После удаления событий во всех группах есть пользователи.  Не случился перекос в количестве пользователей в пользу какой-либо группы. Это важно, поскольку в дальнейшем будет проверятся наличие стастистически значимых различий в долях пользователей.**"
   ]
  },
  {
   "cell_type": "code",
   "execution_count": 26,
   "id": "e6f9644d",
   "metadata": {},
   "outputs": [
    {
     "name": "stdout",
     "output_type": "stream",
     "text": [
      "Количество утерянных уникальных пользователей после фильтрации данных составляет: 13\n"
     ]
    }
   ],
   "source": [
    "print('Количество утерянных уникальных пользователей после фильтрации данных составляет:',data.device_id.nunique() - data_new.device_id.nunique())"
   ]
  },
  {
   "cell_type": "code",
   "execution_count": 27,
   "id": "1adbb640",
   "metadata": {},
   "outputs": [
    {
     "name": "stdout",
     "output_type": "stream",
     "text": [
      "Доля утерянных уникальных пользователей составляет: 0.17216262746656072\n"
     ]
    }
   ],
   "source": [
    "print('Доля утерянных уникальных пользователей составляет:',(data.device_id.nunique() - data_new.device_id.nunique()) * 100 / data.device_id.nunique())\n"
   ]
  },
  {
   "cell_type": "markdown",
   "id": "f05376b0",
   "metadata": {},
   "source": [
    "## Изучение воронки событий"
   ]
  },
  {
   "cell_type": "markdown",
   "id": "443fc36b",
   "metadata": {},
   "source": [
    "### Изучение событий "
   ]
  },
  {
   "cell_type": "markdown",
   "id": "bf2a694e",
   "metadata": {},
   "source": [
    "**Повторим код из шага 1 и выведем на экран все названия событий.**"
   ]
  },
  {
   "cell_type": "code",
   "execution_count": 28,
   "id": "5cff0705",
   "metadata": {},
   "outputs": [
    {
     "data": {
      "text/plain": [
       "array(['MainScreenAppear', 'OffersScreenAppear',\n",
       "       'PaymentScreenSuccessful', 'CartScreenAppear', 'Tutorial'],\n",
       "      dtype=object)"
      ]
     },
     "execution_count": 28,
     "metadata": {},
     "output_type": "execute_result"
    }
   ],
   "source": [
    "data_new.event_name.unique()"
   ]
  },
  {
   "cell_type": "markdown",
   "id": "ff75b8b1",
   "metadata": {},
   "source": [
    "**Представлены следующие события:**\n",
    "\n",
    "    -переход на основную страницу;\n",
    "    -переход на страницу с товарами;\n",
    "    -ознакомление с руководством пользователя;\n",
    "    -успешное проведение оплаты;\n",
    "    -переход к корзине товаров."
   ]
  },
  {
   "cell_type": "markdown",
   "id": "a5c04282",
   "metadata": {},
   "source": [
    "**Посмотрим, как часто случаются эти события.**"
   ]
  },
  {
   "cell_type": "code",
   "execution_count": 29,
   "id": "f11101d3",
   "metadata": {},
   "outputs": [
    {
     "data": {
      "text/html": [
       "<div>\n",
       "<style scoped>\n",
       "    .dataframe tbody tr th:only-of-type {\n",
       "        vertical-align: middle;\n",
       "    }\n",
       "\n",
       "    .dataframe tbody tr th {\n",
       "        vertical-align: top;\n",
       "    }\n",
       "\n",
       "    .dataframe thead th {\n",
       "        text-align: right;\n",
       "    }\n",
       "</style>\n",
       "<table border=\"1\" class=\"dataframe\">\n",
       "  <thead>\n",
       "    <tr style=\"text-align: right;\">\n",
       "      <th></th>\n",
       "      <th>event_name</th>\n",
       "      <th>device_id</th>\n",
       "    </tr>\n",
       "  </thead>\n",
       "  <tbody>\n",
       "    <tr>\n",
       "      <th>0</th>\n",
       "      <td>MainScreenAppear</td>\n",
       "      <td>117617</td>\n",
       "    </tr>\n",
       "    <tr>\n",
       "      <th>1</th>\n",
       "      <td>OffersScreenAppear</td>\n",
       "      <td>46420</td>\n",
       "    </tr>\n",
       "    <tr>\n",
       "      <th>2</th>\n",
       "      <td>CartScreenAppear</td>\n",
       "      <td>42322</td>\n",
       "    </tr>\n",
       "    <tr>\n",
       "      <th>3</th>\n",
       "      <td>PaymentScreenSuccessful</td>\n",
       "      <td>33935</td>\n",
       "    </tr>\n",
       "    <tr>\n",
       "      <th>4</th>\n",
       "      <td>Tutorial</td>\n",
       "      <td>1006</td>\n",
       "    </tr>\n",
       "  </tbody>\n",
       "</table>\n",
       "</div>"
      ],
      "text/plain": [
       "                event_name  device_id\n",
       "0  MainScreenAppear         117617   \n",
       "1  OffersScreenAppear       46420    \n",
       "2  CartScreenAppear         42322    \n",
       "3  PaymentScreenSuccessful  33935    \n",
       "4  Tutorial                 1006     "
      ]
     },
     "execution_count": 29,
     "metadata": {},
     "output_type": "execute_result"
    }
   ],
   "source": [
    "events_frequency_rating = data_new.groupby('event_name').agg({'device_id':'count'}).sort_values(by='device_id',ascending=False)\n",
    "events_frequency_rating.reset_index()"
   ]
  },
  {
   "cell_type": "markdown",
   "id": "109c7fe9",
   "metadata": {},
   "source": [
    "**Чаще всего происходил переход на главную страницу приложения: это событие более чем в 2 раза чаще встречается, чем остальные. Второе вместо занимает переход на страницу выбора продуктов, третье - переход на страницу с корзиной. Четвертое - оплата покупки: разница с переходом к корзине составляет окло 10 тыс. событий; значит, в ходе эксперимента значительное число пользователей отказались сталь клиентами. Возможно, у них возникли трудности с оплатой. Реже всего пользователи ознакамливались с инструкцией.** "
   ]
  },
  {
   "cell_type": "markdown",
   "id": "1eca459e",
   "metadata": {},
   "source": [
    "### Расчет количества пользователей, совершивших каждое из событий"
   ]
  },
  {
   "cell_type": "code",
   "execution_count": 31,
   "id": "aed96c07",
   "metadata": {},
   "outputs": [
    {
     "data": {
      "text/html": [
       "<div>\n",
       "<style scoped>\n",
       "    .dataframe tbody tr th:only-of-type {\n",
       "        vertical-align: middle;\n",
       "    }\n",
       "\n",
       "    .dataframe tbody tr th {\n",
       "        vertical-align: top;\n",
       "    }\n",
       "\n",
       "    .dataframe thead th {\n",
       "        text-align: right;\n",
       "    }\n",
       "</style>\n",
       "<table border=\"1\" class=\"dataframe\">\n",
       "  <thead>\n",
       "    <tr style=\"text-align: right;\">\n",
       "      <th></th>\n",
       "      <th>event_name</th>\n",
       "      <th>users_total</th>\n",
       "    </tr>\n",
       "  </thead>\n",
       "  <tbody>\n",
       "    <tr>\n",
       "      <th>0</th>\n",
       "      <td>MainScreenAppear</td>\n",
       "      <td>7423</td>\n",
       "    </tr>\n",
       "    <tr>\n",
       "      <th>1</th>\n",
       "      <td>OffersScreenAppear</td>\n",
       "      <td>4595</td>\n",
       "    </tr>\n",
       "    <tr>\n",
       "      <th>2</th>\n",
       "      <td>CartScreenAppear</td>\n",
       "      <td>3735</td>\n",
       "    </tr>\n",
       "    <tr>\n",
       "      <th>3</th>\n",
       "      <td>PaymentScreenSuccessful</td>\n",
       "      <td>3539</td>\n",
       "    </tr>\n",
       "    <tr>\n",
       "      <th>4</th>\n",
       "      <td>Tutorial</td>\n",
       "      <td>841</td>\n",
       "    </tr>\n",
       "  </tbody>\n",
       "</table>\n",
       "</div>"
      ],
      "text/plain": [
       "                event_name  users_total\n",
       "0  MainScreenAppear         7423       \n",
       "1  OffersScreenAppear       4595       \n",
       "2  CartScreenAppear         3735       \n",
       "3  PaymentScreenSuccessful  3539       \n",
       "4  Tutorial                 841        "
      ]
     },
     "execution_count": 31,
     "metadata": {},
     "output_type": "execute_result"
    }
   ],
   "source": [
    "#создадим сводную таблицу, содержащую количество уникальных пользователей, совершивхи каждый шаг\n",
    "all_events_users = (\n",
    "    data_new.pivot_table(index='event_name', values='device_id',aggfunc='nunique')\n",
    "    .sort_values(by='device_id',ascending=False)\n",
    "    .reset_index()\n",
    ")\n",
    "all_events_users.columns = [\n",
    "    'event_name',\n",
    "    'users_total'\n",
    "]\n",
    "all_events_users"
   ]
  },
  {
   "cell_type": "code",
   "execution_count": 32,
   "id": "90902b1e",
   "metadata": {},
   "outputs": [
    {
     "name": "stdout",
     "output_type": "stream",
     "text": [
      "Количество пользователей, совершивших каждое из событий: 841\n"
     ]
    }
   ],
   "source": [
    "print('Количество пользователей, совершивших каждое из событий:', all_events_users['users_total'][4])"
   ]
  },
  {
   "cell_type": "markdown",
   "id": "73626835",
   "metadata": {},
   "source": [
    "**Посчитаем долю пользователей, совершивших действие в приложении.**"
   ]
  },
  {
   "cell_type": "code",
   "execution_count": 33,
   "id": "716e273f",
   "metadata": {
    "scrolled": true
   },
   "outputs": [
    {
     "data": {
      "text/html": [
       "<div>\n",
       "<style scoped>\n",
       "    .dataframe tbody tr th:only-of-type {\n",
       "        vertical-align: middle;\n",
       "    }\n",
       "\n",
       "    .dataframe tbody tr th {\n",
       "        vertical-align: top;\n",
       "    }\n",
       "\n",
       "    .dataframe thead th {\n",
       "        text-align: right;\n",
       "    }\n",
       "</style>\n",
       "<table border=\"1\" class=\"dataframe\">\n",
       "  <thead>\n",
       "    <tr style=\"text-align: right;\">\n",
       "      <th></th>\n",
       "      <th>event_name</th>\n",
       "      <th>users_total</th>\n",
       "      <th>perc</th>\n",
       "    </tr>\n",
       "  </thead>\n",
       "  <tbody>\n",
       "    <tr>\n",
       "      <th>0</th>\n",
       "      <td>MainScreenAppear</td>\n",
       "      <td>7423</td>\n",
       "      <td>98.47</td>\n",
       "    </tr>\n",
       "    <tr>\n",
       "      <th>1</th>\n",
       "      <td>OffersScreenAppear</td>\n",
       "      <td>4595</td>\n",
       "      <td>60.96</td>\n",
       "    </tr>\n",
       "    <tr>\n",
       "      <th>2</th>\n",
       "      <td>CartScreenAppear</td>\n",
       "      <td>3735</td>\n",
       "      <td>49.55</td>\n",
       "    </tr>\n",
       "    <tr>\n",
       "      <th>3</th>\n",
       "      <td>PaymentScreenSuccessful</td>\n",
       "      <td>3539</td>\n",
       "      <td>46.95</td>\n",
       "    </tr>\n",
       "    <tr>\n",
       "      <th>4</th>\n",
       "      <td>Tutorial</td>\n",
       "      <td>841</td>\n",
       "      <td>11.16</td>\n",
       "    </tr>\n",
       "  </tbody>\n",
       "</table>\n",
       "</div>"
      ],
      "text/plain": [
       "                event_name  users_total   perc\n",
       "0  MainScreenAppear         7423         98.47\n",
       "1  OffersScreenAppear       4595         60.96\n",
       "2  CartScreenAppear         3735         49.55\n",
       "3  PaymentScreenSuccessful  3539         46.95\n",
       "4  Tutorial                 841          11.16"
      ]
     },
     "execution_count": 33,
     "metadata": {},
     "output_type": "execute_result"
    }
   ],
   "source": [
    "all_events_users['perc'] = round(all_events_users['users_total'] / data_new['device_id'].nunique() * 100,2)\n",
    "all_events_users.sort_values(by='perc',ascending=False)"
   ]
  },
  {
   "cell_type": "markdown",
   "id": "84929b33",
   "metadata": {},
   "source": [
    "**Около 1.5 % пользователей скачали приложение, но  так и не вошли в него. Также только 11% пользователей ознакомились с инструкцией, в то время как зазказ оплатили почти 47%.**"
   ]
  },
  {
   "cell_type": "markdown",
   "id": "e3cdbd87",
   "metadata": {},
   "source": [
    "### Последовательность событий"
   ]
  },
  {
   "cell_type": "markdown",
   "id": "3f8a73c6",
   "metadata": {},
   "source": [
    "**Продублируем сводную таблицу all_events_users, т.к. количество пользователей, совершивших действия в приложении, указывает на последовательности событий.**"
   ]
  },
  {
   "cell_type": "code",
   "execution_count": 34,
   "id": "c533384b",
   "metadata": {
    "scrolled": true
   },
   "outputs": [
    {
     "data": {
      "text/html": [
       "<div>\n",
       "<style scoped>\n",
       "    .dataframe tbody tr th:only-of-type {\n",
       "        vertical-align: middle;\n",
       "    }\n",
       "\n",
       "    .dataframe tbody tr th {\n",
       "        vertical-align: top;\n",
       "    }\n",
       "\n",
       "    .dataframe thead th {\n",
       "        text-align: right;\n",
       "    }\n",
       "</style>\n",
       "<table border=\"1\" class=\"dataframe\">\n",
       "  <thead>\n",
       "    <tr style=\"text-align: right;\">\n",
       "      <th></th>\n",
       "      <th>event_name</th>\n",
       "      <th>users_total</th>\n",
       "      <th>perc</th>\n",
       "    </tr>\n",
       "  </thead>\n",
       "  <tbody>\n",
       "    <tr>\n",
       "      <th>0</th>\n",
       "      <td>MainScreenAppear</td>\n",
       "      <td>7423</td>\n",
       "      <td>98.47</td>\n",
       "    </tr>\n",
       "    <tr>\n",
       "      <th>1</th>\n",
       "      <td>OffersScreenAppear</td>\n",
       "      <td>4595</td>\n",
       "      <td>60.96</td>\n",
       "    </tr>\n",
       "    <tr>\n",
       "      <th>2</th>\n",
       "      <td>CartScreenAppear</td>\n",
       "      <td>3735</td>\n",
       "      <td>49.55</td>\n",
       "    </tr>\n",
       "    <tr>\n",
       "      <th>3</th>\n",
       "      <td>PaymentScreenSuccessful</td>\n",
       "      <td>3539</td>\n",
       "      <td>46.95</td>\n",
       "    </tr>\n",
       "    <tr>\n",
       "      <th>4</th>\n",
       "      <td>Tutorial</td>\n",
       "      <td>841</td>\n",
       "      <td>11.16</td>\n",
       "    </tr>\n",
       "  </tbody>\n",
       "</table>\n",
       "</div>"
      ],
      "text/plain": [
       "                event_name  users_total   perc\n",
       "0  MainScreenAppear         7423         98.47\n",
       "1  OffersScreenAppear       4595         60.96\n",
       "2  CartScreenAppear         3735         49.55\n",
       "3  PaymentScreenSuccessful  3539         46.95\n",
       "4  Tutorial                 841          11.16"
      ]
     },
     "execution_count": 34,
     "metadata": {},
     "output_type": "execute_result"
    }
   ],
   "source": [
    "all_events_users"
   ]
  },
  {
   "cell_type": "markdown",
   "id": "2d285e3e",
   "metadata": {},
   "source": [
    "**События происходили в следующем порядке:**\n",
    "\n",
    "    -переход на главную страницу приложения;\n",
    "    -просмотр товаров;\n",
    "    -переход в корзину;\n",
    "    -оплата заказа;\n",
    "    -ознакомление с руководством пользователя."
   ]
  },
  {
   "cell_type": "markdown",
   "id": "f7d70734",
   "metadata": {},
   "source": [
    "**Теперь отсортируем датафрейм data_new по пользовательски id, чтобы посмотреть на последовательность действий у отдельных пользователей.**"
   ]
  },
  {
   "cell_type": "code",
   "execution_count": 35,
   "id": "8c8e6a0a",
   "metadata": {
    "scrolled": false
   },
   "outputs": [
    {
     "data": {
      "text/html": [
       "<div>\n",
       "<style scoped>\n",
       "    .dataframe tbody tr th:only-of-type {\n",
       "        vertical-align: middle;\n",
       "    }\n",
       "\n",
       "    .dataframe tbody tr th {\n",
       "        vertical-align: top;\n",
       "    }\n",
       "\n",
       "    .dataframe thead th {\n",
       "        text-align: right;\n",
       "    }\n",
       "</style>\n",
       "<table border=\"1\" class=\"dataframe\">\n",
       "  <thead>\n",
       "    <tr style=\"text-align: right;\">\n",
       "      <th></th>\n",
       "      <th>index</th>\n",
       "      <th>event_name</th>\n",
       "      <th>device_id</th>\n",
       "      <th>event_timestamp</th>\n",
       "      <th>exp_id</th>\n",
       "      <th>event_time</th>\n",
       "      <th>dt</th>\n",
       "    </tr>\n",
       "  </thead>\n",
       "  <tbody>\n",
       "    <tr>\n",
       "      <th>196914</th>\n",
       "      <td>197263</td>\n",
       "      <td>MainScreenAppear</td>\n",
       "      <td>6888746892508752</td>\n",
       "      <td>1565100394</td>\n",
       "      <td>246</td>\n",
       "      <td>2019-08-06 14:06:34</td>\n",
       "      <td>2019-08-06</td>\n",
       "    </tr>\n",
       "    <tr>\n",
       "      <th>208846</th>\n",
       "      <td>209210</td>\n",
       "      <td>OffersScreenAppear</td>\n",
       "      <td>6909561520679493</td>\n",
       "      <td>1565117584</td>\n",
       "      <td>247</td>\n",
       "      <td>2019-08-06 18:53:04</td>\n",
       "      <td>2019-08-06</td>\n",
       "    </tr>\n",
       "    <tr>\n",
       "      <th>208837</th>\n",
       "      <td>209201</td>\n",
       "      <td>MainScreenAppear</td>\n",
       "      <td>6909561520679493</td>\n",
       "      <td>1565117578</td>\n",
       "      <td>247</td>\n",
       "      <td>2019-08-06 18:52:58</td>\n",
       "      <td>2019-08-06</td>\n",
       "    </tr>\n",
       "    <tr>\n",
       "      <th>208836</th>\n",
       "      <td>209200</td>\n",
       "      <td>CartScreenAppear</td>\n",
       "      <td>6909561520679493</td>\n",
       "      <td>1565117578</td>\n",
       "      <td>247</td>\n",
       "      <td>2019-08-06 18:52:58</td>\n",
       "      <td>2019-08-06</td>\n",
       "    </tr>\n",
       "    <tr>\n",
       "      <th>208835</th>\n",
       "      <td>209199</td>\n",
       "      <td>PaymentScreenSuccessful</td>\n",
       "      <td>6909561520679493</td>\n",
       "      <td>1565117578</td>\n",
       "      <td>247</td>\n",
       "      <td>2019-08-06 18:52:58</td>\n",
       "      <td>2019-08-06</td>\n",
       "    </tr>\n",
       "    <tr>\n",
       "      <th>208832</th>\n",
       "      <td>209196</td>\n",
       "      <td>MainScreenAppear</td>\n",
       "      <td>6909561520679493</td>\n",
       "      <td>1565117574</td>\n",
       "      <td>247</td>\n",
       "      <td>2019-08-06 18:52:54</td>\n",
       "      <td>2019-08-06</td>\n",
       "    </tr>\n",
       "    <tr>\n",
       "      <th>134008</th>\n",
       "      <td>134267</td>\n",
       "      <td>MainScreenAppear</td>\n",
       "      <td>6922444491712477</td>\n",
       "      <td>1564938988</td>\n",
       "      <td>246</td>\n",
       "      <td>2019-08-04 17:16:28</td>\n",
       "      <td>2019-08-04</td>\n",
       "    </tr>\n",
       "    <tr>\n",
       "      <th>158365</th>\n",
       "      <td>158665</td>\n",
       "      <td>MainScreenAppear</td>\n",
       "      <td>6922444491712477</td>\n",
       "      <td>1565010769</td>\n",
       "      <td>246</td>\n",
       "      <td>2019-08-05 13:12:49</td>\n",
       "      <td>2019-08-05</td>\n",
       "    </tr>\n",
       "    <tr>\n",
       "      <th>158279</th>\n",
       "      <td>158579</td>\n",
       "      <td>MainScreenAppear</td>\n",
       "      <td>6922444491712477</td>\n",
       "      <td>1565010658</td>\n",
       "      <td>246</td>\n",
       "      <td>2019-08-05 13:10:58</td>\n",
       "      <td>2019-08-05</td>\n",
       "    </tr>\n",
       "    <tr>\n",
       "      <th>158146</th>\n",
       "      <td>158446</td>\n",
       "      <td>OffersScreenAppear</td>\n",
       "      <td>6922444491712477</td>\n",
       "      <td>1565010517</td>\n",
       "      <td>246</td>\n",
       "      <td>2019-08-05 13:08:37</td>\n",
       "      <td>2019-08-05</td>\n",
       "    </tr>\n",
       "    <tr>\n",
       "      <th>201659</th>\n",
       "      <td>202017</td>\n",
       "      <td>MainScreenAppear</td>\n",
       "      <td>6922444491712477</td>\n",
       "      <td>1565106866</td>\n",
       "      <td>246</td>\n",
       "      <td>2019-08-06 15:54:26</td>\n",
       "      <td>2019-08-06</td>\n",
       "    </tr>\n",
       "    <tr>\n",
       "      <th>201666</th>\n",
       "      <td>202024</td>\n",
       "      <td>OffersScreenAppear</td>\n",
       "      <td>6922444491712477</td>\n",
       "      <td>1565106872</td>\n",
       "      <td>246</td>\n",
       "      <td>2019-08-06 15:54:32</td>\n",
       "      <td>2019-08-06</td>\n",
       "    </tr>\n",
       "    <tr>\n",
       "      <th>201676</th>\n",
       "      <td>202034</td>\n",
       "      <td>OffersScreenAppear</td>\n",
       "      <td>6922444491712477</td>\n",
       "      <td>1565106887</td>\n",
       "      <td>246</td>\n",
       "      <td>2019-08-06 15:54:47</td>\n",
       "      <td>2019-08-06</td>\n",
       "    </tr>\n",
       "    <tr>\n",
       "      <th>169178</th>\n",
       "      <td>169492</td>\n",
       "      <td>PaymentScreenSuccessful</td>\n",
       "      <td>6922444491712477</td>\n",
       "      <td>1565024939</td>\n",
       "      <td>246</td>\n",
       "      <td>2019-08-05 17:08:59</td>\n",
       "      <td>2019-08-05</td>\n",
       "    </tr>\n",
       "    <tr>\n",
       "      <th>169151</th>\n",
       "      <td>169465</td>\n",
       "      <td>OffersScreenAppear</td>\n",
       "      <td>6922444491712477</td>\n",
       "      <td>1565024905</td>\n",
       "      <td>246</td>\n",
       "      <td>2019-08-05 17:08:25</td>\n",
       "      <td>2019-08-05</td>\n",
       "    </tr>\n",
       "    <tr>\n",
       "      <th>169142</th>\n",
       "      <td>169456</td>\n",
       "      <td>CartScreenAppear</td>\n",
       "      <td>6922444491712477</td>\n",
       "      <td>1565024897</td>\n",
       "      <td>246</td>\n",
       "      <td>2019-08-05 17:08:17</td>\n",
       "      <td>2019-08-05</td>\n",
       "    </tr>\n",
       "    <tr>\n",
       "      <th>169141</th>\n",
       "      <td>169455</td>\n",
       "      <td>MainScreenAppear</td>\n",
       "      <td>6922444491712477</td>\n",
       "      <td>1565024897</td>\n",
       "      <td>246</td>\n",
       "      <td>2019-08-05 17:08:17</td>\n",
       "      <td>2019-08-05</td>\n",
       "    </tr>\n",
       "    <tr>\n",
       "      <th>158115</th>\n",
       "      <td>158415</td>\n",
       "      <td>OffersScreenAppear</td>\n",
       "      <td>6922444491712477</td>\n",
       "      <td>1565010469</td>\n",
       "      <td>246</td>\n",
       "      <td>2019-08-05 13:07:49</td>\n",
       "      <td>2019-08-05</td>\n",
       "    </tr>\n",
       "    <tr>\n",
       "      <th>158072</th>\n",
       "      <td>158372</td>\n",
       "      <td>MainScreenAppear</td>\n",
       "      <td>6922444491712477</td>\n",
       "      <td>1565010434</td>\n",
       "      <td>246</td>\n",
       "      <td>2019-08-05 13:07:14</td>\n",
       "      <td>2019-08-05</td>\n",
       "    </tr>\n",
       "    <tr>\n",
       "      <th>169140</th>\n",
       "      <td>169454</td>\n",
       "      <td>PaymentScreenSuccessful</td>\n",
       "      <td>6922444491712477</td>\n",
       "      <td>1565024897</td>\n",
       "      <td>246</td>\n",
       "      <td>2019-08-05 17:08:17</td>\n",
       "      <td>2019-08-05</td>\n",
       "    </tr>\n",
       "    <tr>\n",
       "      <th>169116</th>\n",
       "      <td>169430</td>\n",
       "      <td>MainScreenAppear</td>\n",
       "      <td>6922444491712477</td>\n",
       "      <td>1565024864</td>\n",
       "      <td>246</td>\n",
       "      <td>2019-08-05 17:07:44</td>\n",
       "      <td>2019-08-05</td>\n",
       "    </tr>\n",
       "    <tr>\n",
       "      <th>134014</th>\n",
       "      <td>134273</td>\n",
       "      <td>PaymentScreenSuccessful</td>\n",
       "      <td>6922444491712477</td>\n",
       "      <td>1564938992</td>\n",
       "      <td>246</td>\n",
       "      <td>2019-08-04 17:16:32</td>\n",
       "      <td>2019-08-04</td>\n",
       "    </tr>\n",
       "    <tr>\n",
       "      <th>168495</th>\n",
       "      <td>168805</td>\n",
       "      <td>MainScreenAppear</td>\n",
       "      <td>6922444491712477</td>\n",
       "      <td>1565024147</td>\n",
       "      <td>246</td>\n",
       "      <td>2019-08-05 16:55:47</td>\n",
       "      <td>2019-08-05</td>\n",
       "    </tr>\n",
       "    <tr>\n",
       "      <th>168475</th>\n",
       "      <td>168785</td>\n",
       "      <td>OffersScreenAppear</td>\n",
       "      <td>6922444491712477</td>\n",
       "      <td>1565024105</td>\n",
       "      <td>246</td>\n",
       "      <td>2019-08-05 16:55:05</td>\n",
       "      <td>2019-08-05</td>\n",
       "    </tr>\n",
       "    <tr>\n",
       "      <th>168455</th>\n",
       "      <td>168765</td>\n",
       "      <td>MainScreenAppear</td>\n",
       "      <td>6922444491712477</td>\n",
       "      <td>1565024062</td>\n",
       "      <td>246</td>\n",
       "      <td>2019-08-05 16:54:22</td>\n",
       "      <td>2019-08-05</td>\n",
       "    </tr>\n",
       "    <tr>\n",
       "      <th>168448</th>\n",
       "      <td>168758</td>\n",
       "      <td>MainScreenAppear</td>\n",
       "      <td>6922444491712477</td>\n",
       "      <td>1565024057</td>\n",
       "      <td>246</td>\n",
       "      <td>2019-08-05 16:54:17</td>\n",
       "      <td>2019-08-05</td>\n",
       "    </tr>\n",
       "    <tr>\n",
       "      <th>169213</th>\n",
       "      <td>169527</td>\n",
       "      <td>CartScreenAppear</td>\n",
       "      <td>6922444491712477</td>\n",
       "      <td>1565024969</td>\n",
       "      <td>246</td>\n",
       "      <td>2019-08-05 17:09:29</td>\n",
       "      <td>2019-08-05</td>\n",
       "    </tr>\n",
       "    <tr>\n",
       "      <th>169215</th>\n",
       "      <td>169529</td>\n",
       "      <td>PaymentScreenSuccessful</td>\n",
       "      <td>6922444491712477</td>\n",
       "      <td>1565024969</td>\n",
       "      <td>246</td>\n",
       "      <td>2019-08-05 17:09:29</td>\n",
       "      <td>2019-08-05</td>\n",
       "    </tr>\n",
       "    <tr>\n",
       "      <th>169225</th>\n",
       "      <td>169539</td>\n",
       "      <td>CartScreenAppear</td>\n",
       "      <td>6922444491712477</td>\n",
       "      <td>1565024982</td>\n",
       "      <td>246</td>\n",
       "      <td>2019-08-05 17:09:42</td>\n",
       "      <td>2019-08-05</td>\n",
       "    </tr>\n",
       "    <tr>\n",
       "      <th>169226</th>\n",
       "      <td>169540</td>\n",
       "      <td>PaymentScreenSuccessful</td>\n",
       "      <td>6922444491712477</td>\n",
       "      <td>1565024982</td>\n",
       "      <td>246</td>\n",
       "      <td>2019-08-05 17:09:42</td>\n",
       "      <td>2019-08-05</td>\n",
       "    </tr>\n",
       "  </tbody>\n",
       "</table>\n",
       "</div>"
      ],
      "text/plain": [
       "         index               event_name         device_id  event_timestamp  \\\n",
       "196914  197263  MainScreenAppear         6888746892508752  1565100394        \n",
       "208846  209210  OffersScreenAppear       6909561520679493  1565117584        \n",
       "208837  209201  MainScreenAppear         6909561520679493  1565117578        \n",
       "208836  209200  CartScreenAppear         6909561520679493  1565117578        \n",
       "208835  209199  PaymentScreenSuccessful  6909561520679493  1565117578        \n",
       "208832  209196  MainScreenAppear         6909561520679493  1565117574        \n",
       "134008  134267  MainScreenAppear         6922444491712477  1564938988        \n",
       "158365  158665  MainScreenAppear         6922444491712477  1565010769        \n",
       "158279  158579  MainScreenAppear         6922444491712477  1565010658        \n",
       "158146  158446  OffersScreenAppear       6922444491712477  1565010517        \n",
       "201659  202017  MainScreenAppear         6922444491712477  1565106866        \n",
       "201666  202024  OffersScreenAppear       6922444491712477  1565106872        \n",
       "201676  202034  OffersScreenAppear       6922444491712477  1565106887        \n",
       "169178  169492  PaymentScreenSuccessful  6922444491712477  1565024939        \n",
       "169151  169465  OffersScreenAppear       6922444491712477  1565024905        \n",
       "169142  169456  CartScreenAppear         6922444491712477  1565024897        \n",
       "169141  169455  MainScreenAppear         6922444491712477  1565024897        \n",
       "158115  158415  OffersScreenAppear       6922444491712477  1565010469        \n",
       "158072  158372  MainScreenAppear         6922444491712477  1565010434        \n",
       "169140  169454  PaymentScreenSuccessful  6922444491712477  1565024897        \n",
       "169116  169430  MainScreenAppear         6922444491712477  1565024864        \n",
       "134014  134273  PaymentScreenSuccessful  6922444491712477  1564938992        \n",
       "168495  168805  MainScreenAppear         6922444491712477  1565024147        \n",
       "168475  168785  OffersScreenAppear       6922444491712477  1565024105        \n",
       "168455  168765  MainScreenAppear         6922444491712477  1565024062        \n",
       "168448  168758  MainScreenAppear         6922444491712477  1565024057        \n",
       "169213  169527  CartScreenAppear         6922444491712477  1565024969        \n",
       "169215  169529  PaymentScreenSuccessful  6922444491712477  1565024969        \n",
       "169225  169539  CartScreenAppear         6922444491712477  1565024982        \n",
       "169226  169540  PaymentScreenSuccessful  6922444491712477  1565024982        \n",
       "\n",
       "        exp_id          event_time          dt  \n",
       "196914  246    2019-08-06 14:06:34  2019-08-06  \n",
       "208846  247    2019-08-06 18:53:04  2019-08-06  \n",
       "208837  247    2019-08-06 18:52:58  2019-08-06  \n",
       "208836  247    2019-08-06 18:52:58  2019-08-06  \n",
       "208835  247    2019-08-06 18:52:58  2019-08-06  \n",
       "208832  247    2019-08-06 18:52:54  2019-08-06  \n",
       "134008  246    2019-08-04 17:16:28  2019-08-04  \n",
       "158365  246    2019-08-05 13:12:49  2019-08-05  \n",
       "158279  246    2019-08-05 13:10:58  2019-08-05  \n",
       "158146  246    2019-08-05 13:08:37  2019-08-05  \n",
       "201659  246    2019-08-06 15:54:26  2019-08-06  \n",
       "201666  246    2019-08-06 15:54:32  2019-08-06  \n",
       "201676  246    2019-08-06 15:54:47  2019-08-06  \n",
       "169178  246    2019-08-05 17:08:59  2019-08-05  \n",
       "169151  246    2019-08-05 17:08:25  2019-08-05  \n",
       "169142  246    2019-08-05 17:08:17  2019-08-05  \n",
       "169141  246    2019-08-05 17:08:17  2019-08-05  \n",
       "158115  246    2019-08-05 13:07:49  2019-08-05  \n",
       "158072  246    2019-08-05 13:07:14  2019-08-05  \n",
       "169140  246    2019-08-05 17:08:17  2019-08-05  \n",
       "169116  246    2019-08-05 17:07:44  2019-08-05  \n",
       "134014  246    2019-08-04 17:16:32  2019-08-04  \n",
       "168495  246    2019-08-05 16:55:47  2019-08-05  \n",
       "168475  246    2019-08-05 16:55:05  2019-08-05  \n",
       "168455  246    2019-08-05 16:54:22  2019-08-05  \n",
       "168448  246    2019-08-05 16:54:17  2019-08-05  \n",
       "169213  246    2019-08-05 17:09:29  2019-08-05  \n",
       "169215  246    2019-08-05 17:09:29  2019-08-05  \n",
       "169225  246    2019-08-05 17:09:42  2019-08-05  \n",
       "169226  246    2019-08-05 17:09:42  2019-08-05  "
      ]
     },
     "execution_count": 35,
     "metadata": {},
     "output_type": "execute_result"
    }
   ],
   "source": [
    "data_new.sort_values(by='device_id').head(30)"
   ]
  },
  {
   "cell_type": "markdown",
   "id": "ecf43434",
   "metadata": {},
   "source": [
    "**На примере 3 пользователей видно, что нет четкой последовательности, по которой пользователи совершали действия в приложения.**"
   ]
  },
  {
   "cell_type": "code",
   "execution_count": 36,
   "id": "cf3f3fa6",
   "metadata": {},
   "outputs": [
    {
     "name": "stdout",
     "output_type": "stream",
     "text": [
      "Доля покупателей, которая ознакомилась с инструкцией: 23.76\n"
     ]
    }
   ],
   "source": [
    "print('Доля покупателей, которая ознакомилась с инструкцией:', round(all_events_users['users_total'][4] / all_events_users['users_total'][3] * 100, 2))"
   ]
  },
  {
   "cell_type": "markdown",
   "id": "58007d83",
   "metadata": {},
   "source": [
    "**Удалим ознакомление с руководством пользователя из числа событий. Лишь 23% покупателей ознакомились с ним.**"
   ]
  },
  {
   "cell_type": "code",
   "execution_count": 37,
   "id": "08239e5e",
   "metadata": {},
   "outputs": [],
   "source": [
    "data_new = data_new.query('event_name != \"Tutorial\"')"
   ]
  },
  {
   "cell_type": "markdown",
   "id": "23826b5d",
   "metadata": {},
   "source": [
    "### Расчет доли пользователей, которая проходит на следующий шаг воронки событий"
   ]
  },
  {
   "cell_type": "code",
   "execution_count": 38,
   "id": "e69fe100",
   "metadata": {},
   "outputs": [],
   "source": [
    "all_events_users = all_events_users.query('event_name !=\"Tutorial\"')\n",
    "all_events_users['stage_loss'] = 100 - all_events_users['perc']"
   ]
  },
  {
   "cell_type": "code",
   "execution_count": 39,
   "id": "1e57e890",
   "metadata": {},
   "outputs": [
    {
     "data": {
      "text/html": [
       "<div>\n",
       "<style scoped>\n",
       "    .dataframe tbody tr th:only-of-type {\n",
       "        vertical-align: middle;\n",
       "    }\n",
       "\n",
       "    .dataframe tbody tr th {\n",
       "        vertical-align: top;\n",
       "    }\n",
       "\n",
       "    .dataframe thead th {\n",
       "        text-align: right;\n",
       "    }\n",
       "</style>\n",
       "<table border=\"1\" class=\"dataframe\">\n",
       "  <thead>\n",
       "    <tr style=\"text-align: right;\">\n",
       "      <th></th>\n",
       "      <th>event_name</th>\n",
       "      <th>users_total</th>\n",
       "      <th>perc</th>\n",
       "      <th>stage_loss</th>\n",
       "    </tr>\n",
       "  </thead>\n",
       "  <tbody>\n",
       "    <tr>\n",
       "      <th>0</th>\n",
       "      <td>MainScreenAppear</td>\n",
       "      <td>7423</td>\n",
       "      <td>98.47</td>\n",
       "      <td>1.53</td>\n",
       "    </tr>\n",
       "    <tr>\n",
       "      <th>1</th>\n",
       "      <td>OffersScreenAppear</td>\n",
       "      <td>4595</td>\n",
       "      <td>60.96</td>\n",
       "      <td>39.04</td>\n",
       "    </tr>\n",
       "    <tr>\n",
       "      <th>2</th>\n",
       "      <td>CartScreenAppear</td>\n",
       "      <td>3735</td>\n",
       "      <td>49.55</td>\n",
       "      <td>50.45</td>\n",
       "    </tr>\n",
       "    <tr>\n",
       "      <th>3</th>\n",
       "      <td>PaymentScreenSuccessful</td>\n",
       "      <td>3539</td>\n",
       "      <td>46.95</td>\n",
       "      <td>53.05</td>\n",
       "    </tr>\n",
       "  </tbody>\n",
       "</table>\n",
       "</div>"
      ],
      "text/plain": [
       "                event_name  users_total   perc  stage_loss\n",
       "0  MainScreenAppear         7423         98.47  1.53      \n",
       "1  OffersScreenAppear       4595         60.96  39.04     \n",
       "2  CartScreenAppear         3735         49.55  50.45     \n",
       "3  PaymentScreenSuccessful  3539         46.95  53.05     "
      ]
     },
     "execution_count": 39,
     "metadata": {},
     "output_type": "execute_result"
    }
   ],
   "source": [
    "all_events_users.sort_values(by='perc',ascending=False)"
   ]
  },
  {
   "cell_type": "code",
   "execution_count": 41,
   "id": "09bf3ef0",
   "metadata": {},
   "outputs": [
    {
     "data": {
      "text/html": [
       "<div>\n",
       "<style scoped>\n",
       "    .dataframe tbody tr th:only-of-type {\n",
       "        vertical-align: middle;\n",
       "    }\n",
       "\n",
       "    .dataframe tbody tr th {\n",
       "        vertical-align: top;\n",
       "    }\n",
       "\n",
       "    .dataframe thead th {\n",
       "        text-align: right;\n",
       "    }\n",
       "</style>\n",
       "<table border=\"1\" class=\"dataframe\">\n",
       "  <thead>\n",
       "    <tr style=\"text-align: right;\">\n",
       "      <th>exp_id</th>\n",
       "      <th>event_name</th>\n",
       "      <th>246</th>\n",
       "      <th>247</th>\n",
       "      <th>248</th>\n",
       "      <th>249</th>\n",
       "    </tr>\n",
       "  </thead>\n",
       "  <tbody>\n",
       "    <tr>\n",
       "      <th>0</th>\n",
       "      <td>MainScreenAppear</td>\n",
       "      <td>2450</td>\n",
       "      <td>2479</td>\n",
       "      <td>2494</td>\n",
       "      <td>4929</td>\n",
       "    </tr>\n",
       "    <tr>\n",
       "      <th>1</th>\n",
       "      <td>OffersScreenAppear</td>\n",
       "      <td>1542</td>\n",
       "      <td>1522</td>\n",
       "      <td>1531</td>\n",
       "      <td>3064</td>\n",
       "    </tr>\n",
       "    <tr>\n",
       "      <th>2</th>\n",
       "      <td>CartScreenAppear</td>\n",
       "      <td>1266</td>\n",
       "      <td>1239</td>\n",
       "      <td>1230</td>\n",
       "      <td>2505</td>\n",
       "    </tr>\n",
       "    <tr>\n",
       "      <th>3</th>\n",
       "      <td>PaymentScreenSuccessful</td>\n",
       "      <td>1200</td>\n",
       "      <td>1158</td>\n",
       "      <td>1181</td>\n",
       "      <td>2358</td>\n",
       "    </tr>\n",
       "  </tbody>\n",
       "</table>\n",
       "</div>"
      ],
      "text/plain": [
       "exp_id               event_name   246   247   248   249\n",
       "0       MainScreenAppear         2450  2479  2494  4929\n",
       "1       OffersScreenAppear       1542  1522  1531  3064\n",
       "2       CartScreenAppear         1266  1239  1230  2505\n",
       "3       PaymentScreenSuccessful  1200  1158  1181  2358"
      ]
     },
     "execution_count": 41,
     "metadata": {},
     "output_type": "execute_result"
    }
   ],
   "source": [
    "events_and_groups = (\n",
    "    data_new.pivot_table(index='event_name', columns='exp_id', values='device_id', aggfunc='nunique')\n",
    "    .sort_values(by=246,ascending=False)\n",
    "    .reset_index()\n",
    ")\n",
    "events_and_groups[249] = events_and_groups[246] + events_and_groups[247]\n",
    "events_and_groups"
   ]
  },
  {
   "cell_type": "markdown",
   "id": "1a05bc3d",
   "metadata": {},
   "source": [
    "**Рассчитаем  для каждой группы доли пользователей, переходящих на следующий шаг воронки.**"
   ]
  },
  {
   "cell_type": "code",
   "execution_count": 42,
   "id": "79bc8d15",
   "metadata": {},
   "outputs": [
    {
     "data": {
      "text/html": [
       "<div>\n",
       "<style scoped>\n",
       "    .dataframe tbody tr th:only-of-type {\n",
       "        vertical-align: middle;\n",
       "    }\n",
       "\n",
       "    .dataframe tbody tr th {\n",
       "        vertical-align: top;\n",
       "    }\n",
       "\n",
       "    .dataframe thead th {\n",
       "        text-align: right;\n",
       "    }\n",
       "</style>\n",
       "<table border=\"1\" class=\"dataframe\">\n",
       "  <thead>\n",
       "    <tr style=\"text-align: right;\">\n",
       "      <th>exp_id</th>\n",
       "      <th>event_name</th>\n",
       "      <th>246</th>\n",
       "      <th>stage_loss</th>\n",
       "    </tr>\n",
       "  </thead>\n",
       "  <tbody>\n",
       "    <tr>\n",
       "      <th>0</th>\n",
       "      <td>MainScreenAppear</td>\n",
       "      <td>2450</td>\n",
       "      <td>NaN</td>\n",
       "    </tr>\n",
       "    <tr>\n",
       "      <th>1</th>\n",
       "      <td>OffersScreenAppear</td>\n",
       "      <td>1542</td>\n",
       "      <td>62.94</td>\n",
       "    </tr>\n",
       "    <tr>\n",
       "      <th>2</th>\n",
       "      <td>CartScreenAppear</td>\n",
       "      <td>1266</td>\n",
       "      <td>82.10</td>\n",
       "    </tr>\n",
       "    <tr>\n",
       "      <th>3</th>\n",
       "      <td>PaymentScreenSuccessful</td>\n",
       "      <td>1200</td>\n",
       "      <td>94.79</td>\n",
       "    </tr>\n",
       "  </tbody>\n",
       "</table>\n",
       "</div>"
      ],
      "text/plain": [
       "exp_id               event_name   246  stage_loss\n",
       "0       MainScreenAppear         2450 NaN        \n",
       "1       OffersScreenAppear       1542  62.94     \n",
       "2       CartScreenAppear         1266  82.10     \n",
       "3       PaymentScreenSuccessful  1200  94.79     "
      ]
     },
     "execution_count": 42,
     "metadata": {},
     "output_type": "execute_result"
    }
   ],
   "source": [
    "#получим доли в первой контрольной группе\n",
    "info_246 = events_and_groups[['event_name', 246]]\n",
    "info_246['stage_loss'] = round((info_246[246]/info_246[246].shift())*100, 2)\n",
    "info_246"
   ]
  },
  {
   "cell_type": "code",
   "execution_count": 43,
   "id": "4f58cf3b",
   "metadata": {},
   "outputs": [
    {
     "data": {
      "text/html": [
       "<div>\n",
       "<style scoped>\n",
       "    .dataframe tbody tr th:only-of-type {\n",
       "        vertical-align: middle;\n",
       "    }\n",
       "\n",
       "    .dataframe tbody tr th {\n",
       "        vertical-align: top;\n",
       "    }\n",
       "\n",
       "    .dataframe thead th {\n",
       "        text-align: right;\n",
       "    }\n",
       "</style>\n",
       "<table border=\"1\" class=\"dataframe\">\n",
       "  <thead>\n",
       "    <tr style=\"text-align: right;\">\n",
       "      <th>exp_id</th>\n",
       "      <th>event_name</th>\n",
       "      <th>247</th>\n",
       "      <th>stage_loss</th>\n",
       "    </tr>\n",
       "  </thead>\n",
       "  <tbody>\n",
       "    <tr>\n",
       "      <th>0</th>\n",
       "      <td>MainScreenAppear</td>\n",
       "      <td>2479</td>\n",
       "      <td>NaN</td>\n",
       "    </tr>\n",
       "    <tr>\n",
       "      <th>1</th>\n",
       "      <td>OffersScreenAppear</td>\n",
       "      <td>1522</td>\n",
       "      <td>61.40</td>\n",
       "    </tr>\n",
       "    <tr>\n",
       "      <th>2</th>\n",
       "      <td>CartScreenAppear</td>\n",
       "      <td>1239</td>\n",
       "      <td>81.41</td>\n",
       "    </tr>\n",
       "    <tr>\n",
       "      <th>3</th>\n",
       "      <td>PaymentScreenSuccessful</td>\n",
       "      <td>1158</td>\n",
       "      <td>93.46</td>\n",
       "    </tr>\n",
       "  </tbody>\n",
       "</table>\n",
       "</div>"
      ],
      "text/plain": [
       "exp_id               event_name   247  stage_loss\n",
       "0       MainScreenAppear         2479 NaN        \n",
       "1       OffersScreenAppear       1522  61.40     \n",
       "2       CartScreenAppear         1239  81.41     \n",
       "3       PaymentScreenSuccessful  1158  93.46     "
      ]
     },
     "execution_count": 43,
     "metadata": {},
     "output_type": "execute_result"
    }
   ],
   "source": [
    "#получим доли во второй контрольной группе\n",
    "info_247 = events_and_groups[['event_name', 247]]\n",
    "info_247['stage_loss'] = round((info_247[247]/info_247[247].shift())*100, 2)\n",
    "info_247"
   ]
  },
  {
   "cell_type": "code",
   "execution_count": 44,
   "id": "b4e813a8",
   "metadata": {},
   "outputs": [
    {
     "data": {
      "text/html": [
       "<div>\n",
       "<style scoped>\n",
       "    .dataframe tbody tr th:only-of-type {\n",
       "        vertical-align: middle;\n",
       "    }\n",
       "\n",
       "    .dataframe tbody tr th {\n",
       "        vertical-align: top;\n",
       "    }\n",
       "\n",
       "    .dataframe thead th {\n",
       "        text-align: right;\n",
       "    }\n",
       "</style>\n",
       "<table border=\"1\" class=\"dataframe\">\n",
       "  <thead>\n",
       "    <tr style=\"text-align: right;\">\n",
       "      <th>exp_id</th>\n",
       "      <th>event_name</th>\n",
       "      <th>248</th>\n",
       "      <th>stage_loss</th>\n",
       "    </tr>\n",
       "  </thead>\n",
       "  <tbody>\n",
       "    <tr>\n",
       "      <th>0</th>\n",
       "      <td>MainScreenAppear</td>\n",
       "      <td>2494</td>\n",
       "      <td>NaN</td>\n",
       "    </tr>\n",
       "    <tr>\n",
       "      <th>1</th>\n",
       "      <td>OffersScreenAppear</td>\n",
       "      <td>1531</td>\n",
       "      <td>61.39</td>\n",
       "    </tr>\n",
       "    <tr>\n",
       "      <th>2</th>\n",
       "      <td>CartScreenAppear</td>\n",
       "      <td>1230</td>\n",
       "      <td>80.34</td>\n",
       "    </tr>\n",
       "    <tr>\n",
       "      <th>3</th>\n",
       "      <td>PaymentScreenSuccessful</td>\n",
       "      <td>1181</td>\n",
       "      <td>96.02</td>\n",
       "    </tr>\n",
       "  </tbody>\n",
       "</table>\n",
       "</div>"
      ],
      "text/plain": [
       "exp_id               event_name   248  stage_loss\n",
       "0       MainScreenAppear         2494 NaN        \n",
       "1       OffersScreenAppear       1531  61.39     \n",
       "2       CartScreenAppear         1230  80.34     \n",
       "3       PaymentScreenSuccessful  1181  96.02     "
      ]
     },
     "execution_count": 44,
     "metadata": {},
     "output_type": "execute_result"
    }
   ],
   "source": [
    "#получим доли в экспериментальной группе\n",
    "info_248 = events_and_groups[['event_name', 248]]\n",
    "info_248['stage_loss'] = round((info_248[248]/info_248[248].shift())*100, 2)\n",
    "info_248"
   ]
  },
  {
   "cell_type": "code",
   "execution_count": 45,
   "id": "438e0854",
   "metadata": {},
   "outputs": [
    {
     "data": {
      "text/html": [
       "<div>\n",
       "<style scoped>\n",
       "    .dataframe tbody tr th:only-of-type {\n",
       "        vertical-align: middle;\n",
       "    }\n",
       "\n",
       "    .dataframe tbody tr th {\n",
       "        vertical-align: top;\n",
       "    }\n",
       "\n",
       "    .dataframe thead th {\n",
       "        text-align: right;\n",
       "    }\n",
       "</style>\n",
       "<table border=\"1\" class=\"dataframe\">\n",
       "  <thead>\n",
       "    <tr style=\"text-align: right;\">\n",
       "      <th>exp_id</th>\n",
       "      <th>event_name</th>\n",
       "      <th>249</th>\n",
       "      <th>stage_loss</th>\n",
       "    </tr>\n",
       "  </thead>\n",
       "  <tbody>\n",
       "    <tr>\n",
       "      <th>0</th>\n",
       "      <td>MainScreenAppear</td>\n",
       "      <td>4929</td>\n",
       "      <td>NaN</td>\n",
       "    </tr>\n",
       "    <tr>\n",
       "      <th>1</th>\n",
       "      <td>OffersScreenAppear</td>\n",
       "      <td>3064</td>\n",
       "      <td>62.16</td>\n",
       "    </tr>\n",
       "    <tr>\n",
       "      <th>2</th>\n",
       "      <td>CartScreenAppear</td>\n",
       "      <td>2505</td>\n",
       "      <td>81.76</td>\n",
       "    </tr>\n",
       "    <tr>\n",
       "      <th>3</th>\n",
       "      <td>PaymentScreenSuccessful</td>\n",
       "      <td>2358</td>\n",
       "      <td>94.13</td>\n",
       "    </tr>\n",
       "  </tbody>\n",
       "</table>\n",
       "</div>"
      ],
      "text/plain": [
       "exp_id               event_name   249  stage_loss\n",
       "0       MainScreenAppear         4929 NaN        \n",
       "1       OffersScreenAppear       3064  62.16     \n",
       "2       CartScreenAppear         2505  81.76     \n",
       "3       PaymentScreenSuccessful  2358  94.13     "
      ]
     },
     "execution_count": 45,
     "metadata": {},
     "output_type": "execute_result"
    }
   ],
   "source": [
    "#получим доли в экспериментальной группе\n",
    "info_249 = events_and_groups[['event_name', 249]]\n",
    "info_249['stage_loss'] = round((info_249[249]/info_249[249].shift())*100, 2)\n",
    "info_249"
   ]
  },
  {
   "cell_type": "markdown",
   "id": "12f75811",
   "metadata": {},
   "source": [
    "**Серьезных различий между группами, как видно, нет. Доли пользователей, переходящих на следующий шаг воронки, в экспериментальной группах даже меньше, чем в контрольных.**"
   ]
  },
  {
   "cell_type": "markdown",
   "id": "65bc5be3",
   "metadata": {},
   "source": [
    "### Расчет доли пользователей, совершившвшей все шаги "
   ]
  },
  {
   "cell_type": "markdown",
   "id": "db869ec0",
   "metadata": {},
   "source": [
    "**Чтобы расчитать долю пользователей, разделим количество пользователей, совершивших финальный шаг (оплату заказа)  и тех, кто зашел на главную страницу приложения.** "
   ]
  },
  {
   "cell_type": "code",
   "execution_count": 47,
   "id": "60a8f883",
   "metadata": {},
   "outputs": [
    {
     "name": "stdout",
     "output_type": "stream",
     "text": [
      "Доля пользователей, совершившая все шаги: 47.68\n"
     ]
    }
   ],
   "source": [
    "all_events_perc = round(all_events_users['users_total'][3] / all_events_users['users_total'][0] * 100 , 2)\n",
    "print('Доля пользователей, совершившая все шаги:', all_events_perc)\n"
   ]
  },
  {
   "cell_type": "markdown",
   "id": "b79690b3",
   "metadata": {},
   "source": [
    "## Изучение результатов эксперимента"
   ]
  },
  {
   "cell_type": "markdown",
   "id": "e513f66b",
   "metadata": {},
   "source": [
    "### Выявление количества пользователей в экспериментальных группах"
   ]
  },
  {
   "cell_type": "code",
   "execution_count": 48,
   "id": "d61474d7",
   "metadata": {},
   "outputs": [],
   "source": [
    "funnel_data_by_group = data_new.pivot_table(index='exp_id', values='device_id', aggfunc='nunique').reset_index()\n"
   ]
  },
  {
   "cell_type": "markdown",
   "id": "9acf645b",
   "metadata": {},
   "source": [
    "**В контрольных группах 2483 и 2516 пользователей соответственно. В экспериментальной - 2535.**"
   ]
  },
  {
   "cell_type": "markdown",
   "id": "9cc57766",
   "metadata": {},
   "source": [
    "### Изучение статистической разницы между выборками 246 и 247"
   ]
  },
  {
   "cell_type": "markdown",
   "id": "9403a65b",
   "metadata": {},
   "source": [
    "**Проверим, есть ли статистически значимые различия между контрольными группами в доле пользователей, ставших покупателями.**"
   ]
  },
  {
   "cell_type": "code",
   "execution_count": 49,
   "id": "266511c1",
   "metadata": {},
   "outputs": [
    {
     "data": {
      "text/html": [
       "<div>\n",
       "<style scoped>\n",
       "    .dataframe tbody tr th:only-of-type {\n",
       "        vertical-align: middle;\n",
       "    }\n",
       "\n",
       "    .dataframe tbody tr th {\n",
       "        vertical-align: top;\n",
       "    }\n",
       "\n",
       "    .dataframe thead th {\n",
       "        text-align: right;\n",
       "    }\n",
       "</style>\n",
       "<table border=\"1\" class=\"dataframe\">\n",
       "  <thead>\n",
       "    <tr style=\"text-align: right;\">\n",
       "      <th></th>\n",
       "      <th>exp_id</th>\n",
       "      <th>device_id</th>\n",
       "    </tr>\n",
       "  </thead>\n",
       "  <tbody>\n",
       "    <tr>\n",
       "      <th>0</th>\n",
       "      <td>246</td>\n",
       "      <td>1200</td>\n",
       "    </tr>\n",
       "    <tr>\n",
       "      <th>1</th>\n",
       "      <td>247</td>\n",
       "      <td>1158</td>\n",
       "    </tr>\n",
       "    <tr>\n",
       "      <th>2</th>\n",
       "      <td>248</td>\n",
       "      <td>1181</td>\n",
       "    </tr>\n",
       "  </tbody>\n",
       "</table>\n",
       "</div>"
      ],
      "text/plain": [
       "   exp_id  device_id\n",
       "0  246     1200     \n",
       "1  247     1158     \n",
       "2  248     1181     "
      ]
     },
     "execution_count": 49,
     "metadata": {},
     "output_type": "execute_result"
    }
   ],
   "source": [
    "#получим количество пользователей, оплативших заказ в тестовых и экспериментальной группах \n",
    "payment_success_user_count = (\n",
    "    data_new.loc[data_new['event_name'] == 'PaymentScreenSuccessful']\n",
    "    .pivot_table(index='exp_id', values='device_id', aggfunc='nunique')\n",
    "    .reset_index()\n",
    "    )\n",
    "\n",
    "payment_success_user_count"
   ]
  },
  {
   "cell_type": "markdown",
   "id": "0a1448b7",
   "metadata": {},
   "source": [
    "**Сформулируем нулевую гипотезу следующим образом: \"Отствует статистически значимые различия  между выборками 246 и 247 в доле пользователей,ставших покупателями\". Альтернативная гипотезу:\"Cуществуют статистически значимые различия  между выборками 246 и 247 в доле пользователей, ставших покупателями\".** "
   ]
  },
  {
   "cell_type": "code",
   "execution_count": 50,
   "id": "c4cf5156",
   "metadata": {},
   "outputs": [],
   "source": [
    "alpha = .01 # критический уровень статистической значимости\n",
    "\n",
    "users = np.array([funnel_data_by_group['device_id'][0], funnel_data_by_group['device_id'][1]])\n",
    "buyers = np.array([payment_success_user_count['device_id'][0], payment_success_user_count['device_id'][1]])\n",
    "\n",
    "# пропорция успехов в первой группе:\n",
    "p1 = buyers[0]/users[0]\n",
    "\n",
    "# пропорция успехов во второй группе:\n",
    "p2 = buyers[1]/users[1]\n",
    "\n",
    "# пропорция успехов в комбинированном датасете:\n",
    "p_combined = (buyers[0] + buyers[1]) / (users[0] + users[1])\n",
    "\n",
    "# разница пропорций в датасетах\n",
    "difference = p1 - p2\n",
    "\n",
    "\n",
    "# считаем статистику в ст.отклонениях стандартного нормального распределения\n",
    "z_value = difference / mth.sqrt(p_combined * (1 - p_combined) * (1/users[0] + 1/users[1]))\n",
    "\n",
    "# задаем стандартное нормальное распределение (среднее 0, ст.отклонение 1)\n",
    "distr = st.norm(0, 1) "
   ]
  },
  {
   "cell_type": "code",
   "execution_count": 51,
   "id": "6c3f8c1f",
   "metadata": {},
   "outputs": [
    {
     "name": "stdout",
     "output_type": "stream",
     "text": [
      "p-значение:  0.10288527362638322\n",
      "Не получилось отвергнуть нулевую гипотезу, нет оснований считать доли разными\n"
     ]
    }
   ],
   "source": [
    "p_value = (1 - distr.cdf(abs(z_value))) * 2\n",
    "\n",
    "print('p-значение: ', p_value)\n",
    "\n",
    "if p_value < alpha:\n",
    "    print('Отвергаем нулевую гипотезу: между долями есть значимая разница')\n",
    "else:\n",
    "    print(\n",
    "        'Не получилось отвергнуть нулевую гипотезу, нет оснований считать доли разными'\n",
    "    )"
   ]
  },
  {
   "cell_type": "markdown",
   "id": "3930a9c4",
   "metadata": {},
   "source": [
    "**P-значение, т.е. вероятность получить в реальном наблюдении значение, далекое от предполагаемого в нулевой гиоптезе, больше установленного уровня статистической значимости (1%). Значит придерживаемся гипотезы об отсутствии статистически значимых отличий в долях покупатеелй между контрольными группами. Отсутствие значимых различий между контрольными группами важно для качественного проведения A/A-эксперимента.**"
   ]
  },
  {
   "cell_type": "markdown",
   "id": "e14b8503",
   "metadata": {},
   "source": [
    "### Изучение статистической разницы между выборками 246 и 247 в доле пользователей, совершивших наиболее популярное событие"
   ]
  },
  {
   "cell_type": "markdown",
   "id": "43ea3e6f",
   "metadata": {},
   "source": [
    "**Построим график динамики эксперимента с учетом типа событий. Также визуализируем количество уникальных пользователей, совершивших тот или иной шаг из эксперимента.**"
   ]
  },
  {
   "cell_type": "code",
   "execution_count": 52,
   "id": "6656db20",
   "metadata": {},
   "outputs": [
    {
     "data": {
      "image/png": "[encoded data removed]",
      "text/plain": [
       "<Figure size 1600x800 with 1 Axes>"
      ]
     },
     "metadata": {},
     "output_type": "display_data"
    }
   ],
   "source": [
    "plt.figure(figsize=(16,8))\n",
    "sns.lineplot(data=data_new, x='dt', y='device_id',\\\n",
    "             hue='event_name', estimator='nunique', style='event_name', \\\n",
    "             ci=None, markers=True,dashes=False)\n",
    "plt.title('Динамика эксперимента с учетом типа события'),\n",
    "plt.xlabel('дата'),\n",
    "plt.ylabel('количество пользователей,совершивших событие');"
   ]
  },
  {
   "cell_type": "markdown",
   "id": "f6768bed",
   "metadata": {},
   "source": [
    "**Как видно на графике, на протяжении всего эксперимента самым популярным событием было посещение главной страницы мобильного приложения. Отрыв от остальных событий довольно большой: в то время как 3400-3700 пользователей зашли на главную страницы, лишь 2100 перешли на страницу выбора товаров.**"
   ]
  },
  {
   "cell_type": "markdown",
   "id": "8ef2d841",
   "metadata": {},
   "source": [
    "**При помощи создания сводной таблицы удалось узнать, что переход на главную страницу мобильного приложения является  самым популярным шагом. Виден очень сильный отрыв по количеству пользователей от остальных событий. Существует вероятность того, что некоторые пользователи не находят интерфейс удобным. В случае с большим оттоком пользователей после просмотра главной страницы нельзя говорить о наличии технической ошибки. Скорее всего, надо улучшать UX.** "
   ]
  },
  {
   "cell_type": "code",
   "execution_count": 53,
   "id": "6d05d675",
   "metadata": {},
   "outputs": [
    {
     "name": "stdout",
     "output_type": "stream",
     "text": [
      "<class 'pandas.core.frame.DataFrame'>\n",
      "Index: 4 entries, MainScreenAppear to PaymentScreenSuccessful\n",
      "Data columns (total 4 columns):\n",
      " #   Column  Non-Null Count  Dtype\n",
      "---  ------  --------------  -----\n",
      " 0   246     4 non-null      int64\n",
      " 1   247     4 non-null      int64\n",
      " 2   248     4 non-null      int64\n",
      " 3   249     4 non-null      int64\n",
      "dtypes: int64(4)\n",
      "memory usage: 160.0+ bytes\n"
     ]
    }
   ],
   "source": [
    "event_info = (\n",
    "    data_new.pivot_table(index='event_name', columns='exp_id',values='device_id', aggfunc='nunique')\n",
    "    .sort_values(by=246,ascending=False)\n",
    ")\n",
    "#добавим  суммарные значения обеих контрольных групп\n",
    "event_info['249'] = event_info[246] + event_info[247]\n",
    "event_info.info()"
   ]
  },
  {
   "cell_type": "markdown",
   "id": "9bdbb0d4",
   "metadata": {},
   "source": [
    "**Посчитаем долю пользователей,совершивших переход на главную страницу.**"
   ]
  },
  {
   "cell_type": "code",
   "execution_count": 54,
   "id": "214be65d",
   "metadata": {},
   "outputs": [
    {
     "data": {
      "text/html": [
       "<div>\n",
       "<style scoped>\n",
       "    .dataframe tbody tr th:only-of-type {\n",
       "        vertical-align: middle;\n",
       "    }\n",
       "\n",
       "    .dataframe tbody tr th {\n",
       "        vertical-align: top;\n",
       "    }\n",
       "\n",
       "    .dataframe thead th {\n",
       "        text-align: right;\n",
       "    }\n",
       "</style>\n",
       "<table border=\"1\" class=\"dataframe\">\n",
       "  <thead>\n",
       "    <tr style=\"text-align: right;\">\n",
       "      <th></th>\n",
       "      <th>exp_id</th>\n",
       "      <th>device_id</th>\n",
       "      <th>perc</th>\n",
       "    </tr>\n",
       "  </thead>\n",
       "  <tbody>\n",
       "    <tr>\n",
       "      <th>0</th>\n",
       "      <td>246</td>\n",
       "      <td>2450</td>\n",
       "      <td>98.67</td>\n",
       "    </tr>\n",
       "    <tr>\n",
       "      <th>1</th>\n",
       "      <td>247</td>\n",
       "      <td>2479</td>\n",
       "      <td>98.53</td>\n",
       "    </tr>\n",
       "    <tr>\n",
       "      <th>2</th>\n",
       "      <td>248</td>\n",
       "      <td>2494</td>\n",
       "      <td>98.38</td>\n",
       "    </tr>\n",
       "  </tbody>\n",
       "</table>\n",
       "</div>"
      ],
      "text/plain": [
       "   exp_id  device_id   perc\n",
       "0  246     2450       98.67\n",
       "1  247     2479       98.53\n",
       "2  248     2494       98.38"
      ]
     },
     "execution_count": 54,
     "metadata": {},
     "output_type": "execute_result"
    }
   ],
   "source": [
    "main_screen_appear_user_count = (\n",
    "     data_new.loc[data_new['event_name'] == 'MainScreenAppear']\n",
    "    .pivot_table(index='exp_id', values='device_id', aggfunc='nunique')\n",
    "    .reset_index()\n",
    "    )\n",
    "main_screen_appear_user_count['perc'] = round(main_screen_appear_user_count['device_id'] / funnel_data_by_group['device_id'] * 100, 2)\n",
    "main_screen_appear_user_count"
   ]
  },
  {
   "cell_type": "markdown",
   "id": "d127bc6b",
   "metadata": {},
   "source": [
    "**Как видно ниже, менее 2% привлеченных пользователей никак не ознакомились с приложением.В целом, показатель хороший.**"
   ]
  },
  {
   "cell_type": "markdown",
   "id": "762fdca1",
   "metadata": {},
   "source": [
    "**Узнаем показатель доли пользователей с учетом суммарного количества пользователей из контрольных групп.**"
   ]
  },
  {
   "cell_type": "code",
   "execution_count": 55,
   "id": "fa7d95f3",
   "metadata": {},
   "outputs": [
    {
     "data": {
      "text/html": [
       "<div>\n",
       "<style scoped>\n",
       "    .dataframe tbody tr th:only-of-type {\n",
       "        vertical-align: middle;\n",
       "    }\n",
       "\n",
       "    .dataframe tbody tr th {\n",
       "        vertical-align: top;\n",
       "    }\n",
       "\n",
       "    .dataframe thead th {\n",
       "        text-align: right;\n",
       "    }\n",
       "</style>\n",
       "<table border=\"1\" class=\"dataframe\">\n",
       "  <thead>\n",
       "    <tr style=\"text-align: right;\">\n",
       "      <th></th>\n",
       "      <th>exp_id</th>\n",
       "      <th>device_id</th>\n",
       "      <th>perc</th>\n",
       "    </tr>\n",
       "  </thead>\n",
       "  <tbody>\n",
       "    <tr>\n",
       "      <th>0</th>\n",
       "      <td>246</td>\n",
       "      <td>2450</td>\n",
       "      <td>98.67</td>\n",
       "    </tr>\n",
       "    <tr>\n",
       "      <th>1</th>\n",
       "      <td>247</td>\n",
       "      <td>2479</td>\n",
       "      <td>98.53</td>\n",
       "    </tr>\n",
       "    <tr>\n",
       "      <th>2</th>\n",
       "      <td>248</td>\n",
       "      <td>2494</td>\n",
       "      <td>98.38</td>\n",
       "    </tr>\n",
       "    <tr>\n",
       "      <th>3</th>\n",
       "      <td>249</td>\n",
       "      <td>4929</td>\n",
       "      <td>98.6</td>\n",
       "    </tr>\n",
       "  </tbody>\n",
       "</table>\n",
       "</div>"
      ],
      "text/plain": [
       "  exp_id device_id   perc\n",
       "0  246    2450      98.67\n",
       "1  247    2479      98.53\n",
       "2  248    2494      98.38\n",
       "3  249    4929      98.6 "
      ]
     },
     "execution_count": 55,
     "metadata": {},
     "output_type": "execute_result"
    }
   ],
   "source": [
    "main_screen_appear_user_count.loc[len(main_screen_appear_user_count.index)] = ['249', '4929', '98.6']\n",
    "main_screen_appear_user_count"
   ]
  },
  {
   "cell_type": "code",
   "execution_count": 56,
   "id": "7b546d13",
   "metadata": {},
   "outputs": [
    {
     "data": {
      "text/html": [
       "<div>\n",
       "<style scoped>\n",
       "    .dataframe tbody tr th:only-of-type {\n",
       "        vertical-align: middle;\n",
       "    }\n",
       "\n",
       "    .dataframe tbody tr th {\n",
       "        vertical-align: top;\n",
       "    }\n",
       "\n",
       "    .dataframe thead th {\n",
       "        text-align: right;\n",
       "    }\n",
       "</style>\n",
       "<table border=\"1\" class=\"dataframe\">\n",
       "  <thead>\n",
       "    <tr style=\"text-align: right;\">\n",
       "      <th></th>\n",
       "      <th>device_id</th>\n",
       "    </tr>\n",
       "    <tr>\n",
       "      <th>exp_id</th>\n",
       "      <th></th>\n",
       "    </tr>\n",
       "  </thead>\n",
       "  <tbody>\n",
       "    <tr>\n",
       "      <th>246</th>\n",
       "      <td>2483</td>\n",
       "    </tr>\n",
       "    <tr>\n",
       "      <th>247</th>\n",
       "      <td>2516</td>\n",
       "    </tr>\n",
       "    <tr>\n",
       "      <th>248</th>\n",
       "      <td>2535</td>\n",
       "    </tr>\n",
       "  </tbody>\n",
       "</table>\n",
       "</div>"
      ],
      "text/plain": [
       "        device_id\n",
       "exp_id           \n",
       "246     2483     \n",
       "247     2516     \n",
       "248     2535     "
      ]
     },
     "execution_count": 56,
     "metadata": {},
     "output_type": "execute_result"
    }
   ],
   "source": [
    "#повторно сгруппируем пользователям по выборкам\n",
    "users_per_group = data_new.groupby('exp_id').agg({'device_id':'nunique'})\n",
    "users_per_group"
   ]
  },
  {
   "cell_type": "code",
   "execution_count": 57,
   "id": "7ec36dd1",
   "metadata": {},
   "outputs": [
    {
     "data": {
      "text/html": [
       "<div>\n",
       "<style scoped>\n",
       "    .dataframe tbody tr th:only-of-type {\n",
       "        vertical-align: middle;\n",
       "    }\n",
       "\n",
       "    .dataframe tbody tr th {\n",
       "        vertical-align: top;\n",
       "    }\n",
       "\n",
       "    .dataframe thead th {\n",
       "        text-align: right;\n",
       "    }\n",
       "</style>\n",
       "<table border=\"1\" class=\"dataframe\">\n",
       "  <thead>\n",
       "    <tr style=\"text-align: right;\">\n",
       "      <th></th>\n",
       "      <th>device_id</th>\n",
       "    </tr>\n",
       "    <tr>\n",
       "      <th>exp_id</th>\n",
       "      <th></th>\n",
       "    </tr>\n",
       "  </thead>\n",
       "  <tbody>\n",
       "    <tr>\n",
       "      <th>246</th>\n",
       "      <td>2483</td>\n",
       "    </tr>\n",
       "    <tr>\n",
       "      <th>247</th>\n",
       "      <td>2516</td>\n",
       "    </tr>\n",
       "    <tr>\n",
       "      <th>248</th>\n",
       "      <td>2535</td>\n",
       "    </tr>\n",
       "    <tr>\n",
       "      <th>249</th>\n",
       "      <td>4999</td>\n",
       "    </tr>\n",
       "  </tbody>\n",
       "</table>\n",
       "</div>"
      ],
      "text/plain": [
       "        device_id\n",
       "exp_id           \n",
       "246     2483     \n",
       "247     2516     \n",
       "248     2535     \n",
       "249     4999     "
      ]
     },
     "execution_count": 57,
     "metadata": {},
     "output_type": "execute_result"
    }
   ],
   "source": [
    "#добавим столбец с суммарным количеством пользователей из контрольных выборок\n",
    "total_246_and_247 = users_per_group.iloc[0] + users_per_group.iloc[1]\n",
    "total_246_and_247.name = '249'\n",
    "users_per_group_merge = users_per_group.append([total_246_and_247])\n",
    "users_per_group_merge"
   ]
  },
  {
   "cell_type": "markdown",
   "id": "7961e4f7",
   "metadata": {},
   "source": [
    "**Проведем тест для остальных шагов. Оптимизации процесса тестирования долей пользователей на отсутствие статистически значимых различий будет осуществлена при помощи функции.** "
   ]
  },
  {
   "cell_type": "markdown",
   "id": "a4657330",
   "metadata": {},
   "source": [
    "**Проведем 4  проверки долей пользователей из выборок 246 и 247, совершивших оставшиеся действия в приложении:**\n",
    "   \n",
    "    - Нулевая гипотеза - \"доли уникальные пользователей, побывавших на этапе воронки,у контрольных групп одинаковы\".\n",
    "    - Альтернативная гипотеза - \"между долями уникальных посетителей контрольных групп, побывавших на этапе воронки, есть значимая разница\".;"
   ]
  },
  {
   "cell_type": "markdown",
   "id": "a11a21ae",
   "metadata": {},
   "source": [
    "**Поскольку сравниваются две контрольные выборки, уровнем статистической значимости будет 1%.**"
   ]
  },
  {
   "cell_type": "code",
   "execution_count": 58,
   "id": "de8491bd",
   "metadata": {},
   "outputs": [],
   "source": [
    "def hypothesis_test(group1, group2, alpha): \n",
    "    \n",
    "    events_one = event_info.loc[event, group1]\n",
    "    events_two = event_info.loc[event, group2] \n",
    "    users_one = users_per_group_merge.loc[group1, 'device_id'] \n",
    "    users_two = users_per_group_merge.loc[group2,'device_id'] \n",
    "    \n",
    "    # пропорция успехов в первой группе:\n",
    "    p1 = events_one / users_one \n",
    "    # пропорция успехов во второй группе\n",
    "    p2 = events_two / users_two \n",
    "    \n",
    "    # пропорция успехов в комбинированном датасете\n",
    "    p_combined = (events_one + events_two) / (users_one + users_two) \n",
    "    \n",
    "    # разница пропорций в датасетах\n",
    "    difference = p1 - p2\n",
    "    \n",
    "    # считаем статистику в ст.отклонениях стандартного нормального распределения\n",
    "    z_value = difference / mth.sqrt(p_combined * (1 - p_combined) * (1 / users_one + 1 / users_two))\n",
    "    \n",
    "    # задаем стандартное нормальное распределение (среднее 0, ст.отклонение 1)\n",
    "    distr = st.norm(0, 1)\n",
    "    p_value = (1 - distr.cdf(abs(z_value))) * 2\n",
    "    \n",
    "    \n",
    "    print('Тестируются группы {} и {}, событие: {}, p-значение составляет: {p_value:.4f}'.format(group1,\n",
    "                                                                                                 group2,\n",
    "                                                                                                 event, \n",
    "                                                                                                 p_value=p_value/3))\n",
    "    if (p_value < alpha):\n",
    "        print('Отвергаем нулевую гипотезу: между долями есть значимая разница')\n",
    "    else:\n",
    "        print('Не получилось отвергнуть нулевую гипотезу, нет оснований считать доли разными')\n",
    "        "
   ]
  },
  {
   "cell_type": "markdown",
   "id": "8882da16",
   "metadata": {},
   "source": [
    "**Теперь создадим цикл, который будет перебирать события.**"
   ]
  },
  {
   "cell_type": "code",
   "execution_count": 59,
   "id": "362b0e4b",
   "metadata": {},
   "outputs": [
    {
     "name": "stdout",
     "output_type": "stream",
     "text": [
      "Тестируются группы 246 и 247, событие: MainScreenAppear, p-значение составляет: 0.2234\n",
      "Не получилось отвергнуть нулевую гипотезу, нет оснований считать доли разными\n",
      "\n",
      "Тестируются группы 246 и 247, событие: OffersScreenAppear, p-значение составляет: 0.0809\n",
      "Не получилось отвергнуть нулевую гипотезу, нет оснований считать доли разными\n",
      "\n",
      "Тестируются группы 246 и 247, событие: CartScreenAppear, p-значение составляет: 0.0727\n",
      "Не получилось отвергнуть нулевую гипотезу, нет оснований считать доли разными\n",
      "\n",
      "Тестируются группы 246 и 247, событие: PaymentScreenSuccessful, p-значение составляет: 0.0343\n",
      "Не получилось отвергнуть нулевую гипотезу, нет оснований считать доли разными\n",
      "\n"
     ]
    }
   ],
   "source": [
    "for event in event_info.index:\n",
    "    hypothesis_test(246, 247, 0.01)\n",
    "    print()"
   ]
  },
  {
   "cell_type": "markdown",
   "id": "20306cfb",
   "metadata": {},
   "source": [
    "**Тест указал на отсутсвие статически значимых различий. P-значение значительно выше установленного уровня статистической значимости.Есть все больше оснований считать, что разбиение на контрольные группы были проведено корректно.**"
   ]
  },
  {
   "cell_type": "markdown",
   "id": "e648fa60",
   "metadata": {},
   "source": [
    "**В случае всех 4 проверок p-значение значительно выше установленного уровня статистической значимости (1%). Нет статистически значимых различий  между контрольными группами в доле пользователей, просмотревших товары, корзину и оплативших заказ. Контрольные выборки были организованы верно.**"
   ]
  },
  {
   "cell_type": "markdown",
   "id": "2cbb3a4e",
   "metadata": {},
   "source": [
    "**Перейдем к A/B-эксперименту. Сравним доли пользователей, совершивших  действий в приложении долями в экспериметналньой группе и 2 контрольных выборках, а также их суммарными значениями.**"
   ]
  },
  {
   "cell_type": "markdown",
   "id": "005f970d",
   "metadata": {},
   "source": [
    "**Проведем 12 тестов, сформулируем к ним гипотезы:**\n",
    "\n",
    "    - Нулевая гипотеза - \"доли уникальные пользователей, побывавших на этапе воронки, одинаковы\".\n",
    "    - Альтернативная гипотеза - \"между долями уникальных посетителей, побывавших на этапе воронки, есть значимая разница\"."
   ]
  },
  {
   "cell_type": "code",
   "execution_count": 60,
   "id": "4d83e52d",
   "metadata": {},
   "outputs": [],
   "source": [
    "def hypothesis_test_2(group1, group2, alpha): \n",
    "    \n",
    "    events_one = event_info.loc[event, group1]\n",
    "    events_two = event_info.loc[event, group2] \n",
    "    users_one = users_per_group_merge.loc[group1, 'device_id'] \n",
    "    users_two = users_per_group_merge.loc[group2,'device_id'] \n",
    "    \n",
    "    # пропорция успехов в первой группе:\n",
    "    p1 = events_one / users_one \n",
    "    # пропорция успехов во второй группе\n",
    "    p2 = events_two / users_two \n",
    "    \n",
    "    # пропорция успехов в комбинированном датасете\n",
    "    p_combined = (events_one + events_two) / (users_one + users_two) \n",
    "    \n",
    "    # разница пропорций в датасетах\n",
    "    difference = p1 - p2\n",
    "    \n",
    "    # считаем статистику в ст.отклонениях стандартного нормального распределения\n",
    "    z_value = difference / mth.sqrt(p_combined * (1 - p_combined) * (1 / users_one + 1 / users_two))\n",
    "    \n",
    "    # задаем стандартное нормальное распределение (среднее 0, ст.отклонение 1)\n",
    "    distr = st.norm(0, 1)\n",
    "    p_value = (1 - distr.cdf(abs(z_value))) * 2\n",
    "    \n",
    "    \n",
    "    print('Тестируются выборки {} и {}, событие: {}, p-значение составляет: {p_value:.4f}'.format(group1,\n",
    "                                                                                                 group2,\n",
    "                                                                                                 event, \n",
    "                                                                                                 p_value=p_value))\n",
    "    if (p_value < alpha):\n",
    "        print('Отвергаем нулевую гипотезу: между долями есть значимая разница')\n",
    "    else:\n",
    "        print('Не получилось отвергнуть нулевую гипотезу, нет оснований считать доли разными')"
   ]
  },
  {
   "cell_type": "code",
   "execution_count": 61,
   "id": "6f3351cb",
   "metadata": {},
   "outputs": [
    {
     "name": "stdout",
     "output_type": "stream",
     "text": [
      "Тестируются выборки 246 и 248, событие: MainScreenAppear, p-значение составляет: 0.3969\n",
      "Не получилось отвергнуть нулевую гипотезу, нет оснований считать доли разными\n",
      "\n",
      "Тестируются выборки 247 и 248, событие: MainScreenAppear, p-значение составляет: 0.6723\n",
      "Не получилось отвергнуть нулевую гипотезу, нет оснований считать доли разными\n",
      "\n",
      "Тестируются выборки 249 и 248, событие: MainScreenAppear, p-значение составляет: 0.4599\n",
      "Не получилось отвергнуть нулевую гипотезу, нет оснований считать доли разными\n",
      "\n",
      "Тестируются выборки 246 и 248, событие: OffersScreenAppear, p-значение составляет: 0.2144\n",
      "Не получилось отвергнуть нулевую гипотезу, нет оснований считать доли разными\n",
      "\n",
      "Тестируются выборки 247 и 248, событие: OffersScreenAppear, p-значение составляет: 0.9430\n",
      "Не получилось отвергнуть нулевую гипотезу, нет оснований считать доли разными\n",
      "\n",
      "Тестируются выборки 249 и 248, событие: OffersScreenAppear, p-значение составляет: 0.4503\n",
      "Не получилось отвергнуть нулевую гипотезу, нет оснований считать доли разными\n",
      "\n",
      "Тестируются выборки 246 и 248, событие: CartScreenAppear, p-значение составляет: 0.0807\n",
      "Не получилось отвергнуть нулевую гипотезу, нет оснований считать доли разными\n",
      "\n",
      "Тестируются выборки 247 и 248, событие: CartScreenAppear, p-значение составляет: 0.6067\n",
      "Не получилось отвергнуть нулевую гипотезу, нет оснований считать доли разными\n",
      "\n",
      "Тестируются выборки 249 и 248, событие: CartScreenAppear, p-значение составляет: 0.1923\n",
      "Не получилось отвергнуть нулевую гипотезу, нет оснований считать доли разными\n",
      "\n",
      "Тестируются выборки 246 и 248, событие: PaymentScreenSuccessful, p-значение составляет: 0.2169\n",
      "Не получилось отвергнуть нулевую гипотезу, нет оснований считать доли разными\n",
      "\n",
      "Тестируются выборки 247 и 248, событие: PaymentScreenSuccessful, p-значение составляет: 0.6886\n",
      "Не получилось отвергнуть нулевую гипотезу, нет оснований считать доли разными\n",
      "\n",
      "Тестируются выборки 249 и 248, событие: PaymentScreenSuccessful, p-значение составляет: 0.6327\n",
      "Не получилось отвергнуть нулевую гипотезу, нет оснований считать доли разными\n",
      "\n"
     ]
    }
   ],
   "source": [
    "for event in event_info.index:\n",
    "    hypothesis_test_2(246, 248, 0.05)\n",
    "    print()\n",
    "    hypothesis_test_2(247, 248, 0.05)\n",
    "    print()\n",
    "    hypothesis_test_2('249',248, 0.05)\n",
    "    print()"
   ]
  },
  {
   "cell_type": "markdown",
   "id": "0539268a",
   "metadata": {},
   "source": [
    "**P-значение значительно больше установленного уровня статистической значимости. Раз нет оснований считать доли разными, то стоит говорить о том, что нет существенных различий в пользовательском поведении между группами.** "
   ]
  },
  {
   "cell_type": "markdown",
   "id": "8b598ec9",
   "metadata": {},
   "source": [
    "**Отсутствуют статистически значимые различия между экспериментальной группы и второй контрольной выборкой. Поскольку мы придерживаемся гипотез об отсутствии статистически значимых различий между контролньой выборкой 247 и экспериментальной группой 248 в доле пользователей, совершивших то или иное действие в приложении, можно говорить о том, что в случае ввода нового шрифта не столкнется с потерей выручки.**"
   ]
  },
  {
   "cell_type": "markdown",
   "id": "707688a8",
   "metadata": {},
   "source": [
    "**P-значения снова больше установленного уровня стастистической значимости. Различий между суммарными значениями контрольных выборок и экспериментальной группой.**"
   ]
  },
  {
   "cell_type": "markdown",
   "id": "3015e043",
   "metadata": {},
   "source": [
    "**При проверке статистических гипотез устанавливались разные уровни статистической значимости в зависимости от того, какой тест проводился: A/A или  A/B. В случае, если сравнивались контрольные группы, т.е. проводилось A/A-тестирование, устанавливался 1%, а если контрольные и экспериментальная (A/B-тест)  - 5%.**"
   ]
  },
  {
   "cell_type": "markdown",
   "id": "72a66ffc",
   "metadata": {},
   "source": [
    "**Число проведенных статистических тестов - 16.**"
   ]
  },
  {
   "cell_type": "markdown",
   "id": "5b9e3efd",
   "metadata": {},
   "source": [
    "**Поскольку в исследовании проводится множественная проверка гипотез, существует риск получить ложноположительный результат. Применим поправку Бонферрони для коррректировки уровня значимости для уменьшения групповой вероятности ошибки первого рода.**\n",
    "\n",
    "    -Нулевая гипотеза: количество пользователей, совершивших каждый шаг, одинаково.\n",
    "    -Альтернативная гипотеза: существуют значимые различия в количестве пользователей,совершивших каждый шаг."
   ]
  },
  {
   "cell_type": "code",
   "execution_count": 62,
   "id": "439382c2",
   "metadata": {},
   "outputs": [
    {
     "name": "stdout",
     "output_type": "stream",
     "text": [
      "p-значение для сравнения групп А и C:  0.9899666907572439\n",
      "p-значение для сравнения групп B и C:  0.9830967934642978\n",
      "p-значение для сравнения групп C и D:  0.05246048031257818\n",
      "Не получилось отвергнуть нулевую гипотезу для сравнения групп А и C\n",
      "Не получилось отвергнуть нулевую гипотезу для сравнения групп B и C\n",
      "Не получилось отвергнуть нулевую гипотезу для сравнения групп C и D\n"
     ]
    }
   ],
   "source": [
    "sample_A = events_and_groups[246]\n",
    "\n",
    "sample_B = events_and_groups[247]\n",
    "\n",
    "sample_C = events_and_groups[248]\n",
    "\n",
    "sample_D = events_and_groups[249]\n",
    "\n",
    "alpha = 0.05 \n",
    "\n",
    "results_AB = st.ttest_ind(sample_A, sample_C)\n",
    "\n",
    "results_BC = st.ttest_ind(sample_B, sample_C)\n",
    "\n",
    "results_CD = st.ttest_ind(sample_C, sample_D)\n",
    "\n",
    "bonferroni_alpha = alpha / 3  \n",
    "\n",
    "print('p-значение для сравнения групп А и C: ', results_AB.pvalue)\n",
    "\n",
    "print('p-значение для сравнения групп B и C: ', results_BC.pvalue)\n",
    "print('p-значение для сравнения групп C и D: ', results_CD.pvalue)\n",
    "\n",
    "if results_AB.pvalue < bonferroni_alpha:\n",
    "    print('Отвергаем нулевую гипотезу для сравнения групп A и C')\n",
    "else:\n",
    "    print(\n",
    "        'Не получилось отвергнуть нулевую гипотезу для сравнения групп А и C'\n",
    "    )\n",
    "\n",
    "if results_BC.pvalue < bonferroni_alpha:\n",
    "    print('Отвергаем нулевую гипотезу для сравнения групп B и C')\n",
    "else:\n",
    "    print(\n",
    "        'Не получилось отвергнуть нулевую гипотезу для сравнения групп B и C'\n",
    "    )\n",
    "\n",
    "if results_CD.pvalue < bonferroni_alpha:\n",
    "    print('Отвергаем нулевую гипотезу для сравнения групп C и D')\n",
    "else:\n",
    "    print(\n",
    "        'Не получилось отвергнуть нулевую гипотезу для сравнения групп C и D'\n",
    "    )\n"
   ]
  },
  {
   "cell_type": "markdown",
   "id": "1af7a590",
   "metadata": {},
   "source": [
    "**Нет подтверждения наличий различий в количестве пользователей, совершивших шаги в приложений.**"
   ]
  },
  {
   "cell_type": "markdown",
   "id": "172029af",
   "metadata": {},
   "source": [
    "**Стоит обратить, что при сравнении экспериментальной группы с контрольными p-значение составляет почти 10%. При этом в тесте повышение alpha до 0.1 может увеличить вероятность получения ложнопозитивного результата. Также полученные в ходе теста p-значения все равно будут значительно выше alpha, в связи с чем результат не поменяется.**"
   ]
  },
  {
   "cell_type": "markdown",
   "id": "77df2d41",
   "metadata": {},
   "source": [
    "## Выводы"
   ]
  },
  {
   "cell_type": "markdown",
   "id": "b7b93a16",
   "metadata": {},
   "source": [
    "**Для того, чтобы оценить влияние изменения шрифта в мобильном приложении продуктового стартапа, в исследовании были предприняты следующие шаги:**\n",
    "    \n",
    "    -открытие и изучение файла;\n",
    "    -предобработка данных, включающая в себя изучение типов данных в датафрейме, его изменение в случае необходимости, \n",
    "    проверка датафрейма на наличие пропусков, дубликатов и пересечения (т.е. присутствия пользователей в несколькиз группах);\n",
    "    -выявление количества логов, а также уникальных пользователей в датафрейме и в каждой отдельной группе; \n",
    "    -изучение периода проведения эксперимента, в частности выявление даты его начала и завершения; \n",
    "    - проверка присутствия пользователей во всех группах после корректирования исследуемого периода, а также выявление \n",
    "    числа удаленных уникальных пользователей;\n",
    "    -изучение воронки событий, что включает в себя выявление наиболее распространенных событий во время эксперимента,\n",
    "    расчет количества уникальных пользователей, совершивших каждое событие, а также исследование последовательности событий\n",
    "    и расчет доли пользователей, которая переходит на следующий шаг и доходит от первого события до оплаты заказа;\n",
    "    - статистический анализ эксперимента в несколько этапов: \n",
    "      1)проверка отсутствия статистически значимых различий между контрольными группами в доле пользователей,\n",
    "      ставших покупателями (A/A-эксперимент);\n",
    "      2)проверка отсутствия статистически значимых различий между контрольными группами в доле пользователей,\n",
    "      совершивших различные события (A/A-эксперимент);\n",
    "      3)проверка отсутствия статистически значимых различий между контрольной группой №1 и экспериментальной в\n",
    "      доле пользователей, совершивших различные события (A/B-эксперимент);\n",
    "      4)проверка отсутствия статистически значимых различий между контрольной группой №2 и экспериментальной в\n",
    "      доле пользователей, совершивших различные события (A/B-эксперимент);\n",
    "      5)проверка отсутствия статистически значимых различий суммарными показателями контрольных групп и\n",
    "      экспериментальной в доле пользователей, совершивших различные события.\n",
    "      \n",
    "Следуя данному алгоритму, удалось установить, что эксперимент длился на протяжении 13 дней. Поскольку на протяжении первых дней активность пользователей была значительно ниже, чем в последующие дни, было принято решение сократить исследуемый период на 5 дней. Также были изучены события в приложения: переход на его главную страницу(самое распространенное событие), просмотр товаров, переход в корзину, оплата покупки и ознакомление с руководством пользователя. Прочтение инструкции было удалено из анализа, так как лишь 11% пользователей предприняли данный шаг.\n",
    "\n",
    "В исследовании было проведено 17 статистических тестов. В результате каждого из экспериментов не удалось отвергнуть нулевые гипотезы об отсутствии статистических различий между группами в долях пользователей, ставших покупателями и совершими другие шаги в приложении. Нет оснований полагать, что доли значительно статистически разные как при изучении контрольных групп, так и при сравнении каждой из них отдельно с экспериментальной выборкой. \n",
    "\n",
    "Таким образом, можно сделать вывод о том, что измение шрифта в приложении не окажет значительного влияния на пользователськое поведение. Уровень продаж сохранится на том же уровне, что и до его ввода.\n"
   ]
  },
  {
   "cell_type": "code",
   "execution_count": null,
   "id": "ecc8914c",
   "metadata": {},
   "outputs": [],
   "source": []
  }
 ],
 "metadata": {
  "kernelspec": {
   "display_name": "Python 3 (ipykernel)",
   "language": "python",
   "name": "python3"
  },
  "language_info": {
   "codemirror_mode": {
    "name": "ipython",
    "version": 3
   },
   "file_extension": ".py",
   "mimetype": "text/x-python",
   "name": "python",
   "nbconvert_exporter": "python",
   "pygments_lexer": "ipython3",
   "version": "3.9.13"
  },
  "toc": {
   "base_numbering": 1,
   "nav_menu": {},
   "number_sections": true,
   "sideBar": true,
   "skip_h1_title": false,
   "title_cell": "Table of Contents",
   "title_sidebar": "Contents",
   "toc_cell": false,
   "toc_position": {},
   "toc_section_display": true,
   "toc_window_display": true
  }
 },
 "nbformat": 4,
 "nbformat_minor": 5
}
