{
 "cells": [
  {
   "cell_type": "markdown",
   "id": "ac4f6f3a",
   "metadata": {},
   "source": [
    "## Анализ поведения пользователей мобильного приложения \"Ненужные вещи\"\n",
    "\n",
    "      \"Ненужные вещи\" - это мобильное приложение, где люди могут продавать свои ненужные вещи путем размещения объявлений.\n",
    "      Перед продакт-менеджером стоит задача повысить вовлеченность пользователей в приложение. \n",
    " \n",
    "      В распоряжении данные пользователей, впервые совершивших действия в приложении после 7 октября 2019 года. Планируется,\n",
    "      что выводы, полученные при анализе особенностей пользовательского поведения, будут использоваться для дальнейшей\n",
    "      выработки гиппотез. "
   ]
  },
  {
   "cell_type": "markdown",
   "id": "958c2c75",
   "metadata": {},
   "source": [
    "## Цель, задачи и алгоритм действий\n",
    "\n",
    "     Цель исследования - выявить, какие события влияют на конверсию в целевое событие — просмотра контактов, а также \n",
    "     обнаружить основные сценарии использования приложения. \n",
    "\n",
    "    Задачи исследования: \n",
    "    -найти характерные черты между пользователями, которые просматривают контакты;\n",
    "    -обнаружить эффективные и неэффективны с точки зрения конверсии события.\n",
    "    \n",
    "    Для решения поставленной задачи будет выполнены следующие шаги:\n",
    "    -открытие и изучение файла;\n",
    "    -предобработка данных, включающая в себя изучение типов данных в датафреймах, его изменение в случае необходимости,\n",
    "    проверка датафреймов на наличие пропусков, дубликатов(как явных, так и неявных), а также объединение датафреймов и \n",
    "    добавление новых столбцов(с днем, номером недели и датой начала недели);\n",
    "    -выявление количества логов, а также уникальных пользователей в датафрейме; \n",
    "    -изучение периода проведения эксперимента, в частности выявление даты его начала и завершения;\n",
    "    -выявление среднего и медианного количества событий на пользователя;\n",
    "    -изучение источников привлечения пользователей посредством построения сводной таблицы и столбчатой диаграммы;\n",
    "    -изучение частоты событий посредством построения сводной таблицы и столбчатой диаграмму;\n",
    "    -выявление количества пользователей, совершивших целевое действие;\n",
    "    -выявление среднего значения тайм-аута и последующее выявление количества сессий;\n",
    "    -изучение таких показателей как DAU и WAU;\n",
    "    -построение диаграммы Санкея для выявления наиболее распространенных сценариев совершения целевого действия;\n",
    "    -расчет конверсии для пользователей, которые дошли до целевого действия по разным сценариям;\n",
    "    -построение воронок событий;\n",
    "    -статистический анализ данных, включающий в себя проверку 2 гипотез:\n",
    "    \n",
    "    Гипотеза 1(нулевая): \"конверсия у пользователей, совершающих действия и tips_show и tips_click, и тех, кто\n",
    "    совершает только tips_show, одинакова\"; \n",
    "    Гипотеза 1(альтернативная): \"Альтернативная гипотеза -  \"конверсия в просмотры контактов различается у пользователей, \n",
    "    совершающих действия и tips_show и tips_click, и тех, кто, кто совершает только tips_show\".\n",
    "    \n",
    "    Гипотеза 2(нулевая): \"конверсия у пользователей; просмотревших фотографии, и тех, кто пропустил этот шаг, одинаковая\".\n",
    "    Гипотеза 2 (альтернативная): \"cуществуют значимые различия в конверсии у пользователей; просмотревших фотографии, и тех,\n",
    "    кто пропустил этот шаг\".\n",
    "    \n",
    "    "
   ]
  },
  {
   "cell_type": "markdown",
   "id": "d83dcc03",
   "metadata": {},
   "source": [
    "## Изучение файлов и предобработка данных"
   ]
  },
  {
   "cell_type": "code",
   "execution_count": 1,
   "id": "38753936",
   "metadata": {},
   "outputs": [],
   "source": [
    "#импортируем все необходимые библиотеки\n",
    "import pandas as pd \n",
    "import numpy as np\n",
    "import seaborn as sns\n",
    "import warnings\n",
    "warnings.filterwarnings(\"ignore\")\n",
    "from datetime import datetime\n",
    "import matplotlib.pyplot as plt \n",
    "import plotly.express as px\n",
    "import plotly.graph_objects as go\n",
    "import plotly.io as pio\n",
    "import requests\n",
    "from urllib3.exceptions import InsecureRequestWarning\n",
    "requests.packages.urllib3.disable_warnings(category=InsecureRequestWarning)\n",
    "from tqdm import tqdm\n",
    "from scipy import stats as st\n",
    "import math as mth# импортируем библиотеку scipy для статистического анализа"
   ]
  },
  {
   "cell_type": "code",
   "execution_count": 2,
   "id": "86ea798d",
   "metadata": {},
   "outputs": [],
   "source": [
    "mobile_sources = pd.read_csv('https://code.s3.yandex.net/datasets/mobile_sources.csv') \n",
    "mobile_dataset = pd.read_csv('https://code.s3.yandex.net/datasets/mobile_dataset.csv')"
   ]
  },
  {
   "cell_type": "markdown",
   "id": "a4fea020",
   "metadata": {},
   "source": [
    "**Напишем функции, чтобы вывести на экран всю основную информацию о датафреймах.**"
   ]
  },
  {
   "cell_type": "code",
   "execution_count": 3,
   "id": "2b5abbe5",
   "metadata": {},
   "outputs": [
    {
     "data": {
      "text/html": [
       "<div>\n",
       "<style scoped>\n",
       "    .dataframe tbody tr th:only-of-type {\n",
       "        vertical-align: middle;\n",
       "    }\n",
       "\n",
       "    .dataframe tbody tr th {\n",
       "        vertical-align: top;\n",
       "    }\n",
       "\n",
       "    .dataframe thead th {\n",
       "        text-align: right;\n",
       "    }\n",
       "</style>\n",
       "<table border=\"1\" class=\"dataframe\">\n",
       "  <thead>\n",
       "    <tr style=\"text-align: right;\">\n",
       "      <th></th>\n",
       "      <th>userId</th>\n",
       "      <th>source</th>\n",
       "    </tr>\n",
       "  </thead>\n",
       "  <tbody>\n",
       "    <tr>\n",
       "      <th>0</th>\n",
       "      <td>020292ab-89bc-4156-9acf-68bc2783f894</td>\n",
       "      <td>other</td>\n",
       "    </tr>\n",
       "    <tr>\n",
       "      <th>1</th>\n",
       "      <td>cf7eda61-9349-469f-ac27-e5b6f5ec475c</td>\n",
       "      <td>yandex</td>\n",
       "    </tr>\n",
       "    <tr>\n",
       "      <th>2</th>\n",
       "      <td>8c356c42-3ba9-4cb6-80b8-3f868d0192c3</td>\n",
       "      <td>yandex</td>\n",
       "    </tr>\n",
       "    <tr>\n",
       "      <th>3</th>\n",
       "      <td>d9b06b47-0f36-419b-bbb0-3533e582a6cb</td>\n",
       "      <td>other</td>\n",
       "    </tr>\n",
       "    <tr>\n",
       "      <th>4</th>\n",
       "      <td>f32e1e2a-3027-4693-b793-b7b3ff274439</td>\n",
       "      <td>google</td>\n",
       "    </tr>\n",
       "  </tbody>\n",
       "</table>\n",
       "</div>"
      ],
      "text/plain": [
       "                                 userId  source\n",
       "0  020292ab-89bc-4156-9acf-68bc2783f894   other\n",
       "1  cf7eda61-9349-469f-ac27-e5b6f5ec475c  yandex\n",
       "2  8c356c42-3ba9-4cb6-80b8-3f868d0192c3  yandex\n",
       "3  d9b06b47-0f36-419b-bbb0-3533e582a6cb   other\n",
       "4  f32e1e2a-3027-4693-b793-b7b3ff274439  google"
      ]
     },
     "metadata": {},
     "output_type": "display_data"
    },
    {
     "name": "stdout",
     "output_type": "stream",
     "text": [
      "<class 'pandas.core.frame.DataFrame'>\n",
      "RangeIndex: 4293 entries, 0 to 4292\n",
      "Data columns (total 2 columns):\n",
      " #   Column  Non-Null Count  Dtype \n",
      "---  ------  --------------  ----- \n",
      " 0   userId  4293 non-null   object\n",
      " 1   source  4293 non-null   object\n",
      "dtypes: object(2)\n",
      "memory usage: 67.2+ KB\n"
     ]
    },
    {
     "data": {
      "text/plain": [
       "<bound method NDFrame.describe of                                     userId  source\n",
       "0     020292ab-89bc-4156-9acf-68bc2783f894   other\n",
       "1     cf7eda61-9349-469f-ac27-e5b6f5ec475c  yandex\n",
       "2     8c356c42-3ba9-4cb6-80b8-3f868d0192c3  yandex\n",
       "3     d9b06b47-0f36-419b-bbb0-3533e582a6cb   other\n",
       "4     f32e1e2a-3027-4693-b793-b7b3ff274439  google\n",
       "...                                    ...     ...\n",
       "4288  b86fe56e-f2de-4f8a-b192-cd89a37ecd41  yandex\n",
       "4289  424c0ae1-3ea3-4f1e-a814-6bac73e48ab1  yandex\n",
       "4290  437a4cd4-9ba9-457f-8614-d142bc48fbeb  yandex\n",
       "4291  c10055f0-0b47-477a-869e-d391b31fdf8f  yandex\n",
       "4292  d157bffc-264d-4464-8220-1cc0c42f43a9  google\n",
       "\n",
       "[4293 rows x 2 columns]>"
      ]
     },
     "metadata": {},
     "output_type": "display_data"
    },
    {
     "name": "stdout",
     "output_type": "stream",
     "text": [
      "0\n"
     ]
    }
   ],
   "source": [
    "def data_info_1(mobile_sources):\n",
    "      display(mobile_sources.head()), mobile_sources.info(), display(mobile_sources.describe),print(mobile_sources.duplicated().sum())\n",
    "        \n",
    "data_info_1(mobile_sources);"
   ]
  },
  {
   "cell_type": "markdown",
   "id": "e5abeb48",
   "metadata": {},
   "source": [
    "**В датафрейме mobile_sources отсутствуют пропуски. Типы данных в порядке. Явные дубликаты отсутствуют.**"
   ]
  },
  {
   "cell_type": "markdown",
   "id": "5beeecc0",
   "metadata": {},
   "source": [
    "**Перейдем к датафрейму mobile_dataset.**"
   ]
  },
  {
   "cell_type": "code",
   "execution_count": 4,
   "id": "be295a7f",
   "metadata": {},
   "outputs": [
    {
     "data": {
      "text/html": [
       "<div>\n",
       "<style scoped>\n",
       "    .dataframe tbody tr th:only-of-type {\n",
       "        vertical-align: middle;\n",
       "    }\n",
       "\n",
       "    .dataframe tbody tr th {\n",
       "        vertical-align: top;\n",
       "    }\n",
       "\n",
       "    .dataframe thead th {\n",
       "        text-align: right;\n",
       "    }\n",
       "</style>\n",
       "<table border=\"1\" class=\"dataframe\">\n",
       "  <thead>\n",
       "    <tr style=\"text-align: right;\">\n",
       "      <th></th>\n",
       "      <th>event.time</th>\n",
       "      <th>event.name</th>\n",
       "      <th>user.id</th>\n",
       "    </tr>\n",
       "  </thead>\n",
       "  <tbody>\n",
       "    <tr>\n",
       "      <th>0</th>\n",
       "      <td>2019-10-07 00:00:00.431357</td>\n",
       "      <td>advert_open</td>\n",
       "      <td>020292ab-89bc-4156-9acf-68bc2783f894</td>\n",
       "    </tr>\n",
       "    <tr>\n",
       "      <th>1</th>\n",
       "      <td>2019-10-07 00:00:01.236320</td>\n",
       "      <td>tips_show</td>\n",
       "      <td>020292ab-89bc-4156-9acf-68bc2783f894</td>\n",
       "    </tr>\n",
       "    <tr>\n",
       "      <th>2</th>\n",
       "      <td>2019-10-07 00:00:02.245341</td>\n",
       "      <td>tips_show</td>\n",
       "      <td>cf7eda61-9349-469f-ac27-e5b6f5ec475c</td>\n",
       "    </tr>\n",
       "    <tr>\n",
       "      <th>3</th>\n",
       "      <td>2019-10-07 00:00:07.039334</td>\n",
       "      <td>tips_show</td>\n",
       "      <td>020292ab-89bc-4156-9acf-68bc2783f894</td>\n",
       "    </tr>\n",
       "    <tr>\n",
       "      <th>4</th>\n",
       "      <td>2019-10-07 00:00:56.319813</td>\n",
       "      <td>advert_open</td>\n",
       "      <td>cf7eda61-9349-469f-ac27-e5b6f5ec475c</td>\n",
       "    </tr>\n",
       "  </tbody>\n",
       "</table>\n",
       "</div>"
      ],
      "text/plain": [
       "                   event.time   event.name  \\\n",
       "0  2019-10-07 00:00:00.431357  advert_open   \n",
       "1  2019-10-07 00:00:01.236320    tips_show   \n",
       "2  2019-10-07 00:00:02.245341    tips_show   \n",
       "3  2019-10-07 00:00:07.039334    tips_show   \n",
       "4  2019-10-07 00:00:56.319813  advert_open   \n",
       "\n",
       "                                user.id  \n",
       "0  020292ab-89bc-4156-9acf-68bc2783f894  \n",
       "1  020292ab-89bc-4156-9acf-68bc2783f894  \n",
       "2  cf7eda61-9349-469f-ac27-e5b6f5ec475c  \n",
       "3  020292ab-89bc-4156-9acf-68bc2783f894  \n",
       "4  cf7eda61-9349-469f-ac27-e5b6f5ec475c  "
      ]
     },
     "metadata": {},
     "output_type": "display_data"
    },
    {
     "name": "stdout",
     "output_type": "stream",
     "text": [
      "<class 'pandas.core.frame.DataFrame'>\n",
      "RangeIndex: 74197 entries, 0 to 74196\n",
      "Data columns (total 3 columns):\n",
      " #   Column      Non-Null Count  Dtype \n",
      "---  ------      --------------  ----- \n",
      " 0   event.time  74197 non-null  object\n",
      " 1   event.name  74197 non-null  object\n",
      " 2   user.id     74197 non-null  object\n",
      "dtypes: object(3)\n",
      "memory usage: 1.7+ MB\n"
     ]
    },
    {
     "data": {
      "text/plain": [
       "<bound method NDFrame.describe of                        event.time   event.name  \\\n",
       "0      2019-10-07 00:00:00.431357  advert_open   \n",
       "1      2019-10-07 00:00:01.236320    tips_show   \n",
       "2      2019-10-07 00:00:02.245341    tips_show   \n",
       "3      2019-10-07 00:00:07.039334    tips_show   \n",
       "4      2019-10-07 00:00:56.319813  advert_open   \n",
       "...                           ...          ...   \n",
       "74192  2019-11-03 23:53:29.534986    tips_show   \n",
       "74193  2019-11-03 23:54:00.407086    tips_show   \n",
       "74194  2019-11-03 23:56:57.041825     search_1   \n",
       "74195  2019-11-03 23:57:06.232189    tips_show   \n",
       "74196  2019-11-03 23:58:12.532487    tips_show   \n",
       "\n",
       "                                    user.id  \n",
       "0      020292ab-89bc-4156-9acf-68bc2783f894  \n",
       "1      020292ab-89bc-4156-9acf-68bc2783f894  \n",
       "2      cf7eda61-9349-469f-ac27-e5b6f5ec475c  \n",
       "3      020292ab-89bc-4156-9acf-68bc2783f894  \n",
       "4      cf7eda61-9349-469f-ac27-e5b6f5ec475c  \n",
       "...                                     ...  \n",
       "74192  28fccdf4-7b9e-42f5-bc73-439a265f20e9  \n",
       "74193  28fccdf4-7b9e-42f5-bc73-439a265f20e9  \n",
       "74194  20850c8f-4135-4059-b13b-198d3ac59902  \n",
       "74195  28fccdf4-7b9e-42f5-bc73-439a265f20e9  \n",
       "74196  28fccdf4-7b9e-42f5-bc73-439a265f20e9  \n",
       "\n",
       "[74197 rows x 3 columns]>"
      ]
     },
     "metadata": {},
     "output_type": "display_data"
    },
    {
     "name": "stdout",
     "output_type": "stream",
     "text": [
      "0\n"
     ]
    }
   ],
   "source": [
    "def data_info_2(mobile_dataset):\n",
    "      display(mobile_dataset.head()), mobile_dataset.info(), display(mobile_dataset.describe),print(mobile_dataset.duplicated().sum())\n",
    "        \n",
    "data_info_2(mobile_dataset);"
   ]
  },
  {
   "cell_type": "markdown",
   "id": "f519c376",
   "metadata": {},
   "source": [
    "**В mobile_dataset также отсутствуют дубликаты. Есть проблемы с типом данных столбца event_name; он должен быть временных. Явные дубликаты отсутствуют.**"
   ]
  },
  {
   "cell_type": "markdown",
   "id": "79b812c2",
   "metadata": {},
   "source": [
    "**Изменим тип данных в столбце со временем событий. Также избавимся от миллисекунд.**"
   ]
  },
  {
   "cell_type": "code",
   "execution_count": 5,
   "id": "5f4d5940",
   "metadata": {},
   "outputs": [],
   "source": [
    "mobile_dataset['event.time'] = pd.to_datetime(mobile_dataset['event.time'])"
   ]
  },
  {
   "cell_type": "markdown",
   "id": "ffb4b8f5",
   "metadata": {},
   "source": [
    "**Для удобства добавим нижние подчеркивания в названия столбцов.**"
   ]
  },
  {
   "cell_type": "code",
   "execution_count": 6,
   "id": "f0236a6a",
   "metadata": {},
   "outputs": [],
   "source": [
    "mobile_sources.columns = ['user_id',\n",
    "                          'source'\n",
    "                         ]\n",
    "\n",
    "mobile_dataset.columns = ['event_time',\n",
    "                          'event_name',\n",
    "                          'user_id'\n",
    "                         ]"
   ]
  },
  {
   "cell_type": "markdown",
   "id": "42a550a1",
   "metadata": {},
   "source": [
    "**В датафрейм mobile_dataset добавим столбец, в котором будет отображаться дата события. Это нужно для визуализации динамики событий.**"
   ]
  },
  {
   "cell_type": "code",
   "execution_count": 7,
   "id": "00be8003",
   "metadata": {},
   "outputs": [],
   "source": [
    "mobile_dataset['dt'] = mobile_dataset['event_time'].dt.date"
   ]
  },
  {
   "cell_type": "markdown",
   "id": "a067d3a7",
   "metadata": {},
   "source": [
    "**Также добавим столбец с номером недели и датой начала недели. Это пригодится для изучения пользовательской активности во времени.**"
   ]
  },
  {
   "cell_type": "code",
   "execution_count": 8,
   "id": "a905ab8f",
   "metadata": {},
   "outputs": [],
   "source": [
    "mobile_dataset['week_number'] = mobile_dataset['event_time'].dt.week\n"
   ]
  },
  {
   "cell_type": "code",
   "execution_count": 9,
   "id": "ef7c82c9",
   "metadata": {},
   "outputs": [],
   "source": [
    "mobile_dataset['week_start'] = mobile_dataset['event_time'].dt.to_period('W').apply(lambda r: r.start_time)\n"
   ]
  },
  {
   "cell_type": "markdown",
   "id": "24b1aee4",
   "metadata": {},
   "source": [
    "**Изучим названия источников, с которых пользователи установили приложения, чтобы найти неявные дубликаты.**"
   ]
  },
  {
   "cell_type": "code",
   "execution_count": 10,
   "id": "efd0e544",
   "metadata": {},
   "outputs": [
    {
     "data": {
      "text/plain": [
       "array(['other', 'yandex', 'google'], dtype=object)"
      ]
     },
     "execution_count": 10,
     "metadata": {},
     "output_type": "execute_result"
    }
   ],
   "source": [
    "mobile_sources.source.unique()"
   ]
  },
  {
   "cell_type": "markdown",
   "id": "531bea18",
   "metadata": {},
   "source": [
    "**Всего 3 источника: Yandex, Google и др. Дубликаты отсутствуют.**"
   ]
  },
  {
   "cell_type": "markdown",
   "id": "abdac2c8",
   "metadata": {},
   "source": [
    "**Перейдем к изучению названию событий  для выявления неявных дубликатов.**"
   ]
  },
  {
   "cell_type": "code",
   "execution_count": 11,
   "id": "bc5d134a",
   "metadata": {},
   "outputs": [
    {
     "data": {
      "text/plain": [
       "array(['advert_open', 'tips_show', 'map', 'contacts_show', 'search_4',\n",
       "       'search_5', 'tips_click', 'photos_show', 'search_1', 'search_2',\n",
       "       'search_3', 'favorites_add', 'contacts_call', 'search_6',\n",
       "       'search_7', 'show_contacts'], dtype=object)"
      ]
     },
     "execution_count": 11,
     "metadata": {},
     "output_type": "execute_result"
    }
   ],
   "source": [
    "mobile_dataset.event_name.unique() "
   ]
  },
  {
   "cell_type": "markdown",
   "id": "03051e8f",
   "metadata": {},
   "source": [
    "**'Contacts_show' и 'show_contacts' - это одно и то же действие. Для удобства заменим название 'show_contacts' на 'contacts_show'.**"
   ]
  },
  {
   "cell_type": "code",
   "execution_count": 12,
   "id": "e9e7b2ab",
   "metadata": {},
   "outputs": [],
   "source": [
    "mobile_dataset = mobile_dataset.replace({'event_name':{'show_contacts':'contacts_show'}})\n"
   ]
  },
  {
   "cell_type": "markdown",
   "id": "99a8fa0e",
   "metadata": {},
   "source": [
    "**Search_1 - search_7 - это разнообразные действия, связанные с поиском по сайту. В данном исследовании не принципиально важно, какое именно из таких действий совершалось. Для удобства объединим эти события в общую категорию search_activity.**"
   ]
  },
  {
   "cell_type": "code",
   "execution_count": 13,
   "id": "536b0c91",
   "metadata": {},
   "outputs": [],
   "source": [
    "mobile_dataset['event_name'] = mobile_dataset['event_name'].str.replace('search_+\\d', 'search',regex=True)\n"
   ]
  },
  {
   "cell_type": "markdown",
   "id": "5e81c075",
   "metadata": {},
   "source": [
    "**Объединим датафреймы mobile_sources и mobile_dataset.**"
   ]
  },
  {
   "cell_type": "code",
   "execution_count": 14,
   "id": "638032ed",
   "metadata": {},
   "outputs": [
    {
     "name": "stdout",
     "output_type": "stream",
     "text": [
      "<class 'pandas.core.frame.DataFrame'>\n",
      "Int64Index: 74197 entries, 0 to 74196\n",
      "Data columns (total 7 columns):\n",
      " #   Column       Non-Null Count  Dtype         \n",
      "---  ------       --------------  -----         \n",
      " 0   event_time   74197 non-null  datetime64[ns]\n",
      " 1   event_name   74197 non-null  object        \n",
      " 2   user_id      74197 non-null  object        \n",
      " 3   dt           74197 non-null  object        \n",
      " 4   week_number  74197 non-null  int64         \n",
      " 5   week_start   74197 non-null  datetime64[ns]\n",
      " 6   source       74197 non-null  object        \n",
      "dtypes: datetime64[ns](2), int64(1), object(4)\n",
      "memory usage: 4.5+ MB\n"
     ]
    }
   ],
   "source": [
    "data = mobile_dataset.merge(mobile_sources, on='user_id')\n",
    "data.info()"
   ]
  },
  {
   "cell_type": "markdown",
   "id": "05db105a",
   "metadata": {},
   "source": [
    "## Исследовательский анализ данных"
   ]
  },
  {
   "cell_type": "markdown",
   "id": "db0a4157",
   "metadata": {},
   "source": [
    "### Изучение общих данных"
   ]
  },
  {
   "cell_type": "markdown",
   "id": "624e0783",
   "metadata": {},
   "source": [
    "**Узнаем, сколько всего событий в логе.**"
   ]
  },
  {
   "cell_type": "code",
   "execution_count": 15,
   "id": "218493cb",
   "metadata": {},
   "outputs": [
    {
     "name": "stdout",
     "output_type": "stream",
     "text": [
      "Общее количество событий в логе: 74197\n"
     ]
    }
   ],
   "source": [
    "print('Общее количество событий в логе:', data.event_name.count())"
   ]
  },
  {
   "cell_type": "markdown",
   "id": "685cda73",
   "metadata": {},
   "source": [
    "**Выясним, сколько видов событий включены в датафрейм.**"
   ]
  },
  {
   "cell_type": "code",
   "execution_count": 16,
   "id": "f4872ba4",
   "metadata": {},
   "outputs": [
    {
     "name": "stdout",
     "output_type": "stream",
     "text": [
      "Количество событий в логе: 9\n"
     ]
    }
   ],
   "source": [
    "print('Количество событий в логе:', data.event_name.nunique())"
   ]
  },
  {
   "cell_type": "markdown",
   "id": "691370d6",
   "metadata": {},
   "source": [
    "### Изучение периода сбора данных"
   ]
  },
  {
   "cell_type": "markdown",
   "id": "045aa4ea",
   "metadata": {},
   "source": [
    "**Сначала узнаем минимальную дату.**"
   ]
  },
  {
   "cell_type": "code",
   "execution_count": 17,
   "id": "bd661d2f",
   "metadata": {},
   "outputs": [
    {
     "data": {
      "text/plain": [
       "Timestamp('2019-10-07 00:00:00.431357')"
      ]
     },
     "execution_count": 17,
     "metadata": {},
     "output_type": "execute_result"
    }
   ],
   "source": [
    "data.event_time.min()"
   ]
  },
  {
   "cell_type": "markdown",
   "id": "3e9506bc",
   "metadata": {},
   "source": [
    "**Самое первое событие произошло в полночь 7 октября 2019 г.Теперь посмотрим на максимальную дату.**"
   ]
  },
  {
   "cell_type": "code",
   "execution_count": 18,
   "id": "5658cebe",
   "metadata": {},
   "outputs": [
    {
     "data": {
      "text/plain": [
       "Timestamp('2019-11-03 23:58:12.532487')"
      ]
     },
     "execution_count": 18,
     "metadata": {},
     "output_type": "execute_result"
    }
   ],
   "source": [
    "data.event_time.max()"
   ]
  },
  {
   "cell_type": "markdown",
   "id": "91a3b525",
   "metadata": {},
   "source": [
    "**Последнее действие было зафиксировано 3 ноября 2019 г. в 23.58.**"
   ]
  },
  {
   "cell_type": "markdown",
   "id": "7f0e96af",
   "metadata": {},
   "source": [
    "**Визуализируем динамку событий.**"
   ]
  },
  {
   "cell_type": "markdown",
   "id": "e6b441ac",
   "metadata": {},
   "source": [
    "**Бывает, что данные об активности пользователей приходят с задержкой или же на начальных этапах их фиксирования пользовательская активность низкая. Посмотрим, как распределены значения количества событий во времени, чтобы понять, отличалась ли активность пользователей в первые дни.**"
   ]
  },
  {
   "cell_type": "code",
   "execution_count": 78,
   "id": "ff06565e",
   "metadata": {},
   "outputs": [
    {
     "data": {
      "image/png": "[encoded data removed]",
      "text/plain": [
       "<Figure size 1700x700 with 1 Axes>"
      ]
     },
     "metadata": {},
     "output_type": "display_data"
    }
   ],
   "source": [
    "data['date'] = data['event_time'].dt.date\n",
    "plt.figure(figsize=(17, 7))\n",
    "activity_per_day = data.pivot_table(index='date',values= 'event_name', aggfunc='count')\n",
    "sns.lineplot(data=activity_per_day, x='date', y='event_name',color='#66c2a5')\n",
    "plt.xlabel('Дата')\n",
    "plt.ylabel('Количество событий')\n",
    "plt.title('Динамика пользовательской активности в приложении')\n",
    "plt.show();"
   ]
  },
  {
   "cell_type": "markdown",
   "id": "b1eb9e9a",
   "metadata": {},
   "source": [
    "**С самого начала исследуемого периода пользователи активно пользовались приложением. Во все дни наблюдается резкое снижение активности ночью и ее стремительный рост после 9 утра.Значит, не будем из анализа убирать начальные даты. В практически все дни совершалось схожее количество событий, однако, с 23 октября активность выросла.** "
   ]
  },
  {
   "cell_type": "markdown",
   "id": "dab17d67",
   "metadata": {},
   "source": [
    "## Составление пользовательского профиля"
   ]
  },
  {
   "cell_type": "markdown",
   "id": "7abe47be",
   "metadata": {},
   "source": [
    "### Расчет среднего количества событий на пользователя"
   ]
  },
  {
   "cell_type": "code",
   "execution_count": 20,
   "id": "35c7dede",
   "metadata": {},
   "outputs": [
    {
     "data": {
      "text/plain": [
       "event_name    17.283252\n",
       "dtype: float64"
      ]
     },
     "execution_count": 20,
     "metadata": {},
     "output_type": "execute_result"
    }
   ],
   "source": [
    "avg_event_count =  data.groupby('user_id').agg({'event_name':'count'}).mean()\n",
    "avg_event_count"
   ]
  },
  {
   "cell_type": "markdown",
   "id": "c6ae9750",
   "metadata": {},
   "source": [
    "**В среднем, пользователи совершили 17 действий в мобильном приложении. Посмотрим на медианное значение: оно более показательное.**"
   ]
  },
  {
   "cell_type": "markdown",
   "id": "b919af84",
   "metadata": {},
   "source": [
    "### Расчет медианного количества событий на пользователя"
   ]
  },
  {
   "cell_type": "code",
   "execution_count": 21,
   "id": "a7ca994c",
   "metadata": {},
   "outputs": [
    {
     "data": {
      "text/plain": [
       "event_name    9.0\n",
       "dtype: float64"
      ]
     },
     "execution_count": 21,
     "metadata": {},
     "output_type": "execute_result"
    }
   ],
   "source": [
    "median_event_count =  data.groupby('user_id').agg({'event_name':'count'}).median()\n",
    "median_event_count"
   ]
  },
  {
   "cell_type": "markdown",
   "id": "cdd4fc1c",
   "metadata": {},
   "source": [
    "**Медиана составляет 9 событий на пользователя. Выглядит более реалистично, чем среднее значение.**"
   ]
  },
  {
   "cell_type": "markdown",
   "id": "2a18991e",
   "metadata": {},
   "source": [
    "### Изучение распределения значений количества событий на 1  пользователя"
   ]
  },
  {
   "cell_type": "markdown",
   "id": "9bfe0a8a",
   "metadata": {},
   "source": [
    "**Сначала создадим сводную таблицу c общим количеством действий каждого пользователя.**"
   ]
  },
  {
   "cell_type": "code",
   "execution_count": 22,
   "id": "c5b45dcd",
   "metadata": {},
   "outputs": [
    {
     "data": {
      "text/html": [
       "<div>\n",
       "<style scoped>\n",
       "    .dataframe tbody tr th:only-of-type {\n",
       "        vertical-align: middle;\n",
       "    }\n",
       "\n",
       "    .dataframe tbody tr th {\n",
       "        vertical-align: top;\n",
       "    }\n",
       "\n",
       "    .dataframe thead th {\n",
       "        text-align: right;\n",
       "    }\n",
       "</style>\n",
       "<table border=\"1\" class=\"dataframe\">\n",
       "  <thead>\n",
       "    <tr style=\"text-align: right;\">\n",
       "      <th></th>\n",
       "      <th>user_id</th>\n",
       "      <th>event_name</th>\n",
       "    </tr>\n",
       "  </thead>\n",
       "  <tbody>\n",
       "    <tr>\n",
       "      <th>0</th>\n",
       "      <td>0001b1d5-b74a-4cbf-aeb0-7df5947bf349</td>\n",
       "      <td>35</td>\n",
       "    </tr>\n",
       "    <tr>\n",
       "      <th>1</th>\n",
       "      <td>00157779-810c-4498-9e05-a1e9e3cedf93</td>\n",
       "      <td>71</td>\n",
       "    </tr>\n",
       "    <tr>\n",
       "      <th>2</th>\n",
       "      <td>00463033-5717-4bf1-91b4-09183923b9df</td>\n",
       "      <td>10</td>\n",
       "    </tr>\n",
       "    <tr>\n",
       "      <th>3</th>\n",
       "      <td>004690c3-5a84-4bb7-a8af-e0c8f8fca64e</td>\n",
       "      <td>32</td>\n",
       "    </tr>\n",
       "    <tr>\n",
       "      <th>4</th>\n",
       "      <td>00551e79-152e-4441-9cf7-565d7eb04090</td>\n",
       "      <td>8</td>\n",
       "    </tr>\n",
       "    <tr>\n",
       "      <th>...</th>\n",
       "      <td>...</td>\n",
       "      <td>...</td>\n",
       "    </tr>\n",
       "    <tr>\n",
       "      <th>4288</th>\n",
       "      <td>ffab8d8a-30bb-424a-a3ab-0b63ebbf7b07</td>\n",
       "      <td>17</td>\n",
       "    </tr>\n",
       "    <tr>\n",
       "      <th>4289</th>\n",
       "      <td>ffc01466-fdb1-4460-ae94-e800f52eb136</td>\n",
       "      <td>7</td>\n",
       "    </tr>\n",
       "    <tr>\n",
       "      <th>4290</th>\n",
       "      <td>ffcf50d9-293c-4254-8243-4890b030b238</td>\n",
       "      <td>2</td>\n",
       "    </tr>\n",
       "    <tr>\n",
       "      <th>4291</th>\n",
       "      <td>ffe68f10-e48e-470e-be9b-eeb93128ff1a</td>\n",
       "      <td>13</td>\n",
       "    </tr>\n",
       "    <tr>\n",
       "      <th>4292</th>\n",
       "      <td>fffb9e79-b927-4dbb-9b48-7fd09b23a62b</td>\n",
       "      <td>303</td>\n",
       "    </tr>\n",
       "  </tbody>\n",
       "</table>\n",
       "<p>4293 rows × 2 columns</p>\n",
       "</div>"
      ],
      "text/plain": [
       "                                   user_id  event_name\n",
       "0     0001b1d5-b74a-4cbf-aeb0-7df5947bf349          35\n",
       "1     00157779-810c-4498-9e05-a1e9e3cedf93          71\n",
       "2     00463033-5717-4bf1-91b4-09183923b9df          10\n",
       "3     004690c3-5a84-4bb7-a8af-e0c8f8fca64e          32\n",
       "4     00551e79-152e-4441-9cf7-565d7eb04090           8\n",
       "...                                    ...         ...\n",
       "4288  ffab8d8a-30bb-424a-a3ab-0b63ebbf7b07          17\n",
       "4289  ffc01466-fdb1-4460-ae94-e800f52eb136           7\n",
       "4290  ffcf50d9-293c-4254-8243-4890b030b238           2\n",
       "4291  ffe68f10-e48e-470e-be9b-eeb93128ff1a          13\n",
       "4292  fffb9e79-b927-4dbb-9b48-7fd09b23a62b         303\n",
       "\n",
       "[4293 rows x 2 columns]"
      ]
     },
     "execution_count": 22,
     "metadata": {},
     "output_type": "execute_result"
    }
   ],
   "source": [
    "median_event_number_info = mobile_dataset.pivot_table(index='user_id', values='event_name', aggfunc='count').reset_index()\n",
    "median_event_number_info"
   ]
  },
  {
   "cell_type": "markdown",
   "id": "dc020ff2",
   "metadata": {},
   "source": [
    "**Перед построением гистограммы для изучения распределения значений.**"
   ]
  },
  {
   "cell_type": "code",
   "execution_count": 23,
   "id": "e8458e12",
   "metadata": {},
   "outputs": [
    {
     "data": {
      "image/png": "[encoded data removed]",
      "text/plain": [
       "<Figure size 640x480 with 1 Axes>"
      ]
     },
     "metadata": {},
     "output_type": "display_data"
    }
   ],
   "source": [
    "sns.histplot(data=median_event_number_info, x = 'event_name', color='#66c2a5')\n",
    "plt.xlim(0,200)\n",
    "plt.title('Распределение событий на одного пользователя')\n",
    "plt.xlabel('Количество событий')\n",
    "plt.ylabel('Количество пользователей')\n",
    "plt.show();"
   ]
  },
  {
   "cell_type": "markdown",
   "id": "23835fbd",
   "metadata": {},
   "source": [
    "**Чаще всего пользователи совершали 4-6 действий. Количество пользователей с 21 событием и более не превышает 150 человек.**"
   ]
  },
  {
   "cell_type": "markdown",
   "id": "42f69755",
   "metadata": {},
   "source": [
    "### Изучение источников привлечения пользователей"
   ]
  },
  {
   "cell_type": "markdown",
   "id": "8a5763d8",
   "metadata": {},
   "source": [
    "**Построим столбчатую диаграмму для выявления самого эффективного источника.**"
   ]
  },
  {
   "cell_type": "code",
   "execution_count": 24,
   "id": "621d2a2b",
   "metadata": {},
   "outputs": [
    {
     "data": {
      "image/png": "[encoded data removed]",
      "text/plain": [
       "<Figure size 640x480 with 1 Axes>"
      ]
     },
     "metadata": {},
     "output_type": "display_data"
    }
   ],
   "source": [
    "source_info = data.pivot_table(index='source', values='user_id', aggfunc='nunique').reset_index()\n",
    "source_info =source_info.sort_values(by='user_id',ascending=False)\n",
    "sns.barplot(data=source_info, x='source', y='user_id',palette='Set2')\n",
    "plt.title('Источники привлечения по количеству пользователей')\n",
    "plt.xlabel('Источник привлечения')\n",
    "plt.ylabel('Количество пользователей')\n",
    "plt.show();"
   ]
  },
  {
   "cell_type": "markdown",
   "id": "1e116af4",
   "metadata": {},
   "source": [
    "**Более 1800 пользователей установили приложение с Яндекса, около 1100 - с Google. Почти 1100 пользователей были привлечены из других источников.**"
   ]
  },
  {
   "cell_type": "markdown",
   "id": "e45fb2d0",
   "metadata": {},
   "source": [
    "## Анализ событий и их последовательности "
   ]
  },
  {
   "cell_type": "markdown",
   "id": "edd1898b",
   "metadata": {},
   "source": [
    "### Изучение частоты событий"
   ]
  },
  {
   "cell_type": "markdown",
   "id": "5b18401c",
   "metadata": {},
   "source": [
    "**Создадим сводную таблицу, содержащую количество уникальных пользователей, совершивших каждое из действий. На основании данных их сводной таблицы построим столбчатую диаграмму.** "
   ]
  },
  {
   "cell_type": "code",
   "execution_count": 25,
   "id": "723d81c6",
   "metadata": {
    "scrolled": false
   },
   "outputs": [
    {
     "data": {
      "image/png": "[encoded data removed]",
      "text/plain": [
       "<Figure size 640x480 with 1 Axes>"
      ]
     },
     "metadata": {},
     "output_type": "display_data"
    }
   ],
   "source": [
    "events_users = (\n",
    "    data.query('event_name != \"tips_show\"')\n",
    "    .pivot_table(index='event_name', values='user_id',aggfunc='nunique')\n",
    "    .sort_values(by='user_id',ascending=False)\n",
    "    .reset_index()\n",
    ")\n",
    "events_users.columns = [\n",
    "    'event_name',\n",
    "    'users_total'\n",
    "]\n",
    "events_users \n",
    "\n",
    "sns.barplot(data=events_users, x = 'event_name', y='users_total', palette='Set2')\n",
    "plt.title('Действия по количеству совершивших их пользователей ')\n",
    "plt.xlabel('Действие')\n",
    "plt.ylabel('Количество пользователей')\n",
    "plt.xticks(rotation=40)\n",
    "plt.show();"
   ]
  },
  {
   "cell_type": "markdown",
   "id": "ce82cca9",
   "metadata": {},
   "source": [
    "**Чаще всего пользователи совершали различные действия, связанные с поиском по сайту (около 1700 пользователей). Около 1450 пользователей просмотрелу карту объявлений, около 1300 - просмотрели фотографии объявлений. Целевое событие - просмотр номера телефона, зафиксировано у около 1000 пользователей.**"
   ]
  },
  {
   "cell_type": "markdown",
   "id": "22f67861",
   "metadata": {},
   "source": [
    "### Выявление количества пользователей, совершивших целевое действие"
   ]
  },
  {
   "cell_type": "markdown",
   "id": "989248cd",
   "metadata": {},
   "source": [
    "**Отфильтруем датафрейм, чтобы узнать количество пользователей, просмотревших контакты.**"
   ]
  },
  {
   "cell_type": "code",
   "execution_count": 27,
   "id": "45539831",
   "metadata": {},
   "outputs": [
    {
     "name": "stdout",
     "output_type": "stream",
     "text": [
      "Количество пользователей, совершивших целевое действие: 981\n"
     ]
    }
   ],
   "source": [
    "contacts_show_users = data[data['event_name']=='contacts_show']['user_id'].unique()\n",
    "target_event_data = data[data['user_id'].isin(contacts_show_users)]\n",
    "print('Количество пользователей, совершивших целевое действие:',target_event_data.user_id.nunique())"
   ]
  },
  {
   "cell_type": "markdown",
   "id": "99140ecf",
   "metadata": {},
   "source": [
    "### Выявление количества сессий"
   ]
  },
  {
   "cell_type": "markdown",
   "id": "5e1b9f72",
   "metadata": {},
   "source": [
    "**Перед определением тайм-аута создадим столбец со временем между событиями (в минутах).**"
   ]
  },
  {
   "cell_type": "code",
   "execution_count": 28,
   "id": "4dd641cc",
   "metadata": {},
   "outputs": [
    {
     "data": {
      "image/png": "[encoded data removed]",
      "text/plain": [
       "<Figure size 1700x700 with 1 Axes>"
      ]
     },
     "metadata": {},
     "output_type": "display_data"
    }
   ],
   "source": [
    "data = data.sort_values(['user_id', 'event_time']) #отсортируем датафрейм по пользователям и событиями\n",
    "\n",
    "#создаем столбец \n",
    "data['diff'] = data.groupby('user_id')['event_time'].diff().dt.total_seconds() / 60\n",
    "\n",
    "mean_time_diff = data.groupby('user_id')['diff'].mean()\n",
    "plt.figure(figsize=(17, 7))\n",
    "plt.hist(mean_time_diff.dropna(),bins=1000, color ='#66c2a5')\n",
    "plt.xlim(0,30)\n",
    "plt.xlabel('Время( мин.)')\n",
    "plt.ylabel('Количество пользователей')\n",
    "plt.title('Распределение средних значений тайм-аута у пользователей')\n",
    "plt.show()\n"
   ]
  },
  {
   "cell_type": "markdown",
   "id": "264f163f",
   "metadata": {},
   "source": [
    "**На гистограмме видно, что в большинстве случаев продолжительность таум-аута составляет около 16 минут.**"
   ]
  },
  {
   "cell_type": "markdown",
   "id": "c5ad76fa",
   "metadata": {},
   "source": [
    "**Установим тайм-аут 20 минут: этого времени достаточно для того, чтобы пользователи нашли что-то для себя в приложении.**"
   ]
  },
  {
   "cell_type": "markdown",
   "id": "19d57464",
   "metadata": {},
   "source": [
    "**Также выявим количество сессий.**"
   ]
  },
  {
   "cell_type": "code",
   "execution_count": 29,
   "id": "54b70e9d",
   "metadata": {},
   "outputs": [
    {
     "name": "stdout",
     "output_type": "stream",
     "text": [
      "Количество сессий: 10975\n"
     ]
    }
   ],
   "source": [
    "session_df = data.sort_values(['user_id','event_time']).reset_index(drop=True)\n",
    "a = (session_df.groupby('user_id')['event_time'].diff() > pd.Timedelta('20Min')).cumsum()\n",
    "session_df['session_id'] = session_df.groupby(['user_id', a], sort=True).ngroup()\n",
    "session_df = session_df.sort_values(by='event_time')\n",
    "print('Количество сессий:', session_df.session_id.nunique())"
   ]
  },
  {
   "cell_type": "markdown",
   "id": "dfe74ec8",
   "metadata": {},
   "source": [
    "### Изучение динамики пользовательской активности по дням (DAU)"
   ]
  },
  {
   "cell_type": "markdown",
   "id": "10d5ff3f",
   "metadata": {},
   "source": [
    "**Создадим сводную таблицу, чтобы найти количество уникальных сессий в каждый отдельный день.**"
   ]
  },
  {
   "cell_type": "code",
   "execution_count": 30,
   "id": "29993dda",
   "metadata": {},
   "outputs": [
    {
     "data": {
      "text/html": [
       "<div>\n",
       "<style scoped>\n",
       "    .dataframe tbody tr th:only-of-type {\n",
       "        vertical-align: middle;\n",
       "    }\n",
       "\n",
       "    .dataframe tbody tr th {\n",
       "        vertical-align: top;\n",
       "    }\n",
       "\n",
       "    .dataframe thead th {\n",
       "        text-align: right;\n",
       "    }\n",
       "</style>\n",
       "<table border=\"1\" class=\"dataframe\">\n",
       "  <thead>\n",
       "    <tr style=\"text-align: right;\">\n",
       "      <th></th>\n",
       "      <th>dt</th>\n",
       "      <th>session_id</th>\n",
       "    </tr>\n",
       "  </thead>\n",
       "  <tbody>\n",
       "    <tr>\n",
       "      <th>0</th>\n",
       "      <td>2019-10-07</td>\n",
       "      <td>263</td>\n",
       "    </tr>\n",
       "    <tr>\n",
       "      <th>1</th>\n",
       "      <td>2019-10-08</td>\n",
       "      <td>300</td>\n",
       "    </tr>\n",
       "    <tr>\n",
       "      <th>2</th>\n",
       "      <td>2019-10-09</td>\n",
       "      <td>292</td>\n",
       "    </tr>\n",
       "    <tr>\n",
       "      <th>3</th>\n",
       "      <td>2019-10-10</td>\n",
       "      <td>325</td>\n",
       "    </tr>\n",
       "    <tr>\n",
       "      <th>4</th>\n",
       "      <td>2019-10-11</td>\n",
       "      <td>289</td>\n",
       "    </tr>\n",
       "    <tr>\n",
       "      <th>5</th>\n",
       "      <td>2019-10-12</td>\n",
       "      <td>241</td>\n",
       "    </tr>\n",
       "    <tr>\n",
       "      <th>6</th>\n",
       "      <td>2019-10-13</td>\n",
       "      <td>307</td>\n",
       "    </tr>\n",
       "    <tr>\n",
       "      <th>7</th>\n",
       "      <td>2019-10-14</td>\n",
       "      <td>414</td>\n",
       "    </tr>\n",
       "    <tr>\n",
       "      <th>8</th>\n",
       "      <td>2019-10-15</td>\n",
       "      <td>419</td>\n",
       "    </tr>\n",
       "    <tr>\n",
       "      <th>9</th>\n",
       "      <td>2019-10-16</td>\n",
       "      <td>404</td>\n",
       "    </tr>\n",
       "    <tr>\n",
       "      <th>10</th>\n",
       "      <td>2019-10-17</td>\n",
       "      <td>427</td>\n",
       "    </tr>\n",
       "    <tr>\n",
       "      <th>11</th>\n",
       "      <td>2019-10-18</td>\n",
       "      <td>435</td>\n",
       "    </tr>\n",
       "    <tr>\n",
       "      <th>12</th>\n",
       "      <td>2019-10-19</td>\n",
       "      <td>357</td>\n",
       "    </tr>\n",
       "    <tr>\n",
       "      <th>13</th>\n",
       "      <td>2019-10-20</td>\n",
       "      <td>372</td>\n",
       "    </tr>\n",
       "    <tr>\n",
       "      <th>14</th>\n",
       "      <td>2019-10-21</td>\n",
       "      <td>459</td>\n",
       "    </tr>\n",
       "    <tr>\n",
       "      <th>15</th>\n",
       "      <td>2019-10-22</td>\n",
       "      <td>438</td>\n",
       "    </tr>\n",
       "    <tr>\n",
       "      <th>16</th>\n",
       "      <td>2019-10-23</td>\n",
       "      <td>490</td>\n",
       "    </tr>\n",
       "    <tr>\n",
       "      <th>17</th>\n",
       "      <td>2019-10-24</td>\n",
       "      <td>447</td>\n",
       "    </tr>\n",
       "    <tr>\n",
       "      <th>18</th>\n",
       "      <td>2019-10-25</td>\n",
       "      <td>433</td>\n",
       "    </tr>\n",
       "    <tr>\n",
       "      <th>19</th>\n",
       "      <td>2019-10-26</td>\n",
       "      <td>410</td>\n",
       "    </tr>\n",
       "    <tr>\n",
       "      <th>20</th>\n",
       "      <td>2019-10-27</td>\n",
       "      <td>429</td>\n",
       "    </tr>\n",
       "    <tr>\n",
       "      <th>21</th>\n",
       "      <td>2019-10-28</td>\n",
       "      <td>492</td>\n",
       "    </tr>\n",
       "    <tr>\n",
       "      <th>22</th>\n",
       "      <td>2019-10-29</td>\n",
       "      <td>483</td>\n",
       "    </tr>\n",
       "    <tr>\n",
       "      <th>23</th>\n",
       "      <td>2019-10-30</td>\n",
       "      <td>483</td>\n",
       "    </tr>\n",
       "    <tr>\n",
       "      <th>24</th>\n",
       "      <td>2019-10-31</td>\n",
       "      <td>463</td>\n",
       "    </tr>\n",
       "    <tr>\n",
       "      <th>25</th>\n",
       "      <td>2019-11-01</td>\n",
       "      <td>401</td>\n",
       "    </tr>\n",
       "    <tr>\n",
       "      <th>26</th>\n",
       "      <td>2019-11-02</td>\n",
       "      <td>336</td>\n",
       "    </tr>\n",
       "    <tr>\n",
       "      <th>27</th>\n",
       "      <td>2019-11-03</td>\n",
       "      <td>413</td>\n",
       "    </tr>\n",
       "  </tbody>\n",
       "</table>\n",
       "</div>"
      ],
      "text/plain": [
       "            dt  session_id\n",
       "0   2019-10-07         263\n",
       "1   2019-10-08         300\n",
       "2   2019-10-09         292\n",
       "3   2019-10-10         325\n",
       "4   2019-10-11         289\n",
       "5   2019-10-12         241\n",
       "6   2019-10-13         307\n",
       "7   2019-10-14         414\n",
       "8   2019-10-15         419\n",
       "9   2019-10-16         404\n",
       "10  2019-10-17         427\n",
       "11  2019-10-18         435\n",
       "12  2019-10-19         357\n",
       "13  2019-10-20         372\n",
       "14  2019-10-21         459\n",
       "15  2019-10-22         438\n",
       "16  2019-10-23         490\n",
       "17  2019-10-24         447\n",
       "18  2019-10-25         433\n",
       "19  2019-10-26         410\n",
       "20  2019-10-27         429\n",
       "21  2019-10-28         492\n",
       "22  2019-10-29         483\n",
       "23  2019-10-30         483\n",
       "24  2019-10-31         463\n",
       "25  2019-11-01         401\n",
       "26  2019-11-02         336\n",
       "27  2019-11-03         413"
      ]
     },
     "execution_count": 30,
     "metadata": {},
     "output_type": "execute_result"
    }
   ],
   "source": [
    "sessions_per_day = session_df.pivot_table(index='dt', values='session_id', aggfunc='nunique').reset_index()\n",
    "\n",
    "sessions_per_day"
   ]
  },
  {
   "cell_type": "markdown",
   "id": "70a9dfdb",
   "metadata": {},
   "source": [
    "**Аналогично подготовим таблицу для пользователей.**"
   ]
  },
  {
   "cell_type": "code",
   "execution_count": 31,
   "id": "7d778d01",
   "metadata": {},
   "outputs": [
    {
     "data": {
      "text/html": [
       "<div>\n",
       "<style scoped>\n",
       "    .dataframe tbody tr th:only-of-type {\n",
       "        vertical-align: middle;\n",
       "    }\n",
       "\n",
       "    .dataframe tbody tr th {\n",
       "        vertical-align: top;\n",
       "    }\n",
       "\n",
       "    .dataframe thead th {\n",
       "        text-align: right;\n",
       "    }\n",
       "</style>\n",
       "<table border=\"1\" class=\"dataframe\">\n",
       "  <thead>\n",
       "    <tr style=\"text-align: right;\">\n",
       "      <th></th>\n",
       "      <th>dt</th>\n",
       "      <th>user_id</th>\n",
       "    </tr>\n",
       "  </thead>\n",
       "  <tbody>\n",
       "    <tr>\n",
       "      <th>0</th>\n",
       "      <td>2019-10-07</td>\n",
       "      <td>204</td>\n",
       "    </tr>\n",
       "    <tr>\n",
       "      <th>1</th>\n",
       "      <td>2019-10-08</td>\n",
       "      <td>204</td>\n",
       "    </tr>\n",
       "    <tr>\n",
       "      <th>2</th>\n",
       "      <td>2019-10-09</td>\n",
       "      <td>227</td>\n",
       "    </tr>\n",
       "    <tr>\n",
       "      <th>3</th>\n",
       "      <td>2019-10-10</td>\n",
       "      <td>233</td>\n",
       "    </tr>\n",
       "    <tr>\n",
       "      <th>4</th>\n",
       "      <td>2019-10-11</td>\n",
       "      <td>206</td>\n",
       "    </tr>\n",
       "    <tr>\n",
       "      <th>5</th>\n",
       "      <td>2019-10-12</td>\n",
       "      <td>178</td>\n",
       "    </tr>\n",
       "    <tr>\n",
       "      <th>6</th>\n",
       "      <td>2019-10-13</td>\n",
       "      <td>226</td>\n",
       "    </tr>\n",
       "    <tr>\n",
       "      <th>7</th>\n",
       "      <td>2019-10-14</td>\n",
       "      <td>298</td>\n",
       "    </tr>\n",
       "    <tr>\n",
       "      <th>8</th>\n",
       "      <td>2019-10-15</td>\n",
       "      <td>303</td>\n",
       "    </tr>\n",
       "    <tr>\n",
       "      <th>9</th>\n",
       "      <td>2019-10-16</td>\n",
       "      <td>278</td>\n",
       "    </tr>\n",
       "    <tr>\n",
       "      <th>10</th>\n",
       "      <td>2019-10-17</td>\n",
       "      <td>307</td>\n",
       "    </tr>\n",
       "    <tr>\n",
       "      <th>11</th>\n",
       "      <td>2019-10-18</td>\n",
       "      <td>308</td>\n",
       "    </tr>\n",
       "    <tr>\n",
       "      <th>12</th>\n",
       "      <td>2019-10-19</td>\n",
       "      <td>271</td>\n",
       "    </tr>\n",
       "    <tr>\n",
       "      <th>13</th>\n",
       "      <td>2019-10-20</td>\n",
       "      <td>274</td>\n",
       "    </tr>\n",
       "    <tr>\n",
       "      <th>14</th>\n",
       "      <td>2019-10-21</td>\n",
       "      <td>326</td>\n",
       "    </tr>\n",
       "    <tr>\n",
       "      <th>15</th>\n",
       "      <td>2019-10-22</td>\n",
       "      <td>310</td>\n",
       "    </tr>\n",
       "    <tr>\n",
       "      <th>16</th>\n",
       "      <td>2019-10-23</td>\n",
       "      <td>352</td>\n",
       "    </tr>\n",
       "    <tr>\n",
       "      <th>17</th>\n",
       "      <td>2019-10-24</td>\n",
       "      <td>319</td>\n",
       "    </tr>\n",
       "    <tr>\n",
       "      <th>18</th>\n",
       "      <td>2019-10-25</td>\n",
       "      <td>305</td>\n",
       "    </tr>\n",
       "    <tr>\n",
       "      <th>19</th>\n",
       "      <td>2019-10-26</td>\n",
       "      <td>287</td>\n",
       "    </tr>\n",
       "    <tr>\n",
       "      <th>20</th>\n",
       "      <td>2019-10-27</td>\n",
       "      <td>299</td>\n",
       "    </tr>\n",
       "    <tr>\n",
       "      <th>21</th>\n",
       "      <td>2019-10-28</td>\n",
       "      <td>348</td>\n",
       "    </tr>\n",
       "    <tr>\n",
       "      <th>22</th>\n",
       "      <td>2019-10-29</td>\n",
       "      <td>312</td>\n",
       "    </tr>\n",
       "    <tr>\n",
       "      <th>23</th>\n",
       "      <td>2019-10-30</td>\n",
       "      <td>313</td>\n",
       "    </tr>\n",
       "    <tr>\n",
       "      <th>24</th>\n",
       "      <td>2019-10-31</td>\n",
       "      <td>325</td>\n",
       "    </tr>\n",
       "    <tr>\n",
       "      <th>25</th>\n",
       "      <td>2019-11-01</td>\n",
       "      <td>279</td>\n",
       "    </tr>\n",
       "    <tr>\n",
       "      <th>26</th>\n",
       "      <td>2019-11-02</td>\n",
       "      <td>240</td>\n",
       "    </tr>\n",
       "    <tr>\n",
       "      <th>27</th>\n",
       "      <td>2019-11-03</td>\n",
       "      <td>285</td>\n",
       "    </tr>\n",
       "  </tbody>\n",
       "</table>\n",
       "</div>"
      ],
      "text/plain": [
       "            dt  user_id\n",
       "0   2019-10-07      204\n",
       "1   2019-10-08      204\n",
       "2   2019-10-09      227\n",
       "3   2019-10-10      233\n",
       "4   2019-10-11      206\n",
       "5   2019-10-12      178\n",
       "6   2019-10-13      226\n",
       "7   2019-10-14      298\n",
       "8   2019-10-15      303\n",
       "9   2019-10-16      278\n",
       "10  2019-10-17      307\n",
       "11  2019-10-18      308\n",
       "12  2019-10-19      271\n",
       "13  2019-10-20      274\n",
       "14  2019-10-21      326\n",
       "15  2019-10-22      310\n",
       "16  2019-10-23      352\n",
       "17  2019-10-24      319\n",
       "18  2019-10-25      305\n",
       "19  2019-10-26      287\n",
       "20  2019-10-27      299\n",
       "21  2019-10-28      348\n",
       "22  2019-10-29      312\n",
       "23  2019-10-30      313\n",
       "24  2019-10-31      325\n",
       "25  2019-11-01      279\n",
       "26  2019-11-02      240\n",
       "27  2019-11-03      285"
      ]
     },
     "execution_count": 31,
     "metadata": {},
     "output_type": "execute_result"
    }
   ],
   "source": [
    "users_per_day = session_df.pivot_table(index='dt', values='user_id', aggfunc='nunique').reset_index()\n",
    "users_per_day"
   ]
  },
  {
   "cell_type": "markdown",
   "id": "f963f515",
   "metadata": {},
   "source": [
    "**Отразим на графиках динамику активности в приложении как с учетом сессий, так и уникальных пользователей.**"
   ]
  },
  {
   "cell_type": "code",
   "execution_count": 32,
   "id": "88f6330d",
   "metadata": {},
   "outputs": [
    {
     "data": {
      "image/png": "[encoded data removed]",
      "text/plain": [
       "<Figure size 1700x700 with 2 Axes>"
      ]
     },
     "metadata": {},
     "output_type": "display_data"
    }
   ],
   "source": [
    "fig, axes = plt.subplots(1, 2, figsize=(17, 7), sharey=True)\n",
    "fig.suptitle('Активность пользователей в приложении (по дням)')\n",
    "\n",
    "\n",
    "sns.lineplot(ax=axes[0], x=sessions_per_day.dt, y=sessions_per_day.session_id, color='#66c2a5')\n",
    "axes[0].set_title('Динамика пользовательской активностм (кол-во сессий в день)')\n",
    "axes[0].tick_params(axis='x', rotation=45)\n",
    "\n",
    "\n",
    "sns.lineplot(ax=axes[1], x=users_per_day.dt, y=users_per_day.user_id, color='#66c2a5')\n",
    "axes[1].set_title('Количество уникальных пользователей по дням (DAU)')\n",
    "axes[1].tick_params(axis='x', rotation=45);"
   ]
  },
  {
   "cell_type": "markdown",
   "id": "7f167b54",
   "metadata": {},
   "source": [
    "**Динамика на представленных выше графиках схожа. Несмотря на то, что в определенные дни  (10-12 октября, 16 октября, 18-19 октября) наблюдался отток пользователей и,следовательно, происходило снижение активности, в целом до 22 октября был восходящий тренд активности. 22 октября активность пошла на спад. К концу месяца количество активных пользователей и их сессий почти приблизилось к пиковым значениям, однако, показатели пошли на спад в начале ноября.**"
   ]
  },
  {
   "cell_type": "markdown",
   "id": "f7dd9d70",
   "metadata": {},
   "source": [
    "### Изучение пользовательской активности по неделям (WAU)"
   ]
  },
  {
   "cell_type": "markdown",
   "id": "201b30f8",
   "metadata": {},
   "source": [
    "**Создадим сводную таблицу, чтобы выявить количество сессий в каждую неделю.**"
   ]
  },
  {
   "cell_type": "code",
   "execution_count": 33,
   "id": "bd05da93",
   "metadata": {},
   "outputs": [
    {
     "data": {
      "text/html": [
       "<div>\n",
       "<style scoped>\n",
       "    .dataframe tbody tr th:only-of-type {\n",
       "        vertical-align: middle;\n",
       "    }\n",
       "\n",
       "    .dataframe tbody tr th {\n",
       "        vertical-align: top;\n",
       "    }\n",
       "\n",
       "    .dataframe thead th {\n",
       "        text-align: right;\n",
       "    }\n",
       "</style>\n",
       "<table border=\"1\" class=\"dataframe\">\n",
       "  <thead>\n",
       "    <tr style=\"text-align: right;\">\n",
       "      <th></th>\n",
       "      <th>week_start</th>\n",
       "      <th>session_id</th>\n",
       "    </tr>\n",
       "  </thead>\n",
       "  <tbody>\n",
       "    <tr>\n",
       "      <th>0</th>\n",
       "      <td>2019-10-07</td>\n",
       "      <td>2007</td>\n",
       "    </tr>\n",
       "    <tr>\n",
       "      <th>1</th>\n",
       "      <td>2019-10-14</td>\n",
       "      <td>2815</td>\n",
       "    </tr>\n",
       "    <tr>\n",
       "      <th>2</th>\n",
       "      <td>2019-10-21</td>\n",
       "      <td>3097</td>\n",
       "    </tr>\n",
       "    <tr>\n",
       "      <th>3</th>\n",
       "      <td>2019-10-28</td>\n",
       "      <td>3062</td>\n",
       "    </tr>\n",
       "  </tbody>\n",
       "</table>\n",
       "</div>"
      ],
      "text/plain": [
       "  week_start  session_id\n",
       "0 2019-10-07        2007\n",
       "1 2019-10-14        2815\n",
       "2 2019-10-21        3097\n",
       "3 2019-10-28        3062"
      ]
     },
     "execution_count": 33,
     "metadata": {},
     "output_type": "execute_result"
    }
   ],
   "source": [
    "sessions_per_week = session_df.pivot_table(index='week_start', values='session_id', aggfunc='nunique').reset_index()\n",
    "\n",
    "sessions_per_week"
   ]
  },
  {
   "cell_type": "markdown",
   "id": "83b22087",
   "metadata": {},
   "source": [
    "**Аналогично подготовим таблицу с количеством уникальных пользователей в неделю.**"
   ]
  },
  {
   "cell_type": "code",
   "execution_count": 34,
   "id": "785408ab",
   "metadata": {},
   "outputs": [
    {
     "data": {
      "text/html": [
       "<div>\n",
       "<style scoped>\n",
       "    .dataframe tbody tr th:only-of-type {\n",
       "        vertical-align: middle;\n",
       "    }\n",
       "\n",
       "    .dataframe tbody tr th {\n",
       "        vertical-align: top;\n",
       "    }\n",
       "\n",
       "    .dataframe thead th {\n",
       "        text-align: right;\n",
       "    }\n",
       "</style>\n",
       "<table border=\"1\" class=\"dataframe\">\n",
       "  <thead>\n",
       "    <tr style=\"text-align: right;\">\n",
       "      <th></th>\n",
       "      <th>week_start</th>\n",
       "      <th>user_id</th>\n",
       "    </tr>\n",
       "  </thead>\n",
       "  <tbody>\n",
       "    <tr>\n",
       "      <th>0</th>\n",
       "      <td>2019-10-07</td>\n",
       "      <td>1130</td>\n",
       "    </tr>\n",
       "    <tr>\n",
       "      <th>1</th>\n",
       "      <td>2019-10-14</td>\n",
       "      <td>1438</td>\n",
       "    </tr>\n",
       "    <tr>\n",
       "      <th>2</th>\n",
       "      <td>2019-10-21</td>\n",
       "      <td>1546</td>\n",
       "    </tr>\n",
       "    <tr>\n",
       "      <th>3</th>\n",
       "      <td>2019-10-28</td>\n",
       "      <td>1416</td>\n",
       "    </tr>\n",
       "  </tbody>\n",
       "</table>\n",
       "</div>"
      ],
      "text/plain": [
       "  week_start  user_id\n",
       "0 2019-10-07     1130\n",
       "1 2019-10-14     1438\n",
       "2 2019-10-21     1546\n",
       "3 2019-10-28     1416"
      ]
     },
     "execution_count": 34,
     "metadata": {},
     "output_type": "execute_result"
    }
   ],
   "source": [
    "users_per_week = session_df.pivot_table(index='week_start', values='user_id', aggfunc='nunique').reset_index()\n",
    "users_per_week"
   ]
  },
  {
   "cell_type": "markdown",
   "id": "b41c9e87",
   "metadata": {},
   "source": [
    "**Перейдем к визуализации динамики WAU.**"
   ]
  },
  {
   "cell_type": "code",
   "execution_count": 35,
   "id": "1e352020",
   "metadata": {},
   "outputs": [
    {
     "data": {
      "image/png": "[encoded data removed]",
      "text/plain": [
       "<Figure size 1500x500 with 2 Axes>"
      ]
     },
     "metadata": {},
     "output_type": "display_data"
    }
   ],
   "source": [
    "fig, axes = plt.subplots(1, 2, figsize=(15, 5), sharey=True)\n",
    "fig.suptitle('Активность пользователей в приложении (по неделям)')\n",
    "\n",
    "sns.lineplot(ax=axes[0], x=sessions_per_week.week_start, y=sessions_per_week.session_id, color='#66c2a5')\n",
    "axes[0].set_title('Динамика пользовательской активностИ (кол-во сессий в неделю)')\n",
    "axes[0].tick_params(axis='x', rotation=45)\n",
    "\n",
    "\n",
    "sns.lineplot(ax=axes[1], x=users_per_week.week_start, y=users_per_week.user_id, color='#66c2a5')\n",
    "axes[1].set_title('Количество уникальныХ пользователей по неделям (WAU)')\n",
    "axes[1].tick_params(axis='x', rotation=45);\n"
   ]
  },
  {
   "cell_type": "markdown",
   "id": "0143341c",
   "metadata": {},
   "source": [
    "**На протяжении первых 3 недель наблюдался восходящий тренд активности. 21 октября 2022 г., в начале 4ой недели, произошло замедление активности.**"
   ]
  },
  {
   "cell_type": "markdown",
   "id": "1fc35d9b",
   "metadata": {},
   "source": [
    "### Изучение конверсии в целевое действие"
   ]
  },
  {
   "cell_type": "markdown",
   "id": "d6304c55",
   "metadata": {},
   "source": [
    "**Создадим сводну таблицу для расчета конверсии.**"
   ]
  },
  {
   "cell_type": "code",
   "execution_count": 36,
   "id": "99cbafce",
   "metadata": {},
   "outputs": [
    {
     "data": {
      "text/html": [
       "<div>\n",
       "<style scoped>\n",
       "    .dataframe tbody tr th:only-of-type {\n",
       "        vertical-align: middle;\n",
       "    }\n",
       "\n",
       "    .dataframe tbody tr th {\n",
       "        vertical-align: top;\n",
       "    }\n",
       "\n",
       "    .dataframe thead th {\n",
       "        text-align: right;\n",
       "    }\n",
       "</style>\n",
       "<table border=\"1\" class=\"dataframe\">\n",
       "  <thead>\n",
       "    <tr style=\"text-align: right;\">\n",
       "      <th></th>\n",
       "      <th>event_name</th>\n",
       "      <th>user_id</th>\n",
       "      <th>perc</th>\n",
       "      <th>stage_loss</th>\n",
       "    </tr>\n",
       "  </thead>\n",
       "  <tbody>\n",
       "    <tr>\n",
       "      <th>0</th>\n",
       "      <td>tips_show</td>\n",
       "      <td>2801</td>\n",
       "      <td>65.25</td>\n",
       "      <td>34.75</td>\n",
       "    </tr>\n",
       "    <tr>\n",
       "      <th>1</th>\n",
       "      <td>search</td>\n",
       "      <td>1666</td>\n",
       "      <td>38.81</td>\n",
       "      <td>61.19</td>\n",
       "    </tr>\n",
       "    <tr>\n",
       "      <th>2</th>\n",
       "      <td>map</td>\n",
       "      <td>1456</td>\n",
       "      <td>33.92</td>\n",
       "      <td>66.08</td>\n",
       "    </tr>\n",
       "    <tr>\n",
       "      <th>3</th>\n",
       "      <td>photos_show</td>\n",
       "      <td>1095</td>\n",
       "      <td>25.51</td>\n",
       "      <td>74.49</td>\n",
       "    </tr>\n",
       "    <tr>\n",
       "      <th>4</th>\n",
       "      <td>contacts_show</td>\n",
       "      <td>981</td>\n",
       "      <td>22.85</td>\n",
       "      <td>77.15</td>\n",
       "    </tr>\n",
       "    <tr>\n",
       "      <th>5</th>\n",
       "      <td>advert_open</td>\n",
       "      <td>751</td>\n",
       "      <td>17.49</td>\n",
       "      <td>82.51</td>\n",
       "    </tr>\n",
       "    <tr>\n",
       "      <th>6</th>\n",
       "      <td>favorites_add</td>\n",
       "      <td>351</td>\n",
       "      <td>8.18</td>\n",
       "      <td>91.82</td>\n",
       "    </tr>\n",
       "    <tr>\n",
       "      <th>7</th>\n",
       "      <td>tips_click</td>\n",
       "      <td>322</td>\n",
       "      <td>7.50</td>\n",
       "      <td>92.50</td>\n",
       "    </tr>\n",
       "    <tr>\n",
       "      <th>8</th>\n",
       "      <td>contacts_call</td>\n",
       "      <td>213</td>\n",
       "      <td>4.96</td>\n",
       "      <td>95.04</td>\n",
       "    </tr>\n",
       "  </tbody>\n",
       "</table>\n",
       "</div>"
      ],
      "text/plain": [
       "      event_name  user_id   perc  stage_loss\n",
       "0      tips_show     2801  65.25       34.75\n",
       "1         search     1666  38.81       61.19\n",
       "2            map     1456  33.92       66.08\n",
       "3    photos_show     1095  25.51       74.49\n",
       "4  contacts_show      981  22.85       77.15\n",
       "5    advert_open      751  17.49       82.51\n",
       "6  favorites_add      351   8.18       91.82\n",
       "7     tips_click      322   7.50       92.50\n",
       "8  contacts_call      213   4.96       95.04"
      ]
     },
     "execution_count": 36,
     "metadata": {},
     "output_type": "execute_result"
    }
   ],
   "source": [
    "conversion_info = data.pivot_table(index='event_name',\n",
    "                                     values='user_id',\n",
    "                                     aggfunc='nunique',\n",
    "                                    ).sort_values(by='user_id',ascending=False).reset_index()\n",
    "#добавим столбец 'perc' c доляии пользователей, совершивших действие, от всех пользователей\n",
    "conversion_info['perc'] = round(conversion_info['user_id'] / data['user_id'].nunique() * 100,2)\n",
    "#расчитаем долю пользователей, которая переходит к следующему действию \n",
    "conversion_info['stage_loss'] = 100 - conversion_info['perc']\n",
    "conversion_info"
   ]
  },
  {
   "cell_type": "markdown",
   "id": "1d0d20e0",
   "metadata": {},
   "source": [
    "**Теперь создадим сводную таблицу для пользователей, совершивших целевое действие.**"
   ]
  },
  {
   "cell_type": "code",
   "execution_count": 37,
   "id": "5d7bfd31",
   "metadata": {},
   "outputs": [
    {
     "data": {
      "text/html": [
       "<div>\n",
       "<style scoped>\n",
       "    .dataframe tbody tr th:only-of-type {\n",
       "        vertical-align: middle;\n",
       "    }\n",
       "\n",
       "    .dataframe tbody tr th {\n",
       "        vertical-align: top;\n",
       "    }\n",
       "\n",
       "    .dataframe thead th {\n",
       "        text-align: right;\n",
       "    }\n",
       "</style>\n",
       "<table border=\"1\" class=\"dataframe\">\n",
       "  <thead>\n",
       "    <tr style=\"text-align: right;\">\n",
       "      <th></th>\n",
       "      <th>event_name</th>\n",
       "      <th>user_id</th>\n",
       "      <th>perc</th>\n",
       "    </tr>\n",
       "  </thead>\n",
       "  <tbody>\n",
       "    <tr>\n",
       "      <th>0</th>\n",
       "      <td>contacts_show</td>\n",
       "      <td>981</td>\n",
       "      <td>100.00</td>\n",
       "    </tr>\n",
       "    <tr>\n",
       "      <th>1</th>\n",
       "      <td>tips_show</td>\n",
       "      <td>516</td>\n",
       "      <td>52.60</td>\n",
       "    </tr>\n",
       "    <tr>\n",
       "      <th>2</th>\n",
       "      <td>search</td>\n",
       "      <td>377</td>\n",
       "      <td>38.43</td>\n",
       "    </tr>\n",
       "    <tr>\n",
       "      <th>3</th>\n",
       "      <td>photos_show</td>\n",
       "      <td>339</td>\n",
       "      <td>34.56</td>\n",
       "    </tr>\n",
       "    <tr>\n",
       "      <th>4</th>\n",
       "      <td>map</td>\n",
       "      <td>289</td>\n",
       "      <td>29.46</td>\n",
       "    </tr>\n",
       "    <tr>\n",
       "      <th>5</th>\n",
       "      <td>contacts_call</td>\n",
       "      <td>213</td>\n",
       "      <td>21.71</td>\n",
       "    </tr>\n",
       "    <tr>\n",
       "      <th>6</th>\n",
       "      <td>advert_open</td>\n",
       "      <td>138</td>\n",
       "      <td>14.07</td>\n",
       "    </tr>\n",
       "    <tr>\n",
       "      <th>7</th>\n",
       "      <td>favorites_add</td>\n",
       "      <td>136</td>\n",
       "      <td>13.86</td>\n",
       "    </tr>\n",
       "    <tr>\n",
       "      <th>8</th>\n",
       "      <td>tips_click</td>\n",
       "      <td>100</td>\n",
       "      <td>10.19</td>\n",
       "    </tr>\n",
       "  </tbody>\n",
       "</table>\n",
       "</div>"
      ],
      "text/plain": [
       "      event_name  user_id    perc\n",
       "0  contacts_show      981  100.00\n",
       "1      tips_show      516   52.60\n",
       "2         search      377   38.43\n",
       "3    photos_show      339   34.56\n",
       "4            map      289   29.46\n",
       "5  contacts_call      213   21.71\n",
       "6    advert_open      138   14.07\n",
       "7  favorites_add      136   13.86\n",
       "8     tips_click      100   10.19"
      ]
     },
     "execution_count": 37,
     "metadata": {},
     "output_type": "execute_result"
    }
   ],
   "source": [
    "target_data = data[data['user_id'].isin(contacts_show_users)]\n",
    "target_data_conversion = target_data.pivot_table(index='event_name',\n",
    "                                                 values='user_id',\n",
    "                                                 aggfunc='nunique').sort_values(by='user_id',ascending=False).reset_index()\n",
    "#расчитаем долю пользователей с целевым событием\n",
    "target_data_conversion['perc'] = round(target_data_conversion['user_id'] / target_data['user_id'].nunique() * 100,2)\n",
    "target_data_conversion"
   ]
  },
  {
   "cell_type": "markdown",
   "id": "3006670f",
   "metadata": {},
   "source": [
    "**Теперь объединим таблицы и рассчитаем конверсию.**"
   ]
  },
  {
   "cell_type": "code",
   "execution_count": 38,
   "id": "26e61644",
   "metadata": {},
   "outputs": [
    {
     "data": {
      "text/html": [
       "<div>\n",
       "<style scoped>\n",
       "    .dataframe tbody tr th:only-of-type {\n",
       "        vertical-align: middle;\n",
       "    }\n",
       "\n",
       "    .dataframe tbody tr th {\n",
       "        vertical-align: top;\n",
       "    }\n",
       "\n",
       "    .dataframe thead th {\n",
       "        text-align: right;\n",
       "    }\n",
       "</style>\n",
       "<table border=\"1\" class=\"dataframe\">\n",
       "  <thead>\n",
       "    <tr style=\"text-align: right;\">\n",
       "      <th></th>\n",
       "      <th>event_name</th>\n",
       "      <th>users_target_event</th>\n",
       "      <th>perc_from_target</th>\n",
       "      <th>users_total</th>\n",
       "      <th>perc_from_total</th>\n",
       "      <th>conversion</th>\n",
       "    </tr>\n",
       "  </thead>\n",
       "  <tbody>\n",
       "    <tr>\n",
       "      <th>0</th>\n",
       "      <td>contacts_show</td>\n",
       "      <td>981</td>\n",
       "      <td>100.00</td>\n",
       "      <td>981</td>\n",
       "      <td>22.85</td>\n",
       "      <td>100.00</td>\n",
       "    </tr>\n",
       "    <tr>\n",
       "      <th>5</th>\n",
       "      <td>contacts_call</td>\n",
       "      <td>213</td>\n",
       "      <td>21.71</td>\n",
       "      <td>213</td>\n",
       "      <td>4.96</td>\n",
       "      <td>100.00</td>\n",
       "    </tr>\n",
       "    <tr>\n",
       "      <th>7</th>\n",
       "      <td>favorites_add</td>\n",
       "      <td>136</td>\n",
       "      <td>13.86</td>\n",
       "      <td>351</td>\n",
       "      <td>8.18</td>\n",
       "      <td>38.75</td>\n",
       "    </tr>\n",
       "    <tr>\n",
       "      <th>8</th>\n",
       "      <td>tips_click</td>\n",
       "      <td>100</td>\n",
       "      <td>10.19</td>\n",
       "      <td>322</td>\n",
       "      <td>7.50</td>\n",
       "      <td>31.06</td>\n",
       "    </tr>\n",
       "    <tr>\n",
       "      <th>3</th>\n",
       "      <td>photos_show</td>\n",
       "      <td>339</td>\n",
       "      <td>34.56</td>\n",
       "      <td>1095</td>\n",
       "      <td>25.51</td>\n",
       "      <td>30.96</td>\n",
       "    </tr>\n",
       "    <tr>\n",
       "      <th>2</th>\n",
       "      <td>search</td>\n",
       "      <td>377</td>\n",
       "      <td>38.43</td>\n",
       "      <td>1666</td>\n",
       "      <td>38.81</td>\n",
       "      <td>22.63</td>\n",
       "    </tr>\n",
       "    <tr>\n",
       "      <th>4</th>\n",
       "      <td>map</td>\n",
       "      <td>289</td>\n",
       "      <td>29.46</td>\n",
       "      <td>1456</td>\n",
       "      <td>33.92</td>\n",
       "      <td>19.85</td>\n",
       "    </tr>\n",
       "    <tr>\n",
       "      <th>1</th>\n",
       "      <td>tips_show</td>\n",
       "      <td>516</td>\n",
       "      <td>52.60</td>\n",
       "      <td>2801</td>\n",
       "      <td>65.25</td>\n",
       "      <td>18.42</td>\n",
       "    </tr>\n",
       "    <tr>\n",
       "      <th>6</th>\n",
       "      <td>advert_open</td>\n",
       "      <td>138</td>\n",
       "      <td>14.07</td>\n",
       "      <td>751</td>\n",
       "      <td>17.49</td>\n",
       "      <td>18.38</td>\n",
       "    </tr>\n",
       "  </tbody>\n",
       "</table>\n",
       "</div>"
      ],
      "text/plain": [
       "      event_name  users_target_event  perc_from_target  users_total  \\\n",
       "0  contacts_show                 981            100.00          981   \n",
       "5  contacts_call                 213             21.71          213   \n",
       "7  favorites_add                 136             13.86          351   \n",
       "8     tips_click                 100             10.19          322   \n",
       "3    photos_show                 339             34.56         1095   \n",
       "2         search                 377             38.43         1666   \n",
       "4            map                 289             29.46         1456   \n",
       "1      tips_show                 516             52.60         2801   \n",
       "6    advert_open                 138             14.07          751   \n",
       "\n",
       "   perc_from_total  conversion  \n",
       "0            22.85      100.00  \n",
       "5             4.96      100.00  \n",
       "7             8.18       38.75  \n",
       "8             7.50       31.06  \n",
       "3            25.51       30.96  \n",
       "2            38.81       22.63  \n",
       "4            33.92       19.85  \n",
       "1            65.25       18.42  \n",
       "6            17.49       18.38  "
      ]
     },
     "execution_count": 38,
     "metadata": {},
     "output_type": "execute_result"
    }
   ],
   "source": [
    "conversion_df = target_data_conversion.merge(conversion_info, on='event_name')\n",
    "#удалим столбец stage_loss\n",
    "conversion_df  = conversion_df.drop('stage_loss', axis=1)\n",
    "#для удобства переименуем столбцы\n",
    "conversion_df.columns = ['event_name',\n",
    "                         'users_target_event',\n",
    "                         'perc_from_target',\n",
    "                         'users_total',\n",
    "                         'perc_from_total'\n",
    "    \n",
    "]\n",
    "#добавим столбец с расчетами конверсии\n",
    "conversion_df['conversion'] = round(conversion_df['users_target_event'] / conversion_df['users_total'] * 100,2)\n",
    "conversion_df = conversion_df.sort_values(by='conversion', ascending=False)\n",
    "conversion_df"
   ]
  },
  {
   "cell_type": "markdown",
   "id": "cf9f4feb",
   "metadata": {},
   "source": [
    "**По итогам расчетов конверсии можно прийти к выводу о том, что добавление объявления в \"избранное\", а также переход на страницу рекомендованного объявления и просмотр фотографий  повышают вероятность совершения целевого действия.**"
   ]
  },
  {
   "cell_type": "markdown",
   "id": "0f6f32ad",
   "metadata": {},
   "source": [
    "### Выявление количества сессий, когда совершалось целевое действие "
   ]
  },
  {
   "cell_type": "markdown",
   "id": "d31fc74a",
   "metadata": {},
   "source": [
    "**На графиках выше видно, что в течение первых 3 недель росло количество активных пользователей. Поскольку пользователей становилось больше, увеличивалось и количество сессий. На 4ой неделе,однако, произошел спад активности.**"
   ]
  },
  {
   "cell_type": "code",
   "execution_count": 39,
   "id": "a40db4de",
   "metadata": {},
   "outputs": [
    {
     "name": "stdout",
     "output_type": "stream",
     "text": [
      "Количество сессий с целевым действием: 1796\n"
     ]
    }
   ],
   "source": [
    "contacts_show_sessions = session_df[session_df['event_name']=='contacts_show']['session_id'].nunique()\n",
    "print('Количество сессий с целевым действием:', contacts_show_sessions)"
   ]
  },
  {
   "cell_type": "markdown",
   "id": "5898710b",
   "metadata": {},
   "source": [
    "### Изучение сценариев в приложении: диаграмма Санкея"
   ]
  },
  {
   "cell_type": "markdown",
   "id": "67ffef7b",
   "metadata": {},
   "source": [
    "**Построим диаграмму Санкея для определения основных сценариев пользовательского поведения в приложении.**"
   ]
  },
  {
   "cell_type": "code",
   "execution_count": 40,
   "id": "e1c9f270",
   "metadata": {},
   "outputs": [
    {
     "data": {
      "text/html": [
       "<div>\n",
       "<style scoped>\n",
       "    .dataframe tbody tr th:only-of-type {\n",
       "        vertical-align: middle;\n",
       "    }\n",
       "\n",
       "    .dataframe tbody tr th {\n",
       "        vertical-align: top;\n",
       "    }\n",
       "\n",
       "    .dataframe thead th {\n",
       "        text-align: right;\n",
       "    }\n",
       "</style>\n",
       "<table border=\"1\" class=\"dataframe\">\n",
       "  <thead>\n",
       "    <tr style=\"text-align: right;\">\n",
       "      <th></th>\n",
       "      <th>index</th>\n",
       "      <th>event_time</th>\n",
       "      <th>user_id</th>\n",
       "      <th>dt</th>\n",
       "      <th>week_number</th>\n",
       "      <th>week_start</th>\n",
       "      <th>source</th>\n",
       "      <th>diff</th>\n",
       "      <th>session_id</th>\n",
       "      <th>step</th>\n",
       "      <th>target</th>\n",
       "    </tr>\n",
       "  </thead>\n",
       "  <tbody>\n",
       "    <tr>\n",
       "      <th>0</th>\n",
       "      <td>8</td>\n",
       "      <td>2019-10-07 13:49:41.716617</td>\n",
       "      <td>0001b1d5-b74a-4cbf-aeb0-7df5947bf349</td>\n",
       "      <td>2019-10-07</td>\n",
       "      <td>41</td>\n",
       "      <td>2019-10-07</td>\n",
       "      <td>tips_show</td>\n",
       "      <td>2.147606</td>\n",
       "      <td>0</td>\n",
       "      <td>9</td>\n",
       "      <td>NaN</td>\n",
       "    </tr>\n",
       "    <tr>\n",
       "      <th>1</th>\n",
       "      <td>10</td>\n",
       "      <td>2019-10-09 18:35:28.260975</td>\n",
       "      <td>0001b1d5-b74a-4cbf-aeb0-7df5947bf349</td>\n",
       "      <td>2019-10-09</td>\n",
       "      <td>41</td>\n",
       "      <td>2019-10-07</td>\n",
       "      <td>map</td>\n",
       "      <td>1.544717</td>\n",
       "      <td>1</td>\n",
       "      <td>2</td>\n",
       "      <td>tips_show</td>\n",
       "    </tr>\n",
       "    <tr>\n",
       "      <th>2</th>\n",
       "      <td>12</td>\n",
       "      <td>2019-10-09 18:42:22.963948</td>\n",
       "      <td>0001b1d5-b74a-4cbf-aeb0-7df5947bf349</td>\n",
       "      <td>2019-10-09</td>\n",
       "      <td>41</td>\n",
       "      <td>2019-10-07</td>\n",
       "      <td>tips_show</td>\n",
       "      <td>1.903753</td>\n",
       "      <td>1</td>\n",
       "      <td>4</td>\n",
       "      <td>NaN</td>\n",
       "    </tr>\n",
       "    <tr>\n",
       "      <th>3</th>\n",
       "      <td>14</td>\n",
       "      <td>2019-10-21 19:53:17.165009</td>\n",
       "      <td>0001b1d5-b74a-4cbf-aeb0-7df5947bf349</td>\n",
       "      <td>2019-10-21</td>\n",
       "      <td>43</td>\n",
       "      <td>2019-10-21</td>\n",
       "      <td>tips_show</td>\n",
       "      <td>0.773101</td>\n",
       "      <td>2</td>\n",
       "      <td>2</td>\n",
       "      <td>map</td>\n",
       "    </tr>\n",
       "    <tr>\n",
       "      <th>4</th>\n",
       "      <td>15</td>\n",
       "      <td>2019-10-21 19:53:38.767230</td>\n",
       "      <td>0001b1d5-b74a-4cbf-aeb0-7df5947bf349</td>\n",
       "      <td>2019-10-21</td>\n",
       "      <td>43</td>\n",
       "      <td>2019-10-21</td>\n",
       "      <td>map</td>\n",
       "      <td>0.360037</td>\n",
       "      <td>2</td>\n",
       "      <td>3</td>\n",
       "      <td>tips_show</td>\n",
       "    </tr>\n",
       "  </tbody>\n",
       "</table>\n",
       "</div>"
      ],
      "text/plain": [
       "   index                 event_time                               user_id  \\\n",
       "0      8 2019-10-07 13:49:41.716617  0001b1d5-b74a-4cbf-aeb0-7df5947bf349   \n",
       "1     10 2019-10-09 18:35:28.260975  0001b1d5-b74a-4cbf-aeb0-7df5947bf349   \n",
       "2     12 2019-10-09 18:42:22.963948  0001b1d5-b74a-4cbf-aeb0-7df5947bf349   \n",
       "3     14 2019-10-21 19:53:17.165009  0001b1d5-b74a-4cbf-aeb0-7df5947bf349   \n",
       "4     15 2019-10-21 19:53:38.767230  0001b1d5-b74a-4cbf-aeb0-7df5947bf349   \n",
       "\n",
       "           dt  week_number week_start     source      diff  session_id  step  \\\n",
       "0  2019-10-07           41 2019-10-07  tips_show  2.147606           0     9   \n",
       "1  2019-10-09           41 2019-10-07        map  1.544717           1     2   \n",
       "2  2019-10-09           41 2019-10-07  tips_show  1.903753           1     4   \n",
       "3  2019-10-21           43 2019-10-21  tips_show  0.773101           2     2   \n",
       "4  2019-10-21           43 2019-10-21        map  0.360037           2     3   \n",
       "\n",
       "      target  \n",
       "0        NaN  \n",
       "1  tips_show  \n",
       "2        NaN  \n",
       "3        map  \n",
       "4  tips_show  "
      ]
     },
     "execution_count": 40,
     "metadata": {},
     "output_type": "execute_result"
    }
   ],
   "source": [
    "def add_features(session_df):\n",
    "    \n",
    "    # сортируем по id и времени\n",
    "    sorted_df = session_df.sort_values(by=['session_id', 'event_time']).copy()\n",
    "    # добавляем шаги событий\n",
    "    sorted_df['step'] = sorted_df.groupby('session_id').cumcount() + 1\n",
    "    \n",
    "    # добавляем узлы-источники и целевые узлы\n",
    "    # узлы-источники - это сами события\n",
    "    sorted_df['source'] = sorted_df['event_name']\n",
    "    # добавляем целевые узлы\n",
    "    sorted_df['target'] = sorted_df.groupby('session_id')['source'].shift(-1)\n",
    "    #удалим повторяющиеся события\n",
    "    sorted_df = sorted_df.query('source != target').reset_index()\n",
    "    \n",
    "    # возврат таблицы без имени событий\n",
    "    return sorted_df.drop(['event_name'], axis=1)\n",
    "  \n",
    "# преобразуем таблицу\n",
    "session_df = add_features(session_df)\n",
    "session_df.head()"
   ]
  },
  {
   "cell_type": "markdown",
   "id": "ceb99330",
   "metadata": {},
   "source": [
    "**Теперь установим максимальное количество шагов в сессии. Для этого сначала посмотрим на распределение значений столбца 'step'.** "
   ]
  },
  {
   "cell_type": "code",
   "execution_count": 41,
   "id": "f4f41776",
   "metadata": {},
   "outputs": [
    {
     "data": {
      "image/png": "[encoded data removed]",
      "text/plain": [
       "<Figure size 640x480 with 1 Axes>"
      ]
     },
     "metadata": {},
     "output_type": "display_data"
    }
   ],
   "source": [
    "sns.boxplot(y='step', data=session_df, color='#66c2a5')\n",
    "plt.title('Диаграмма размаха:количество шагов в сессии')\n",
    "plt.ylabel('Количество шагов')\n",
    "plt.ylim(0,15)\n",
    "plt.show();"
   ]
  },
  {
   "cell_type": "markdown",
   "id": "1d586e7b",
   "metadata": {},
   "source": [
    "**Медианное значение - это 5 шагов. В 75% сессий было совершено не более 12 шагов. Ограничим количество шагов 5.**"
   ]
  },
  {
   "cell_type": "code",
   "execution_count": 42,
   "id": "2f550874",
   "metadata": {},
   "outputs": [],
   "source": [
    "data_2 = session_df[session_df['step'] <= 5].copy().reset_index(drop=True)"
   ]
  },
  {
   "cell_type": "code",
   "execution_count": 43,
   "id": "1a497fc1",
   "metadata": {},
   "outputs": [],
   "source": [
    "def get_source_index(session_df):\n",
    "    \n",
    "    \"\"\"Функция генерации индексов source\n",
    "\n",
    "    Args:\n",
    "        df (pd.DataFrame): исходная таблица с признаками step, source, target.\n",
    "    Returns:\n",
    "        dict: словарь с индексами, именами и соответсвиями индексов именам source.\n",
    "    \"\"\"\n",
    "    \n",
    "    res_dict = {}\n",
    "    \n",
    "    count = 0\n",
    "    # получаем индексы источников\n",
    "    for no, step in enumerate(data_2['step'].unique().tolist()):\n",
    "        # получаем уникальные наименования для шага\n",
    "        res_dict[no+1] = {}\n",
    "        res_dict[no+1]['sources'] = data_2[data_2['step'] == step]['source'].unique().tolist()\n",
    "        res_dict[no+1]['sources_index'] = []\n",
    "        for i in range(len(res_dict[no+1]['sources'])):\n",
    "            res_dict[no+1]['sources_index'].append(count)\n",
    "            count += 1\n",
    "            \n",
    "    # соединим списки\n",
    "    for key in res_dict:\n",
    "        res_dict[key]['sources_dict'] = {}\n",
    "        for name, no in zip(res_dict[key]['sources'], res_dict[key]['sources_index']):\n",
    "            res_dict[key]['sources_dict'][name] = no\n",
    "    return res_dict\n",
    "  \n",
    "\n",
    "# создаем словарь\n",
    "source_indexes = get_source_index(session_df)"
   ]
  },
  {
   "cell_type": "code",
   "execution_count": 44,
   "id": "35f6322e",
   "metadata": {},
   "outputs": [],
   "source": [
    "def generate_random_color():\n",
    "    \n",
    "    \"\"\"Случайная генерация цветов rgba\n",
    "\n",
    "    Args:\n",
    "        \n",
    "    Returns:\n",
    "        str: Строка со сгенерированными параметрами цвета\n",
    "    \"\"\"\n",
    "    \n",
    "    # сгенерим значение для каждого канала\n",
    "    r, g, b = np.random.randint(255, size=3)\n",
    "    return f'rgba({r}, {g}, {b}, 1)'"
   ]
  },
  {
   "cell_type": "code",
   "execution_count": 45,
   "id": "46e03972",
   "metadata": {},
   "outputs": [],
   "source": [
    "def colors_for_sources(mode):\n",
    "    \n",
    "    \"\"\"Генерация цветов rgba\n",
    "\n",
    "    Args:\n",
    "        mode (str): сгенерировать случайные цвета, если 'random', а если 'custom' - \n",
    "                    использовать заранее подготовленные\n",
    "    Returns:\n",
    "        dict: словарь с цветами, соответствующими каждому индексу\n",
    "    \"\"\"\n",
    "    # словарь, в который сложим цвета в соответствии с индексом\n",
    "    colors_dict = {}\n",
    "    \n",
    "    if mode == 'random':\n",
    "        # генерим случайные цвета\n",
    "        for label in df_comp['source'].unique():\n",
    "            r, g, b = np.random.randint(255, size=3)            \n",
    "            colors_dict[label] = f'rgba({r}, {g}, {b}, 1)'\n",
    "            \n",
    "    elif mode == 'custom':\n",
    "        # присваиваем ранее подготовленные цвета\n",
    "        colors = requests.get('https://raw.githubusercontent.com/rusantsovsv/senkey_tutorial/main/json/colors_senkey.json').json()\n",
    "        for no, label in enumerate(data_2['source'].unique()):\n",
    "            colors_dict[label] = colors['custom_colors'][no]\n",
    "            \n",
    "    return colors_dict\n",
    "  \n",
    "\n",
    "colors_dict = colors_for_sources(mode='custom')"
   ]
  },
  {
   "cell_type": "code",
   "execution_count": 46,
   "id": "379137a2",
   "metadata": {},
   "outputs": [],
   "source": [
    "def percent_users(sources, targets, values):\n",
    "    \n",
    "    \"\"\"\n",
    "    Расчет уникальных id в процентах (для вывода в hover text каждого узла)\n",
    "    \n",
    "    Args:\n",
    "        sources (list): список с индексами source.\n",
    "        targets (list): список с индексами target.\n",
    "        values (list): список с \"объемами\" потоков.\n",
    "        \n",
    "    Returns:\n",
    "        list: список с \"объемами\" потоков в процентах\n",
    "    \"\"\"\n",
    "    \n",
    "    # объединим источники и метки и найдем пары\n",
    "    zip_lists = list(zip(sources, targets, values))\n",
    "    \n",
    "    new_list = []\n",
    "    \n",
    "    # подготовим список словарь с общим объемом трафика в узлах\n",
    "    unique_dict = {}\n",
    "    \n",
    "    # проходим по каждому узлу\n",
    "    for source, target, value in zip_lists:\n",
    "        if source not in unique_dict:\n",
    "            # находим все источники и считаем общий трафик\n",
    "            unique_dict[source] = 0\n",
    "            for sr, tg, vl in zip_lists:\n",
    "                if sr == source:\n",
    "                    unique_dict[source] += vl\n",
    "                    \n",
    "    # считаем проценты\n",
    "    for source, target, value in zip_lists:\n",
    "        new_list.append(round(100 * value / unique_dict[source], 1))\n",
    "    \n",
    "    return new_list"
   ]
  },
  {
   "cell_type": "code",
   "execution_count": 47,
   "id": "bff141ab",
   "metadata": {},
   "outputs": [
    {
     "name": "stderr",
     "output_type": "stream",
     "text": [
      "Шаг:   0%|                                                                                                                                                                                | 0/132 [00:00<?, ?it/s]\n",
      "  0%|                                                                                                                                                                                       | 0/9 [00:00<?, ?it/s]\u001b[A\n",
      "100%|███████████████████████████████████████████████████████████████████████████████████████████████████████████████████████████████████████████████████████████████████████████████| 9/9 [00:00<00:00, 37.35it/s]\u001b[A\n",
      "Шаг:   1%|█▎                                                                                                                                                                      | 1/132 [00:00<00:32,  4.08it/s]\n",
      "  0%|                                                                                                                                                                                       | 0/9 [00:00<?, ?it/s]\u001b[A\n",
      "100%|███████████████████████████████████████████████████████████████████████████████████████████████████████████████████████████████████████████████████████████████████████████████| 9/9 [00:00<00:00, 44.26it/s]\u001b[A\n",
      "Шаг:   2%|██▌                                                                                                                                                                     | 2/132 [00:00<00:28,  4.50it/s]\n",
      "  0%|                                                                                                                                                                                       | 0/9 [00:00<?, ?it/s]\u001b[A\n",
      "100%|███████████████████████████████████████████████████████████████████████████████████████████████████████████████████████████████████████████████████████████████████████████████| 9/9 [00:00<00:00, 45.28it/s]\u001b[A\n",
      "Шаг:   2%|███▊                                                                                                                                                                    | 3/132 [00:00<00:27,  4.68it/s]\n",
      "  0%|                                                                                                                                                                                       | 0/9 [00:00<?, ?it/s]\u001b[A\n",
      "100%|███████████████████████████████████████████████████████████████████████████████████████████████████████████████████████████████████████████████████████████████████████████████| 9/9 [00:00<00:00, 50.69it/s]\u001b[A\n",
      "Шаг: 100%|█████████████████████████████████████████████████████████████████████████████████████████████████████████████████████████████████████████████████████████████████████| 132/132 [00:00<00:00, 157.39it/s]\n"
     ]
    }
   ],
   "source": [
    "def lists_for_plot(source_indexes=source_indexes, colors=colors_dict, frac=10):\n",
    "    \n",
    "    \"\"\"\n",
    "    Создаем необходимые для отрисовки диаграммы переменные списков и возвращаем\n",
    "    их в виде словаря\n",
    "    \n",
    "    Args:\n",
    "        source_indexes (dict): словарь с именами и индексами source.\n",
    "        colors (dict): словарь с цветами source.\n",
    "        frac (int): ограничение на минимальный \"объем\" между узлами.\n",
    "        \n",
    "    Returns:\n",
    "        dict: словарь со списками, необходимыми для диаграммы.\n",
    "    \"\"\"\n",
    "    \n",
    "    sources = []\n",
    "    targets = []\n",
    "    values = []\n",
    "    labels = []\n",
    "    link_color = []\n",
    "    link_text = []\n",
    "\n",
    "    # проходим по каждому шагу\n",
    "    for step in tqdm(sorted(session_df['step'].unique()), desc='Шаг'):\n",
    "        if step + 1 not in source_indexes:\n",
    "            continue\n",
    "\n",
    "        # получаем индекс источника\n",
    "        temp_dict_source = source_indexes[step]['sources_dict']\n",
    "\n",
    "        # получаем индексы цели\n",
    "        temp_dict_target = source_indexes[step+1]['sources_dict']\n",
    "\n",
    "        # проходим по каждой возможной паре, считаем количество таких пар\n",
    "        for source, index_source in tqdm(temp_dict_source.items()):\n",
    "            for target, index_target in temp_dict_target.items():\n",
    "                # делаем срез данных и считаем количество id            \n",
    "                temp_df = data_2[(data_2['step'] == step)&(data_2['source'] == source)&(data_2['target'] == target)]\n",
    "                value = len(temp_df)\n",
    "                # проверяем минимальный объем потока и добавляем нужные данные\n",
    "                if value > frac:\n",
    "                    sources.append(index_source)\n",
    "                    targets.append(index_target)\n",
    "                    values.append(value)\n",
    "                    # делаем поток прозрачным для лучшего отображения\n",
    "                    link_color.append(colors[source].replace(', 1)', ', 0.2)'))\n",
    "                    \n",
    "    labels = []\n",
    "    colors_labels = []\n",
    "    for key in source_indexes:\n",
    "        for name in source_indexes[key]['sources']:\n",
    "            labels.append(name)\n",
    "            colors_labels.append(colors[name])\n",
    "            \n",
    "    # посчитаем проценты всех потоков\n",
    "    perc_values = percent_users(sources, targets, values)\n",
    "    \n",
    "    # добавим значения процентов для howertext\n",
    "    link_text = []\n",
    "    for perc in perc_values:\n",
    "        link_text.append(f\"{perc}%\")\n",
    "    \n",
    "    # возвратим словарь с вложенными списками\n",
    "    return {'sources': sources, \n",
    "            'targets': targets, \n",
    "            'values': values, \n",
    "            'labels': labels, \n",
    "            'colors_labels': colors_labels, \n",
    "            'link_color': link_color, \n",
    "            'link_text': link_text}\n",
    "  \n",
    "\n",
    "# создаем словарь\n",
    "data_for_plot = lists_for_plot()"
   ]
  },
  {
   "cell_type": "code",
   "execution_count": 48,
   "id": "ae1a591b",
   "metadata": {},
   "outputs": [],
   "source": [
    "def plot_senkey_diagram(data_dict=data_for_plot):    \n",
    "    \n",
    "    \"\"\"\n",
    "    Функция для генерации объекта диаграммы Сенкей \n",
    "    \n",
    "    Args:\n",
    "        data_dict (dict): словарь со списками данных для построения.\n",
    "        \n",
    "    Returns:\n",
    "        plotly.graph_objs._figure.Figure: объект изображения.\n",
    "    \"\"\"\n",
    "    \n",
    "    fig = go.Figure(data=[go.Sankey(\n",
    "        domain = dict(\n",
    "          x =  [0,1],\n",
    "          y =  [0,1]\n",
    "        ),\n",
    "        orientation = \"h\",\n",
    "        valueformat = \".0f\",\n",
    "        node = dict(\n",
    "          pad = 50,\n",
    "          thickness = 15,\n",
    "          line = dict(color = \"black\", width = 0.1),\n",
    "          label = data_dict['labels'],\n",
    "          color = data_dict['colors_labels']\n",
    "        ),\n",
    "        link = dict(\n",
    "          source = data_dict['sources'],\n",
    "          target = data_dict['targets'],\n",
    "          value = data_dict['values'],\n",
    "          label = data_dict['link_text'],\n",
    "          color = data_dict['link_color']\n",
    "      ))])\n",
    "    fig.update_layout(title_text=\"Sankey Diagram\", font_size=10, width=1000, height=600)\n",
    "    \n",
    "    # возвращаем объект диаграммы\n",
    "    return fig\n",
    "  \n",
    "\n",
    "# сохраняем диаграмму в переменную\n",
    "senkey_diagram = plot_senkey_diagram()"
   ]
  },
  {
   "cell_type": "code",
   "execution_count": 49,
   "id": "60fc4886",
   "metadata": {},
   "outputs": [
    {
     "data": {
      "application/vnd.plotly.v1+json": {
       "config": {
        "plotlyServerURL": "https://plot.ly"
       },
       "data": [
        {
         "domain": {
          "x": [
           0,
           1
          ],
          "y": [
           0,
           1
          ]
         },
         "link": {
          "color": [
           "rgba(42, 157, 143, 0.2)",
           "rgba(42, 157, 143, 0.2)",
           "rgba(42, 157, 143, 0.2)",
           "rgba(42, 157, 143, 0.2)",
           "rgba(38, 70, 83, 0.2)",
           "rgba(38, 70, 83, 0.2)",
           "rgba(38, 70, 83, 0.2)",
           "rgba(38, 70, 83, 0.2)",
           "rgba(38, 70, 83, 0.2)",
           "rgba(38, 70, 83, 0.2)",
           "rgba(244, 162, 97, 0.2)",
           "rgba(244, 162, 97, 0.2)",
           "rgba(244, 162, 97, 0.2)",
           "rgba(233, 196, 106, 0.2)",
           "rgba(233, 196, 106, 0.2)",
           "rgba(233, 196, 106, 0.2)",
           "rgba(233, 196, 106, 0.2)",
           "rgba(233, 196, 106, 0.2)",
           "rgba(233, 196, 106, 0.2)",
           "rgba(230, 57, 70, 0.2)",
           "rgba(230, 57, 70, 0.2)",
           "rgba(230, 57, 70, 0.2)",
           "rgba(230, 57, 70, 0.2)",
           "rgba(168, 218, 220, 0.2)",
           "rgba(168, 218, 220, 0.2)",
           "rgba(168, 218, 220, 0.2)",
           "rgba(168, 218, 220, 0.2)",
           "rgba(29, 53, 87, 0.2)",
           "rgba(231, 111, 81, 0.2)",
           "rgba(38, 70, 83, 0.2)",
           "rgba(38, 70, 83, 0.2)",
           "rgba(38, 70, 83, 0.2)",
           "rgba(38, 70, 83, 0.2)",
           "rgba(38, 70, 83, 0.2)",
           "rgba(38, 70, 83, 0.2)",
           "rgba(244, 162, 97, 0.2)",
           "rgba(244, 162, 97, 0.2)",
           "rgba(244, 162, 97, 0.2)",
           "rgba(244, 162, 97, 0.2)",
           "rgba(233, 196, 106, 0.2)",
           "rgba(233, 196, 106, 0.2)",
           "rgba(233, 196, 106, 0.2)",
           "rgba(233, 196, 106, 0.2)",
           "rgba(233, 196, 106, 0.2)",
           "rgba(233, 196, 106, 0.2)",
           "rgba(42, 157, 143, 0.2)",
           "rgba(42, 157, 143, 0.2)",
           "rgba(42, 157, 143, 0.2)",
           "rgba(230, 57, 70, 0.2)",
           "rgba(230, 57, 70, 0.2)",
           "rgba(230, 57, 70, 0.2)",
           "rgba(230, 57, 70, 0.2)",
           "rgba(168, 218, 220, 0.2)",
           "rgba(168, 218, 220, 0.2)",
           "rgba(29, 53, 87, 0.2)",
           "rgba(69, 123, 157, 0.2)",
           "rgba(69, 123, 157, 0.2)",
           "rgba(231, 111, 81, 0.2)",
           "rgba(42, 157, 143, 0.2)",
           "rgba(42, 157, 143, 0.2)",
           "rgba(42, 157, 143, 0.2)",
           "rgba(233, 196, 106, 0.2)",
           "rgba(233, 196, 106, 0.2)",
           "rgba(233, 196, 106, 0.2)",
           "rgba(233, 196, 106, 0.2)",
           "rgba(233, 196, 106, 0.2)",
           "rgba(233, 196, 106, 0.2)",
           "rgba(231, 111, 81, 0.2)",
           "rgba(231, 111, 81, 0.2)",
           "rgba(230, 57, 70, 0.2)",
           "rgba(230, 57, 70, 0.2)",
           "rgba(230, 57, 70, 0.2)",
           "rgba(230, 57, 70, 0.2)",
           "rgba(168, 218, 220, 0.2)",
           "rgba(168, 218, 220, 0.2)",
           "rgba(244, 162, 97, 0.2)",
           "rgba(244, 162, 97, 0.2)",
           "rgba(244, 162, 97, 0.2)",
           "rgba(69, 123, 157, 0.2)",
           "rgba(38, 70, 83, 0.2)",
           "rgba(38, 70, 83, 0.2)",
           "rgba(38, 70, 83, 0.2)",
           "rgba(38, 70, 83, 0.2)",
           "rgba(38, 70, 83, 0.2)",
           "rgba(38, 70, 83, 0.2)",
           "rgba(29, 53, 87, 0.2)",
           "rgba(38, 70, 83, 0.2)",
           "rgba(38, 70, 83, 0.2)",
           "rgba(38, 70, 83, 0.2)",
           "rgba(38, 70, 83, 0.2)",
           "rgba(38, 70, 83, 0.2)",
           "rgba(38, 70, 83, 0.2)",
           "rgba(42, 157, 143, 0.2)",
           "rgba(42, 157, 143, 0.2)",
           "rgba(42, 157, 143, 0.2)",
           "rgba(244, 162, 97, 0.2)",
           "rgba(244, 162, 97, 0.2)",
           "rgba(244, 162, 97, 0.2)",
           "rgba(69, 123, 157, 0.2)",
           "rgba(69, 123, 157, 0.2)",
           "rgba(233, 196, 106, 0.2)",
           "rgba(233, 196, 106, 0.2)",
           "rgba(233, 196, 106, 0.2)",
           "rgba(233, 196, 106, 0.2)",
           "rgba(233, 196, 106, 0.2)",
           "rgba(233, 196, 106, 0.2)",
           "rgba(168, 218, 220, 0.2)",
           "rgba(29, 53, 87, 0.2)",
           "rgba(230, 57, 70, 0.2)",
           "rgba(230, 57, 70, 0.2)",
           "rgba(231, 111, 81, 0.2)",
           "rgba(231, 111, 81, 0.2)"
          ],
          "label": [
           "66.0%",
           "7.8%",
           "3.1%",
           "23.2%",
           "5.7%",
           "27.2%",
           "39.7%",
           "8.6%",
           "15.3%",
           "3.5%",
           "36.9%",
           "40.3%",
           "22.8%",
           "9.2%",
           "52.5%",
           "16.8%",
           "10.7%",
           "5.4%",
           "5.4%",
           "29.5%",
           "13.9%",
           "5.2%",
           "51.4%",
           "70.4%",
           "17.8%",
           "6.1%",
           "5.7%",
           "100.0%",
           "100.0%",
           "22.8%",
           "4.4%",
           "4.6%",
           "30.4%",
           "24.3%",
           "13.5%",
           "43.0%",
           "14.0%",
           "31.2%",
           "11.8%",
           "18.9%",
           "3.6%",
           "6.3%",
           "6.7%",
           "28.1%",
           "36.4%",
           "10.2%",
           "26.6%",
           "63.3%",
           "6.3%",
           "8.9%",
           "33.3%",
           "51.5%",
           "5.0%",
           "95.0%",
           "100.0%",
           "70.2%",
           "29.8%",
           "100.0%",
           "63.7%",
           "11.1%",
           "25.2%",
           "46.8%",
           "15.2%",
           "22.1%",
           "6.2%",
           "5.7%",
           "4.1%",
           "36.6%",
           "63.4%",
           "51.5%",
           "9.0%",
           "33.0%",
           "6.5%",
           "94.3%",
           "5.7%",
           "50.6%",
           "30.8%",
           "18.6%",
           "100.0%",
           "19.3%",
           "4.5%",
           "32.5%",
           "10.9%",
           "29.3%",
           "3.4%",
           "100.0%",
           "19.1%",
           "3.4%",
           "27.0%",
           "34.3%",
           "3.8%",
           "12.3%",
           "11.3%",
           "65.2%",
           "23.4%",
           "50.0%",
           "30.6%",
           "19.4%",
           "55.6%",
           "44.4%",
           "9.8%",
           "8.0%",
           "24.0%",
           "42.2%",
           "10.2%",
           "5.8%",
           "100.0%",
           "100.0%",
           "19.0%",
           "81.0%",
           "51.5%",
           "48.5%"
          ],
          "source": [
           0,
           0,
           0,
           0,
           1,
           1,
           1,
           1,
           1,
           1,
           2,
           2,
           2,
           4,
           4,
           4,
           4,
           4,
           4,
           5,
           5,
           5,
           5,
           6,
           6,
           6,
           6,
           7,
           8,
           9,
           9,
           9,
           9,
           9,
           9,
           10,
           10,
           10,
           10,
           11,
           11,
           11,
           11,
           11,
           11,
           12,
           12,
           12,
           13,
           13,
           13,
           13,
           14,
           14,
           15,
           16,
           16,
           17,
           18,
           18,
           18,
           19,
           19,
           19,
           19,
           19,
           19,
           20,
           20,
           21,
           21,
           21,
           21,
           22,
           22,
           23,
           23,
           23,
           24,
           25,
           25,
           25,
           25,
           25,
           25,
           26,
           27,
           27,
           27,
           27,
           27,
           27,
           28,
           28,
           28,
           29,
           29,
           29,
           30,
           30,
           31,
           31,
           31,
           31,
           31,
           31,
           32,
           33,
           34,
           34,
           35,
           35
          ],
          "target": [
           9,
           11,
           13,
           14,
           11,
           12,
           13,
           14,
           15,
           17,
           11,
           13,
           17,
           9,
           10,
           12,
           13,
           14,
           17,
           9,
           10,
           11,
           16,
           9,
           10,
           11,
           13,
           9,
           10,
           18,
           19,
           20,
           21,
           22,
           26,
           19,
           20,
           21,
           22,
           18,
           20,
           21,
           22,
           23,
           25,
           19,
           22,
           25,
           19,
           23,
           24,
           25,
           19,
           25,
           25,
           21,
           23,
           23,
           27,
           31,
           32,
           27,
           28,
           29,
           32,
           34,
           35,
           27,
           29,
           27,
           29,
           30,
           31,
           27,
           29,
           31,
           34,
           35,
           34,
           28,
           31,
           32,
           33,
           34,
           35,
           27,
           36,
           37,
           38,
           41,
           42,
           43,
           37,
           40,
           41,
           37,
           38,
           42,
           38,
           39,
           36,
           38,
           39,
           40,
           41,
           42,
           40,
           40,
           39,
           40,
           39,
           40
          ],
          "value": [
           624,
           74,
           29,
           219,
           28,
           133,
           194,
           42,
           75,
           17,
           55,
           60,
           34,
           73,
           418,
           134,
           85,
           43,
           43,
           74,
           35,
           13,
           129,
           162,
           41,
           14,
           13,
           18,
           15,
           108,
           21,
           22,
           144,
           115,
           64,
           80,
           26,
           58,
           22,
           116,
           22,
           39,
           41,
           173,
           224,
           36,
           94,
           224,
           17,
           24,
           90,
           139,
           12,
           227,
           73,
           33,
           14,
           25,
           149,
           26,
           59,
           182,
           59,
           86,
           24,
           22,
           16,
           15,
           26,
           103,
           18,
           66,
           13,
           232,
           14,
           79,
           48,
           29,
           30,
           85,
           20,
           143,
           48,
           129,
           15,
           67,
           90,
           16,
           127,
           161,
           18,
           58,
           16,
           92,
           33,
           54,
           33,
           21,
           15,
           12,
           22,
           18,
           54,
           95,
           23,
           13,
           216,
           55,
           22,
           94,
           17,
           16
          ]
         },
         "node": {
          "color": [
           "rgba(42, 157, 143, 1)",
           "rgba(38, 70, 83, 1)",
           "rgba(244, 162, 97, 1)",
           "rgba(69, 123, 157, 1)",
           "rgba(233, 196, 106, 1)",
           "rgba(230, 57, 70, 1)",
           "rgba(168, 218, 220, 1)",
           "rgba(29, 53, 87, 1)",
           "rgba(231, 111, 81, 1)",
           "rgba(38, 70, 83, 1)",
           "rgba(244, 162, 97, 1)",
           "rgba(233, 196, 106, 1)",
           "rgba(42, 157, 143, 1)",
           "rgba(230, 57, 70, 1)",
           "rgba(168, 218, 220, 1)",
           "rgba(29, 53, 87, 1)",
           "rgba(69, 123, 157, 1)",
           "rgba(231, 111, 81, 1)",
           "rgba(42, 157, 143, 1)",
           "rgba(233, 196, 106, 1)",
           "rgba(231, 111, 81, 1)",
           "rgba(230, 57, 70, 1)",
           "rgba(168, 218, 220, 1)",
           "rgba(244, 162, 97, 1)",
           "rgba(69, 123, 157, 1)",
           "rgba(38, 70, 83, 1)",
           "rgba(29, 53, 87, 1)",
           "rgba(38, 70, 83, 1)",
           "rgba(42, 157, 143, 1)",
           "rgba(244, 162, 97, 1)",
           "rgba(69, 123, 157, 1)",
           "rgba(233, 196, 106, 1)",
           "rgba(168, 218, 220, 1)",
           "rgba(29, 53, 87, 1)",
           "rgba(230, 57, 70, 1)",
           "rgba(231, 111, 81, 1)",
           "rgba(42, 157, 143, 1)",
           "rgba(233, 196, 106, 1)",
           "rgba(230, 57, 70, 1)",
           "rgba(244, 162, 97, 1)",
           "rgba(38, 70, 83, 1)",
           "rgba(168, 218, 220, 1)",
           "rgba(231, 111, 81, 1)",
           "rgba(29, 53, 87, 1)"
          ],
          "label": [
           "map",
           "tips_show",
           "photos_show",
           "contacts_call",
           "search",
           "contacts_show",
           "advert_open",
           "tips_click",
           "favorites_add",
           "tips_show",
           "photos_show",
           "search",
           "map",
           "contacts_show",
           "advert_open",
           "tips_click",
           "contacts_call",
           "favorites_add",
           "map",
           "search",
           "favorites_add",
           "contacts_show",
           "advert_open",
           "photos_show",
           "contacts_call",
           "tips_show",
           "tips_click",
           "tips_show",
           "map",
           "photos_show",
           "contacts_call",
           "search",
           "advert_open",
           "tips_click",
           "contacts_show",
           "favorites_add",
           "map",
           "search",
           "contacts_show",
           "photos_show",
           "tips_show",
           "advert_open",
           "favorites_add",
           "tips_click"
          ],
          "line": {
           "color": "black",
           "width": 0.1
          },
          "pad": 50,
          "thickness": 15
         },
         "orientation": "h",
         "type": "sankey",
         "valueformat": ".0f"
        }
       ],
       "layout": {
        "font": {
         "size": 10
        },
        "height": 600,
        "template": {
         "data": {
          "bar": [
           {
            "error_x": {
             "color": "#2a3f5f"
            },
            "error_y": {
             "color": "#2a3f5f"
            },
            "marker": {
             "line": {
              "color": "#E5ECF6",
              "width": 0.5
             },
             "pattern": {
              "fillmode": "overlay",
              "size": 10,
              "solidity": 0.2
             }
            },
            "type": "bar"
           }
          ],
          "barpolar": [
           {
            "marker": {
             "line": {
              "color": "#E5ECF6",
              "width": 0.5
             },
             "pattern": {
              "fillmode": "overlay",
              "size": 10,
              "solidity": 0.2
             }
            },
            "type": "barpolar"
           }
          ],
          "carpet": [
           {
            "aaxis": {
             "endlinecolor": "#2a3f5f",
             "gridcolor": "white",
             "linecolor": "white",
             "minorgridcolor": "white",
             "startlinecolor": "#2a3f5f"
            },
            "baxis": {
             "endlinecolor": "#2a3f5f",
             "gridcolor": "white",
             "linecolor": "white",
             "minorgridcolor": "white",
             "startlinecolor": "#2a3f5f"
            },
            "type": "carpet"
           }
          ],
          "choropleth": [
           {
            "colorbar": {
             "outlinewidth": 0,
             "ticks": ""
            },
            "type": "choropleth"
           }
          ],
          "contour": [
           {
            "colorbar": {
             "outlinewidth": 0,
             "ticks": ""
            },
            "colorscale": [
             [
              0,
              "#0d0887"
             ],
             [
              0.1111111111111111,
              "#46039f"
             ],
             [
              0.2222222222222222,
              "#7201a8"
             ],
             [
              0.3333333333333333,
              "#9c179e"
             ],
             [
              0.4444444444444444,
              "#bd3786"
             ],
             [
              0.5555555555555556,
              "#d8576b"
             ],
             [
              0.6666666666666666,
              "#ed7953"
             ],
             [
              0.7777777777777778,
              "#fb9f3a"
             ],
             [
              0.8888888888888888,
              "#fdca26"
             ],
             [
              1,
              "#f0f921"
             ]
            ],
            "type": "contour"
           }
          ],
          "contourcarpet": [
           {
            "colorbar": {
             "outlinewidth": 0,
             "ticks": ""
            },
            "type": "contourcarpet"
           }
          ],
          "heatmap": [
           {
            "colorbar": {
             "outlinewidth": 0,
             "ticks": ""
            },
            "colorscale": [
             [
              0,
              "#0d0887"
             ],
             [
              0.1111111111111111,
              "#46039f"
             ],
             [
              0.2222222222222222,
              "#7201a8"
             ],
             [
              0.3333333333333333,
              "#9c179e"
             ],
             [
              0.4444444444444444,
              "#bd3786"
             ],
             [
              0.5555555555555556,
              "#d8576b"
             ],
             [
              0.6666666666666666,
              "#ed7953"
             ],
             [
              0.7777777777777778,
              "#fb9f3a"
             ],
             [
              0.8888888888888888,
              "#fdca26"
             ],
             [
              1,
              "#f0f921"
             ]
            ],
            "type": "heatmap"
           }
          ],
          "heatmapgl": [
           {
            "colorbar": {
             "outlinewidth": 0,
             "ticks": ""
            },
            "colorscale": [
             [
              0,
              "#0d0887"
             ],
             [
              0.1111111111111111,
              "#46039f"
             ],
             [
              0.2222222222222222,
              "#7201a8"
             ],
             [
              0.3333333333333333,
              "#9c179e"
             ],
             [
              0.4444444444444444,
              "#bd3786"
             ],
             [
              0.5555555555555556,
              "#d8576b"
             ],
             [
              0.6666666666666666,
              "#ed7953"
             ],
             [
              0.7777777777777778,
              "#fb9f3a"
             ],
             [
              0.8888888888888888,
              "#fdca26"
             ],
             [
              1,
              "#f0f921"
             ]
            ],
            "type": "heatmapgl"
           }
          ],
          "histogram": [
           {
            "marker": {
             "pattern": {
              "fillmode": "overlay",
              "size": 10,
              "solidity": 0.2
             }
            },
            "type": "histogram"
           }
          ],
          "histogram2d": [
           {
            "colorbar": {
             "outlinewidth": 0,
             "ticks": ""
            },
            "colorscale": [
             [
              0,
              "#0d0887"
             ],
             [
              0.1111111111111111,
              "#46039f"
             ],
             [
              0.2222222222222222,
              "#7201a8"
             ],
             [
              0.3333333333333333,
              "#9c179e"
             ],
             [
              0.4444444444444444,
              "#bd3786"
             ],
             [
              0.5555555555555556,
              "#d8576b"
             ],
             [
              0.6666666666666666,
              "#ed7953"
             ],
             [
              0.7777777777777778,
              "#fb9f3a"
             ],
             [
              0.8888888888888888,
              "#fdca26"
             ],
             [
              1,
              "#f0f921"
             ]
            ],
            "type": "histogram2d"
           }
          ],
          "histogram2dcontour": [
           {
            "colorbar": {
             "outlinewidth": 0,
             "ticks": ""
            },
            "colorscale": [
             [
              0,
              "#0d0887"
             ],
             [
              0.1111111111111111,
              "#46039f"
             ],
             [
              0.2222222222222222,
              "#7201a8"
             ],
             [
              0.3333333333333333,
              "#9c179e"
             ],
             [
              0.4444444444444444,
              "#bd3786"
             ],
             [
              0.5555555555555556,
              "#d8576b"
             ],
             [
              0.6666666666666666,
              "#ed7953"
             ],
             [
              0.7777777777777778,
              "#fb9f3a"
             ],
             [
              0.8888888888888888,
              "#fdca26"
             ],
             [
              1,
              "#f0f921"
             ]
            ],
            "type": "histogram2dcontour"
           }
          ],
          "mesh3d": [
           {
            "colorbar": {
             "outlinewidth": 0,
             "ticks": ""
            },
            "type": "mesh3d"
           }
          ],
          "parcoords": [
           {
            "line": {
             "colorbar": {
              "outlinewidth": 0,
              "ticks": ""
             }
            },
            "type": "parcoords"
           }
          ],
          "pie": [
           {
            "automargin": true,
            "type": "pie"
           }
          ],
          "scatter": [
           {
            "fillpattern": {
             "fillmode": "overlay",
             "size": 10,
             "solidity": 0.2
            },
            "type": "scatter"
           }
          ],
          "scatter3d": [
           {
            "line": {
             "colorbar": {
              "outlinewidth": 0,
              "ticks": ""
             }
            },
            "marker": {
             "colorbar": {
              "outlinewidth": 0,
              "ticks": ""
             }
            },
            "type": "scatter3d"
           }
          ],
          "scattercarpet": [
           {
            "marker": {
             "colorbar": {
              "outlinewidth": 0,
              "ticks": ""
             }
            },
            "type": "scattercarpet"
           }
          ],
          "scattergeo": [
           {
            "marker": {
             "colorbar": {
              "outlinewidth": 0,
              "ticks": ""
             }
            },
            "type": "scattergeo"
           }
          ],
          "scattergl": [
           {
            "marker": {
             "colorbar": {
              "outlinewidth": 0,
              "ticks": ""
             }
            },
            "type": "scattergl"
           }
          ],
          "scattermapbox": [
           {
            "marker": {
             "colorbar": {
              "outlinewidth": 0,
              "ticks": ""
             }
            },
            "type": "scattermapbox"
           }
          ],
          "scatterpolar": [
           {
            "marker": {
             "colorbar": {
              "outlinewidth": 0,
              "ticks": ""
             }
            },
            "type": "scatterpolar"
           }
          ],
          "scatterpolargl": [
           {
            "marker": {
             "colorbar": {
              "outlinewidth": 0,
              "ticks": ""
             }
            },
            "type": "scatterpolargl"
           }
          ],
          "scatterternary": [
           {
            "marker": {
             "colorbar": {
              "outlinewidth": 0,
              "ticks": ""
             }
            },
            "type": "scatterternary"
           }
          ],
          "surface": [
           {
            "colorbar": {
             "outlinewidth": 0,
             "ticks": ""
            },
            "colorscale": [
             [
              0,
              "#0d0887"
             ],
             [
              0.1111111111111111,
              "#46039f"
             ],
             [
              0.2222222222222222,
              "#7201a8"
             ],
             [
              0.3333333333333333,
              "#9c179e"
             ],
             [
              0.4444444444444444,
              "#bd3786"
             ],
             [
              0.5555555555555556,
              "#d8576b"
             ],
             [
              0.6666666666666666,
              "#ed7953"
             ],
             [
              0.7777777777777778,
              "#fb9f3a"
             ],
             [
              0.8888888888888888,
              "#fdca26"
             ],
             [
              1,
              "#f0f921"
             ]
            ],
            "type": "surface"
           }
          ],
          "table": [
           {
            "cells": {
             "fill": {
              "color": "#EBF0F8"
             },
             "line": {
              "color": "white"
             }
            },
            "header": {
             "fill": {
              "color": "#C8D4E3"
             },
             "line": {
              "color": "white"
             }
            },
            "type": "table"
           }
          ]
         },
         "layout": {
          "annotationdefaults": {
           "arrowcolor": "#2a3f5f",
           "arrowhead": 0,
           "arrowwidth": 1
          },
          "autotypenumbers": "strict",
          "coloraxis": {
           "colorbar": {
            "outlinewidth": 0,
            "ticks": ""
           }
          },
          "colorscale": {
           "diverging": [
            [
             0,
             "#8e0152"
            ],
            [
             0.1,
             "#c51b7d"
            ],
            [
             0.2,
             "#de77ae"
            ],
            [
             0.3,
             "#f1b6da"
            ],
            [
             0.4,
             "#fde0ef"
            ],
            [
             0.5,
             "#f7f7f7"
            ],
            [
             0.6,
             "#e6f5d0"
            ],
            [
             0.7,
             "#b8e186"
            ],
            [
             0.8,
             "#7fbc41"
            ],
            [
             0.9,
             "#4d9221"
            ],
            [
             1,
             "#276419"
            ]
           ],
           "sequential": [
            [
             0,
             "#0d0887"
            ],
            [
             0.1111111111111111,
             "#46039f"
            ],
            [
             0.2222222222222222,
             "#7201a8"
            ],
            [
             0.3333333333333333,
             "#9c179e"
            ],
            [
             0.4444444444444444,
             "#bd3786"
            ],
            [
             0.5555555555555556,
             "#d8576b"
            ],
            [
             0.6666666666666666,
             "#ed7953"
            ],
            [
             0.7777777777777778,
             "#fb9f3a"
            ],
            [
             0.8888888888888888,
             "#fdca26"
            ],
            [
             1,
             "#f0f921"
            ]
           ],
           "sequentialminus": [
            [
             0,
             "#0d0887"
            ],
            [
             0.1111111111111111,
             "#46039f"
            ],
            [
             0.2222222222222222,
             "#7201a8"
            ],
            [
             0.3333333333333333,
             "#9c179e"
            ],
            [
             0.4444444444444444,
             "#bd3786"
            ],
            [
             0.5555555555555556,
             "#d8576b"
            ],
            [
             0.6666666666666666,
             "#ed7953"
            ],
            [
             0.7777777777777778,
             "#fb9f3a"
            ],
            [
             0.8888888888888888,
             "#fdca26"
            ],
            [
             1,
             "#f0f921"
            ]
           ]
          },
          "colorway": [
           "#636efa",
           "#EF553B",
           "#00cc96",
           "#ab63fa",
           "#FFA15A",
           "#19d3f3",
           "#FF6692",
           "#B6E880",
           "#FF97FF",
           "#FECB52"
          ],
          "font": {
           "color": "#2a3f5f"
          },
          "geo": {
           "bgcolor": "white",
           "lakecolor": "white",
           "landcolor": "#E5ECF6",
           "showlakes": true,
           "showland": true,
           "subunitcolor": "white"
          },
          "hoverlabel": {
           "align": "left"
          },
          "hovermode": "closest",
          "mapbox": {
           "style": "light"
          },
          "paper_bgcolor": "white",
          "plot_bgcolor": "#E5ECF6",
          "polar": {
           "angularaxis": {
            "gridcolor": "white",
            "linecolor": "white",
            "ticks": ""
           },
           "bgcolor": "#E5ECF6",
           "radialaxis": {
            "gridcolor": "white",
            "linecolor": "white",
            "ticks": ""
           }
          },
          "scene": {
           "xaxis": {
            "backgroundcolor": "#E5ECF6",
            "gridcolor": "white",
            "gridwidth": 2,
            "linecolor": "white",
            "showbackground": true,
            "ticks": "",
            "zerolinecolor": "white"
           },
           "yaxis": {
            "backgroundcolor": "#E5ECF6",
            "gridcolor": "white",
            "gridwidth": 2,
            "linecolor": "white",
            "showbackground": true,
            "ticks": "",
            "zerolinecolor": "white"
           },
           "zaxis": {
            "backgroundcolor": "#E5ECF6",
            "gridcolor": "white",
            "gridwidth": 2,
            "linecolor": "white",
            "showbackground": true,
            "ticks": "",
            "zerolinecolor": "white"
           }
          },
          "shapedefaults": {
           "line": {
            "color": "#2a3f5f"
           }
          },
          "ternary": {
           "aaxis": {
            "gridcolor": "white",
            "linecolor": "white",
            "ticks": ""
           },
           "baxis": {
            "gridcolor": "white",
            "linecolor": "white",
            "ticks": ""
           },
           "bgcolor": "#E5ECF6",
           "caxis": {
            "gridcolor": "white",
            "linecolor": "white",
            "ticks": ""
           }
          },
          "title": {
           "x": 0.05
          },
          "xaxis": {
           "automargin": true,
           "gridcolor": "white",
           "linecolor": "white",
           "ticks": "",
           "title": {
            "standoff": 15
           },
           "zerolinecolor": "white",
           "zerolinewidth": 2
          },
          "yaxis": {
           "automargin": true,
           "gridcolor": "white",
           "linecolor": "white",
           "ticks": "",
           "title": {
            "standoff": 15
           },
           "zerolinecolor": "white",
           "zerolinewidth": 2
          }
         }
        },
        "title": {
         "text": "Sankey Diagram"
        },
        "width": 1000
       }
      },
      "text/html": [
       "<div>                            <div id=\"20b1dad7-f185-44e4-843e-f1e9d914b586\" class=\"plotly-graph-div\" style=\"height:600px; width:1000px;\"></div>            <script type=\"text/javascript\">                require([\"plotly\"], function(Plotly) {                    window.PLOTLYENV=window.PLOTLYENV || {};                                    if (document.getElementById(\"20b1dad7-f185-44e4-843e-f1e9d914b586\")) {                    Plotly.newPlot(                        \"20b1dad7-f185-44e4-843e-f1e9d914b586\",                        [{\"domain\":{\"x\":[0,1],\"y\":[0,1]},\"link\":{\"color\":[\"rgba(42, 157, 143, 0.2)\",\"rgba(42, 157, 143, 0.2)\",\"rgba(42, 157, 143, 0.2)\",\"rgba(42, 157, 143, 0.2)\",\"rgba(38, 70, 83, 0.2)\",\"rgba(38, 70, 83, 0.2)\",\"rgba(38, 70, 83, 0.2)\",\"rgba(38, 70, 83, 0.2)\",\"rgba(38, 70, 83, 0.2)\",\"rgba(38, 70, 83, 0.2)\",\"rgba(244, 162, 97, 0.2)\",\"rgba(244, 162, 97, 0.2)\",\"rgba(244, 162, 97, 0.2)\",\"rgba(233, 196, 106, 0.2)\",\"rgba(233, 196, 106, 0.2)\",\"rgba(233, 196, 106, 0.2)\",\"rgba(233, 196, 106, 0.2)\",\"rgba(233, 196, 106, 0.2)\",\"rgba(233, 196, 106, 0.2)\",\"rgba(230, 57, 70, 0.2)\",\"rgba(230, 57, 70, 0.2)\",\"rgba(230, 57, 70, 0.2)\",\"rgba(230, 57, 70, 0.2)\",\"rgba(168, 218, 220, 0.2)\",\"rgba(168, 218, 220, 0.2)\",\"rgba(168, 218, 220, 0.2)\",\"rgba(168, 218, 220, 0.2)\",\"rgba(29, 53, 87, 0.2)\",\"rgba(231, 111, 81, 0.2)\",\"rgba(38, 70, 83, 0.2)\",\"rgba(38, 70, 83, 0.2)\",\"rgba(38, 70, 83, 0.2)\",\"rgba(38, 70, 83, 0.2)\",\"rgba(38, 70, 83, 0.2)\",\"rgba(38, 70, 83, 0.2)\",\"rgba(244, 162, 97, 0.2)\",\"rgba(244, 162, 97, 0.2)\",\"rgba(244, 162, 97, 0.2)\",\"rgba(244, 162, 97, 0.2)\",\"rgba(233, 196, 106, 0.2)\",\"rgba(233, 196, 106, 0.2)\",\"rgba(233, 196, 106, 0.2)\",\"rgba(233, 196, 106, 0.2)\",\"rgba(233, 196, 106, 0.2)\",\"rgba(233, 196, 106, 0.2)\",\"rgba(42, 157, 143, 0.2)\",\"rgba(42, 157, 143, 0.2)\",\"rgba(42, 157, 143, 0.2)\",\"rgba(230, 57, 70, 0.2)\",\"rgba(230, 57, 70, 0.2)\",\"rgba(230, 57, 70, 0.2)\",\"rgba(230, 57, 70, 0.2)\",\"rgba(168, 218, 220, 0.2)\",\"rgba(168, 218, 220, 0.2)\",\"rgba(29, 53, 87, 0.2)\",\"rgba(69, 123, 157, 0.2)\",\"rgba(69, 123, 157, 0.2)\",\"rgba(231, 111, 81, 0.2)\",\"rgba(42, 157, 143, 0.2)\",\"rgba(42, 157, 143, 0.2)\",\"rgba(42, 157, 143, 0.2)\",\"rgba(233, 196, 106, 0.2)\",\"rgba(233, 196, 106, 0.2)\",\"rgba(233, 196, 106, 0.2)\",\"rgba(233, 196, 106, 0.2)\",\"rgba(233, 196, 106, 0.2)\",\"rgba(233, 196, 106, 0.2)\",\"rgba(231, 111, 81, 0.2)\",\"rgba(231, 111, 81, 0.2)\",\"rgba(230, 57, 70, 0.2)\",\"rgba(230, 57, 70, 0.2)\",\"rgba(230, 57, 70, 0.2)\",\"rgba(230, 57, 70, 0.2)\",\"rgba(168, 218, 220, 0.2)\",\"rgba(168, 218, 220, 0.2)\",\"rgba(244, 162, 97, 0.2)\",\"rgba(244, 162, 97, 0.2)\",\"rgba(244, 162, 97, 0.2)\",\"rgba(69, 123, 157, 0.2)\",\"rgba(38, 70, 83, 0.2)\",\"rgba(38, 70, 83, 0.2)\",\"rgba(38, 70, 83, 0.2)\",\"rgba(38, 70, 83, 0.2)\",\"rgba(38, 70, 83, 0.2)\",\"rgba(38, 70, 83, 0.2)\",\"rgba(29, 53, 87, 0.2)\",\"rgba(38, 70, 83, 0.2)\",\"rgba(38, 70, 83, 0.2)\",\"rgba(38, 70, 83, 0.2)\",\"rgba(38, 70, 83, 0.2)\",\"rgba(38, 70, 83, 0.2)\",\"rgba(38, 70, 83, 0.2)\",\"rgba(42, 157, 143, 0.2)\",\"rgba(42, 157, 143, 0.2)\",\"rgba(42, 157, 143, 0.2)\",\"rgba(244, 162, 97, 0.2)\",\"rgba(244, 162, 97, 0.2)\",\"rgba(244, 162, 97, 0.2)\",\"rgba(69, 123, 157, 0.2)\",\"rgba(69, 123, 157, 0.2)\",\"rgba(233, 196, 106, 0.2)\",\"rgba(233, 196, 106, 0.2)\",\"rgba(233, 196, 106, 0.2)\",\"rgba(233, 196, 106, 0.2)\",\"rgba(233, 196, 106, 0.2)\",\"rgba(233, 196, 106, 0.2)\",\"rgba(168, 218, 220, 0.2)\",\"rgba(29, 53, 87, 0.2)\",\"rgba(230, 57, 70, 0.2)\",\"rgba(230, 57, 70, 0.2)\",\"rgba(231, 111, 81, 0.2)\",\"rgba(231, 111, 81, 0.2)\"],\"label\":[\"66.0%\",\"7.8%\",\"3.1%\",\"23.2%\",\"5.7%\",\"27.2%\",\"39.7%\",\"8.6%\",\"15.3%\",\"3.5%\",\"36.9%\",\"40.3%\",\"22.8%\",\"9.2%\",\"52.5%\",\"16.8%\",\"10.7%\",\"5.4%\",\"5.4%\",\"29.5%\",\"13.9%\",\"5.2%\",\"51.4%\",\"70.4%\",\"17.8%\",\"6.1%\",\"5.7%\",\"100.0%\",\"100.0%\",\"22.8%\",\"4.4%\",\"4.6%\",\"30.4%\",\"24.3%\",\"13.5%\",\"43.0%\",\"14.0%\",\"31.2%\",\"11.8%\",\"18.9%\",\"3.6%\",\"6.3%\",\"6.7%\",\"28.1%\",\"36.4%\",\"10.2%\",\"26.6%\",\"63.3%\",\"6.3%\",\"8.9%\",\"33.3%\",\"51.5%\",\"5.0%\",\"95.0%\",\"100.0%\",\"70.2%\",\"29.8%\",\"100.0%\",\"63.7%\",\"11.1%\",\"25.2%\",\"46.8%\",\"15.2%\",\"22.1%\",\"6.2%\",\"5.7%\",\"4.1%\",\"36.6%\",\"63.4%\",\"51.5%\",\"9.0%\",\"33.0%\",\"6.5%\",\"94.3%\",\"5.7%\",\"50.6%\",\"30.8%\",\"18.6%\",\"100.0%\",\"19.3%\",\"4.5%\",\"32.5%\",\"10.9%\",\"29.3%\",\"3.4%\",\"100.0%\",\"19.1%\",\"3.4%\",\"27.0%\",\"34.3%\",\"3.8%\",\"12.3%\",\"11.3%\",\"65.2%\",\"23.4%\",\"50.0%\",\"30.6%\",\"19.4%\",\"55.6%\",\"44.4%\",\"9.8%\",\"8.0%\",\"24.0%\",\"42.2%\",\"10.2%\",\"5.8%\",\"100.0%\",\"100.0%\",\"19.0%\",\"81.0%\",\"51.5%\",\"48.5%\"],\"source\":[0,0,0,0,1,1,1,1,1,1,2,2,2,4,4,4,4,4,4,5,5,5,5,6,6,6,6,7,8,9,9,9,9,9,9,10,10,10,10,11,11,11,11,11,11,12,12,12,13,13,13,13,14,14,15,16,16,17,18,18,18,19,19,19,19,19,19,20,20,21,21,21,21,22,22,23,23,23,24,25,25,25,25,25,25,26,27,27,27,27,27,27,28,28,28,29,29,29,30,30,31,31,31,31,31,31,32,33,34,34,35,35],\"target\":[9,11,13,14,11,12,13,14,15,17,11,13,17,9,10,12,13,14,17,9,10,11,16,9,10,11,13,9,10,18,19,20,21,22,26,19,20,21,22,18,20,21,22,23,25,19,22,25,19,23,24,25,19,25,25,21,23,23,27,31,32,27,28,29,32,34,35,27,29,27,29,30,31,27,29,31,34,35,34,28,31,32,33,34,35,27,36,37,38,41,42,43,37,40,41,37,38,42,38,39,36,38,39,40,41,42,40,40,39,40,39,40],\"value\":[624,74,29,219,28,133,194,42,75,17,55,60,34,73,418,134,85,43,43,74,35,13,129,162,41,14,13,18,15,108,21,22,144,115,64,80,26,58,22,116,22,39,41,173,224,36,94,224,17,24,90,139,12,227,73,33,14,25,149,26,59,182,59,86,24,22,16,15,26,103,18,66,13,232,14,79,48,29,30,85,20,143,48,129,15,67,90,16,127,161,18,58,16,92,33,54,33,21,15,12,22,18,54,95,23,13,216,55,22,94,17,16]},\"node\":{\"color\":[\"rgba(42, 157, 143, 1)\",\"rgba(38, 70, 83, 1)\",\"rgba(244, 162, 97, 1)\",\"rgba(69, 123, 157, 1)\",\"rgba(233, 196, 106, 1)\",\"rgba(230, 57, 70, 1)\",\"rgba(168, 218, 220, 1)\",\"rgba(29, 53, 87, 1)\",\"rgba(231, 111, 81, 1)\",\"rgba(38, 70, 83, 1)\",\"rgba(244, 162, 97, 1)\",\"rgba(233, 196, 106, 1)\",\"rgba(42, 157, 143, 1)\",\"rgba(230, 57, 70, 1)\",\"rgba(168, 218, 220, 1)\",\"rgba(29, 53, 87, 1)\",\"rgba(69, 123, 157, 1)\",\"rgba(231, 111, 81, 1)\",\"rgba(42, 157, 143, 1)\",\"rgba(233, 196, 106, 1)\",\"rgba(231, 111, 81, 1)\",\"rgba(230, 57, 70, 1)\",\"rgba(168, 218, 220, 1)\",\"rgba(244, 162, 97, 1)\",\"rgba(69, 123, 157, 1)\",\"rgba(38, 70, 83, 1)\",\"rgba(29, 53, 87, 1)\",\"rgba(38, 70, 83, 1)\",\"rgba(42, 157, 143, 1)\",\"rgba(244, 162, 97, 1)\",\"rgba(69, 123, 157, 1)\",\"rgba(233, 196, 106, 1)\",\"rgba(168, 218, 220, 1)\",\"rgba(29, 53, 87, 1)\",\"rgba(230, 57, 70, 1)\",\"rgba(231, 111, 81, 1)\",\"rgba(42, 157, 143, 1)\",\"rgba(233, 196, 106, 1)\",\"rgba(230, 57, 70, 1)\",\"rgba(244, 162, 97, 1)\",\"rgba(38, 70, 83, 1)\",\"rgba(168, 218, 220, 1)\",\"rgba(231, 111, 81, 1)\",\"rgba(29, 53, 87, 1)\"],\"label\":[\"map\",\"tips_show\",\"photos_show\",\"contacts_call\",\"search\",\"contacts_show\",\"advert_open\",\"tips_click\",\"favorites_add\",\"tips_show\",\"photos_show\",\"search\",\"map\",\"contacts_show\",\"advert_open\",\"tips_click\",\"contacts_call\",\"favorites_add\",\"map\",\"search\",\"favorites_add\",\"contacts_show\",\"advert_open\",\"photos_show\",\"contacts_call\",\"tips_show\",\"tips_click\",\"tips_show\",\"map\",\"photos_show\",\"contacts_call\",\"search\",\"advert_open\",\"tips_click\",\"contacts_show\",\"favorites_add\",\"map\",\"search\",\"contacts_show\",\"photos_show\",\"tips_show\",\"advert_open\",\"favorites_add\",\"tips_click\"],\"line\":{\"color\":\"black\",\"width\":0.1},\"pad\":50,\"thickness\":15},\"orientation\":\"h\",\"valueformat\":\".0f\",\"type\":\"sankey\"}],                        {\"template\":{\"data\":{\"histogram2dcontour\":[{\"type\":\"histogram2dcontour\",\"colorbar\":{\"outlinewidth\":0,\"ticks\":\"\"},\"colorscale\":[[0.0,\"#0d0887\"],[0.1111111111111111,\"#46039f\"],[0.2222222222222222,\"#7201a8\"],[0.3333333333333333,\"#9c179e\"],[0.4444444444444444,\"#bd3786\"],[0.5555555555555556,\"#d8576b\"],[0.6666666666666666,\"#ed7953\"],[0.7777777777777778,\"#fb9f3a\"],[0.8888888888888888,\"#fdca26\"],[1.0,\"#f0f921\"]]}],\"choropleth\":[{\"type\":\"choropleth\",\"colorbar\":{\"outlinewidth\":0,\"ticks\":\"\"}}],\"histogram2d\":[{\"type\":\"histogram2d\",\"colorbar\":{\"outlinewidth\":0,\"ticks\":\"\"},\"colorscale\":[[0.0,\"#0d0887\"],[0.1111111111111111,\"#46039f\"],[0.2222222222222222,\"#7201a8\"],[0.3333333333333333,\"#9c179e\"],[0.4444444444444444,\"#bd3786\"],[0.5555555555555556,\"#d8576b\"],[0.6666666666666666,\"#ed7953\"],[0.7777777777777778,\"#fb9f3a\"],[0.8888888888888888,\"#fdca26\"],[1.0,\"#f0f921\"]]}],\"heatmap\":[{\"type\":\"heatmap\",\"colorbar\":{\"outlinewidth\":0,\"ticks\":\"\"},\"colorscale\":[[0.0,\"#0d0887\"],[0.1111111111111111,\"#46039f\"],[0.2222222222222222,\"#7201a8\"],[0.3333333333333333,\"#9c179e\"],[0.4444444444444444,\"#bd3786\"],[0.5555555555555556,\"#d8576b\"],[0.6666666666666666,\"#ed7953\"],[0.7777777777777778,\"#fb9f3a\"],[0.8888888888888888,\"#fdca26\"],[1.0,\"#f0f921\"]]}],\"heatmapgl\":[{\"type\":\"heatmapgl\",\"colorbar\":{\"outlinewidth\":0,\"ticks\":\"\"},\"colorscale\":[[0.0,\"#0d0887\"],[0.1111111111111111,\"#46039f\"],[0.2222222222222222,\"#7201a8\"],[0.3333333333333333,\"#9c179e\"],[0.4444444444444444,\"#bd3786\"],[0.5555555555555556,\"#d8576b\"],[0.6666666666666666,\"#ed7953\"],[0.7777777777777778,\"#fb9f3a\"],[0.8888888888888888,\"#fdca26\"],[1.0,\"#f0f921\"]]}],\"contourcarpet\":[{\"type\":\"contourcarpet\",\"colorbar\":{\"outlinewidth\":0,\"ticks\":\"\"}}],\"contour\":[{\"type\":\"contour\",\"colorbar\":{\"outlinewidth\":0,\"ticks\":\"\"},\"colorscale\":[[0.0,\"#0d0887\"],[0.1111111111111111,\"#46039f\"],[0.2222222222222222,\"#7201a8\"],[0.3333333333333333,\"#9c179e\"],[0.4444444444444444,\"#bd3786\"],[0.5555555555555556,\"#d8576b\"],[0.6666666666666666,\"#ed7953\"],[0.7777777777777778,\"#fb9f3a\"],[0.8888888888888888,\"#fdca26\"],[1.0,\"#f0f921\"]]}],\"surface\":[{\"type\":\"surface\",\"colorbar\":{\"outlinewidth\":0,\"ticks\":\"\"},\"colorscale\":[[0.0,\"#0d0887\"],[0.1111111111111111,\"#46039f\"],[0.2222222222222222,\"#7201a8\"],[0.3333333333333333,\"#9c179e\"],[0.4444444444444444,\"#bd3786\"],[0.5555555555555556,\"#d8576b\"],[0.6666666666666666,\"#ed7953\"],[0.7777777777777778,\"#fb9f3a\"],[0.8888888888888888,\"#fdca26\"],[1.0,\"#f0f921\"]]}],\"mesh3d\":[{\"type\":\"mesh3d\",\"colorbar\":{\"outlinewidth\":0,\"ticks\":\"\"}}],\"scatter\":[{\"fillpattern\":{\"fillmode\":\"overlay\",\"size\":10,\"solidity\":0.2},\"type\":\"scatter\"}],\"parcoords\":[{\"type\":\"parcoords\",\"line\":{\"colorbar\":{\"outlinewidth\":0,\"ticks\":\"\"}}}],\"scatterpolargl\":[{\"type\":\"scatterpolargl\",\"marker\":{\"colorbar\":{\"outlinewidth\":0,\"ticks\":\"\"}}}],\"bar\":[{\"error_x\":{\"color\":\"#2a3f5f\"},\"error_y\":{\"color\":\"#2a3f5f\"},\"marker\":{\"line\":{\"color\":\"#E5ECF6\",\"width\":0.5},\"pattern\":{\"fillmode\":\"overlay\",\"size\":10,\"solidity\":0.2}},\"type\":\"bar\"}],\"scattergeo\":[{\"type\":\"scattergeo\",\"marker\":{\"colorbar\":{\"outlinewidth\":0,\"ticks\":\"\"}}}],\"scatterpolar\":[{\"type\":\"scatterpolar\",\"marker\":{\"colorbar\":{\"outlinewidth\":0,\"ticks\":\"\"}}}],\"histogram\":[{\"marker\":{\"pattern\":{\"fillmode\":\"overlay\",\"size\":10,\"solidity\":0.2}},\"type\":\"histogram\"}],\"scattergl\":[{\"type\":\"scattergl\",\"marker\":{\"colorbar\":{\"outlinewidth\":0,\"ticks\":\"\"}}}],\"scatter3d\":[{\"type\":\"scatter3d\",\"line\":{\"colorbar\":{\"outlinewidth\":0,\"ticks\":\"\"}},\"marker\":{\"colorbar\":{\"outlinewidth\":0,\"ticks\":\"\"}}}],\"scattermapbox\":[{\"type\":\"scattermapbox\",\"marker\":{\"colorbar\":{\"outlinewidth\":0,\"ticks\":\"\"}}}],\"scatterternary\":[{\"type\":\"scatterternary\",\"marker\":{\"colorbar\":{\"outlinewidth\":0,\"ticks\":\"\"}}}],\"scattercarpet\":[{\"type\":\"scattercarpet\",\"marker\":{\"colorbar\":{\"outlinewidth\":0,\"ticks\":\"\"}}}],\"carpet\":[{\"aaxis\":{\"endlinecolor\":\"#2a3f5f\",\"gridcolor\":\"white\",\"linecolor\":\"white\",\"minorgridcolor\":\"white\",\"startlinecolor\":\"#2a3f5f\"},\"baxis\":{\"endlinecolor\":\"#2a3f5f\",\"gridcolor\":\"white\",\"linecolor\":\"white\",\"minorgridcolor\":\"white\",\"startlinecolor\":\"#2a3f5f\"},\"type\":\"carpet\"}],\"table\":[{\"cells\":{\"fill\":{\"color\":\"#EBF0F8\"},\"line\":{\"color\":\"white\"}},\"header\":{\"fill\":{\"color\":\"#C8D4E3\"},\"line\":{\"color\":\"white\"}},\"type\":\"table\"}],\"barpolar\":[{\"marker\":{\"line\":{\"color\":\"#E5ECF6\",\"width\":0.5},\"pattern\":{\"fillmode\":\"overlay\",\"size\":10,\"solidity\":0.2}},\"type\":\"barpolar\"}],\"pie\":[{\"automargin\":true,\"type\":\"pie\"}]},\"layout\":{\"autotypenumbers\":\"strict\",\"colorway\":[\"#636efa\",\"#EF553B\",\"#00cc96\",\"#ab63fa\",\"#FFA15A\",\"#19d3f3\",\"#FF6692\",\"#B6E880\",\"#FF97FF\",\"#FECB52\"],\"font\":{\"color\":\"#2a3f5f\"},\"hovermode\":\"closest\",\"hoverlabel\":{\"align\":\"left\"},\"paper_bgcolor\":\"white\",\"plot_bgcolor\":\"#E5ECF6\",\"polar\":{\"bgcolor\":\"#E5ECF6\",\"angularaxis\":{\"gridcolor\":\"white\",\"linecolor\":\"white\",\"ticks\":\"\"},\"radialaxis\":{\"gridcolor\":\"white\",\"linecolor\":\"white\",\"ticks\":\"\"}},\"ternary\":{\"bgcolor\":\"#E5ECF6\",\"aaxis\":{\"gridcolor\":\"white\",\"linecolor\":\"white\",\"ticks\":\"\"},\"baxis\":{\"gridcolor\":\"white\",\"linecolor\":\"white\",\"ticks\":\"\"},\"caxis\":{\"gridcolor\":\"white\",\"linecolor\":\"white\",\"ticks\":\"\"}},\"coloraxis\":{\"colorbar\":{\"outlinewidth\":0,\"ticks\":\"\"}},\"colorscale\":{\"sequential\":[[0.0,\"#0d0887\"],[0.1111111111111111,\"#46039f\"],[0.2222222222222222,\"#7201a8\"],[0.3333333333333333,\"#9c179e\"],[0.4444444444444444,\"#bd3786\"],[0.5555555555555556,\"#d8576b\"],[0.6666666666666666,\"#ed7953\"],[0.7777777777777778,\"#fb9f3a\"],[0.8888888888888888,\"#fdca26\"],[1.0,\"#f0f921\"]],\"sequentialminus\":[[0.0,\"#0d0887\"],[0.1111111111111111,\"#46039f\"],[0.2222222222222222,\"#7201a8\"],[0.3333333333333333,\"#9c179e\"],[0.4444444444444444,\"#bd3786\"],[0.5555555555555556,\"#d8576b\"],[0.6666666666666666,\"#ed7953\"],[0.7777777777777778,\"#fb9f3a\"],[0.8888888888888888,\"#fdca26\"],[1.0,\"#f0f921\"]],\"diverging\":[[0,\"#8e0152\"],[0.1,\"#c51b7d\"],[0.2,\"#de77ae\"],[0.3,\"#f1b6da\"],[0.4,\"#fde0ef\"],[0.5,\"#f7f7f7\"],[0.6,\"#e6f5d0\"],[0.7,\"#b8e186\"],[0.8,\"#7fbc41\"],[0.9,\"#4d9221\"],[1,\"#276419\"]]},\"xaxis\":{\"gridcolor\":\"white\",\"linecolor\":\"white\",\"ticks\":\"\",\"title\":{\"standoff\":15},\"zerolinecolor\":\"white\",\"automargin\":true,\"zerolinewidth\":2},\"yaxis\":{\"gridcolor\":\"white\",\"linecolor\":\"white\",\"ticks\":\"\",\"title\":{\"standoff\":15},\"zerolinecolor\":\"white\",\"automargin\":true,\"zerolinewidth\":2},\"scene\":{\"xaxis\":{\"backgroundcolor\":\"#E5ECF6\",\"gridcolor\":\"white\",\"linecolor\":\"white\",\"showbackground\":true,\"ticks\":\"\",\"zerolinecolor\":\"white\",\"gridwidth\":2},\"yaxis\":{\"backgroundcolor\":\"#E5ECF6\",\"gridcolor\":\"white\",\"linecolor\":\"white\",\"showbackground\":true,\"ticks\":\"\",\"zerolinecolor\":\"white\",\"gridwidth\":2},\"zaxis\":{\"backgroundcolor\":\"#E5ECF6\",\"gridcolor\":\"white\",\"linecolor\":\"white\",\"showbackground\":true,\"ticks\":\"\",\"zerolinecolor\":\"white\",\"gridwidth\":2}},\"shapedefaults\":{\"line\":{\"color\":\"#2a3f5f\"}},\"annotationdefaults\":{\"arrowcolor\":\"#2a3f5f\",\"arrowhead\":0,\"arrowwidth\":1},\"geo\":{\"bgcolor\":\"white\",\"landcolor\":\"#E5ECF6\",\"subunitcolor\":\"white\",\"showland\":true,\"showlakes\":true,\"lakecolor\":\"white\"},\"title\":{\"x\":0.05},\"mapbox\":{\"style\":\"light\"}}},\"title\":{\"text\":\"Sankey Diagram\"},\"font\":{\"size\":10},\"width\":1000,\"height\":600},                        {\"responsive\": true}                    ).then(function(){\n",
       "                            \n",
       "var gd = document.getElementById('20b1dad7-f185-44e4-843e-f1e9d914b586');\n",
       "var x = new MutationObserver(function (mutations, observer) {{\n",
       "        var display = window.getComputedStyle(gd).display;\n",
       "        if (!display || display === 'none') {{\n",
       "            console.log([gd, 'removed!']);\n",
       "            Plotly.purge(gd);\n",
       "            observer.disconnect();\n",
       "        }}\n",
       "}});\n",
       "\n",
       "// Listen for the removal of the full notebook cells\n",
       "var notebookContainer = gd.closest('#notebook-container');\n",
       "if (notebookContainer) {{\n",
       "    x.observe(notebookContainer, {childList: true});\n",
       "}}\n",
       "\n",
       "// Listen for the clearing of the current output cell\n",
       "var outputEl = gd.closest('.output');\n",
       "if (outputEl) {{\n",
       "    x.observe(outputEl, {childList: true});\n",
       "}}\n",
       "\n",
       "                        })                };                });            </script>        </div>"
      ]
     },
     "metadata": {},
     "output_type": "display_data"
    }
   ],
   "source": [
    "senkey_diagram.show()"
   ]
  },
  {
   "cell_type": "code",
   "execution_count": 50,
   "id": "63b0c321",
   "metadata": {},
   "outputs": [],
   "source": [
    "senkey_diagram.write_html('demo_senkey.html', auto_open=True)"
   ]
  },
  {
   "cell_type": "markdown",
   "id": "36389fd1",
   "metadata": {},
   "source": [
    "### Изучение наиболее распространенных сценариев в приложении"
   ]
  },
  {
   "cell_type": "markdown",
   "id": "5f90fc3c",
   "metadata": {},
   "source": [
    "**При помощи диаграммы Санкея получилось выявить несколько основных сценариев, по которым пользователи доходят до целевого действия (contacts_show).**\n",
    " \n",
    "    Cценарий 1:\n",
    "    -поиск по сайту (search);\n",
    "    -просмотр фотографий (photos show);\n",
    "    -просмотр контактов (contacts show).\n",
    "    \n",
    "    Cценарий 2:\n",
    "    -просмотр карты объявлений (map);\n",
    "    -открытие карточки объявлений (advert open);\n",
    "    -просмотр рекомендаций (tips show);\n",
    "    -просмотр контактов (contacts show).\n",
    "    \n",
    "    Сценарий 3:\n",
    "    -поиск по сайту (search);\n",
    "    -просмотр карты объявлений (map);\n",
    "    -просмотр рекомендаций (tips show);\n",
    "    -просмотр контактов (contacts show)"
   ]
  },
  {
   "cell_type": "markdown",
   "id": "68a890e5",
   "metadata": {},
   "source": [
    "**Построим воронку событий для сценария №1 (search activity - tips show - contacts show).**"
   ]
  },
  {
   "cell_type": "code",
   "execution_count": 51,
   "id": "c83de371",
   "metadata": {},
   "outputs": [],
   "source": [
    "#фильтруем данные так, чтобы получить число уникальных пользователей, совершивших 3 действия\n",
    "search_users = data.query('event_name == \"search\"')['user_id'].unique().tolist()\n",
    "photos_show = data.query('event_name ==\"photos_show\" and user_id==@search_users')['user_id'].unique().tolist()\n",
    "contacts_show = data.query('event_name == \"contacts_show\" and user_id==@photos_show')['user_id'].unique().tolist()"
   ]
  },
  {
   "cell_type": "code",
   "execution_count": 52,
   "id": "a1236223",
   "metadata": {},
   "outputs": [
    {
     "data": {
      "application/vnd.plotly.v1+json": {
       "config": {
        "plotlyServerURL": "https://plot.ly"
       },
       "data": [
        {
         "connector": {
          "line": {
           "color": "#66c2a5",
           "dash": "dot",
           "width": 3
          }
         },
         "marker": {
          "color": [
           "#66c2a5",
           "#fc8d62",
           "#8da0cb"
          ],
          "line": {
           "color": [
            "#66c2a5",
            "#fc8d62",
            "#8da0cb"
           ],
           "width": [
            4,
            2,
            2,
            3,
            1,
            1
           ]
          }
         },
         "opacity": 0.65,
         "textinfo": "value+percent initial",
         "textposition": "inside",
         "type": "funnel",
         "x": [
          1666,
          647,
          192
         ],
         "y": [
          "Поиск по сайту",
          "Просмотр фотографий",
          "Просмотр контактов"
         ]
        }
       ],
       "layout": {
        "template": {
         "data": {
          "bar": [
           {
            "error_x": {
             "color": "#2a3f5f"
            },
            "error_y": {
             "color": "#2a3f5f"
            },
            "marker": {
             "line": {
              "color": "#E5ECF6",
              "width": 0.5
             },
             "pattern": {
              "fillmode": "overlay",
              "size": 10,
              "solidity": 0.2
             }
            },
            "type": "bar"
           }
          ],
          "barpolar": [
           {
            "marker": {
             "line": {
              "color": "#E5ECF6",
              "width": 0.5
             },
             "pattern": {
              "fillmode": "overlay",
              "size": 10,
              "solidity": 0.2
             }
            },
            "type": "barpolar"
           }
          ],
          "carpet": [
           {
            "aaxis": {
             "endlinecolor": "#2a3f5f",
             "gridcolor": "white",
             "linecolor": "white",
             "minorgridcolor": "white",
             "startlinecolor": "#2a3f5f"
            },
            "baxis": {
             "endlinecolor": "#2a3f5f",
             "gridcolor": "white",
             "linecolor": "white",
             "minorgridcolor": "white",
             "startlinecolor": "#2a3f5f"
            },
            "type": "carpet"
           }
          ],
          "choropleth": [
           {
            "colorbar": {
             "outlinewidth": 0,
             "ticks": ""
            },
            "type": "choropleth"
           }
          ],
          "contour": [
           {
            "colorbar": {
             "outlinewidth": 0,
             "ticks": ""
            },
            "colorscale": [
             [
              0,
              "#0d0887"
             ],
             [
              0.1111111111111111,
              "#46039f"
             ],
             [
              0.2222222222222222,
              "#7201a8"
             ],
             [
              0.3333333333333333,
              "#9c179e"
             ],
             [
              0.4444444444444444,
              "#bd3786"
             ],
             [
              0.5555555555555556,
              "#d8576b"
             ],
             [
              0.6666666666666666,
              "#ed7953"
             ],
             [
              0.7777777777777778,
              "#fb9f3a"
             ],
             [
              0.8888888888888888,
              "#fdca26"
             ],
             [
              1,
              "#f0f921"
             ]
            ],
            "type": "contour"
           }
          ],
          "contourcarpet": [
           {
            "colorbar": {
             "outlinewidth": 0,
             "ticks": ""
            },
            "type": "contourcarpet"
           }
          ],
          "heatmap": [
           {
            "colorbar": {
             "outlinewidth": 0,
             "ticks": ""
            },
            "colorscale": [
             [
              0,
              "#0d0887"
             ],
             [
              0.1111111111111111,
              "#46039f"
             ],
             [
              0.2222222222222222,
              "#7201a8"
             ],
             [
              0.3333333333333333,
              "#9c179e"
             ],
             [
              0.4444444444444444,
              "#bd3786"
             ],
             [
              0.5555555555555556,
              "#d8576b"
             ],
             [
              0.6666666666666666,
              "#ed7953"
             ],
             [
              0.7777777777777778,
              "#fb9f3a"
             ],
             [
              0.8888888888888888,
              "#fdca26"
             ],
             [
              1,
              "#f0f921"
             ]
            ],
            "type": "heatmap"
           }
          ],
          "heatmapgl": [
           {
            "colorbar": {
             "outlinewidth": 0,
             "ticks": ""
            },
            "colorscale": [
             [
              0,
              "#0d0887"
             ],
             [
              0.1111111111111111,
              "#46039f"
             ],
             [
              0.2222222222222222,
              "#7201a8"
             ],
             [
              0.3333333333333333,
              "#9c179e"
             ],
             [
              0.4444444444444444,
              "#bd3786"
             ],
             [
              0.5555555555555556,
              "#d8576b"
             ],
             [
              0.6666666666666666,
              "#ed7953"
             ],
             [
              0.7777777777777778,
              "#fb9f3a"
             ],
             [
              0.8888888888888888,
              "#fdca26"
             ],
             [
              1,
              "#f0f921"
             ]
            ],
            "type": "heatmapgl"
           }
          ],
          "histogram": [
           {
            "marker": {
             "pattern": {
              "fillmode": "overlay",
              "size": 10,
              "solidity": 0.2
             }
            },
            "type": "histogram"
           }
          ],
          "histogram2d": [
           {
            "colorbar": {
             "outlinewidth": 0,
             "ticks": ""
            },
            "colorscale": [
             [
              0,
              "#0d0887"
             ],
             [
              0.1111111111111111,
              "#46039f"
             ],
             [
              0.2222222222222222,
              "#7201a8"
             ],
             [
              0.3333333333333333,
              "#9c179e"
             ],
             [
              0.4444444444444444,
              "#bd3786"
             ],
             [
              0.5555555555555556,
              "#d8576b"
             ],
             [
              0.6666666666666666,
              "#ed7953"
             ],
             [
              0.7777777777777778,
              "#fb9f3a"
             ],
             [
              0.8888888888888888,
              "#fdca26"
             ],
             [
              1,
              "#f0f921"
             ]
            ],
            "type": "histogram2d"
           }
          ],
          "histogram2dcontour": [
           {
            "colorbar": {
             "outlinewidth": 0,
             "ticks": ""
            },
            "colorscale": [
             [
              0,
              "#0d0887"
             ],
             [
              0.1111111111111111,
              "#46039f"
             ],
             [
              0.2222222222222222,
              "#7201a8"
             ],
             [
              0.3333333333333333,
              "#9c179e"
             ],
             [
              0.4444444444444444,
              "#bd3786"
             ],
             [
              0.5555555555555556,
              "#d8576b"
             ],
             [
              0.6666666666666666,
              "#ed7953"
             ],
             [
              0.7777777777777778,
              "#fb9f3a"
             ],
             [
              0.8888888888888888,
              "#fdca26"
             ],
             [
              1,
              "#f0f921"
             ]
            ],
            "type": "histogram2dcontour"
           }
          ],
          "mesh3d": [
           {
            "colorbar": {
             "outlinewidth": 0,
             "ticks": ""
            },
            "type": "mesh3d"
           }
          ],
          "parcoords": [
           {
            "line": {
             "colorbar": {
              "outlinewidth": 0,
              "ticks": ""
             }
            },
            "type": "parcoords"
           }
          ],
          "pie": [
           {
            "automargin": true,
            "type": "pie"
           }
          ],
          "scatter": [
           {
            "fillpattern": {
             "fillmode": "overlay",
             "size": 10,
             "solidity": 0.2
            },
            "type": "scatter"
           }
          ],
          "scatter3d": [
           {
            "line": {
             "colorbar": {
              "outlinewidth": 0,
              "ticks": ""
             }
            },
            "marker": {
             "colorbar": {
              "outlinewidth": 0,
              "ticks": ""
             }
            },
            "type": "scatter3d"
           }
          ],
          "scattercarpet": [
           {
            "marker": {
             "colorbar": {
              "outlinewidth": 0,
              "ticks": ""
             }
            },
            "type": "scattercarpet"
           }
          ],
          "scattergeo": [
           {
            "marker": {
             "colorbar": {
              "outlinewidth": 0,
              "ticks": ""
             }
            },
            "type": "scattergeo"
           }
          ],
          "scattergl": [
           {
            "marker": {
             "colorbar": {
              "outlinewidth": 0,
              "ticks": ""
             }
            },
            "type": "scattergl"
           }
          ],
          "scattermapbox": [
           {
            "marker": {
             "colorbar": {
              "outlinewidth": 0,
              "ticks": ""
             }
            },
            "type": "scattermapbox"
           }
          ],
          "scatterpolar": [
           {
            "marker": {
             "colorbar": {
              "outlinewidth": 0,
              "ticks": ""
             }
            },
            "type": "scatterpolar"
           }
          ],
          "scatterpolargl": [
           {
            "marker": {
             "colorbar": {
              "outlinewidth": 0,
              "ticks": ""
             }
            },
            "type": "scatterpolargl"
           }
          ],
          "scatterternary": [
           {
            "marker": {
             "colorbar": {
              "outlinewidth": 0,
              "ticks": ""
             }
            },
            "type": "scatterternary"
           }
          ],
          "surface": [
           {
            "colorbar": {
             "outlinewidth": 0,
             "ticks": ""
            },
            "colorscale": [
             [
              0,
              "#0d0887"
             ],
             [
              0.1111111111111111,
              "#46039f"
             ],
             [
              0.2222222222222222,
              "#7201a8"
             ],
             [
              0.3333333333333333,
              "#9c179e"
             ],
             [
              0.4444444444444444,
              "#bd3786"
             ],
             [
              0.5555555555555556,
              "#d8576b"
             ],
             [
              0.6666666666666666,
              "#ed7953"
             ],
             [
              0.7777777777777778,
              "#fb9f3a"
             ],
             [
              0.8888888888888888,
              "#fdca26"
             ],
             [
              1,
              "#f0f921"
             ]
            ],
            "type": "surface"
           }
          ],
          "table": [
           {
            "cells": {
             "fill": {
              "color": "#EBF0F8"
             },
             "line": {
              "color": "white"
             }
            },
            "header": {
             "fill": {
              "color": "#C8D4E3"
             },
             "line": {
              "color": "white"
             }
            },
            "type": "table"
           }
          ]
         },
         "layout": {
          "annotationdefaults": {
           "arrowcolor": "#2a3f5f",
           "arrowhead": 0,
           "arrowwidth": 1
          },
          "autotypenumbers": "strict",
          "coloraxis": {
           "colorbar": {
            "outlinewidth": 0,
            "ticks": ""
           }
          },
          "colorscale": {
           "diverging": [
            [
             0,
             "#8e0152"
            ],
            [
             0.1,
             "#c51b7d"
            ],
            [
             0.2,
             "#de77ae"
            ],
            [
             0.3,
             "#f1b6da"
            ],
            [
             0.4,
             "#fde0ef"
            ],
            [
             0.5,
             "#f7f7f7"
            ],
            [
             0.6,
             "#e6f5d0"
            ],
            [
             0.7,
             "#b8e186"
            ],
            [
             0.8,
             "#7fbc41"
            ],
            [
             0.9,
             "#4d9221"
            ],
            [
             1,
             "#276419"
            ]
           ],
           "sequential": [
            [
             0,
             "#0d0887"
            ],
            [
             0.1111111111111111,
             "#46039f"
            ],
            [
             0.2222222222222222,
             "#7201a8"
            ],
            [
             0.3333333333333333,
             "#9c179e"
            ],
            [
             0.4444444444444444,
             "#bd3786"
            ],
            [
             0.5555555555555556,
             "#d8576b"
            ],
            [
             0.6666666666666666,
             "#ed7953"
            ],
            [
             0.7777777777777778,
             "#fb9f3a"
            ],
            [
             0.8888888888888888,
             "#fdca26"
            ],
            [
             1,
             "#f0f921"
            ]
           ],
           "sequentialminus": [
            [
             0,
             "#0d0887"
            ],
            [
             0.1111111111111111,
             "#46039f"
            ],
            [
             0.2222222222222222,
             "#7201a8"
            ],
            [
             0.3333333333333333,
             "#9c179e"
            ],
            [
             0.4444444444444444,
             "#bd3786"
            ],
            [
             0.5555555555555556,
             "#d8576b"
            ],
            [
             0.6666666666666666,
             "#ed7953"
            ],
            [
             0.7777777777777778,
             "#fb9f3a"
            ],
            [
             0.8888888888888888,
             "#fdca26"
            ],
            [
             1,
             "#f0f921"
            ]
           ]
          },
          "colorway": [
           "#636efa",
           "#EF553B",
           "#00cc96",
           "#ab63fa",
           "#FFA15A",
           "#19d3f3",
           "#FF6692",
           "#B6E880",
           "#FF97FF",
           "#FECB52"
          ],
          "font": {
           "color": "#2a3f5f"
          },
          "geo": {
           "bgcolor": "white",
           "lakecolor": "white",
           "landcolor": "#E5ECF6",
           "showlakes": true,
           "showland": true,
           "subunitcolor": "white"
          },
          "hoverlabel": {
           "align": "left"
          },
          "hovermode": "closest",
          "mapbox": {
           "style": "light"
          },
          "paper_bgcolor": "white",
          "plot_bgcolor": "#E5ECF6",
          "polar": {
           "angularaxis": {
            "gridcolor": "white",
            "linecolor": "white",
            "ticks": ""
           },
           "bgcolor": "#E5ECF6",
           "radialaxis": {
            "gridcolor": "white",
            "linecolor": "white",
            "ticks": ""
           }
          },
          "scene": {
           "xaxis": {
            "backgroundcolor": "#E5ECF6",
            "gridcolor": "white",
            "gridwidth": 2,
            "linecolor": "white",
            "showbackground": true,
            "ticks": "",
            "zerolinecolor": "white"
           },
           "yaxis": {
            "backgroundcolor": "#E5ECF6",
            "gridcolor": "white",
            "gridwidth": 2,
            "linecolor": "white",
            "showbackground": true,
            "ticks": "",
            "zerolinecolor": "white"
           },
           "zaxis": {
            "backgroundcolor": "#E5ECF6",
            "gridcolor": "white",
            "gridwidth": 2,
            "linecolor": "white",
            "showbackground": true,
            "ticks": "",
            "zerolinecolor": "white"
           }
          },
          "shapedefaults": {
           "line": {
            "color": "#2a3f5f"
           }
          },
          "ternary": {
           "aaxis": {
            "gridcolor": "white",
            "linecolor": "white",
            "ticks": ""
           },
           "baxis": {
            "gridcolor": "white",
            "linecolor": "white",
            "ticks": ""
           },
           "bgcolor": "#E5ECF6",
           "caxis": {
            "gridcolor": "white",
            "linecolor": "white",
            "ticks": ""
           }
          },
          "title": {
           "x": 0.05
          },
          "xaxis": {
           "automargin": true,
           "gridcolor": "white",
           "linecolor": "white",
           "ticks": "",
           "title": {
            "standoff": 15
           },
           "zerolinecolor": "white",
           "zerolinewidth": 2
          },
          "yaxis": {
           "automargin": true,
           "gridcolor": "white",
           "linecolor": "white",
           "ticks": "",
           "title": {
            "standoff": 15
           },
           "zerolinecolor": "white",
           "zerolinewidth": 2
          }
         }
        },
        "title": {
         "text": "Воронка событий: сценарий №1"
        }
       }
      },
      "text/html": [
       "<div>                            <div id=\"1cca17b6-94f7-4d7e-8562-994b5b35cf87\" class=\"plotly-graph-div\" style=\"height:525px; width:100%;\"></div>            <script type=\"text/javascript\">                require([\"plotly\"], function(Plotly) {                    window.PLOTLYENV=window.PLOTLYENV || {};                                    if (document.getElementById(\"1cca17b6-94f7-4d7e-8562-994b5b35cf87\")) {                    Plotly.newPlot(                        \"1cca17b6-94f7-4d7e-8562-994b5b35cf87\",                        [{\"connector\":{\"line\":{\"color\":\"#66c2a5\",\"dash\":\"dot\",\"width\":3}},\"marker\":{\"color\":[\"#66c2a5\",\"#fc8d62\",\"#8da0cb\"],\"line\":{\"color\":[\"#66c2a5\",\"#fc8d62\",\"#8da0cb\"],\"width\":[4,2,2,3,1,1]}},\"opacity\":0.65,\"textinfo\":\"value+percent initial\",\"textposition\":\"inside\",\"x\":[1666,647,192],\"y\":[\"\\u041f\\u043e\\u0438\\u0441\\u043a \\u043f\\u043e \\u0441\\u0430\\u0439\\u0442\\u0443\",\"\\u041f\\u0440\\u043e\\u0441\\u043c\\u043e\\u0442\\u0440 \\u0444\\u043e\\u0442\\u043e\\u0433\\u0440\\u0430\\u0444\\u0438\\u0439\",\"\\u041f\\u0440\\u043e\\u0441\\u043c\\u043e\\u0442\\u0440 \\u043a\\u043e\\u043d\\u0442\\u0430\\u043a\\u0442\\u043e\\u0432\"],\"type\":\"funnel\"}],                        {\"template\":{\"data\":{\"histogram2dcontour\":[{\"type\":\"histogram2dcontour\",\"colorbar\":{\"outlinewidth\":0,\"ticks\":\"\"},\"colorscale\":[[0.0,\"#0d0887\"],[0.1111111111111111,\"#46039f\"],[0.2222222222222222,\"#7201a8\"],[0.3333333333333333,\"#9c179e\"],[0.4444444444444444,\"#bd3786\"],[0.5555555555555556,\"#d8576b\"],[0.6666666666666666,\"#ed7953\"],[0.7777777777777778,\"#fb9f3a\"],[0.8888888888888888,\"#fdca26\"],[1.0,\"#f0f921\"]]}],\"choropleth\":[{\"type\":\"choropleth\",\"colorbar\":{\"outlinewidth\":0,\"ticks\":\"\"}}],\"histogram2d\":[{\"type\":\"histogram2d\",\"colorbar\":{\"outlinewidth\":0,\"ticks\":\"\"},\"colorscale\":[[0.0,\"#0d0887\"],[0.1111111111111111,\"#46039f\"],[0.2222222222222222,\"#7201a8\"],[0.3333333333333333,\"#9c179e\"],[0.4444444444444444,\"#bd3786\"],[0.5555555555555556,\"#d8576b\"],[0.6666666666666666,\"#ed7953\"],[0.7777777777777778,\"#fb9f3a\"],[0.8888888888888888,\"#fdca26\"],[1.0,\"#f0f921\"]]}],\"heatmap\":[{\"type\":\"heatmap\",\"colorbar\":{\"outlinewidth\":0,\"ticks\":\"\"},\"colorscale\":[[0.0,\"#0d0887\"],[0.1111111111111111,\"#46039f\"],[0.2222222222222222,\"#7201a8\"],[0.3333333333333333,\"#9c179e\"],[0.4444444444444444,\"#bd3786\"],[0.5555555555555556,\"#d8576b\"],[0.6666666666666666,\"#ed7953\"],[0.7777777777777778,\"#fb9f3a\"],[0.8888888888888888,\"#fdca26\"],[1.0,\"#f0f921\"]]}],\"heatmapgl\":[{\"type\":\"heatmapgl\",\"colorbar\":{\"outlinewidth\":0,\"ticks\":\"\"},\"colorscale\":[[0.0,\"#0d0887\"],[0.1111111111111111,\"#46039f\"],[0.2222222222222222,\"#7201a8\"],[0.3333333333333333,\"#9c179e\"],[0.4444444444444444,\"#bd3786\"],[0.5555555555555556,\"#d8576b\"],[0.6666666666666666,\"#ed7953\"],[0.7777777777777778,\"#fb9f3a\"],[0.8888888888888888,\"#fdca26\"],[1.0,\"#f0f921\"]]}],\"contourcarpet\":[{\"type\":\"contourcarpet\",\"colorbar\":{\"outlinewidth\":0,\"ticks\":\"\"}}],\"contour\":[{\"type\":\"contour\",\"colorbar\":{\"outlinewidth\":0,\"ticks\":\"\"},\"colorscale\":[[0.0,\"#0d0887\"],[0.1111111111111111,\"#46039f\"],[0.2222222222222222,\"#7201a8\"],[0.3333333333333333,\"#9c179e\"],[0.4444444444444444,\"#bd3786\"],[0.5555555555555556,\"#d8576b\"],[0.6666666666666666,\"#ed7953\"],[0.7777777777777778,\"#fb9f3a\"],[0.8888888888888888,\"#fdca26\"],[1.0,\"#f0f921\"]]}],\"surface\":[{\"type\":\"surface\",\"colorbar\":{\"outlinewidth\":0,\"ticks\":\"\"},\"colorscale\":[[0.0,\"#0d0887\"],[0.1111111111111111,\"#46039f\"],[0.2222222222222222,\"#7201a8\"],[0.3333333333333333,\"#9c179e\"],[0.4444444444444444,\"#bd3786\"],[0.5555555555555556,\"#d8576b\"],[0.6666666666666666,\"#ed7953\"],[0.7777777777777778,\"#fb9f3a\"],[0.8888888888888888,\"#fdca26\"],[1.0,\"#f0f921\"]]}],\"mesh3d\":[{\"type\":\"mesh3d\",\"colorbar\":{\"outlinewidth\":0,\"ticks\":\"\"}}],\"scatter\":[{\"fillpattern\":{\"fillmode\":\"overlay\",\"size\":10,\"solidity\":0.2},\"type\":\"scatter\"}],\"parcoords\":[{\"type\":\"parcoords\",\"line\":{\"colorbar\":{\"outlinewidth\":0,\"ticks\":\"\"}}}],\"scatterpolargl\":[{\"type\":\"scatterpolargl\",\"marker\":{\"colorbar\":{\"outlinewidth\":0,\"ticks\":\"\"}}}],\"bar\":[{\"error_x\":{\"color\":\"#2a3f5f\"},\"error_y\":{\"color\":\"#2a3f5f\"},\"marker\":{\"line\":{\"color\":\"#E5ECF6\",\"width\":0.5},\"pattern\":{\"fillmode\":\"overlay\",\"size\":10,\"solidity\":0.2}},\"type\":\"bar\"}],\"scattergeo\":[{\"type\":\"scattergeo\",\"marker\":{\"colorbar\":{\"outlinewidth\":0,\"ticks\":\"\"}}}],\"scatterpolar\":[{\"type\":\"scatterpolar\",\"marker\":{\"colorbar\":{\"outlinewidth\":0,\"ticks\":\"\"}}}],\"histogram\":[{\"marker\":{\"pattern\":{\"fillmode\":\"overlay\",\"size\":10,\"solidity\":0.2}},\"type\":\"histogram\"}],\"scattergl\":[{\"type\":\"scattergl\",\"marker\":{\"colorbar\":{\"outlinewidth\":0,\"ticks\":\"\"}}}],\"scatter3d\":[{\"type\":\"scatter3d\",\"line\":{\"colorbar\":{\"outlinewidth\":0,\"ticks\":\"\"}},\"marker\":{\"colorbar\":{\"outlinewidth\":0,\"ticks\":\"\"}}}],\"scattermapbox\":[{\"type\":\"scattermapbox\",\"marker\":{\"colorbar\":{\"outlinewidth\":0,\"ticks\":\"\"}}}],\"scatterternary\":[{\"type\":\"scatterternary\",\"marker\":{\"colorbar\":{\"outlinewidth\":0,\"ticks\":\"\"}}}],\"scattercarpet\":[{\"type\":\"scattercarpet\",\"marker\":{\"colorbar\":{\"outlinewidth\":0,\"ticks\":\"\"}}}],\"carpet\":[{\"aaxis\":{\"endlinecolor\":\"#2a3f5f\",\"gridcolor\":\"white\",\"linecolor\":\"white\",\"minorgridcolor\":\"white\",\"startlinecolor\":\"#2a3f5f\"},\"baxis\":{\"endlinecolor\":\"#2a3f5f\",\"gridcolor\":\"white\",\"linecolor\":\"white\",\"minorgridcolor\":\"white\",\"startlinecolor\":\"#2a3f5f\"},\"type\":\"carpet\"}],\"table\":[{\"cells\":{\"fill\":{\"color\":\"#EBF0F8\"},\"line\":{\"color\":\"white\"}},\"header\":{\"fill\":{\"color\":\"#C8D4E3\"},\"line\":{\"color\":\"white\"}},\"type\":\"table\"}],\"barpolar\":[{\"marker\":{\"line\":{\"color\":\"#E5ECF6\",\"width\":0.5},\"pattern\":{\"fillmode\":\"overlay\",\"size\":10,\"solidity\":0.2}},\"type\":\"barpolar\"}],\"pie\":[{\"automargin\":true,\"type\":\"pie\"}]},\"layout\":{\"autotypenumbers\":\"strict\",\"colorway\":[\"#636efa\",\"#EF553B\",\"#00cc96\",\"#ab63fa\",\"#FFA15A\",\"#19d3f3\",\"#FF6692\",\"#B6E880\",\"#FF97FF\",\"#FECB52\"],\"font\":{\"color\":\"#2a3f5f\"},\"hovermode\":\"closest\",\"hoverlabel\":{\"align\":\"left\"},\"paper_bgcolor\":\"white\",\"plot_bgcolor\":\"#E5ECF6\",\"polar\":{\"bgcolor\":\"#E5ECF6\",\"angularaxis\":{\"gridcolor\":\"white\",\"linecolor\":\"white\",\"ticks\":\"\"},\"radialaxis\":{\"gridcolor\":\"white\",\"linecolor\":\"white\",\"ticks\":\"\"}},\"ternary\":{\"bgcolor\":\"#E5ECF6\",\"aaxis\":{\"gridcolor\":\"white\",\"linecolor\":\"white\",\"ticks\":\"\"},\"baxis\":{\"gridcolor\":\"white\",\"linecolor\":\"white\",\"ticks\":\"\"},\"caxis\":{\"gridcolor\":\"white\",\"linecolor\":\"white\",\"ticks\":\"\"}},\"coloraxis\":{\"colorbar\":{\"outlinewidth\":0,\"ticks\":\"\"}},\"colorscale\":{\"sequential\":[[0.0,\"#0d0887\"],[0.1111111111111111,\"#46039f\"],[0.2222222222222222,\"#7201a8\"],[0.3333333333333333,\"#9c179e\"],[0.4444444444444444,\"#bd3786\"],[0.5555555555555556,\"#d8576b\"],[0.6666666666666666,\"#ed7953\"],[0.7777777777777778,\"#fb9f3a\"],[0.8888888888888888,\"#fdca26\"],[1.0,\"#f0f921\"]],\"sequentialminus\":[[0.0,\"#0d0887\"],[0.1111111111111111,\"#46039f\"],[0.2222222222222222,\"#7201a8\"],[0.3333333333333333,\"#9c179e\"],[0.4444444444444444,\"#bd3786\"],[0.5555555555555556,\"#d8576b\"],[0.6666666666666666,\"#ed7953\"],[0.7777777777777778,\"#fb9f3a\"],[0.8888888888888888,\"#fdca26\"],[1.0,\"#f0f921\"]],\"diverging\":[[0,\"#8e0152\"],[0.1,\"#c51b7d\"],[0.2,\"#de77ae\"],[0.3,\"#f1b6da\"],[0.4,\"#fde0ef\"],[0.5,\"#f7f7f7\"],[0.6,\"#e6f5d0\"],[0.7,\"#b8e186\"],[0.8,\"#7fbc41\"],[0.9,\"#4d9221\"],[1,\"#276419\"]]},\"xaxis\":{\"gridcolor\":\"white\",\"linecolor\":\"white\",\"ticks\":\"\",\"title\":{\"standoff\":15},\"zerolinecolor\":\"white\",\"automargin\":true,\"zerolinewidth\":2},\"yaxis\":{\"gridcolor\":\"white\",\"linecolor\":\"white\",\"ticks\":\"\",\"title\":{\"standoff\":15},\"zerolinecolor\":\"white\",\"automargin\":true,\"zerolinewidth\":2},\"scene\":{\"xaxis\":{\"backgroundcolor\":\"#E5ECF6\",\"gridcolor\":\"white\",\"linecolor\":\"white\",\"showbackground\":true,\"ticks\":\"\",\"zerolinecolor\":\"white\",\"gridwidth\":2},\"yaxis\":{\"backgroundcolor\":\"#E5ECF6\",\"gridcolor\":\"white\",\"linecolor\":\"white\",\"showbackground\":true,\"ticks\":\"\",\"zerolinecolor\":\"white\",\"gridwidth\":2},\"zaxis\":{\"backgroundcolor\":\"#E5ECF6\",\"gridcolor\":\"white\",\"linecolor\":\"white\",\"showbackground\":true,\"ticks\":\"\",\"zerolinecolor\":\"white\",\"gridwidth\":2}},\"shapedefaults\":{\"line\":{\"color\":\"#2a3f5f\"}},\"annotationdefaults\":{\"arrowcolor\":\"#2a3f5f\",\"arrowhead\":0,\"arrowwidth\":1},\"geo\":{\"bgcolor\":\"white\",\"landcolor\":\"#E5ECF6\",\"subunitcolor\":\"white\",\"showland\":true,\"showlakes\":true,\"lakecolor\":\"white\"},\"title\":{\"x\":0.05},\"mapbox\":{\"style\":\"light\"}}},\"title\":{\"text\":\"\\u0412\\u043e\\u0440\\u043e\\u043d\\u043a\\u0430 \\u0441\\u043e\\u0431\\u044b\\u0442\\u0438\\u0439: \\u0441\\u0446\\u0435\\u043d\\u0430\\u0440\\u0438\\u0439 \\u21161\"}},                        {\"responsive\": true}                    ).then(function(){\n",
       "                            \n",
       "var gd = document.getElementById('1cca17b6-94f7-4d7e-8562-994b5b35cf87');\n",
       "var x = new MutationObserver(function (mutations, observer) {{\n",
       "        var display = window.getComputedStyle(gd).display;\n",
       "        if (!display || display === 'none') {{\n",
       "            console.log([gd, 'removed!']);\n",
       "            Plotly.purge(gd);\n",
       "            observer.disconnect();\n",
       "        }}\n",
       "}});\n",
       "\n",
       "// Listen for the removal of the full notebook cells\n",
       "var notebookContainer = gd.closest('#notebook-container');\n",
       "if (notebookContainer) {{\n",
       "    x.observe(notebookContainer, {childList: true});\n",
       "}}\n",
       "\n",
       "// Listen for the clearing of the current output cell\n",
       "var outputEl = gd.closest('.output');\n",
       "if (outputEl) {{\n",
       "    x.observe(outputEl, {childList: true});\n",
       "}}\n",
       "\n",
       "                        })                };                });            </script>        </div>"
      ]
     },
     "metadata": {},
     "output_type": "display_data"
    }
   ],
   "source": [
    "fig = go.Figure(go.Funnel(\n",
    "    y=[\"Поиск по сайту\", \"Просмотр фотографий\", \"Просмотр контактов\"],\n",
    "    x=[len(search_users),len(photos_show), len(contacts_show)],\n",
    "    textposition = \"inside\",\n",
    "    textinfo = \"value+percent initial\",\n",
    "    opacity = 0.65, marker = {\"color\": [\"#66c2a5\", \"#fc8d62\", \"#8da0cb\"],\n",
    "    \"line\": {\"width\": [4, 2, 2, 3, 1, 1], \"color\": [\"#66c2a5\", \"#fc8d62\", \"#8da0cb\"]}},\n",
    "    connector = {\"line\": {\"color\": \"#66c2a5\", \"dash\": \"dot\", \"width\": 3}})\n",
    "    )\n",
    "fig.update_layout(title='Воронка событий: сценарий №1')\n",
    "fig.show()"
   ]
  },
  {
   "cell_type": "markdown",
   "id": "f788e813",
   "metadata": {},
   "source": [
    "**1666 человек сначала осуществляют поиск по сайту. Лишь 39% из них пересмотрят к просмотру фотографий, а из тех, кто посмотрел фотографии, менее четверти просматривают контактные данные. Из тех пользователей, кто действует в приложении по первому сценарию, 12% доходят до просмотра контактов.**"
   ]
  },
  {
   "cell_type": "markdown",
   "id": "7a7ad74d",
   "metadata": {},
   "source": [
    "**Подготовим данные для сценария №2.**"
   ]
  },
  {
   "cell_type": "code",
   "execution_count": 53,
   "id": "09cba59b",
   "metadata": {},
   "outputs": [],
   "source": [
    "map_users = data.query('event_name == \"map\"')['user_id'].unique().tolist()\n",
    "advert_open_show = data.query('event_name ==\"advert_open\" and user_id==@map_users')['user_id'].unique().tolist()\n",
    "tip_show_users1 = data.query('event_name == \"tips_show\" and user_id==@advert_open_show')['user_id'].unique().tolist()\n",
    "contacts_show_users1 = data.query('event_name == \"contacts_show\" and user_id==@tip_show_users1')['user_id'].unique().tolist()"
   ]
  },
  {
   "cell_type": "code",
   "execution_count": 54,
   "id": "66d7e6c3",
   "metadata": {},
   "outputs": [
    {
     "data": {
      "application/vnd.plotly.v1+json": {
       "config": {
        "plotlyServerURL": "https://plot.ly"
       },
       "data": [
        {
         "connector": {
          "line": {
           "color": "#66c2a5",
           "dash": "dot",
           "width": 3
          }
         },
         "marker": {
          "color": [
           "#66c2a5",
           "#fc8d62",
           "#8da0cb",
           "#e78ac3"
          ],
          "line": {
           "color": [
            "#66c2a5",
            "#fc8d62",
            "#8da0cb",
            "#e78ac3"
           ],
           "width": [
            4,
            2,
            2,
            3,
            1,
            1
           ]
          }
         },
         "opacity": 0.65,
         "textinfo": "value+percent initial",
         "textposition": "inside",
         "type": "funnel",
         "x": [
          1456,
          517,
          472,
          78
         ],
         "y": [
          "Просмотр карты объявлений",
          "Открытие карточки объявлений",
          "Просмотр рекомендаций",
          "Просмотр контактов"
         ]
        }
       ],
       "layout": {
        "template": {
         "data": {
          "bar": [
           {
            "error_x": {
             "color": "#2a3f5f"
            },
            "error_y": {
             "color": "#2a3f5f"
            },
            "marker": {
             "line": {
              "color": "#E5ECF6",
              "width": 0.5
             },
             "pattern": {
              "fillmode": "overlay",
              "size": 10,
              "solidity": 0.2
             }
            },
            "type": "bar"
           }
          ],
          "barpolar": [
           {
            "marker": {
             "line": {
              "color": "#E5ECF6",
              "width": 0.5
             },
             "pattern": {
              "fillmode": "overlay",
              "size": 10,
              "solidity": 0.2
             }
            },
            "type": "barpolar"
           }
          ],
          "carpet": [
           {
            "aaxis": {
             "endlinecolor": "#2a3f5f",
             "gridcolor": "white",
             "linecolor": "white",
             "minorgridcolor": "white",
             "startlinecolor": "#2a3f5f"
            },
            "baxis": {
             "endlinecolor": "#2a3f5f",
             "gridcolor": "white",
             "linecolor": "white",
             "minorgridcolor": "white",
             "startlinecolor": "#2a3f5f"
            },
            "type": "carpet"
           }
          ],
          "choropleth": [
           {
            "colorbar": {
             "outlinewidth": 0,
             "ticks": ""
            },
            "type": "choropleth"
           }
          ],
          "contour": [
           {
            "colorbar": {
             "outlinewidth": 0,
             "ticks": ""
            },
            "colorscale": [
             [
              0,
              "#0d0887"
             ],
             [
              0.1111111111111111,
              "#46039f"
             ],
             [
              0.2222222222222222,
              "#7201a8"
             ],
             [
              0.3333333333333333,
              "#9c179e"
             ],
             [
              0.4444444444444444,
              "#bd3786"
             ],
             [
              0.5555555555555556,
              "#d8576b"
             ],
             [
              0.6666666666666666,
              "#ed7953"
             ],
             [
              0.7777777777777778,
              "#fb9f3a"
             ],
             [
              0.8888888888888888,
              "#fdca26"
             ],
             [
              1,
              "#f0f921"
             ]
            ],
            "type": "contour"
           }
          ],
          "contourcarpet": [
           {
            "colorbar": {
             "outlinewidth": 0,
             "ticks": ""
            },
            "type": "contourcarpet"
           }
          ],
          "heatmap": [
           {
            "colorbar": {
             "outlinewidth": 0,
             "ticks": ""
            },
            "colorscale": [
             [
              0,
              "#0d0887"
             ],
             [
              0.1111111111111111,
              "#46039f"
             ],
             [
              0.2222222222222222,
              "#7201a8"
             ],
             [
              0.3333333333333333,
              "#9c179e"
             ],
             [
              0.4444444444444444,
              "#bd3786"
             ],
             [
              0.5555555555555556,
              "#d8576b"
             ],
             [
              0.6666666666666666,
              "#ed7953"
             ],
             [
              0.7777777777777778,
              "#fb9f3a"
             ],
             [
              0.8888888888888888,
              "#fdca26"
             ],
             [
              1,
              "#f0f921"
             ]
            ],
            "type": "heatmap"
           }
          ],
          "heatmapgl": [
           {
            "colorbar": {
             "outlinewidth": 0,
             "ticks": ""
            },
            "colorscale": [
             [
              0,
              "#0d0887"
             ],
             [
              0.1111111111111111,
              "#46039f"
             ],
             [
              0.2222222222222222,
              "#7201a8"
             ],
             [
              0.3333333333333333,
              "#9c179e"
             ],
             [
              0.4444444444444444,
              "#bd3786"
             ],
             [
              0.5555555555555556,
              "#d8576b"
             ],
             [
              0.6666666666666666,
              "#ed7953"
             ],
             [
              0.7777777777777778,
              "#fb9f3a"
             ],
             [
              0.8888888888888888,
              "#fdca26"
             ],
             [
              1,
              "#f0f921"
             ]
            ],
            "type": "heatmapgl"
           }
          ],
          "histogram": [
           {
            "marker": {
             "pattern": {
              "fillmode": "overlay",
              "size": 10,
              "solidity": 0.2
             }
            },
            "type": "histogram"
           }
          ],
          "histogram2d": [
           {
            "colorbar": {
             "outlinewidth": 0,
             "ticks": ""
            },
            "colorscale": [
             [
              0,
              "#0d0887"
             ],
             [
              0.1111111111111111,
              "#46039f"
             ],
             [
              0.2222222222222222,
              "#7201a8"
             ],
             [
              0.3333333333333333,
              "#9c179e"
             ],
             [
              0.4444444444444444,
              "#bd3786"
             ],
             [
              0.5555555555555556,
              "#d8576b"
             ],
             [
              0.6666666666666666,
              "#ed7953"
             ],
             [
              0.7777777777777778,
              "#fb9f3a"
             ],
             [
              0.8888888888888888,
              "#fdca26"
             ],
             [
              1,
              "#f0f921"
             ]
            ],
            "type": "histogram2d"
           }
          ],
          "histogram2dcontour": [
           {
            "colorbar": {
             "outlinewidth": 0,
             "ticks": ""
            },
            "colorscale": [
             [
              0,
              "#0d0887"
             ],
             [
              0.1111111111111111,
              "#46039f"
             ],
             [
              0.2222222222222222,
              "#7201a8"
             ],
             [
              0.3333333333333333,
              "#9c179e"
             ],
             [
              0.4444444444444444,
              "#bd3786"
             ],
             [
              0.5555555555555556,
              "#d8576b"
             ],
             [
              0.6666666666666666,
              "#ed7953"
             ],
             [
              0.7777777777777778,
              "#fb9f3a"
             ],
             [
              0.8888888888888888,
              "#fdca26"
             ],
             [
              1,
              "#f0f921"
             ]
            ],
            "type": "histogram2dcontour"
           }
          ],
          "mesh3d": [
           {
            "colorbar": {
             "outlinewidth": 0,
             "ticks": ""
            },
            "type": "mesh3d"
           }
          ],
          "parcoords": [
           {
            "line": {
             "colorbar": {
              "outlinewidth": 0,
              "ticks": ""
             }
            },
            "type": "parcoords"
           }
          ],
          "pie": [
           {
            "automargin": true,
            "type": "pie"
           }
          ],
          "scatter": [
           {
            "fillpattern": {
             "fillmode": "overlay",
             "size": 10,
             "solidity": 0.2
            },
            "type": "scatter"
           }
          ],
          "scatter3d": [
           {
            "line": {
             "colorbar": {
              "outlinewidth": 0,
              "ticks": ""
             }
            },
            "marker": {
             "colorbar": {
              "outlinewidth": 0,
              "ticks": ""
             }
            },
            "type": "scatter3d"
           }
          ],
          "scattercarpet": [
           {
            "marker": {
             "colorbar": {
              "outlinewidth": 0,
              "ticks": ""
             }
            },
            "type": "scattercarpet"
           }
          ],
          "scattergeo": [
           {
            "marker": {
             "colorbar": {
              "outlinewidth": 0,
              "ticks": ""
             }
            },
            "type": "scattergeo"
           }
          ],
          "scattergl": [
           {
            "marker": {
             "colorbar": {
              "outlinewidth": 0,
              "ticks": ""
             }
            },
            "type": "scattergl"
           }
          ],
          "scattermapbox": [
           {
            "marker": {
             "colorbar": {
              "outlinewidth": 0,
              "ticks": ""
             }
            },
            "type": "scattermapbox"
           }
          ],
          "scatterpolar": [
           {
            "marker": {
             "colorbar": {
              "outlinewidth": 0,
              "ticks": ""
             }
            },
            "type": "scatterpolar"
           }
          ],
          "scatterpolargl": [
           {
            "marker": {
             "colorbar": {
              "outlinewidth": 0,
              "ticks": ""
             }
            },
            "type": "scatterpolargl"
           }
          ],
          "scatterternary": [
           {
            "marker": {
             "colorbar": {
              "outlinewidth": 0,
              "ticks": ""
             }
            },
            "type": "scatterternary"
           }
          ],
          "surface": [
           {
            "colorbar": {
             "outlinewidth": 0,
             "ticks": ""
            },
            "colorscale": [
             [
              0,
              "#0d0887"
             ],
             [
              0.1111111111111111,
              "#46039f"
             ],
             [
              0.2222222222222222,
              "#7201a8"
             ],
             [
              0.3333333333333333,
              "#9c179e"
             ],
             [
              0.4444444444444444,
              "#bd3786"
             ],
             [
              0.5555555555555556,
              "#d8576b"
             ],
             [
              0.6666666666666666,
              "#ed7953"
             ],
             [
              0.7777777777777778,
              "#fb9f3a"
             ],
             [
              0.8888888888888888,
              "#fdca26"
             ],
             [
              1,
              "#f0f921"
             ]
            ],
            "type": "surface"
           }
          ],
          "table": [
           {
            "cells": {
             "fill": {
              "color": "#EBF0F8"
             },
             "line": {
              "color": "white"
             }
            },
            "header": {
             "fill": {
              "color": "#C8D4E3"
             },
             "line": {
              "color": "white"
             }
            },
            "type": "table"
           }
          ]
         },
         "layout": {
          "annotationdefaults": {
           "arrowcolor": "#2a3f5f",
           "arrowhead": 0,
           "arrowwidth": 1
          },
          "autotypenumbers": "strict",
          "coloraxis": {
           "colorbar": {
            "outlinewidth": 0,
            "ticks": ""
           }
          },
          "colorscale": {
           "diverging": [
            [
             0,
             "#8e0152"
            ],
            [
             0.1,
             "#c51b7d"
            ],
            [
             0.2,
             "#de77ae"
            ],
            [
             0.3,
             "#f1b6da"
            ],
            [
             0.4,
             "#fde0ef"
            ],
            [
             0.5,
             "#f7f7f7"
            ],
            [
             0.6,
             "#e6f5d0"
            ],
            [
             0.7,
             "#b8e186"
            ],
            [
             0.8,
             "#7fbc41"
            ],
            [
             0.9,
             "#4d9221"
            ],
            [
             1,
             "#276419"
            ]
           ],
           "sequential": [
            [
             0,
             "#0d0887"
            ],
            [
             0.1111111111111111,
             "#46039f"
            ],
            [
             0.2222222222222222,
             "#7201a8"
            ],
            [
             0.3333333333333333,
             "#9c179e"
            ],
            [
             0.4444444444444444,
             "#bd3786"
            ],
            [
             0.5555555555555556,
             "#d8576b"
            ],
            [
             0.6666666666666666,
             "#ed7953"
            ],
            [
             0.7777777777777778,
             "#fb9f3a"
            ],
            [
             0.8888888888888888,
             "#fdca26"
            ],
            [
             1,
             "#f0f921"
            ]
           ],
           "sequentialminus": [
            [
             0,
             "#0d0887"
            ],
            [
             0.1111111111111111,
             "#46039f"
            ],
            [
             0.2222222222222222,
             "#7201a8"
            ],
            [
             0.3333333333333333,
             "#9c179e"
            ],
            [
             0.4444444444444444,
             "#bd3786"
            ],
            [
             0.5555555555555556,
             "#d8576b"
            ],
            [
             0.6666666666666666,
             "#ed7953"
            ],
            [
             0.7777777777777778,
             "#fb9f3a"
            ],
            [
             0.8888888888888888,
             "#fdca26"
            ],
            [
             1,
             "#f0f921"
            ]
           ]
          },
          "colorway": [
           "#636efa",
           "#EF553B",
           "#00cc96",
           "#ab63fa",
           "#FFA15A",
           "#19d3f3",
           "#FF6692",
           "#B6E880",
           "#FF97FF",
           "#FECB52"
          ],
          "font": {
           "color": "#2a3f5f"
          },
          "geo": {
           "bgcolor": "white",
           "lakecolor": "white",
           "landcolor": "#E5ECF6",
           "showlakes": true,
           "showland": true,
           "subunitcolor": "white"
          },
          "hoverlabel": {
           "align": "left"
          },
          "hovermode": "closest",
          "mapbox": {
           "style": "light"
          },
          "paper_bgcolor": "white",
          "plot_bgcolor": "#E5ECF6",
          "polar": {
           "angularaxis": {
            "gridcolor": "white",
            "linecolor": "white",
            "ticks": ""
           },
           "bgcolor": "#E5ECF6",
           "radialaxis": {
            "gridcolor": "white",
            "linecolor": "white",
            "ticks": ""
           }
          },
          "scene": {
           "xaxis": {
            "backgroundcolor": "#E5ECF6",
            "gridcolor": "white",
            "gridwidth": 2,
            "linecolor": "white",
            "showbackground": true,
            "ticks": "",
            "zerolinecolor": "white"
           },
           "yaxis": {
            "backgroundcolor": "#E5ECF6",
            "gridcolor": "white",
            "gridwidth": 2,
            "linecolor": "white",
            "showbackground": true,
            "ticks": "",
            "zerolinecolor": "white"
           },
           "zaxis": {
            "backgroundcolor": "#E5ECF6",
            "gridcolor": "white",
            "gridwidth": 2,
            "linecolor": "white",
            "showbackground": true,
            "ticks": "",
            "zerolinecolor": "white"
           }
          },
          "shapedefaults": {
           "line": {
            "color": "#2a3f5f"
           }
          },
          "ternary": {
           "aaxis": {
            "gridcolor": "white",
            "linecolor": "white",
            "ticks": ""
           },
           "baxis": {
            "gridcolor": "white",
            "linecolor": "white",
            "ticks": ""
           },
           "bgcolor": "#E5ECF6",
           "caxis": {
            "gridcolor": "white",
            "linecolor": "white",
            "ticks": ""
           }
          },
          "title": {
           "x": 0.05
          },
          "xaxis": {
           "automargin": true,
           "gridcolor": "white",
           "linecolor": "white",
           "ticks": "",
           "title": {
            "standoff": 15
           },
           "zerolinecolor": "white",
           "zerolinewidth": 2
          },
          "yaxis": {
           "automargin": true,
           "gridcolor": "white",
           "linecolor": "white",
           "ticks": "",
           "title": {
            "standoff": 15
           },
           "zerolinecolor": "white",
           "zerolinewidth": 2
          }
         }
        },
        "title": {
         "text": "Воронка событий: сценарий №2"
        }
       }
      },
      "text/html": [
       "<div>                            <div id=\"8c4d39c8-eacd-4b8c-ba90-4fbf3ae61c9c\" class=\"plotly-graph-div\" style=\"height:525px; width:100%;\"></div>            <script type=\"text/javascript\">                require([\"plotly\"], function(Plotly) {                    window.PLOTLYENV=window.PLOTLYENV || {};                                    if (document.getElementById(\"8c4d39c8-eacd-4b8c-ba90-4fbf3ae61c9c\")) {                    Plotly.newPlot(                        \"8c4d39c8-eacd-4b8c-ba90-4fbf3ae61c9c\",                        [{\"connector\":{\"line\":{\"color\":\"#66c2a5\",\"dash\":\"dot\",\"width\":3}},\"marker\":{\"color\":[\"#66c2a5\",\"#fc8d62\",\"#8da0cb\",\"#e78ac3\"],\"line\":{\"color\":[\"#66c2a5\",\"#fc8d62\",\"#8da0cb\",\"#e78ac3\"],\"width\":[4,2,2,3,1,1]}},\"opacity\":0.65,\"textinfo\":\"value+percent initial\",\"textposition\":\"inside\",\"x\":[1456,517,472,78],\"y\":[\"\\u041f\\u0440\\u043e\\u0441\\u043c\\u043e\\u0442\\u0440 \\u043a\\u0430\\u0440\\u0442\\u044b \\u043e\\u0431\\u044a\\u044f\\u0432\\u043b\\u0435\\u043d\\u0438\\u0439\",\"\\u041e\\u0442\\u043a\\u0440\\u044b\\u0442\\u0438\\u0435 \\u043a\\u0430\\u0440\\u0442\\u043e\\u0447\\u043a\\u0438 \\u043e\\u0431\\u044a\\u044f\\u0432\\u043b\\u0435\\u043d\\u0438\\u0439\",\"\\u041f\\u0440\\u043e\\u0441\\u043c\\u043e\\u0442\\u0440 \\u0440\\u0435\\u043a\\u043e\\u043c\\u0435\\u043d\\u0434\\u0430\\u0446\\u0438\\u0439\",\"\\u041f\\u0440\\u043e\\u0441\\u043c\\u043e\\u0442\\u0440 \\u043a\\u043e\\u043d\\u0442\\u0430\\u043a\\u0442\\u043e\\u0432\"],\"type\":\"funnel\"}],                        {\"template\":{\"data\":{\"histogram2dcontour\":[{\"type\":\"histogram2dcontour\",\"colorbar\":{\"outlinewidth\":0,\"ticks\":\"\"},\"colorscale\":[[0.0,\"#0d0887\"],[0.1111111111111111,\"#46039f\"],[0.2222222222222222,\"#7201a8\"],[0.3333333333333333,\"#9c179e\"],[0.4444444444444444,\"#bd3786\"],[0.5555555555555556,\"#d8576b\"],[0.6666666666666666,\"#ed7953\"],[0.7777777777777778,\"#fb9f3a\"],[0.8888888888888888,\"#fdca26\"],[1.0,\"#f0f921\"]]}],\"choropleth\":[{\"type\":\"choropleth\",\"colorbar\":{\"outlinewidth\":0,\"ticks\":\"\"}}],\"histogram2d\":[{\"type\":\"histogram2d\",\"colorbar\":{\"outlinewidth\":0,\"ticks\":\"\"},\"colorscale\":[[0.0,\"#0d0887\"],[0.1111111111111111,\"#46039f\"],[0.2222222222222222,\"#7201a8\"],[0.3333333333333333,\"#9c179e\"],[0.4444444444444444,\"#bd3786\"],[0.5555555555555556,\"#d8576b\"],[0.6666666666666666,\"#ed7953\"],[0.7777777777777778,\"#fb9f3a\"],[0.8888888888888888,\"#fdca26\"],[1.0,\"#f0f921\"]]}],\"heatmap\":[{\"type\":\"heatmap\",\"colorbar\":{\"outlinewidth\":0,\"ticks\":\"\"},\"colorscale\":[[0.0,\"#0d0887\"],[0.1111111111111111,\"#46039f\"],[0.2222222222222222,\"#7201a8\"],[0.3333333333333333,\"#9c179e\"],[0.4444444444444444,\"#bd3786\"],[0.5555555555555556,\"#d8576b\"],[0.6666666666666666,\"#ed7953\"],[0.7777777777777778,\"#fb9f3a\"],[0.8888888888888888,\"#fdca26\"],[1.0,\"#f0f921\"]]}],\"heatmapgl\":[{\"type\":\"heatmapgl\",\"colorbar\":{\"outlinewidth\":0,\"ticks\":\"\"},\"colorscale\":[[0.0,\"#0d0887\"],[0.1111111111111111,\"#46039f\"],[0.2222222222222222,\"#7201a8\"],[0.3333333333333333,\"#9c179e\"],[0.4444444444444444,\"#bd3786\"],[0.5555555555555556,\"#d8576b\"],[0.6666666666666666,\"#ed7953\"],[0.7777777777777778,\"#fb9f3a\"],[0.8888888888888888,\"#fdca26\"],[1.0,\"#f0f921\"]]}],\"contourcarpet\":[{\"type\":\"contourcarpet\",\"colorbar\":{\"outlinewidth\":0,\"ticks\":\"\"}}],\"contour\":[{\"type\":\"contour\",\"colorbar\":{\"outlinewidth\":0,\"ticks\":\"\"},\"colorscale\":[[0.0,\"#0d0887\"],[0.1111111111111111,\"#46039f\"],[0.2222222222222222,\"#7201a8\"],[0.3333333333333333,\"#9c179e\"],[0.4444444444444444,\"#bd3786\"],[0.5555555555555556,\"#d8576b\"],[0.6666666666666666,\"#ed7953\"],[0.7777777777777778,\"#fb9f3a\"],[0.8888888888888888,\"#fdca26\"],[1.0,\"#f0f921\"]]}],\"surface\":[{\"type\":\"surface\",\"colorbar\":{\"outlinewidth\":0,\"ticks\":\"\"},\"colorscale\":[[0.0,\"#0d0887\"],[0.1111111111111111,\"#46039f\"],[0.2222222222222222,\"#7201a8\"],[0.3333333333333333,\"#9c179e\"],[0.4444444444444444,\"#bd3786\"],[0.5555555555555556,\"#d8576b\"],[0.6666666666666666,\"#ed7953\"],[0.7777777777777778,\"#fb9f3a\"],[0.8888888888888888,\"#fdca26\"],[1.0,\"#f0f921\"]]}],\"mesh3d\":[{\"type\":\"mesh3d\",\"colorbar\":{\"outlinewidth\":0,\"ticks\":\"\"}}],\"scatter\":[{\"fillpattern\":{\"fillmode\":\"overlay\",\"size\":10,\"solidity\":0.2},\"type\":\"scatter\"}],\"parcoords\":[{\"type\":\"parcoords\",\"line\":{\"colorbar\":{\"outlinewidth\":0,\"ticks\":\"\"}}}],\"scatterpolargl\":[{\"type\":\"scatterpolargl\",\"marker\":{\"colorbar\":{\"outlinewidth\":0,\"ticks\":\"\"}}}],\"bar\":[{\"error_x\":{\"color\":\"#2a3f5f\"},\"error_y\":{\"color\":\"#2a3f5f\"},\"marker\":{\"line\":{\"color\":\"#E5ECF6\",\"width\":0.5},\"pattern\":{\"fillmode\":\"overlay\",\"size\":10,\"solidity\":0.2}},\"type\":\"bar\"}],\"scattergeo\":[{\"type\":\"scattergeo\",\"marker\":{\"colorbar\":{\"outlinewidth\":0,\"ticks\":\"\"}}}],\"scatterpolar\":[{\"type\":\"scatterpolar\",\"marker\":{\"colorbar\":{\"outlinewidth\":0,\"ticks\":\"\"}}}],\"histogram\":[{\"marker\":{\"pattern\":{\"fillmode\":\"overlay\",\"size\":10,\"solidity\":0.2}},\"type\":\"histogram\"}],\"scattergl\":[{\"type\":\"scattergl\",\"marker\":{\"colorbar\":{\"outlinewidth\":0,\"ticks\":\"\"}}}],\"scatter3d\":[{\"type\":\"scatter3d\",\"line\":{\"colorbar\":{\"outlinewidth\":0,\"ticks\":\"\"}},\"marker\":{\"colorbar\":{\"outlinewidth\":0,\"ticks\":\"\"}}}],\"scattermapbox\":[{\"type\":\"scattermapbox\",\"marker\":{\"colorbar\":{\"outlinewidth\":0,\"ticks\":\"\"}}}],\"scatterternary\":[{\"type\":\"scatterternary\",\"marker\":{\"colorbar\":{\"outlinewidth\":0,\"ticks\":\"\"}}}],\"scattercarpet\":[{\"type\":\"scattercarpet\",\"marker\":{\"colorbar\":{\"outlinewidth\":0,\"ticks\":\"\"}}}],\"carpet\":[{\"aaxis\":{\"endlinecolor\":\"#2a3f5f\",\"gridcolor\":\"white\",\"linecolor\":\"white\",\"minorgridcolor\":\"white\",\"startlinecolor\":\"#2a3f5f\"},\"baxis\":{\"endlinecolor\":\"#2a3f5f\",\"gridcolor\":\"white\",\"linecolor\":\"white\",\"minorgridcolor\":\"white\",\"startlinecolor\":\"#2a3f5f\"},\"type\":\"carpet\"}],\"table\":[{\"cells\":{\"fill\":{\"color\":\"#EBF0F8\"},\"line\":{\"color\":\"white\"}},\"header\":{\"fill\":{\"color\":\"#C8D4E3\"},\"line\":{\"color\":\"white\"}},\"type\":\"table\"}],\"barpolar\":[{\"marker\":{\"line\":{\"color\":\"#E5ECF6\",\"width\":0.5},\"pattern\":{\"fillmode\":\"overlay\",\"size\":10,\"solidity\":0.2}},\"type\":\"barpolar\"}],\"pie\":[{\"automargin\":true,\"type\":\"pie\"}]},\"layout\":{\"autotypenumbers\":\"strict\",\"colorway\":[\"#636efa\",\"#EF553B\",\"#00cc96\",\"#ab63fa\",\"#FFA15A\",\"#19d3f3\",\"#FF6692\",\"#B6E880\",\"#FF97FF\",\"#FECB52\"],\"font\":{\"color\":\"#2a3f5f\"},\"hovermode\":\"closest\",\"hoverlabel\":{\"align\":\"left\"},\"paper_bgcolor\":\"white\",\"plot_bgcolor\":\"#E5ECF6\",\"polar\":{\"bgcolor\":\"#E5ECF6\",\"angularaxis\":{\"gridcolor\":\"white\",\"linecolor\":\"white\",\"ticks\":\"\"},\"radialaxis\":{\"gridcolor\":\"white\",\"linecolor\":\"white\",\"ticks\":\"\"}},\"ternary\":{\"bgcolor\":\"#E5ECF6\",\"aaxis\":{\"gridcolor\":\"white\",\"linecolor\":\"white\",\"ticks\":\"\"},\"baxis\":{\"gridcolor\":\"white\",\"linecolor\":\"white\",\"ticks\":\"\"},\"caxis\":{\"gridcolor\":\"white\",\"linecolor\":\"white\",\"ticks\":\"\"}},\"coloraxis\":{\"colorbar\":{\"outlinewidth\":0,\"ticks\":\"\"}},\"colorscale\":{\"sequential\":[[0.0,\"#0d0887\"],[0.1111111111111111,\"#46039f\"],[0.2222222222222222,\"#7201a8\"],[0.3333333333333333,\"#9c179e\"],[0.4444444444444444,\"#bd3786\"],[0.5555555555555556,\"#d8576b\"],[0.6666666666666666,\"#ed7953\"],[0.7777777777777778,\"#fb9f3a\"],[0.8888888888888888,\"#fdca26\"],[1.0,\"#f0f921\"]],\"sequentialminus\":[[0.0,\"#0d0887\"],[0.1111111111111111,\"#46039f\"],[0.2222222222222222,\"#7201a8\"],[0.3333333333333333,\"#9c179e\"],[0.4444444444444444,\"#bd3786\"],[0.5555555555555556,\"#d8576b\"],[0.6666666666666666,\"#ed7953\"],[0.7777777777777778,\"#fb9f3a\"],[0.8888888888888888,\"#fdca26\"],[1.0,\"#f0f921\"]],\"diverging\":[[0,\"#8e0152\"],[0.1,\"#c51b7d\"],[0.2,\"#de77ae\"],[0.3,\"#f1b6da\"],[0.4,\"#fde0ef\"],[0.5,\"#f7f7f7\"],[0.6,\"#e6f5d0\"],[0.7,\"#b8e186\"],[0.8,\"#7fbc41\"],[0.9,\"#4d9221\"],[1,\"#276419\"]]},\"xaxis\":{\"gridcolor\":\"white\",\"linecolor\":\"white\",\"ticks\":\"\",\"title\":{\"standoff\":15},\"zerolinecolor\":\"white\",\"automargin\":true,\"zerolinewidth\":2},\"yaxis\":{\"gridcolor\":\"white\",\"linecolor\":\"white\",\"ticks\":\"\",\"title\":{\"standoff\":15},\"zerolinecolor\":\"white\",\"automargin\":true,\"zerolinewidth\":2},\"scene\":{\"xaxis\":{\"backgroundcolor\":\"#E5ECF6\",\"gridcolor\":\"white\",\"linecolor\":\"white\",\"showbackground\":true,\"ticks\":\"\",\"zerolinecolor\":\"white\",\"gridwidth\":2},\"yaxis\":{\"backgroundcolor\":\"#E5ECF6\",\"gridcolor\":\"white\",\"linecolor\":\"white\",\"showbackground\":true,\"ticks\":\"\",\"zerolinecolor\":\"white\",\"gridwidth\":2},\"zaxis\":{\"backgroundcolor\":\"#E5ECF6\",\"gridcolor\":\"white\",\"linecolor\":\"white\",\"showbackground\":true,\"ticks\":\"\",\"zerolinecolor\":\"white\",\"gridwidth\":2}},\"shapedefaults\":{\"line\":{\"color\":\"#2a3f5f\"}},\"annotationdefaults\":{\"arrowcolor\":\"#2a3f5f\",\"arrowhead\":0,\"arrowwidth\":1},\"geo\":{\"bgcolor\":\"white\",\"landcolor\":\"#E5ECF6\",\"subunitcolor\":\"white\",\"showland\":true,\"showlakes\":true,\"lakecolor\":\"white\"},\"title\":{\"x\":0.05},\"mapbox\":{\"style\":\"light\"}}},\"title\":{\"text\":\"\\u0412\\u043e\\u0440\\u043e\\u043d\\u043a\\u0430 \\u0441\\u043e\\u0431\\u044b\\u0442\\u0438\\u0439: \\u0441\\u0446\\u0435\\u043d\\u0430\\u0440\\u0438\\u0439 \\u21162\"}},                        {\"responsive\": true}                    ).then(function(){\n",
       "                            \n",
       "var gd = document.getElementById('8c4d39c8-eacd-4b8c-ba90-4fbf3ae61c9c');\n",
       "var x = new MutationObserver(function (mutations, observer) {{\n",
       "        var display = window.getComputedStyle(gd).display;\n",
       "        if (!display || display === 'none') {{\n",
       "            console.log([gd, 'removed!']);\n",
       "            Plotly.purge(gd);\n",
       "            observer.disconnect();\n",
       "        }}\n",
       "}});\n",
       "\n",
       "// Listen for the removal of the full notebook cells\n",
       "var notebookContainer = gd.closest('#notebook-container');\n",
       "if (notebookContainer) {{\n",
       "    x.observe(notebookContainer, {childList: true});\n",
       "}}\n",
       "\n",
       "// Listen for the clearing of the current output cell\n",
       "var outputEl = gd.closest('.output');\n",
       "if (outputEl) {{\n",
       "    x.observe(outputEl, {childList: true});\n",
       "}}\n",
       "\n",
       "                        })                };                });            </script>        </div>"
      ]
     },
     "metadata": {},
     "output_type": "display_data"
    }
   ],
   "source": [
    "fig = go.Figure(go.Funnel(\n",
    "    y=[\"Просмотр карты объявлений\", \"Открытие карточки объявлений\",\n",
    "       \"Просмотр рекомендаций\",\"Просмотр контактов\"],\n",
    "    x=[len(map_users),len(advert_open_show), len(tip_show_users1), len(contacts_show_users1)],\n",
    "    textposition = \"inside\",\n",
    "    textinfo = \"value+percent initial\",\n",
    "    opacity = 0.65, marker = {\"color\": [\"#66c2a5\", \"#fc8d62\", \"#8da0cb\",\"#e78ac3\"],\n",
    "    \"line\": {\"width\": [4, 2, 2, 3, 1, 1], \"color\": [\"#66c2a5\", \"#fc8d62\", \"#8da0cb\", \"#e78ac3\"]}},\n",
    "    connector = {\"line\": {\"color\": \"#66c2a5\", \"dash\": \"dot\", \"width\": 3}})\n",
    "    )\n",
    "fig.update_layout(title='Воронка событий: сценарий №2')\n",
    "fig.show()"
   ]
  },
  {
   "cell_type": "markdown",
   "id": "464649a1",
   "metadata": {},
   "source": [
    "**По второму сценарию (map- advert open - tips show - просмотр контактов) сильный отток пользователей происходит после совершения первого действия - просмотра карт; лишь 36% пользователей переходят ко второму действию (открытие карточки объявлений). Более трети (32% пользователей) переходят к просмотру рекомендаций,однако до целевого действия доходят лишь 5% пользователей.**"
   ]
  },
  {
   "cell_type": "markdown",
   "id": "7ed56d01",
   "metadata": {},
   "source": [
    "**Теперь перейдем к построению воронки для сценария №3.**"
   ]
  },
  {
   "cell_type": "code",
   "execution_count": 55,
   "id": "3ec628c3",
   "metadata": {},
   "outputs": [],
   "source": [
    "search_users1 = data.query('event_name == \"search\"')['user_id'].unique().tolist()\n",
    "map_users1 = data.query('event_name ==\"map\" and user_id==@search_users1')['user_id'].unique().tolist()\n",
    "tip_show_users2 = data.query('event_name ==\"tips_show\" and user_id==@map_users1')['user_id'].unique().tolist()\n",
    "contacts_show_users2 = data.query('event_name ==\"contacts_show\" and user_id==@tip_show_users2')['user_id'].unique().tolist()"
   ]
  },
  {
   "cell_type": "code",
   "execution_count": 56,
   "id": "d3f41b05",
   "metadata": {},
   "outputs": [
    {
     "data": {
      "application/vnd.plotly.v1+json": {
       "config": {
        "plotlyServerURL": "https://plot.ly"
       },
       "data": [
        {
         "connector": {
          "line": {
           "color": "#66c2a5",
           "dash": "dot",
           "width": 3
          }
         },
         "marker": {
          "color": [
           "#66c2a5",
           "#fc8d62",
           "#8da0cb",
           "#e78ac3"
          ],
          "line": {
           "color": [
            "#66c2a5",
            "#fc8d62",
            "#8da0cb",
            "#e78ac3"
           ],
           "width": [
            4,
            2,
            2,
            3,
            1,
            1
           ]
          }
         },
         "opacity": 0.65,
         "textinfo": "value+percent initial",
         "textposition": "inside",
         "type": "funnel",
         "x": [
          1666,
          463,
          424,
          89
         ],
         "y": [
          "Поиск по сайту",
          "Просмотр карты объявлений",
          "Просмотр рекомендаций",
          "Просмотр контактов"
         ]
        }
       ],
       "layout": {
        "template": {
         "data": {
          "bar": [
           {
            "error_x": {
             "color": "#2a3f5f"
            },
            "error_y": {
             "color": "#2a3f5f"
            },
            "marker": {
             "line": {
              "color": "#E5ECF6",
              "width": 0.5
             },
             "pattern": {
              "fillmode": "overlay",
              "size": 10,
              "solidity": 0.2
             }
            },
            "type": "bar"
           }
          ],
          "barpolar": [
           {
            "marker": {
             "line": {
              "color": "#E5ECF6",
              "width": 0.5
             },
             "pattern": {
              "fillmode": "overlay",
              "size": 10,
              "solidity": 0.2
             }
            },
            "type": "barpolar"
           }
          ],
          "carpet": [
           {
            "aaxis": {
             "endlinecolor": "#2a3f5f",
             "gridcolor": "white",
             "linecolor": "white",
             "minorgridcolor": "white",
             "startlinecolor": "#2a3f5f"
            },
            "baxis": {
             "endlinecolor": "#2a3f5f",
             "gridcolor": "white",
             "linecolor": "white",
             "minorgridcolor": "white",
             "startlinecolor": "#2a3f5f"
            },
            "type": "carpet"
           }
          ],
          "choropleth": [
           {
            "colorbar": {
             "outlinewidth": 0,
             "ticks": ""
            },
            "type": "choropleth"
           }
          ],
          "contour": [
           {
            "colorbar": {
             "outlinewidth": 0,
             "ticks": ""
            },
            "colorscale": [
             [
              0,
              "#0d0887"
             ],
             [
              0.1111111111111111,
              "#46039f"
             ],
             [
              0.2222222222222222,
              "#7201a8"
             ],
             [
              0.3333333333333333,
              "#9c179e"
             ],
             [
              0.4444444444444444,
              "#bd3786"
             ],
             [
              0.5555555555555556,
              "#d8576b"
             ],
             [
              0.6666666666666666,
              "#ed7953"
             ],
             [
              0.7777777777777778,
              "#fb9f3a"
             ],
             [
              0.8888888888888888,
              "#fdca26"
             ],
             [
              1,
              "#f0f921"
             ]
            ],
            "type": "contour"
           }
          ],
          "contourcarpet": [
           {
            "colorbar": {
             "outlinewidth": 0,
             "ticks": ""
            },
            "type": "contourcarpet"
           }
          ],
          "heatmap": [
           {
            "colorbar": {
             "outlinewidth": 0,
             "ticks": ""
            },
            "colorscale": [
             [
              0,
              "#0d0887"
             ],
             [
              0.1111111111111111,
              "#46039f"
             ],
             [
              0.2222222222222222,
              "#7201a8"
             ],
             [
              0.3333333333333333,
              "#9c179e"
             ],
             [
              0.4444444444444444,
              "#bd3786"
             ],
             [
              0.5555555555555556,
              "#d8576b"
             ],
             [
              0.6666666666666666,
              "#ed7953"
             ],
             [
              0.7777777777777778,
              "#fb9f3a"
             ],
             [
              0.8888888888888888,
              "#fdca26"
             ],
             [
              1,
              "#f0f921"
             ]
            ],
            "type": "heatmap"
           }
          ],
          "heatmapgl": [
           {
            "colorbar": {
             "outlinewidth": 0,
             "ticks": ""
            },
            "colorscale": [
             [
              0,
              "#0d0887"
             ],
             [
              0.1111111111111111,
              "#46039f"
             ],
             [
              0.2222222222222222,
              "#7201a8"
             ],
             [
              0.3333333333333333,
              "#9c179e"
             ],
             [
              0.4444444444444444,
              "#bd3786"
             ],
             [
              0.5555555555555556,
              "#d8576b"
             ],
             [
              0.6666666666666666,
              "#ed7953"
             ],
             [
              0.7777777777777778,
              "#fb9f3a"
             ],
             [
              0.8888888888888888,
              "#fdca26"
             ],
             [
              1,
              "#f0f921"
             ]
            ],
            "type": "heatmapgl"
           }
          ],
          "histogram": [
           {
            "marker": {
             "pattern": {
              "fillmode": "overlay",
              "size": 10,
              "solidity": 0.2
             }
            },
            "type": "histogram"
           }
          ],
          "histogram2d": [
           {
            "colorbar": {
             "outlinewidth": 0,
             "ticks": ""
            },
            "colorscale": [
             [
              0,
              "#0d0887"
             ],
             [
              0.1111111111111111,
              "#46039f"
             ],
             [
              0.2222222222222222,
              "#7201a8"
             ],
             [
              0.3333333333333333,
              "#9c179e"
             ],
             [
              0.4444444444444444,
              "#bd3786"
             ],
             [
              0.5555555555555556,
              "#d8576b"
             ],
             [
              0.6666666666666666,
              "#ed7953"
             ],
             [
              0.7777777777777778,
              "#fb9f3a"
             ],
             [
              0.8888888888888888,
              "#fdca26"
             ],
             [
              1,
              "#f0f921"
             ]
            ],
            "type": "histogram2d"
           }
          ],
          "histogram2dcontour": [
           {
            "colorbar": {
             "outlinewidth": 0,
             "ticks": ""
            },
            "colorscale": [
             [
              0,
              "#0d0887"
             ],
             [
              0.1111111111111111,
              "#46039f"
             ],
             [
              0.2222222222222222,
              "#7201a8"
             ],
             [
              0.3333333333333333,
              "#9c179e"
             ],
             [
              0.4444444444444444,
              "#bd3786"
             ],
             [
              0.5555555555555556,
              "#d8576b"
             ],
             [
              0.6666666666666666,
              "#ed7953"
             ],
             [
              0.7777777777777778,
              "#fb9f3a"
             ],
             [
              0.8888888888888888,
              "#fdca26"
             ],
             [
              1,
              "#f0f921"
             ]
            ],
            "type": "histogram2dcontour"
           }
          ],
          "mesh3d": [
           {
            "colorbar": {
             "outlinewidth": 0,
             "ticks": ""
            },
            "type": "mesh3d"
           }
          ],
          "parcoords": [
           {
            "line": {
             "colorbar": {
              "outlinewidth": 0,
              "ticks": ""
             }
            },
            "type": "parcoords"
           }
          ],
          "pie": [
           {
            "automargin": true,
            "type": "pie"
           }
          ],
          "scatter": [
           {
            "fillpattern": {
             "fillmode": "overlay",
             "size": 10,
             "solidity": 0.2
            },
            "type": "scatter"
           }
          ],
          "scatter3d": [
           {
            "line": {
             "colorbar": {
              "outlinewidth": 0,
              "ticks": ""
             }
            },
            "marker": {
             "colorbar": {
              "outlinewidth": 0,
              "ticks": ""
             }
            },
            "type": "scatter3d"
           }
          ],
          "scattercarpet": [
           {
            "marker": {
             "colorbar": {
              "outlinewidth": 0,
              "ticks": ""
             }
            },
            "type": "scattercarpet"
           }
          ],
          "scattergeo": [
           {
            "marker": {
             "colorbar": {
              "outlinewidth": 0,
              "ticks": ""
             }
            },
            "type": "scattergeo"
           }
          ],
          "scattergl": [
           {
            "marker": {
             "colorbar": {
              "outlinewidth": 0,
              "ticks": ""
             }
            },
            "type": "scattergl"
           }
          ],
          "scattermapbox": [
           {
            "marker": {
             "colorbar": {
              "outlinewidth": 0,
              "ticks": ""
             }
            },
            "type": "scattermapbox"
           }
          ],
          "scatterpolar": [
           {
            "marker": {
             "colorbar": {
              "outlinewidth": 0,
              "ticks": ""
             }
            },
            "type": "scatterpolar"
           }
          ],
          "scatterpolargl": [
           {
            "marker": {
             "colorbar": {
              "outlinewidth": 0,
              "ticks": ""
             }
            },
            "type": "scatterpolargl"
           }
          ],
          "scatterternary": [
           {
            "marker": {
             "colorbar": {
              "outlinewidth": 0,
              "ticks": ""
             }
            },
            "type": "scatterternary"
           }
          ],
          "surface": [
           {
            "colorbar": {
             "outlinewidth": 0,
             "ticks": ""
            },
            "colorscale": [
             [
              0,
              "#0d0887"
             ],
             [
              0.1111111111111111,
              "#46039f"
             ],
             [
              0.2222222222222222,
              "#7201a8"
             ],
             [
              0.3333333333333333,
              "#9c179e"
             ],
             [
              0.4444444444444444,
              "#bd3786"
             ],
             [
              0.5555555555555556,
              "#d8576b"
             ],
             [
              0.6666666666666666,
              "#ed7953"
             ],
             [
              0.7777777777777778,
              "#fb9f3a"
             ],
             [
              0.8888888888888888,
              "#fdca26"
             ],
             [
              1,
              "#f0f921"
             ]
            ],
            "type": "surface"
           }
          ],
          "table": [
           {
            "cells": {
             "fill": {
              "color": "#EBF0F8"
             },
             "line": {
              "color": "white"
             }
            },
            "header": {
             "fill": {
              "color": "#C8D4E3"
             },
             "line": {
              "color": "white"
             }
            },
            "type": "table"
           }
          ]
         },
         "layout": {
          "annotationdefaults": {
           "arrowcolor": "#2a3f5f",
           "arrowhead": 0,
           "arrowwidth": 1
          },
          "autotypenumbers": "strict",
          "coloraxis": {
           "colorbar": {
            "outlinewidth": 0,
            "ticks": ""
           }
          },
          "colorscale": {
           "diverging": [
            [
             0,
             "#8e0152"
            ],
            [
             0.1,
             "#c51b7d"
            ],
            [
             0.2,
             "#de77ae"
            ],
            [
             0.3,
             "#f1b6da"
            ],
            [
             0.4,
             "#fde0ef"
            ],
            [
             0.5,
             "#f7f7f7"
            ],
            [
             0.6,
             "#e6f5d0"
            ],
            [
             0.7,
             "#b8e186"
            ],
            [
             0.8,
             "#7fbc41"
            ],
            [
             0.9,
             "#4d9221"
            ],
            [
             1,
             "#276419"
            ]
           ],
           "sequential": [
            [
             0,
             "#0d0887"
            ],
            [
             0.1111111111111111,
             "#46039f"
            ],
            [
             0.2222222222222222,
             "#7201a8"
            ],
            [
             0.3333333333333333,
             "#9c179e"
            ],
            [
             0.4444444444444444,
             "#bd3786"
            ],
            [
             0.5555555555555556,
             "#d8576b"
            ],
            [
             0.6666666666666666,
             "#ed7953"
            ],
            [
             0.7777777777777778,
             "#fb9f3a"
            ],
            [
             0.8888888888888888,
             "#fdca26"
            ],
            [
             1,
             "#f0f921"
            ]
           ],
           "sequentialminus": [
            [
             0,
             "#0d0887"
            ],
            [
             0.1111111111111111,
             "#46039f"
            ],
            [
             0.2222222222222222,
             "#7201a8"
            ],
            [
             0.3333333333333333,
             "#9c179e"
            ],
            [
             0.4444444444444444,
             "#bd3786"
            ],
            [
             0.5555555555555556,
             "#d8576b"
            ],
            [
             0.6666666666666666,
             "#ed7953"
            ],
            [
             0.7777777777777778,
             "#fb9f3a"
            ],
            [
             0.8888888888888888,
             "#fdca26"
            ],
            [
             1,
             "#f0f921"
            ]
           ]
          },
          "colorway": [
           "#636efa",
           "#EF553B",
           "#00cc96",
           "#ab63fa",
           "#FFA15A",
           "#19d3f3",
           "#FF6692",
           "#B6E880",
           "#FF97FF",
           "#FECB52"
          ],
          "font": {
           "color": "#2a3f5f"
          },
          "geo": {
           "bgcolor": "white",
           "lakecolor": "white",
           "landcolor": "#E5ECF6",
           "showlakes": true,
           "showland": true,
           "subunitcolor": "white"
          },
          "hoverlabel": {
           "align": "left"
          },
          "hovermode": "closest",
          "mapbox": {
           "style": "light"
          },
          "paper_bgcolor": "white",
          "plot_bgcolor": "#E5ECF6",
          "polar": {
           "angularaxis": {
            "gridcolor": "white",
            "linecolor": "white",
            "ticks": ""
           },
           "bgcolor": "#E5ECF6",
           "radialaxis": {
            "gridcolor": "white",
            "linecolor": "white",
            "ticks": ""
           }
          },
          "scene": {
           "xaxis": {
            "backgroundcolor": "#E5ECF6",
            "gridcolor": "white",
            "gridwidth": 2,
            "linecolor": "white",
            "showbackground": true,
            "ticks": "",
            "zerolinecolor": "white"
           },
           "yaxis": {
            "backgroundcolor": "#E5ECF6",
            "gridcolor": "white",
            "gridwidth": 2,
            "linecolor": "white",
            "showbackground": true,
            "ticks": "",
            "zerolinecolor": "white"
           },
           "zaxis": {
            "backgroundcolor": "#E5ECF6",
            "gridcolor": "white",
            "gridwidth": 2,
            "linecolor": "white",
            "showbackground": true,
            "ticks": "",
            "zerolinecolor": "white"
           }
          },
          "shapedefaults": {
           "line": {
            "color": "#2a3f5f"
           }
          },
          "ternary": {
           "aaxis": {
            "gridcolor": "white",
            "linecolor": "white",
            "ticks": ""
           },
           "baxis": {
            "gridcolor": "white",
            "linecolor": "white",
            "ticks": ""
           },
           "bgcolor": "#E5ECF6",
           "caxis": {
            "gridcolor": "white",
            "linecolor": "white",
            "ticks": ""
           }
          },
          "title": {
           "x": 0.05
          },
          "xaxis": {
           "automargin": true,
           "gridcolor": "white",
           "linecolor": "white",
           "ticks": "",
           "title": {
            "standoff": 15
           },
           "zerolinecolor": "white",
           "zerolinewidth": 2
          },
          "yaxis": {
           "automargin": true,
           "gridcolor": "white",
           "linecolor": "white",
           "ticks": "",
           "title": {
            "standoff": 15
           },
           "zerolinecolor": "white",
           "zerolinewidth": 2
          }
         }
        },
        "title": {
         "text": "Воронка событий: сценарий №3"
        }
       }
      },
      "text/html": [
       "<div>                            <div id=\"e1e085f2-428c-4dfa-b38b-9365468c0ced\" class=\"plotly-graph-div\" style=\"height:525px; width:100%;\"></div>            <script type=\"text/javascript\">                require([\"plotly\"], function(Plotly) {                    window.PLOTLYENV=window.PLOTLYENV || {};                                    if (document.getElementById(\"e1e085f2-428c-4dfa-b38b-9365468c0ced\")) {                    Plotly.newPlot(                        \"e1e085f2-428c-4dfa-b38b-9365468c0ced\",                        [{\"connector\":{\"line\":{\"color\":\"#66c2a5\",\"dash\":\"dot\",\"width\":3}},\"marker\":{\"color\":[\"#66c2a5\",\"#fc8d62\",\"#8da0cb\",\"#e78ac3\"],\"line\":{\"color\":[\"#66c2a5\",\"#fc8d62\",\"#8da0cb\",\"#e78ac3\"],\"width\":[4,2,2,3,1,1]}},\"opacity\":0.65,\"textinfo\":\"value+percent initial\",\"textposition\":\"inside\",\"x\":[1666,463,424,89],\"y\":[\"\\u041f\\u043e\\u0438\\u0441\\u043a \\u043f\\u043e \\u0441\\u0430\\u0439\\u0442\\u0443\",\"\\u041f\\u0440\\u043e\\u0441\\u043c\\u043e\\u0442\\u0440 \\u043a\\u0430\\u0440\\u0442\\u044b \\u043e\\u0431\\u044a\\u044f\\u0432\\u043b\\u0435\\u043d\\u0438\\u0439\",\"\\u041f\\u0440\\u043e\\u0441\\u043c\\u043e\\u0442\\u0440 \\u0440\\u0435\\u043a\\u043e\\u043c\\u0435\\u043d\\u0434\\u0430\\u0446\\u0438\\u0439\",\"\\u041f\\u0440\\u043e\\u0441\\u043c\\u043e\\u0442\\u0440 \\u043a\\u043e\\u043d\\u0442\\u0430\\u043a\\u0442\\u043e\\u0432\"],\"type\":\"funnel\"}],                        {\"template\":{\"data\":{\"histogram2dcontour\":[{\"type\":\"histogram2dcontour\",\"colorbar\":{\"outlinewidth\":0,\"ticks\":\"\"},\"colorscale\":[[0.0,\"#0d0887\"],[0.1111111111111111,\"#46039f\"],[0.2222222222222222,\"#7201a8\"],[0.3333333333333333,\"#9c179e\"],[0.4444444444444444,\"#bd3786\"],[0.5555555555555556,\"#d8576b\"],[0.6666666666666666,\"#ed7953\"],[0.7777777777777778,\"#fb9f3a\"],[0.8888888888888888,\"#fdca26\"],[1.0,\"#f0f921\"]]}],\"choropleth\":[{\"type\":\"choropleth\",\"colorbar\":{\"outlinewidth\":0,\"ticks\":\"\"}}],\"histogram2d\":[{\"type\":\"histogram2d\",\"colorbar\":{\"outlinewidth\":0,\"ticks\":\"\"},\"colorscale\":[[0.0,\"#0d0887\"],[0.1111111111111111,\"#46039f\"],[0.2222222222222222,\"#7201a8\"],[0.3333333333333333,\"#9c179e\"],[0.4444444444444444,\"#bd3786\"],[0.5555555555555556,\"#d8576b\"],[0.6666666666666666,\"#ed7953\"],[0.7777777777777778,\"#fb9f3a\"],[0.8888888888888888,\"#fdca26\"],[1.0,\"#f0f921\"]]}],\"heatmap\":[{\"type\":\"heatmap\",\"colorbar\":{\"outlinewidth\":0,\"ticks\":\"\"},\"colorscale\":[[0.0,\"#0d0887\"],[0.1111111111111111,\"#46039f\"],[0.2222222222222222,\"#7201a8\"],[0.3333333333333333,\"#9c179e\"],[0.4444444444444444,\"#bd3786\"],[0.5555555555555556,\"#d8576b\"],[0.6666666666666666,\"#ed7953\"],[0.7777777777777778,\"#fb9f3a\"],[0.8888888888888888,\"#fdca26\"],[1.0,\"#f0f921\"]]}],\"heatmapgl\":[{\"type\":\"heatmapgl\",\"colorbar\":{\"outlinewidth\":0,\"ticks\":\"\"},\"colorscale\":[[0.0,\"#0d0887\"],[0.1111111111111111,\"#46039f\"],[0.2222222222222222,\"#7201a8\"],[0.3333333333333333,\"#9c179e\"],[0.4444444444444444,\"#bd3786\"],[0.5555555555555556,\"#d8576b\"],[0.6666666666666666,\"#ed7953\"],[0.7777777777777778,\"#fb9f3a\"],[0.8888888888888888,\"#fdca26\"],[1.0,\"#f0f921\"]]}],\"contourcarpet\":[{\"type\":\"contourcarpet\",\"colorbar\":{\"outlinewidth\":0,\"ticks\":\"\"}}],\"contour\":[{\"type\":\"contour\",\"colorbar\":{\"outlinewidth\":0,\"ticks\":\"\"},\"colorscale\":[[0.0,\"#0d0887\"],[0.1111111111111111,\"#46039f\"],[0.2222222222222222,\"#7201a8\"],[0.3333333333333333,\"#9c179e\"],[0.4444444444444444,\"#bd3786\"],[0.5555555555555556,\"#d8576b\"],[0.6666666666666666,\"#ed7953\"],[0.7777777777777778,\"#fb9f3a\"],[0.8888888888888888,\"#fdca26\"],[1.0,\"#f0f921\"]]}],\"surface\":[{\"type\":\"surface\",\"colorbar\":{\"outlinewidth\":0,\"ticks\":\"\"},\"colorscale\":[[0.0,\"#0d0887\"],[0.1111111111111111,\"#46039f\"],[0.2222222222222222,\"#7201a8\"],[0.3333333333333333,\"#9c179e\"],[0.4444444444444444,\"#bd3786\"],[0.5555555555555556,\"#d8576b\"],[0.6666666666666666,\"#ed7953\"],[0.7777777777777778,\"#fb9f3a\"],[0.8888888888888888,\"#fdca26\"],[1.0,\"#f0f921\"]]}],\"mesh3d\":[{\"type\":\"mesh3d\",\"colorbar\":{\"outlinewidth\":0,\"ticks\":\"\"}}],\"scatter\":[{\"fillpattern\":{\"fillmode\":\"overlay\",\"size\":10,\"solidity\":0.2},\"type\":\"scatter\"}],\"parcoords\":[{\"type\":\"parcoords\",\"line\":{\"colorbar\":{\"outlinewidth\":0,\"ticks\":\"\"}}}],\"scatterpolargl\":[{\"type\":\"scatterpolargl\",\"marker\":{\"colorbar\":{\"outlinewidth\":0,\"ticks\":\"\"}}}],\"bar\":[{\"error_x\":{\"color\":\"#2a3f5f\"},\"error_y\":{\"color\":\"#2a3f5f\"},\"marker\":{\"line\":{\"color\":\"#E5ECF6\",\"width\":0.5},\"pattern\":{\"fillmode\":\"overlay\",\"size\":10,\"solidity\":0.2}},\"type\":\"bar\"}],\"scattergeo\":[{\"type\":\"scattergeo\",\"marker\":{\"colorbar\":{\"outlinewidth\":0,\"ticks\":\"\"}}}],\"scatterpolar\":[{\"type\":\"scatterpolar\",\"marker\":{\"colorbar\":{\"outlinewidth\":0,\"ticks\":\"\"}}}],\"histogram\":[{\"marker\":{\"pattern\":{\"fillmode\":\"overlay\",\"size\":10,\"solidity\":0.2}},\"type\":\"histogram\"}],\"scattergl\":[{\"type\":\"scattergl\",\"marker\":{\"colorbar\":{\"outlinewidth\":0,\"ticks\":\"\"}}}],\"scatter3d\":[{\"type\":\"scatter3d\",\"line\":{\"colorbar\":{\"outlinewidth\":0,\"ticks\":\"\"}},\"marker\":{\"colorbar\":{\"outlinewidth\":0,\"ticks\":\"\"}}}],\"scattermapbox\":[{\"type\":\"scattermapbox\",\"marker\":{\"colorbar\":{\"outlinewidth\":0,\"ticks\":\"\"}}}],\"scatterternary\":[{\"type\":\"scatterternary\",\"marker\":{\"colorbar\":{\"outlinewidth\":0,\"ticks\":\"\"}}}],\"scattercarpet\":[{\"type\":\"scattercarpet\",\"marker\":{\"colorbar\":{\"outlinewidth\":0,\"ticks\":\"\"}}}],\"carpet\":[{\"aaxis\":{\"endlinecolor\":\"#2a3f5f\",\"gridcolor\":\"white\",\"linecolor\":\"white\",\"minorgridcolor\":\"white\",\"startlinecolor\":\"#2a3f5f\"},\"baxis\":{\"endlinecolor\":\"#2a3f5f\",\"gridcolor\":\"white\",\"linecolor\":\"white\",\"minorgridcolor\":\"white\",\"startlinecolor\":\"#2a3f5f\"},\"type\":\"carpet\"}],\"table\":[{\"cells\":{\"fill\":{\"color\":\"#EBF0F8\"},\"line\":{\"color\":\"white\"}},\"header\":{\"fill\":{\"color\":\"#C8D4E3\"},\"line\":{\"color\":\"white\"}},\"type\":\"table\"}],\"barpolar\":[{\"marker\":{\"line\":{\"color\":\"#E5ECF6\",\"width\":0.5},\"pattern\":{\"fillmode\":\"overlay\",\"size\":10,\"solidity\":0.2}},\"type\":\"barpolar\"}],\"pie\":[{\"automargin\":true,\"type\":\"pie\"}]},\"layout\":{\"autotypenumbers\":\"strict\",\"colorway\":[\"#636efa\",\"#EF553B\",\"#00cc96\",\"#ab63fa\",\"#FFA15A\",\"#19d3f3\",\"#FF6692\",\"#B6E880\",\"#FF97FF\",\"#FECB52\"],\"font\":{\"color\":\"#2a3f5f\"},\"hovermode\":\"closest\",\"hoverlabel\":{\"align\":\"left\"},\"paper_bgcolor\":\"white\",\"plot_bgcolor\":\"#E5ECF6\",\"polar\":{\"bgcolor\":\"#E5ECF6\",\"angularaxis\":{\"gridcolor\":\"white\",\"linecolor\":\"white\",\"ticks\":\"\"},\"radialaxis\":{\"gridcolor\":\"white\",\"linecolor\":\"white\",\"ticks\":\"\"}},\"ternary\":{\"bgcolor\":\"#E5ECF6\",\"aaxis\":{\"gridcolor\":\"white\",\"linecolor\":\"white\",\"ticks\":\"\"},\"baxis\":{\"gridcolor\":\"white\",\"linecolor\":\"white\",\"ticks\":\"\"},\"caxis\":{\"gridcolor\":\"white\",\"linecolor\":\"white\",\"ticks\":\"\"}},\"coloraxis\":{\"colorbar\":{\"outlinewidth\":0,\"ticks\":\"\"}},\"colorscale\":{\"sequential\":[[0.0,\"#0d0887\"],[0.1111111111111111,\"#46039f\"],[0.2222222222222222,\"#7201a8\"],[0.3333333333333333,\"#9c179e\"],[0.4444444444444444,\"#bd3786\"],[0.5555555555555556,\"#d8576b\"],[0.6666666666666666,\"#ed7953\"],[0.7777777777777778,\"#fb9f3a\"],[0.8888888888888888,\"#fdca26\"],[1.0,\"#f0f921\"]],\"sequentialminus\":[[0.0,\"#0d0887\"],[0.1111111111111111,\"#46039f\"],[0.2222222222222222,\"#7201a8\"],[0.3333333333333333,\"#9c179e\"],[0.4444444444444444,\"#bd3786\"],[0.5555555555555556,\"#d8576b\"],[0.6666666666666666,\"#ed7953\"],[0.7777777777777778,\"#fb9f3a\"],[0.8888888888888888,\"#fdca26\"],[1.0,\"#f0f921\"]],\"diverging\":[[0,\"#8e0152\"],[0.1,\"#c51b7d\"],[0.2,\"#de77ae\"],[0.3,\"#f1b6da\"],[0.4,\"#fde0ef\"],[0.5,\"#f7f7f7\"],[0.6,\"#e6f5d0\"],[0.7,\"#b8e186\"],[0.8,\"#7fbc41\"],[0.9,\"#4d9221\"],[1,\"#276419\"]]},\"xaxis\":{\"gridcolor\":\"white\",\"linecolor\":\"white\",\"ticks\":\"\",\"title\":{\"standoff\":15},\"zerolinecolor\":\"white\",\"automargin\":true,\"zerolinewidth\":2},\"yaxis\":{\"gridcolor\":\"white\",\"linecolor\":\"white\",\"ticks\":\"\",\"title\":{\"standoff\":15},\"zerolinecolor\":\"white\",\"automargin\":true,\"zerolinewidth\":2},\"scene\":{\"xaxis\":{\"backgroundcolor\":\"#E5ECF6\",\"gridcolor\":\"white\",\"linecolor\":\"white\",\"showbackground\":true,\"ticks\":\"\",\"zerolinecolor\":\"white\",\"gridwidth\":2},\"yaxis\":{\"backgroundcolor\":\"#E5ECF6\",\"gridcolor\":\"white\",\"linecolor\":\"white\",\"showbackground\":true,\"ticks\":\"\",\"zerolinecolor\":\"white\",\"gridwidth\":2},\"zaxis\":{\"backgroundcolor\":\"#E5ECF6\",\"gridcolor\":\"white\",\"linecolor\":\"white\",\"showbackground\":true,\"ticks\":\"\",\"zerolinecolor\":\"white\",\"gridwidth\":2}},\"shapedefaults\":{\"line\":{\"color\":\"#2a3f5f\"}},\"annotationdefaults\":{\"arrowcolor\":\"#2a3f5f\",\"arrowhead\":0,\"arrowwidth\":1},\"geo\":{\"bgcolor\":\"white\",\"landcolor\":\"#E5ECF6\",\"subunitcolor\":\"white\",\"showland\":true,\"showlakes\":true,\"lakecolor\":\"white\"},\"title\":{\"x\":0.05},\"mapbox\":{\"style\":\"light\"}}},\"title\":{\"text\":\"\\u0412\\u043e\\u0440\\u043e\\u043d\\u043a\\u0430 \\u0441\\u043e\\u0431\\u044b\\u0442\\u0438\\u0439: \\u0441\\u0446\\u0435\\u043d\\u0430\\u0440\\u0438\\u0439 \\u21163\"}},                        {\"responsive\": true}                    ).then(function(){\n",
       "                            \n",
       "var gd = document.getElementById('e1e085f2-428c-4dfa-b38b-9365468c0ced');\n",
       "var x = new MutationObserver(function (mutations, observer) {{\n",
       "        var display = window.getComputedStyle(gd).display;\n",
       "        if (!display || display === 'none') {{\n",
       "            console.log([gd, 'removed!']);\n",
       "            Plotly.purge(gd);\n",
       "            observer.disconnect();\n",
       "        }}\n",
       "}});\n",
       "\n",
       "// Listen for the removal of the full notebook cells\n",
       "var notebookContainer = gd.closest('#notebook-container');\n",
       "if (notebookContainer) {{\n",
       "    x.observe(notebookContainer, {childList: true});\n",
       "}}\n",
       "\n",
       "// Listen for the clearing of the current output cell\n",
       "var outputEl = gd.closest('.output');\n",
       "if (outputEl) {{\n",
       "    x.observe(outputEl, {childList: true});\n",
       "}}\n",
       "\n",
       "                        })                };                });            </script>        </div>"
      ]
     },
     "metadata": {},
     "output_type": "display_data"
    }
   ],
   "source": [
    "fig = go.Figure(go.Funnel(\n",
    "    y=[\"Поиск по сайту\", \"Просмотр карты объявлений\",\n",
    "       \"Просмотр рекомендаций\",\"Просмотр контактов\"],\n",
    "    x=[len(search_users1),len(map_users1), len(tip_show_users2), len(contacts_show_users2)],\n",
    "    textposition = \"inside\",\n",
    "    textinfo = \"value+percent initial\",\n",
    "    opacity = 0.65, marker = {\"color\": [\"#66c2a5\", \"#fc8d62\", \"#8da0cb\",\"#e78ac3\"],\n",
    "    \"line\": {\"width\": [4, 2, 2, 3, 1, 1], \"color\": [\"#66c2a5\", \"#fc8d62\", \"#8da0cb\", \"#e78ac3\"]}},\n",
    "    connector = {\"line\": {\"color\": \"#66c2a5\", \"dash\": \"dot\", \"width\": 3}})\n",
    "    )\n",
    "fig.update_layout(title='Воронка событий: сценарий №3')\n",
    "fig.show()"
   ]
  },
  {
   "cell_type": "markdown",
   "id": "fa5f346a",
   "metadata": {},
   "source": [
    "** Из тех, кто сделал данное действие, 91% переходят к просмотру рекомендаций. Лишь 5% всех пользователей, действующих по этому сценарию, доходят до просмотра контактов.**По третьему сценарию (search-activity - map - tips show - contacts show) лишь 28% после поиска по сайту просматривают карту объявлений."
   ]
  },
  {
   "cell_type": "markdown",
   "id": "b410fe2f",
   "metadata": {},
   "source": [
    "    В результате анализа воронок событий можно прийти к следующим выводам:\n",
    "        -происходит большой отток пользователей на этапе поиска по сайту и просмотра карты объявлений;\n",
    "        -многие пользователи, увидев рекомендации, так и не переходят на страницу объявления, и ,следовательно, не \n",
    "        просматривают контакты (целевое действие);\n",
    "        -из изученных сценариев выделается первый: по нему конверсия в целевое действие в более чем 2 раза выше, чем \n",
    "        при остальных сценариях. "
   ]
  },
  {
   "cell_type": "markdown",
   "id": "40bfff9b",
   "metadata": {},
   "source": [
    "## Статистический анализ"
   ]
  },
  {
   "cell_type": "markdown",
   "id": "a2cf4621",
   "metadata": {},
   "source": [
    "### Проверка гиптезы №1"
   ]
  },
  {
   "cell_type": "markdown",
   "id": "77173672",
   "metadata": {},
   "source": [
    "    Нулевая гипотеза - \"конверсия у пользователей, совершающих действия и tips_show и tips_click, и тех, кто, кто совершает только tips_show, одинакова\"; \n",
    "    Альтернативная гипотеза -  \"конверсия в просмотры контактов различается у пользователей, совершающих действия и \n",
    "    tips_show и tips_click, и тех, кто, кто совершает только tips_show\"."
   ]
  },
  {
   "cell_type": "markdown",
   "id": "7c923649",
   "metadata": {},
   "source": [
    "**Сначала узнаем количество пользователей, совершивших действие tips_show (увидели рекомендованные объявления).**"
   ]
  },
  {
   "cell_type": "code",
   "execution_count": 57,
   "id": "f47b9438",
   "metadata": {},
   "outputs": [
    {
     "name": "stdout",
     "output_type": "stream",
     "text": [
      "Количество пользователей, увидевших рекомендованные объявления: 2801\n"
     ]
    }
   ],
   "source": [
    "tips_show_only_users = data.query('event_name == \"tips_show\"')['user_id'].unique().tolist()\n",
    "print('Количество пользователей, увидевших рекомендованные объявления:', len(tips_show_only_users))"
   ]
  },
  {
   "cell_type": "markdown",
   "id": "9e721b38",
   "metadata": {},
   "source": [
    "**Теперь выявим количество пользователей, кто и увидел рекомендации, и перешел на страницу с ними и при этом дошел до целевого действия.**"
   ]
  },
  {
   "cell_type": "code",
   "execution_count": 58,
   "id": "d9048daf",
   "metadata": {},
   "outputs": [
    {
     "name": "stdout",
     "output_type": "stream",
     "text": [
      "Количество пользователей, увидевших рекомендованные объявления и перешедших на страницу с ними: 297\n"
     ]
    }
   ],
   "source": [
    "tips_show_click_users_info = data.query('event_name ==\"tips_click\" and user_id == @tips_show_only_users')['user_id'].unique().tolist()\n",
    "print('Количество пользователей, увидевших рекомендованные объявления и перешедших на страницу с ними:', len(tips_show_click_users_info))"
   ]
  },
  {
   "cell_type": "markdown",
   "id": "ab2a5bfc",
   "metadata": {},
   "source": [
    "**Построим сводную таблицу для того, чтобы рассчитать конверсию в целевое действие у пользователей, совершивших и tips_show, и tips_click.**"
   ]
  },
  {
   "cell_type": "code",
   "execution_count": 59,
   "id": "70544b9f",
   "metadata": {},
   "outputs": [
    {
     "data": {
      "text/html": [
       "<div>\n",
       "<style scoped>\n",
       "    .dataframe tbody tr th:only-of-type {\n",
       "        vertical-align: middle;\n",
       "    }\n",
       "\n",
       "    .dataframe tbody tr th {\n",
       "        vertical-align: top;\n",
       "    }\n",
       "\n",
       "    .dataframe thead th {\n",
       "        text-align: right;\n",
       "    }\n",
       "</style>\n",
       "<table border=\"1\" class=\"dataframe\">\n",
       "  <thead>\n",
       "    <tr style=\"text-align: right;\">\n",
       "      <th></th>\n",
       "      <th>event_name</th>\n",
       "      <th>user_id</th>\n",
       "      <th>perc</th>\n",
       "      <th>stage_loss</th>\n",
       "    </tr>\n",
       "  </thead>\n",
       "  <tbody>\n",
       "    <tr>\n",
       "      <th>0</th>\n",
       "      <td>tips_click</td>\n",
       "      <td>297</td>\n",
       "      <td>6.92</td>\n",
       "      <td>93.08</td>\n",
       "    </tr>\n",
       "    <tr>\n",
       "      <th>1</th>\n",
       "      <td>tips_show</td>\n",
       "      <td>297</td>\n",
       "      <td>6.92</td>\n",
       "      <td>93.08</td>\n",
       "    </tr>\n",
       "    <tr>\n",
       "      <th>2</th>\n",
       "      <td>map</td>\n",
       "      <td>140</td>\n",
       "      <td>3.26</td>\n",
       "      <td>96.74</td>\n",
       "    </tr>\n",
       "    <tr>\n",
       "      <th>3</th>\n",
       "      <td>contacts_show</td>\n",
       "      <td>91</td>\n",
       "      <td>2.12</td>\n",
       "      <td>97.88</td>\n",
       "    </tr>\n",
       "    <tr>\n",
       "      <th>4</th>\n",
       "      <td>search</td>\n",
       "      <td>74</td>\n",
       "      <td>1.72</td>\n",
       "      <td>98.28</td>\n",
       "    </tr>\n",
       "    <tr>\n",
       "      <th>5</th>\n",
       "      <td>advert_open</td>\n",
       "      <td>58</td>\n",
       "      <td>1.35</td>\n",
       "      <td>98.65</td>\n",
       "    </tr>\n",
       "    <tr>\n",
       "      <th>6</th>\n",
       "      <td>favorites_add</td>\n",
       "      <td>28</td>\n",
       "      <td>0.65</td>\n",
       "      <td>99.35</td>\n",
       "    </tr>\n",
       "    <tr>\n",
       "      <th>7</th>\n",
       "      <td>photos_show</td>\n",
       "      <td>4</td>\n",
       "      <td>0.09</td>\n",
       "      <td>99.91</td>\n",
       "    </tr>\n",
       "  </tbody>\n",
       "</table>\n",
       "</div>"
      ],
      "text/plain": [
       "      event_name  user_id  perc  stage_loss\n",
       "0     tips_click      297  6.92       93.08\n",
       "1      tips_show      297  6.92       93.08\n",
       "2            map      140  3.26       96.74\n",
       "3  contacts_show       91  2.12       97.88\n",
       "4         search       74  1.72       98.28\n",
       "5    advert_open       58  1.35       98.65\n",
       "6  favorites_add       28  0.65       99.35\n",
       "7    photos_show        4  0.09       99.91"
      ]
     },
     "execution_count": 59,
     "metadata": {},
     "output_type": "execute_result"
    }
   ],
   "source": [
    "tips_click_show = data.query('user_id == @tips_show_click_users_info')\n",
    "tips_click_show_conversion = tips_click_show.pivot_table(index='event_name',\n",
    "                                                        values='user_id',\n",
    "                                                        aggfunc='nunique').sort_values(by='user_id',ascending=False).reset_index()\n",
    "tips_click_show_conversion['perc'] = round(tips_click_show_conversion['user_id'] / data['user_id'].nunique() * 100, 2)\n",
    "tips_click_show_conversion['stage_loss'] = 100 - tips_click_show_conversion['perc']\n",
    "tips_click_show_conversion "
   ]
  },
  {
   "cell_type": "code",
   "execution_count": 60,
   "id": "47592d23",
   "metadata": {},
   "outputs": [
    {
     "data": {
      "application/vnd.plotly.v1+json": {
       "config": {
        "plotlyServerURL": "https://plot.ly"
       },
       "data": [
        {
         "connector": {
          "line": {
           "color": "#66c2a5",
           "dash": "dot",
           "width": 3
          }
         },
         "marker": {
          "color": [
           "#66c2a5",
           "#fc8d62",
           "#8da0cb",
           "#e78ac3"
          ],
          "line": {
           "color": [
            "#66c2a5",
            "#fc8d62",
            "#8da0cb",
            "#e78ac3"
           ],
           "width": [
            4,
            2,
            2,
            3,
            1,
            1
           ]
          }
         },
         "opacity": 0.65,
         "textinfo": "value+percent initial",
         "textposition": "inside",
         "type": "funnel",
         "x": [
          297,
          297,
          140,
          91
         ],
         "y": [
          "Просмотр рекомендации",
          "Переход на страницу рекомендованного объявления",
          "Просмотр карты объявлений",
          "Просмотр контактов"
         ]
        }
       ],
       "layout": {
        "template": {
         "data": {
          "bar": [
           {
            "error_x": {
             "color": "#2a3f5f"
            },
            "error_y": {
             "color": "#2a3f5f"
            },
            "marker": {
             "line": {
              "color": "#E5ECF6",
              "width": 0.5
             },
             "pattern": {
              "fillmode": "overlay",
              "size": 10,
              "solidity": 0.2
             }
            },
            "type": "bar"
           }
          ],
          "barpolar": [
           {
            "marker": {
             "line": {
              "color": "#E5ECF6",
              "width": 0.5
             },
             "pattern": {
              "fillmode": "overlay",
              "size": 10,
              "solidity": 0.2
             }
            },
            "type": "barpolar"
           }
          ],
          "carpet": [
           {
            "aaxis": {
             "endlinecolor": "#2a3f5f",
             "gridcolor": "white",
             "linecolor": "white",
             "minorgridcolor": "white",
             "startlinecolor": "#2a3f5f"
            },
            "baxis": {
             "endlinecolor": "#2a3f5f",
             "gridcolor": "white",
             "linecolor": "white",
             "minorgridcolor": "white",
             "startlinecolor": "#2a3f5f"
            },
            "type": "carpet"
           }
          ],
          "choropleth": [
           {
            "colorbar": {
             "outlinewidth": 0,
             "ticks": ""
            },
            "type": "choropleth"
           }
          ],
          "contour": [
           {
            "colorbar": {
             "outlinewidth": 0,
             "ticks": ""
            },
            "colorscale": [
             [
              0,
              "#0d0887"
             ],
             [
              0.1111111111111111,
              "#46039f"
             ],
             [
              0.2222222222222222,
              "#7201a8"
             ],
             [
              0.3333333333333333,
              "#9c179e"
             ],
             [
              0.4444444444444444,
              "#bd3786"
             ],
             [
              0.5555555555555556,
              "#d8576b"
             ],
             [
              0.6666666666666666,
              "#ed7953"
             ],
             [
              0.7777777777777778,
              "#fb9f3a"
             ],
             [
              0.8888888888888888,
              "#fdca26"
             ],
             [
              1,
              "#f0f921"
             ]
            ],
            "type": "contour"
           }
          ],
          "contourcarpet": [
           {
            "colorbar": {
             "outlinewidth": 0,
             "ticks": ""
            },
            "type": "contourcarpet"
           }
          ],
          "heatmap": [
           {
            "colorbar": {
             "outlinewidth": 0,
             "ticks": ""
            },
            "colorscale": [
             [
              0,
              "#0d0887"
             ],
             [
              0.1111111111111111,
              "#46039f"
             ],
             [
              0.2222222222222222,
              "#7201a8"
             ],
             [
              0.3333333333333333,
              "#9c179e"
             ],
             [
              0.4444444444444444,
              "#bd3786"
             ],
             [
              0.5555555555555556,
              "#d8576b"
             ],
             [
              0.6666666666666666,
              "#ed7953"
             ],
             [
              0.7777777777777778,
              "#fb9f3a"
             ],
             [
              0.8888888888888888,
              "#fdca26"
             ],
             [
              1,
              "#f0f921"
             ]
            ],
            "type": "heatmap"
           }
          ],
          "heatmapgl": [
           {
            "colorbar": {
             "outlinewidth": 0,
             "ticks": ""
            },
            "colorscale": [
             [
              0,
              "#0d0887"
             ],
             [
              0.1111111111111111,
              "#46039f"
             ],
             [
              0.2222222222222222,
              "#7201a8"
             ],
             [
              0.3333333333333333,
              "#9c179e"
             ],
             [
              0.4444444444444444,
              "#bd3786"
             ],
             [
              0.5555555555555556,
              "#d8576b"
             ],
             [
              0.6666666666666666,
              "#ed7953"
             ],
             [
              0.7777777777777778,
              "#fb9f3a"
             ],
             [
              0.8888888888888888,
              "#fdca26"
             ],
             [
              1,
              "#f0f921"
             ]
            ],
            "type": "heatmapgl"
           }
          ],
          "histogram": [
           {
            "marker": {
             "pattern": {
              "fillmode": "overlay",
              "size": 10,
              "solidity": 0.2
             }
            },
            "type": "histogram"
           }
          ],
          "histogram2d": [
           {
            "colorbar": {
             "outlinewidth": 0,
             "ticks": ""
            },
            "colorscale": [
             [
              0,
              "#0d0887"
             ],
             [
              0.1111111111111111,
              "#46039f"
             ],
             [
              0.2222222222222222,
              "#7201a8"
             ],
             [
              0.3333333333333333,
              "#9c179e"
             ],
             [
              0.4444444444444444,
              "#bd3786"
             ],
             [
              0.5555555555555556,
              "#d8576b"
             ],
             [
              0.6666666666666666,
              "#ed7953"
             ],
             [
              0.7777777777777778,
              "#fb9f3a"
             ],
             [
              0.8888888888888888,
              "#fdca26"
             ],
             [
              1,
              "#f0f921"
             ]
            ],
            "type": "histogram2d"
           }
          ],
          "histogram2dcontour": [
           {
            "colorbar": {
             "outlinewidth": 0,
             "ticks": ""
            },
            "colorscale": [
             [
              0,
              "#0d0887"
             ],
             [
              0.1111111111111111,
              "#46039f"
             ],
             [
              0.2222222222222222,
              "#7201a8"
             ],
             [
              0.3333333333333333,
              "#9c179e"
             ],
             [
              0.4444444444444444,
              "#bd3786"
             ],
             [
              0.5555555555555556,
              "#d8576b"
             ],
             [
              0.6666666666666666,
              "#ed7953"
             ],
             [
              0.7777777777777778,
              "#fb9f3a"
             ],
             [
              0.8888888888888888,
              "#fdca26"
             ],
             [
              1,
              "#f0f921"
             ]
            ],
            "type": "histogram2dcontour"
           }
          ],
          "mesh3d": [
           {
            "colorbar": {
             "outlinewidth": 0,
             "ticks": ""
            },
            "type": "mesh3d"
           }
          ],
          "parcoords": [
           {
            "line": {
             "colorbar": {
              "outlinewidth": 0,
              "ticks": ""
             }
            },
            "type": "parcoords"
           }
          ],
          "pie": [
           {
            "automargin": true,
            "type": "pie"
           }
          ],
          "scatter": [
           {
            "fillpattern": {
             "fillmode": "overlay",
             "size": 10,
             "solidity": 0.2
            },
            "type": "scatter"
           }
          ],
          "scatter3d": [
           {
            "line": {
             "colorbar": {
              "outlinewidth": 0,
              "ticks": ""
             }
            },
            "marker": {
             "colorbar": {
              "outlinewidth": 0,
              "ticks": ""
             }
            },
            "type": "scatter3d"
           }
          ],
          "scattercarpet": [
           {
            "marker": {
             "colorbar": {
              "outlinewidth": 0,
              "ticks": ""
             }
            },
            "type": "scattercarpet"
           }
          ],
          "scattergeo": [
           {
            "marker": {
             "colorbar": {
              "outlinewidth": 0,
              "ticks": ""
             }
            },
            "type": "scattergeo"
           }
          ],
          "scattergl": [
           {
            "marker": {
             "colorbar": {
              "outlinewidth": 0,
              "ticks": ""
             }
            },
            "type": "scattergl"
           }
          ],
          "scattermapbox": [
           {
            "marker": {
             "colorbar": {
              "outlinewidth": 0,
              "ticks": ""
             }
            },
            "type": "scattermapbox"
           }
          ],
          "scatterpolar": [
           {
            "marker": {
             "colorbar": {
              "outlinewidth": 0,
              "ticks": ""
             }
            },
            "type": "scatterpolar"
           }
          ],
          "scatterpolargl": [
           {
            "marker": {
             "colorbar": {
              "outlinewidth": 0,
              "ticks": ""
             }
            },
            "type": "scatterpolargl"
           }
          ],
          "scatterternary": [
           {
            "marker": {
             "colorbar": {
              "outlinewidth": 0,
              "ticks": ""
             }
            },
            "type": "scatterternary"
           }
          ],
          "surface": [
           {
            "colorbar": {
             "outlinewidth": 0,
             "ticks": ""
            },
            "colorscale": [
             [
              0,
              "#0d0887"
             ],
             [
              0.1111111111111111,
              "#46039f"
             ],
             [
              0.2222222222222222,
              "#7201a8"
             ],
             [
              0.3333333333333333,
              "#9c179e"
             ],
             [
              0.4444444444444444,
              "#bd3786"
             ],
             [
              0.5555555555555556,
              "#d8576b"
             ],
             [
              0.6666666666666666,
              "#ed7953"
             ],
             [
              0.7777777777777778,
              "#fb9f3a"
             ],
             [
              0.8888888888888888,
              "#fdca26"
             ],
             [
              1,
              "#f0f921"
             ]
            ],
            "type": "surface"
           }
          ],
          "table": [
           {
            "cells": {
             "fill": {
              "color": "#EBF0F8"
             },
             "line": {
              "color": "white"
             }
            },
            "header": {
             "fill": {
              "color": "#C8D4E3"
             },
             "line": {
              "color": "white"
             }
            },
            "type": "table"
           }
          ]
         },
         "layout": {
          "annotationdefaults": {
           "arrowcolor": "#2a3f5f",
           "arrowhead": 0,
           "arrowwidth": 1
          },
          "autotypenumbers": "strict",
          "coloraxis": {
           "colorbar": {
            "outlinewidth": 0,
            "ticks": ""
           }
          },
          "colorscale": {
           "diverging": [
            [
             0,
             "#8e0152"
            ],
            [
             0.1,
             "#c51b7d"
            ],
            [
             0.2,
             "#de77ae"
            ],
            [
             0.3,
             "#f1b6da"
            ],
            [
             0.4,
             "#fde0ef"
            ],
            [
             0.5,
             "#f7f7f7"
            ],
            [
             0.6,
             "#e6f5d0"
            ],
            [
             0.7,
             "#b8e186"
            ],
            [
             0.8,
             "#7fbc41"
            ],
            [
             0.9,
             "#4d9221"
            ],
            [
             1,
             "#276419"
            ]
           ],
           "sequential": [
            [
             0,
             "#0d0887"
            ],
            [
             0.1111111111111111,
             "#46039f"
            ],
            [
             0.2222222222222222,
             "#7201a8"
            ],
            [
             0.3333333333333333,
             "#9c179e"
            ],
            [
             0.4444444444444444,
             "#bd3786"
            ],
            [
             0.5555555555555556,
             "#d8576b"
            ],
            [
             0.6666666666666666,
             "#ed7953"
            ],
            [
             0.7777777777777778,
             "#fb9f3a"
            ],
            [
             0.8888888888888888,
             "#fdca26"
            ],
            [
             1,
             "#f0f921"
            ]
           ],
           "sequentialminus": [
            [
             0,
             "#0d0887"
            ],
            [
             0.1111111111111111,
             "#46039f"
            ],
            [
             0.2222222222222222,
             "#7201a8"
            ],
            [
             0.3333333333333333,
             "#9c179e"
            ],
            [
             0.4444444444444444,
             "#bd3786"
            ],
            [
             0.5555555555555556,
             "#d8576b"
            ],
            [
             0.6666666666666666,
             "#ed7953"
            ],
            [
             0.7777777777777778,
             "#fb9f3a"
            ],
            [
             0.8888888888888888,
             "#fdca26"
            ],
            [
             1,
             "#f0f921"
            ]
           ]
          },
          "colorway": [
           "#636efa",
           "#EF553B",
           "#00cc96",
           "#ab63fa",
           "#FFA15A",
           "#19d3f3",
           "#FF6692",
           "#B6E880",
           "#FF97FF",
           "#FECB52"
          ],
          "font": {
           "color": "#2a3f5f"
          },
          "geo": {
           "bgcolor": "white",
           "lakecolor": "white",
           "landcolor": "#E5ECF6",
           "showlakes": true,
           "showland": true,
           "subunitcolor": "white"
          },
          "hoverlabel": {
           "align": "left"
          },
          "hovermode": "closest",
          "mapbox": {
           "style": "light"
          },
          "paper_bgcolor": "white",
          "plot_bgcolor": "#E5ECF6",
          "polar": {
           "angularaxis": {
            "gridcolor": "white",
            "linecolor": "white",
            "ticks": ""
           },
           "bgcolor": "#E5ECF6",
           "radialaxis": {
            "gridcolor": "white",
            "linecolor": "white",
            "ticks": ""
           }
          },
          "scene": {
           "xaxis": {
            "backgroundcolor": "#E5ECF6",
            "gridcolor": "white",
            "gridwidth": 2,
            "linecolor": "white",
            "showbackground": true,
            "ticks": "",
            "zerolinecolor": "white"
           },
           "yaxis": {
            "backgroundcolor": "#E5ECF6",
            "gridcolor": "white",
            "gridwidth": 2,
            "linecolor": "white",
            "showbackground": true,
            "ticks": "",
            "zerolinecolor": "white"
           },
           "zaxis": {
            "backgroundcolor": "#E5ECF6",
            "gridcolor": "white",
            "gridwidth": 2,
            "linecolor": "white",
            "showbackground": true,
            "ticks": "",
            "zerolinecolor": "white"
           }
          },
          "shapedefaults": {
           "line": {
            "color": "#2a3f5f"
           }
          },
          "ternary": {
           "aaxis": {
            "gridcolor": "white",
            "linecolor": "white",
            "ticks": ""
           },
           "baxis": {
            "gridcolor": "white",
            "linecolor": "white",
            "ticks": ""
           },
           "bgcolor": "#E5ECF6",
           "caxis": {
            "gridcolor": "white",
            "linecolor": "white",
            "ticks": ""
           }
          },
          "title": {
           "x": 0.05
          },
          "xaxis": {
           "automargin": true,
           "gridcolor": "white",
           "linecolor": "white",
           "ticks": "",
           "title": {
            "standoff": 15
           },
           "zerolinecolor": "white",
           "zerolinewidth": 2
          },
          "yaxis": {
           "automargin": true,
           "gridcolor": "white",
           "linecolor": "white",
           "ticks": "",
           "title": {
            "standoff": 15
           },
           "zerolinecolor": "white",
           "zerolinewidth": 2
          }
         }
        },
        "title": {
         "text": "Воронка событий: пользователи,совершившие и tips_show, и tips_click"
        }
       }
      },
      "text/html": [
       "<div>                            <div id=\"70130a20-644d-4f42-bfc8-c8b22adabcc6\" class=\"plotly-graph-div\" style=\"height:525px; width:100%;\"></div>            <script type=\"text/javascript\">                require([\"plotly\"], function(Plotly) {                    window.PLOTLYENV=window.PLOTLYENV || {};                                    if (document.getElementById(\"70130a20-644d-4f42-bfc8-c8b22adabcc6\")) {                    Plotly.newPlot(                        \"70130a20-644d-4f42-bfc8-c8b22adabcc6\",                        [{\"connector\":{\"line\":{\"color\":\"#66c2a5\",\"dash\":\"dot\",\"width\":3}},\"marker\":{\"color\":[\"#66c2a5\",\"#fc8d62\",\"#8da0cb\",\"#e78ac3\"],\"line\":{\"color\":[\"#66c2a5\",\"#fc8d62\",\"#8da0cb\",\"#e78ac3\"],\"width\":[4,2,2,3,1,1]}},\"opacity\":0.65,\"textinfo\":\"value+percent initial\",\"textposition\":\"inside\",\"x\":[297,297,140,91],\"y\":[\"\\u041f\\u0440\\u043e\\u0441\\u043c\\u043e\\u0442\\u0440 \\u0440\\u0435\\u043a\\u043e\\u043c\\u0435\\u043d\\u0434\\u0430\\u0446\\u0438\\u0438\",\"\\u041f\\u0435\\u0440\\u0435\\u0445\\u043e\\u0434 \\u043d\\u0430 \\u0441\\u0442\\u0440\\u0430\\u043d\\u0438\\u0446\\u0443 \\u0440\\u0435\\u043a\\u043e\\u043c\\u0435\\u043d\\u0434\\u043e\\u0432\\u0430\\u043d\\u043d\\u043e\\u0433\\u043e \\u043e\\u0431\\u044a\\u044f\\u0432\\u043b\\u0435\\u043d\\u0438\\u044f\",\"\\u041f\\u0440\\u043e\\u0441\\u043c\\u043e\\u0442\\u0440 \\u043a\\u0430\\u0440\\u0442\\u044b \\u043e\\u0431\\u044a\\u044f\\u0432\\u043b\\u0435\\u043d\\u0438\\u0439\",\"\\u041f\\u0440\\u043e\\u0441\\u043c\\u043e\\u0442\\u0440 \\u043a\\u043e\\u043d\\u0442\\u0430\\u043a\\u0442\\u043e\\u0432\"],\"type\":\"funnel\"}],                        {\"template\":{\"data\":{\"histogram2dcontour\":[{\"type\":\"histogram2dcontour\",\"colorbar\":{\"outlinewidth\":0,\"ticks\":\"\"},\"colorscale\":[[0.0,\"#0d0887\"],[0.1111111111111111,\"#46039f\"],[0.2222222222222222,\"#7201a8\"],[0.3333333333333333,\"#9c179e\"],[0.4444444444444444,\"#bd3786\"],[0.5555555555555556,\"#d8576b\"],[0.6666666666666666,\"#ed7953\"],[0.7777777777777778,\"#fb9f3a\"],[0.8888888888888888,\"#fdca26\"],[1.0,\"#f0f921\"]]}],\"choropleth\":[{\"type\":\"choropleth\",\"colorbar\":{\"outlinewidth\":0,\"ticks\":\"\"}}],\"histogram2d\":[{\"type\":\"histogram2d\",\"colorbar\":{\"outlinewidth\":0,\"ticks\":\"\"},\"colorscale\":[[0.0,\"#0d0887\"],[0.1111111111111111,\"#46039f\"],[0.2222222222222222,\"#7201a8\"],[0.3333333333333333,\"#9c179e\"],[0.4444444444444444,\"#bd3786\"],[0.5555555555555556,\"#d8576b\"],[0.6666666666666666,\"#ed7953\"],[0.7777777777777778,\"#fb9f3a\"],[0.8888888888888888,\"#fdca26\"],[1.0,\"#f0f921\"]]}],\"heatmap\":[{\"type\":\"heatmap\",\"colorbar\":{\"outlinewidth\":0,\"ticks\":\"\"},\"colorscale\":[[0.0,\"#0d0887\"],[0.1111111111111111,\"#46039f\"],[0.2222222222222222,\"#7201a8\"],[0.3333333333333333,\"#9c179e\"],[0.4444444444444444,\"#bd3786\"],[0.5555555555555556,\"#d8576b\"],[0.6666666666666666,\"#ed7953\"],[0.7777777777777778,\"#fb9f3a\"],[0.8888888888888888,\"#fdca26\"],[1.0,\"#f0f921\"]]}],\"heatmapgl\":[{\"type\":\"heatmapgl\",\"colorbar\":{\"outlinewidth\":0,\"ticks\":\"\"},\"colorscale\":[[0.0,\"#0d0887\"],[0.1111111111111111,\"#46039f\"],[0.2222222222222222,\"#7201a8\"],[0.3333333333333333,\"#9c179e\"],[0.4444444444444444,\"#bd3786\"],[0.5555555555555556,\"#d8576b\"],[0.6666666666666666,\"#ed7953\"],[0.7777777777777778,\"#fb9f3a\"],[0.8888888888888888,\"#fdca26\"],[1.0,\"#f0f921\"]]}],\"contourcarpet\":[{\"type\":\"contourcarpet\",\"colorbar\":{\"outlinewidth\":0,\"ticks\":\"\"}}],\"contour\":[{\"type\":\"contour\",\"colorbar\":{\"outlinewidth\":0,\"ticks\":\"\"},\"colorscale\":[[0.0,\"#0d0887\"],[0.1111111111111111,\"#46039f\"],[0.2222222222222222,\"#7201a8\"],[0.3333333333333333,\"#9c179e\"],[0.4444444444444444,\"#bd3786\"],[0.5555555555555556,\"#d8576b\"],[0.6666666666666666,\"#ed7953\"],[0.7777777777777778,\"#fb9f3a\"],[0.8888888888888888,\"#fdca26\"],[1.0,\"#f0f921\"]]}],\"surface\":[{\"type\":\"surface\",\"colorbar\":{\"outlinewidth\":0,\"ticks\":\"\"},\"colorscale\":[[0.0,\"#0d0887\"],[0.1111111111111111,\"#46039f\"],[0.2222222222222222,\"#7201a8\"],[0.3333333333333333,\"#9c179e\"],[0.4444444444444444,\"#bd3786\"],[0.5555555555555556,\"#d8576b\"],[0.6666666666666666,\"#ed7953\"],[0.7777777777777778,\"#fb9f3a\"],[0.8888888888888888,\"#fdca26\"],[1.0,\"#f0f921\"]]}],\"mesh3d\":[{\"type\":\"mesh3d\",\"colorbar\":{\"outlinewidth\":0,\"ticks\":\"\"}}],\"scatter\":[{\"fillpattern\":{\"fillmode\":\"overlay\",\"size\":10,\"solidity\":0.2},\"type\":\"scatter\"}],\"parcoords\":[{\"type\":\"parcoords\",\"line\":{\"colorbar\":{\"outlinewidth\":0,\"ticks\":\"\"}}}],\"scatterpolargl\":[{\"type\":\"scatterpolargl\",\"marker\":{\"colorbar\":{\"outlinewidth\":0,\"ticks\":\"\"}}}],\"bar\":[{\"error_x\":{\"color\":\"#2a3f5f\"},\"error_y\":{\"color\":\"#2a3f5f\"},\"marker\":{\"line\":{\"color\":\"#E5ECF6\",\"width\":0.5},\"pattern\":{\"fillmode\":\"overlay\",\"size\":10,\"solidity\":0.2}},\"type\":\"bar\"}],\"scattergeo\":[{\"type\":\"scattergeo\",\"marker\":{\"colorbar\":{\"outlinewidth\":0,\"ticks\":\"\"}}}],\"scatterpolar\":[{\"type\":\"scatterpolar\",\"marker\":{\"colorbar\":{\"outlinewidth\":0,\"ticks\":\"\"}}}],\"histogram\":[{\"marker\":{\"pattern\":{\"fillmode\":\"overlay\",\"size\":10,\"solidity\":0.2}},\"type\":\"histogram\"}],\"scattergl\":[{\"type\":\"scattergl\",\"marker\":{\"colorbar\":{\"outlinewidth\":0,\"ticks\":\"\"}}}],\"scatter3d\":[{\"type\":\"scatter3d\",\"line\":{\"colorbar\":{\"outlinewidth\":0,\"ticks\":\"\"}},\"marker\":{\"colorbar\":{\"outlinewidth\":0,\"ticks\":\"\"}}}],\"scattermapbox\":[{\"type\":\"scattermapbox\",\"marker\":{\"colorbar\":{\"outlinewidth\":0,\"ticks\":\"\"}}}],\"scatterternary\":[{\"type\":\"scatterternary\",\"marker\":{\"colorbar\":{\"outlinewidth\":0,\"ticks\":\"\"}}}],\"scattercarpet\":[{\"type\":\"scattercarpet\",\"marker\":{\"colorbar\":{\"outlinewidth\":0,\"ticks\":\"\"}}}],\"carpet\":[{\"aaxis\":{\"endlinecolor\":\"#2a3f5f\",\"gridcolor\":\"white\",\"linecolor\":\"white\",\"minorgridcolor\":\"white\",\"startlinecolor\":\"#2a3f5f\"},\"baxis\":{\"endlinecolor\":\"#2a3f5f\",\"gridcolor\":\"white\",\"linecolor\":\"white\",\"minorgridcolor\":\"white\",\"startlinecolor\":\"#2a3f5f\"},\"type\":\"carpet\"}],\"table\":[{\"cells\":{\"fill\":{\"color\":\"#EBF0F8\"},\"line\":{\"color\":\"white\"}},\"header\":{\"fill\":{\"color\":\"#C8D4E3\"},\"line\":{\"color\":\"white\"}},\"type\":\"table\"}],\"barpolar\":[{\"marker\":{\"line\":{\"color\":\"#E5ECF6\",\"width\":0.5},\"pattern\":{\"fillmode\":\"overlay\",\"size\":10,\"solidity\":0.2}},\"type\":\"barpolar\"}],\"pie\":[{\"automargin\":true,\"type\":\"pie\"}]},\"layout\":{\"autotypenumbers\":\"strict\",\"colorway\":[\"#636efa\",\"#EF553B\",\"#00cc96\",\"#ab63fa\",\"#FFA15A\",\"#19d3f3\",\"#FF6692\",\"#B6E880\",\"#FF97FF\",\"#FECB52\"],\"font\":{\"color\":\"#2a3f5f\"},\"hovermode\":\"closest\",\"hoverlabel\":{\"align\":\"left\"},\"paper_bgcolor\":\"white\",\"plot_bgcolor\":\"#E5ECF6\",\"polar\":{\"bgcolor\":\"#E5ECF6\",\"angularaxis\":{\"gridcolor\":\"white\",\"linecolor\":\"white\",\"ticks\":\"\"},\"radialaxis\":{\"gridcolor\":\"white\",\"linecolor\":\"white\",\"ticks\":\"\"}},\"ternary\":{\"bgcolor\":\"#E5ECF6\",\"aaxis\":{\"gridcolor\":\"white\",\"linecolor\":\"white\",\"ticks\":\"\"},\"baxis\":{\"gridcolor\":\"white\",\"linecolor\":\"white\",\"ticks\":\"\"},\"caxis\":{\"gridcolor\":\"white\",\"linecolor\":\"white\",\"ticks\":\"\"}},\"coloraxis\":{\"colorbar\":{\"outlinewidth\":0,\"ticks\":\"\"}},\"colorscale\":{\"sequential\":[[0.0,\"#0d0887\"],[0.1111111111111111,\"#46039f\"],[0.2222222222222222,\"#7201a8\"],[0.3333333333333333,\"#9c179e\"],[0.4444444444444444,\"#bd3786\"],[0.5555555555555556,\"#d8576b\"],[0.6666666666666666,\"#ed7953\"],[0.7777777777777778,\"#fb9f3a\"],[0.8888888888888888,\"#fdca26\"],[1.0,\"#f0f921\"]],\"sequentialminus\":[[0.0,\"#0d0887\"],[0.1111111111111111,\"#46039f\"],[0.2222222222222222,\"#7201a8\"],[0.3333333333333333,\"#9c179e\"],[0.4444444444444444,\"#bd3786\"],[0.5555555555555556,\"#d8576b\"],[0.6666666666666666,\"#ed7953\"],[0.7777777777777778,\"#fb9f3a\"],[0.8888888888888888,\"#fdca26\"],[1.0,\"#f0f921\"]],\"diverging\":[[0,\"#8e0152\"],[0.1,\"#c51b7d\"],[0.2,\"#de77ae\"],[0.3,\"#f1b6da\"],[0.4,\"#fde0ef\"],[0.5,\"#f7f7f7\"],[0.6,\"#e6f5d0\"],[0.7,\"#b8e186\"],[0.8,\"#7fbc41\"],[0.9,\"#4d9221\"],[1,\"#276419\"]]},\"xaxis\":{\"gridcolor\":\"white\",\"linecolor\":\"white\",\"ticks\":\"\",\"title\":{\"standoff\":15},\"zerolinecolor\":\"white\",\"automargin\":true,\"zerolinewidth\":2},\"yaxis\":{\"gridcolor\":\"white\",\"linecolor\":\"white\",\"ticks\":\"\",\"title\":{\"standoff\":15},\"zerolinecolor\":\"white\",\"automargin\":true,\"zerolinewidth\":2},\"scene\":{\"xaxis\":{\"backgroundcolor\":\"#E5ECF6\",\"gridcolor\":\"white\",\"linecolor\":\"white\",\"showbackground\":true,\"ticks\":\"\",\"zerolinecolor\":\"white\",\"gridwidth\":2},\"yaxis\":{\"backgroundcolor\":\"#E5ECF6\",\"gridcolor\":\"white\",\"linecolor\":\"white\",\"showbackground\":true,\"ticks\":\"\",\"zerolinecolor\":\"white\",\"gridwidth\":2},\"zaxis\":{\"backgroundcolor\":\"#E5ECF6\",\"gridcolor\":\"white\",\"linecolor\":\"white\",\"showbackground\":true,\"ticks\":\"\",\"zerolinecolor\":\"white\",\"gridwidth\":2}},\"shapedefaults\":{\"line\":{\"color\":\"#2a3f5f\"}},\"annotationdefaults\":{\"arrowcolor\":\"#2a3f5f\",\"arrowhead\":0,\"arrowwidth\":1},\"geo\":{\"bgcolor\":\"white\",\"landcolor\":\"#E5ECF6\",\"subunitcolor\":\"white\",\"showland\":true,\"showlakes\":true,\"lakecolor\":\"white\"},\"title\":{\"x\":0.05},\"mapbox\":{\"style\":\"light\"}}},\"title\":{\"text\":\"\\u0412\\u043e\\u0440\\u043e\\u043d\\u043a\\u0430 \\u0441\\u043e\\u0431\\u044b\\u0442\\u0438\\u0439: \\u043f\\u043e\\u043b\\u044c\\u0437\\u043e\\u0432\\u0430\\u0442\\u0435\\u043b\\u0438,\\u0441\\u043e\\u0432\\u0435\\u0440\\u0448\\u0438\\u0432\\u0448\\u0438\\u0435 \\u0438 tips_show, \\u0438 tips_click\"}},                        {\"responsive\": true}                    ).then(function(){\n",
       "                            \n",
       "var gd = document.getElementById('70130a20-644d-4f42-bfc8-c8b22adabcc6');\n",
       "var x = new MutationObserver(function (mutations, observer) {{\n",
       "        var display = window.getComputedStyle(gd).display;\n",
       "        if (!display || display === 'none') {{\n",
       "            console.log([gd, 'removed!']);\n",
       "            Plotly.purge(gd);\n",
       "            observer.disconnect();\n",
       "        }}\n",
       "}});\n",
       "\n",
       "// Listen for the removal of the full notebook cells\n",
       "var notebookContainer = gd.closest('#notebook-container');\n",
       "if (notebookContainer) {{\n",
       "    x.observe(notebookContainer, {childList: true});\n",
       "}}\n",
       "\n",
       "// Listen for the clearing of the current output cell\n",
       "var outputEl = gd.closest('.output');\n",
       "if (outputEl) {{\n",
       "    x.observe(outputEl, {childList: true});\n",
       "}}\n",
       "\n",
       "                        })                };                });            </script>        </div>"
      ]
     },
     "metadata": {},
     "output_type": "display_data"
    }
   ],
   "source": [
    "fig = go.Figure(go.Funnel(\n",
    "    y=[\"Просмотр рекомендации\", \"Переход на страницу рекомендованного объявления\",\n",
    "       \"Просмотр карты объявлений\", \"Просмотр контактов\"],\n",
    "    x=[tips_click_show_conversion['user_id'][0],\n",
    "       tips_click_show_conversion['user_id'][1],\n",
    "       tips_click_show_conversion['user_id'][2],\n",
    "       tips_click_show_conversion['user_id'][3]],\n",
    "    textposition = \"inside\",\n",
    "    textinfo = \"value+percent initial\",\n",
    "    opacity = 0.65, marker = {\"color\": [\"#66c2a5\", \"#fc8d62\", \"#8da0cb\",\"#e78ac3\"],\n",
    "    \"line\": {\"width\": [4, 2, 2, 3, 1, 1], \"color\": [\"#66c2a5\", \"#fc8d62\", \"#8da0cb\", \"#e78ac3\"]}},\n",
    "    connector = {\"line\": {\"color\": \"#66c2a5\", \"dash\": \"dot\", \"width\": 3}})\n",
    "    )\n",
    "fig.update_layout(title='Воронка событий: пользователи,совершившие и tips_show, и tips_click')\n",
    "fig.show()"
   ]
  },
  {
   "cell_type": "markdown",
   "id": "4b7e5cb9",
   "metadata": {},
   "source": [
    "**Из пользователей, которые совершают и tips_show, и tips_click  более трети (31%) доходят до целевого действия. Дальше посмотрим конверсию у второй группы.**"
   ]
  },
  {
   "cell_type": "markdown",
   "id": "7ac454e9",
   "metadata": {},
   "source": [
    "**Узнаем, сколько пользователей увидели рекомендованные объявления, но не перешли на страницы с ним.**"
   ]
  },
  {
   "cell_type": "code",
   "execution_count": 61,
   "id": "0b2a63b6",
   "metadata": {},
   "outputs": [
    {
     "name": "stdout",
     "output_type": "stream",
     "text": [
      "Количество пользователей, кто не перешел на страницы рекомендованных объявлений: 2504\n"
     ]
    }
   ],
   "source": [
    "tips_show_only = list(set(tips_show_only_users) - set(tips_show_click_users_info))\n",
    "print('Количество пользователей, кто не перешел на страницы рекомендованных объявлений:',len(tips_show_only))"
   ]
  },
  {
   "cell_type": "markdown",
   "id": "4dc45b22",
   "metadata": {},
   "source": [
    "**Теперь выявим количество тех из них, кто совершил целевое действие.**"
   ]
  },
  {
   "cell_type": "code",
   "execution_count": 62,
   "id": "6bc62bf6",
   "metadata": {},
   "outputs": [
    {
     "name": "stdout",
     "output_type": "stream",
     "text": [
      "Количество пользователей, кто только увидел рекомендации и сделал целевое действие: 425\n",
      "Количество пользователей, кто увидел рекомендации и перешел на страницв с ними, а также сделал целевое действие: 91\n"
     ]
    }
   ],
   "source": [
    "#cоздаем датафрейм для пользователей, совершившиз только tips_show\n",
    "tips_show_only_df = data.query('user_id == @tips_show_only')\n",
    "#аналогично для тех, кто совершил и tips show, и tips click\n",
    "tips_show_click_df = data.query('user_id == @tips_show_click_users_info ')\n",
    "#получим список с пользователями, которые совершили целевое действие\n",
    "contact_show_users = data.query('event_name == \"contacts_show\"')['user_id']\n",
    "\n",
    "tips_show_only_df = tips_show_only_df[tips_show_only_df['user_id'].isin(contact_show_users)]\n",
    "tips_show_only_users = tips_show_only_df.user_id.unique().tolist()\n",
    "print('Количество пользователей, кто только увидел рекомендации и сделал целевое действие:', len(tips_show_only_users ))\n",
    "tips_show_click_df = tips_show_click_df[tips_show_click_df['user_id'].isin(contact_show_users)]\n",
    "tips_show_click_users = tips_show_click_df.user_id.unique().tolist()\n",
    "print('Количество пользователей, кто увидел рекомендации и перешел на страницв с ними, а также сделал целевое действие:', len(tips_show_click_users))\n"
   ]
  },
  {
   "cell_type": "markdown",
   "id": "13e7056f",
   "metadata": {},
   "source": [
    "**Расчитаем конверсию для второй группы.**"
   ]
  },
  {
   "cell_type": "code",
   "execution_count": 63,
   "id": "59d48c84",
   "metadata": {},
   "outputs": [
    {
     "data": {
      "text/html": [
       "<div>\n",
       "<style scoped>\n",
       "    .dataframe tbody tr th:only-of-type {\n",
       "        vertical-align: middle;\n",
       "    }\n",
       "\n",
       "    .dataframe tbody tr th {\n",
       "        vertical-align: top;\n",
       "    }\n",
       "\n",
       "    .dataframe thead th {\n",
       "        text-align: right;\n",
       "    }\n",
       "</style>\n",
       "<table border=\"1\" class=\"dataframe\">\n",
       "  <thead>\n",
       "    <tr style=\"text-align: right;\">\n",
       "      <th></th>\n",
       "      <th>event_name</th>\n",
       "      <th>user_id</th>\n",
       "      <th>perc</th>\n",
       "      <th>stage_loss</th>\n",
       "    </tr>\n",
       "  </thead>\n",
       "  <tbody>\n",
       "    <tr>\n",
       "      <th>0</th>\n",
       "      <td>tips_show</td>\n",
       "      <td>2504</td>\n",
       "      <td>58.33</td>\n",
       "      <td>41.67</td>\n",
       "    </tr>\n",
       "    <tr>\n",
       "      <th>1</th>\n",
       "      <td>map</td>\n",
       "      <td>1212</td>\n",
       "      <td>28.23</td>\n",
       "      <td>71.77</td>\n",
       "    </tr>\n",
       "    <tr>\n",
       "      <th>2</th>\n",
       "      <td>search</td>\n",
       "      <td>727</td>\n",
       "      <td>16.93</td>\n",
       "      <td>83.07</td>\n",
       "    </tr>\n",
       "    <tr>\n",
       "      <th>3</th>\n",
       "      <td>advert_open</td>\n",
       "      <td>532</td>\n",
       "      <td>12.39</td>\n",
       "      <td>87.61</td>\n",
       "    </tr>\n",
       "    <tr>\n",
       "      <th>4</th>\n",
       "      <td>contacts_show</td>\n",
       "      <td>425</td>\n",
       "      <td>9.90</td>\n",
       "      <td>90.10</td>\n",
       "    </tr>\n",
       "    <tr>\n",
       "      <th>5</th>\n",
       "      <td>favorites_add</td>\n",
       "      <td>80</td>\n",
       "      <td>1.86</td>\n",
       "      <td>98.14</td>\n",
       "    </tr>\n",
       "    <tr>\n",
       "      <th>6</th>\n",
       "      <td>photos_show</td>\n",
       "      <td>9</td>\n",
       "      <td>0.21</td>\n",
       "      <td>99.79</td>\n",
       "    </tr>\n",
       "    <tr>\n",
       "      <th>7</th>\n",
       "      <td>contacts_call</td>\n",
       "      <td>1</td>\n",
       "      <td>0.02</td>\n",
       "      <td>99.98</td>\n",
       "    </tr>\n",
       "  </tbody>\n",
       "</table>\n",
       "</div>"
      ],
      "text/plain": [
       "      event_name  user_id   perc  stage_loss\n",
       "0      tips_show     2504  58.33       41.67\n",
       "1            map     1212  28.23       71.77\n",
       "2         search      727  16.93       83.07\n",
       "3    advert_open      532  12.39       87.61\n",
       "4  contacts_show      425   9.90       90.10\n",
       "5  favorites_add       80   1.86       98.14\n",
       "6    photos_show        9   0.21       99.79\n",
       "7  contacts_call        1   0.02       99.98"
      ]
     },
     "execution_count": 63,
     "metadata": {},
     "output_type": "execute_result"
    }
   ],
   "source": [
    "tips_show = data.query('user_id == @tips_show_only')\n",
    "tips_show_conversion = tips_show.pivot_table(index='event_name',\n",
    "                                             values='user_id',\n",
    "                                             aggfunc='nunique').sort_values(by='user_id',ascending=False).reset_index()\n",
    "tips_show_conversion['perc'] = round(tips_show_conversion['user_id'] / data['user_id'].nunique() * 100, 2)\n",
    "tips_show_conversion['stage_loss'] = 100 - tips_show_conversion['perc']\n",
    "tips_show_conversion "
   ]
  },
  {
   "cell_type": "code",
   "execution_count": 64,
   "id": "286f323f",
   "metadata": {},
   "outputs": [
    {
     "data": {
      "application/vnd.plotly.v1+json": {
       "config": {
        "plotlyServerURL": "https://plot.ly"
       },
       "data": [
        {
         "connector": {
          "line": {
           "color": "#66c2a5",
           "dash": "dot",
           "width": 3
          }
         },
         "marker": {
          "color": [
           "#66c2a5",
           "#fc8d62",
           "#8da0cb",
           "#e78ac3",
           "#e78ac3"
          ],
          "line": {
           "color": [
            "#66c2a5",
            "#fc8d62",
            "#8da0cb",
            "#e78ac3",
            "#e78ac3"
           ],
           "width": [
            4,
            2,
            2,
            3,
            1,
            1
           ]
          }
         },
         "opacity": 0.65,
         "textinfo": "value+percent initial",
         "textposition": "inside",
         "type": "funnel",
         "x": [
          2504,
          1212,
          727,
          532,
          425
         ],
         "y": [
          "Просмотр рекомендации",
          "Просмотр карты объявлений",
          "Поиск по сайту",
          "Открытие карточки объявления",
          "Просмотр контактов"
         ]
        }
       ],
       "layout": {
        "template": {
         "data": {
          "bar": [
           {
            "error_x": {
             "color": "#2a3f5f"
            },
            "error_y": {
             "color": "#2a3f5f"
            },
            "marker": {
             "line": {
              "color": "#E5ECF6",
              "width": 0.5
             },
             "pattern": {
              "fillmode": "overlay",
              "size": 10,
              "solidity": 0.2
             }
            },
            "type": "bar"
           }
          ],
          "barpolar": [
           {
            "marker": {
             "line": {
              "color": "#E5ECF6",
              "width": 0.5
             },
             "pattern": {
              "fillmode": "overlay",
              "size": 10,
              "solidity": 0.2
             }
            },
            "type": "barpolar"
           }
          ],
          "carpet": [
           {
            "aaxis": {
             "endlinecolor": "#2a3f5f",
             "gridcolor": "white",
             "linecolor": "white",
             "minorgridcolor": "white",
             "startlinecolor": "#2a3f5f"
            },
            "baxis": {
             "endlinecolor": "#2a3f5f",
             "gridcolor": "white",
             "linecolor": "white",
             "minorgridcolor": "white",
             "startlinecolor": "#2a3f5f"
            },
            "type": "carpet"
           }
          ],
          "choropleth": [
           {
            "colorbar": {
             "outlinewidth": 0,
             "ticks": ""
            },
            "type": "choropleth"
           }
          ],
          "contour": [
           {
            "colorbar": {
             "outlinewidth": 0,
             "ticks": ""
            },
            "colorscale": [
             [
              0,
              "#0d0887"
             ],
             [
              0.1111111111111111,
              "#46039f"
             ],
             [
              0.2222222222222222,
              "#7201a8"
             ],
             [
              0.3333333333333333,
              "#9c179e"
             ],
             [
              0.4444444444444444,
              "#bd3786"
             ],
             [
              0.5555555555555556,
              "#d8576b"
             ],
             [
              0.6666666666666666,
              "#ed7953"
             ],
             [
              0.7777777777777778,
              "#fb9f3a"
             ],
             [
              0.8888888888888888,
              "#fdca26"
             ],
             [
              1,
              "#f0f921"
             ]
            ],
            "type": "contour"
           }
          ],
          "contourcarpet": [
           {
            "colorbar": {
             "outlinewidth": 0,
             "ticks": ""
            },
            "type": "contourcarpet"
           }
          ],
          "heatmap": [
           {
            "colorbar": {
             "outlinewidth": 0,
             "ticks": ""
            },
            "colorscale": [
             [
              0,
              "#0d0887"
             ],
             [
              0.1111111111111111,
              "#46039f"
             ],
             [
              0.2222222222222222,
              "#7201a8"
             ],
             [
              0.3333333333333333,
              "#9c179e"
             ],
             [
              0.4444444444444444,
              "#bd3786"
             ],
             [
              0.5555555555555556,
              "#d8576b"
             ],
             [
              0.6666666666666666,
              "#ed7953"
             ],
             [
              0.7777777777777778,
              "#fb9f3a"
             ],
             [
              0.8888888888888888,
              "#fdca26"
             ],
             [
              1,
              "#f0f921"
             ]
            ],
            "type": "heatmap"
           }
          ],
          "heatmapgl": [
           {
            "colorbar": {
             "outlinewidth": 0,
             "ticks": ""
            },
            "colorscale": [
             [
              0,
              "#0d0887"
             ],
             [
              0.1111111111111111,
              "#46039f"
             ],
             [
              0.2222222222222222,
              "#7201a8"
             ],
             [
              0.3333333333333333,
              "#9c179e"
             ],
             [
              0.4444444444444444,
              "#bd3786"
             ],
             [
              0.5555555555555556,
              "#d8576b"
             ],
             [
              0.6666666666666666,
              "#ed7953"
             ],
             [
              0.7777777777777778,
              "#fb9f3a"
             ],
             [
              0.8888888888888888,
              "#fdca26"
             ],
             [
              1,
              "#f0f921"
             ]
            ],
            "type": "heatmapgl"
           }
          ],
          "histogram": [
           {
            "marker": {
             "pattern": {
              "fillmode": "overlay",
              "size": 10,
              "solidity": 0.2
             }
            },
            "type": "histogram"
           }
          ],
          "histogram2d": [
           {
            "colorbar": {
             "outlinewidth": 0,
             "ticks": ""
            },
            "colorscale": [
             [
              0,
              "#0d0887"
             ],
             [
              0.1111111111111111,
              "#46039f"
             ],
             [
              0.2222222222222222,
              "#7201a8"
             ],
             [
              0.3333333333333333,
              "#9c179e"
             ],
             [
              0.4444444444444444,
              "#bd3786"
             ],
             [
              0.5555555555555556,
              "#d8576b"
             ],
             [
              0.6666666666666666,
              "#ed7953"
             ],
             [
              0.7777777777777778,
              "#fb9f3a"
             ],
             [
              0.8888888888888888,
              "#fdca26"
             ],
             [
              1,
              "#f0f921"
             ]
            ],
            "type": "histogram2d"
           }
          ],
          "histogram2dcontour": [
           {
            "colorbar": {
             "outlinewidth": 0,
             "ticks": ""
            },
            "colorscale": [
             [
              0,
              "#0d0887"
             ],
             [
              0.1111111111111111,
              "#46039f"
             ],
             [
              0.2222222222222222,
              "#7201a8"
             ],
             [
              0.3333333333333333,
              "#9c179e"
             ],
             [
              0.4444444444444444,
              "#bd3786"
             ],
             [
              0.5555555555555556,
              "#d8576b"
             ],
             [
              0.6666666666666666,
              "#ed7953"
             ],
             [
              0.7777777777777778,
              "#fb9f3a"
             ],
             [
              0.8888888888888888,
              "#fdca26"
             ],
             [
              1,
              "#f0f921"
             ]
            ],
            "type": "histogram2dcontour"
           }
          ],
          "mesh3d": [
           {
            "colorbar": {
             "outlinewidth": 0,
             "ticks": ""
            },
            "type": "mesh3d"
           }
          ],
          "parcoords": [
           {
            "line": {
             "colorbar": {
              "outlinewidth": 0,
              "ticks": ""
             }
            },
            "type": "parcoords"
           }
          ],
          "pie": [
           {
            "automargin": true,
            "type": "pie"
           }
          ],
          "scatter": [
           {
            "fillpattern": {
             "fillmode": "overlay",
             "size": 10,
             "solidity": 0.2
            },
            "type": "scatter"
           }
          ],
          "scatter3d": [
           {
            "line": {
             "colorbar": {
              "outlinewidth": 0,
              "ticks": ""
             }
            },
            "marker": {
             "colorbar": {
              "outlinewidth": 0,
              "ticks": ""
             }
            },
            "type": "scatter3d"
           }
          ],
          "scattercarpet": [
           {
            "marker": {
             "colorbar": {
              "outlinewidth": 0,
              "ticks": ""
             }
            },
            "type": "scattercarpet"
           }
          ],
          "scattergeo": [
           {
            "marker": {
             "colorbar": {
              "outlinewidth": 0,
              "ticks": ""
             }
            },
            "type": "scattergeo"
           }
          ],
          "scattergl": [
           {
            "marker": {
             "colorbar": {
              "outlinewidth": 0,
              "ticks": ""
             }
            },
            "type": "scattergl"
           }
          ],
          "scattermapbox": [
           {
            "marker": {
             "colorbar": {
              "outlinewidth": 0,
              "ticks": ""
             }
            },
            "type": "scattermapbox"
           }
          ],
          "scatterpolar": [
           {
            "marker": {
             "colorbar": {
              "outlinewidth": 0,
              "ticks": ""
             }
            },
            "type": "scatterpolar"
           }
          ],
          "scatterpolargl": [
           {
            "marker": {
             "colorbar": {
              "outlinewidth": 0,
              "ticks": ""
             }
            },
            "type": "scatterpolargl"
           }
          ],
          "scatterternary": [
           {
            "marker": {
             "colorbar": {
              "outlinewidth": 0,
              "ticks": ""
             }
            },
            "type": "scatterternary"
           }
          ],
          "surface": [
           {
            "colorbar": {
             "outlinewidth": 0,
             "ticks": ""
            },
            "colorscale": [
             [
              0,
              "#0d0887"
             ],
             [
              0.1111111111111111,
              "#46039f"
             ],
             [
              0.2222222222222222,
              "#7201a8"
             ],
             [
              0.3333333333333333,
              "#9c179e"
             ],
             [
              0.4444444444444444,
              "#bd3786"
             ],
             [
              0.5555555555555556,
              "#d8576b"
             ],
             [
              0.6666666666666666,
              "#ed7953"
             ],
             [
              0.7777777777777778,
              "#fb9f3a"
             ],
             [
              0.8888888888888888,
              "#fdca26"
             ],
             [
              1,
              "#f0f921"
             ]
            ],
            "type": "surface"
           }
          ],
          "table": [
           {
            "cells": {
             "fill": {
              "color": "#EBF0F8"
             },
             "line": {
              "color": "white"
             }
            },
            "header": {
             "fill": {
              "color": "#C8D4E3"
             },
             "line": {
              "color": "white"
             }
            },
            "type": "table"
           }
          ]
         },
         "layout": {
          "annotationdefaults": {
           "arrowcolor": "#2a3f5f",
           "arrowhead": 0,
           "arrowwidth": 1
          },
          "autotypenumbers": "strict",
          "coloraxis": {
           "colorbar": {
            "outlinewidth": 0,
            "ticks": ""
           }
          },
          "colorscale": {
           "diverging": [
            [
             0,
             "#8e0152"
            ],
            [
             0.1,
             "#c51b7d"
            ],
            [
             0.2,
             "#de77ae"
            ],
            [
             0.3,
             "#f1b6da"
            ],
            [
             0.4,
             "#fde0ef"
            ],
            [
             0.5,
             "#f7f7f7"
            ],
            [
             0.6,
             "#e6f5d0"
            ],
            [
             0.7,
             "#b8e186"
            ],
            [
             0.8,
             "#7fbc41"
            ],
            [
             0.9,
             "#4d9221"
            ],
            [
             1,
             "#276419"
            ]
           ],
           "sequential": [
            [
             0,
             "#0d0887"
            ],
            [
             0.1111111111111111,
             "#46039f"
            ],
            [
             0.2222222222222222,
             "#7201a8"
            ],
            [
             0.3333333333333333,
             "#9c179e"
            ],
            [
             0.4444444444444444,
             "#bd3786"
            ],
            [
             0.5555555555555556,
             "#d8576b"
            ],
            [
             0.6666666666666666,
             "#ed7953"
            ],
            [
             0.7777777777777778,
             "#fb9f3a"
            ],
            [
             0.8888888888888888,
             "#fdca26"
            ],
            [
             1,
             "#f0f921"
            ]
           ],
           "sequentialminus": [
            [
             0,
             "#0d0887"
            ],
            [
             0.1111111111111111,
             "#46039f"
            ],
            [
             0.2222222222222222,
             "#7201a8"
            ],
            [
             0.3333333333333333,
             "#9c179e"
            ],
            [
             0.4444444444444444,
             "#bd3786"
            ],
            [
             0.5555555555555556,
             "#d8576b"
            ],
            [
             0.6666666666666666,
             "#ed7953"
            ],
            [
             0.7777777777777778,
             "#fb9f3a"
            ],
            [
             0.8888888888888888,
             "#fdca26"
            ],
            [
             1,
             "#f0f921"
            ]
           ]
          },
          "colorway": [
           "#636efa",
           "#EF553B",
           "#00cc96",
           "#ab63fa",
           "#FFA15A",
           "#19d3f3",
           "#FF6692",
           "#B6E880",
           "#FF97FF",
           "#FECB52"
          ],
          "font": {
           "color": "#2a3f5f"
          },
          "geo": {
           "bgcolor": "white",
           "lakecolor": "white",
           "landcolor": "#E5ECF6",
           "showlakes": true,
           "showland": true,
           "subunitcolor": "white"
          },
          "hoverlabel": {
           "align": "left"
          },
          "hovermode": "closest",
          "mapbox": {
           "style": "light"
          },
          "paper_bgcolor": "white",
          "plot_bgcolor": "#E5ECF6",
          "polar": {
           "angularaxis": {
            "gridcolor": "white",
            "linecolor": "white",
            "ticks": ""
           },
           "bgcolor": "#E5ECF6",
           "radialaxis": {
            "gridcolor": "white",
            "linecolor": "white",
            "ticks": ""
           }
          },
          "scene": {
           "xaxis": {
            "backgroundcolor": "#E5ECF6",
            "gridcolor": "white",
            "gridwidth": 2,
            "linecolor": "white",
            "showbackground": true,
            "ticks": "",
            "zerolinecolor": "white"
           },
           "yaxis": {
            "backgroundcolor": "#E5ECF6",
            "gridcolor": "white",
            "gridwidth": 2,
            "linecolor": "white",
            "showbackground": true,
            "ticks": "",
            "zerolinecolor": "white"
           },
           "zaxis": {
            "backgroundcolor": "#E5ECF6",
            "gridcolor": "white",
            "gridwidth": 2,
            "linecolor": "white",
            "showbackground": true,
            "ticks": "",
            "zerolinecolor": "white"
           }
          },
          "shapedefaults": {
           "line": {
            "color": "#2a3f5f"
           }
          },
          "ternary": {
           "aaxis": {
            "gridcolor": "white",
            "linecolor": "white",
            "ticks": ""
           },
           "baxis": {
            "gridcolor": "white",
            "linecolor": "white",
            "ticks": ""
           },
           "bgcolor": "#E5ECF6",
           "caxis": {
            "gridcolor": "white",
            "linecolor": "white",
            "ticks": ""
           }
          },
          "title": {
           "x": 0.05
          },
          "xaxis": {
           "automargin": true,
           "gridcolor": "white",
           "linecolor": "white",
           "ticks": "",
           "title": {
            "standoff": 15
           },
           "zerolinecolor": "white",
           "zerolinewidth": 2
          },
          "yaxis": {
           "automargin": true,
           "gridcolor": "white",
           "linecolor": "white",
           "ticks": "",
           "title": {
            "standoff": 15
           },
           "zerolinecolor": "white",
           "zerolinewidth": 2
          }
         }
        },
        "title": {
         "text": "Воронка событий: пользователи,совершившие только tips_show"
        }
       }
      },
      "text/html": [
       "<div>                            <div id=\"8e023afa-e492-430c-8075-6ed8d70d701e\" class=\"plotly-graph-div\" style=\"height:525px; width:100%;\"></div>            <script type=\"text/javascript\">                require([\"plotly\"], function(Plotly) {                    window.PLOTLYENV=window.PLOTLYENV || {};                                    if (document.getElementById(\"8e023afa-e492-430c-8075-6ed8d70d701e\")) {                    Plotly.newPlot(                        \"8e023afa-e492-430c-8075-6ed8d70d701e\",                        [{\"connector\":{\"line\":{\"color\":\"#66c2a5\",\"dash\":\"dot\",\"width\":3}},\"marker\":{\"color\":[\"#66c2a5\",\"#fc8d62\",\"#8da0cb\",\"#e78ac3\",\"#e78ac3\"],\"line\":{\"color\":[\"#66c2a5\",\"#fc8d62\",\"#8da0cb\",\"#e78ac3\",\"#e78ac3\"],\"width\":[4,2,2,3,1,1]}},\"opacity\":0.65,\"textinfo\":\"value+percent initial\",\"textposition\":\"inside\",\"x\":[2504,1212,727,532,425],\"y\":[\"\\u041f\\u0440\\u043e\\u0441\\u043c\\u043e\\u0442\\u0440 \\u0440\\u0435\\u043a\\u043e\\u043c\\u0435\\u043d\\u0434\\u0430\\u0446\\u0438\\u0438\",\"\\u041f\\u0440\\u043e\\u0441\\u043c\\u043e\\u0442\\u0440 \\u043a\\u0430\\u0440\\u0442\\u044b \\u043e\\u0431\\u044a\\u044f\\u0432\\u043b\\u0435\\u043d\\u0438\\u0439\",\"\\u041f\\u043e\\u0438\\u0441\\u043a \\u043f\\u043e \\u0441\\u0430\\u0439\\u0442\\u0443\",\"\\u041e\\u0442\\u043a\\u0440\\u044b\\u0442\\u0438\\u0435 \\u043a\\u0430\\u0440\\u0442\\u043e\\u0447\\u043a\\u0438 \\u043e\\u0431\\u044a\\u044f\\u0432\\u043b\\u0435\\u043d\\u0438\\u044f\",\"\\u041f\\u0440\\u043e\\u0441\\u043c\\u043e\\u0442\\u0440 \\u043a\\u043e\\u043d\\u0442\\u0430\\u043a\\u0442\\u043e\\u0432\"],\"type\":\"funnel\"}],                        {\"template\":{\"data\":{\"histogram2dcontour\":[{\"type\":\"histogram2dcontour\",\"colorbar\":{\"outlinewidth\":0,\"ticks\":\"\"},\"colorscale\":[[0.0,\"#0d0887\"],[0.1111111111111111,\"#46039f\"],[0.2222222222222222,\"#7201a8\"],[0.3333333333333333,\"#9c179e\"],[0.4444444444444444,\"#bd3786\"],[0.5555555555555556,\"#d8576b\"],[0.6666666666666666,\"#ed7953\"],[0.7777777777777778,\"#fb9f3a\"],[0.8888888888888888,\"#fdca26\"],[1.0,\"#f0f921\"]]}],\"choropleth\":[{\"type\":\"choropleth\",\"colorbar\":{\"outlinewidth\":0,\"ticks\":\"\"}}],\"histogram2d\":[{\"type\":\"histogram2d\",\"colorbar\":{\"outlinewidth\":0,\"ticks\":\"\"},\"colorscale\":[[0.0,\"#0d0887\"],[0.1111111111111111,\"#46039f\"],[0.2222222222222222,\"#7201a8\"],[0.3333333333333333,\"#9c179e\"],[0.4444444444444444,\"#bd3786\"],[0.5555555555555556,\"#d8576b\"],[0.6666666666666666,\"#ed7953\"],[0.7777777777777778,\"#fb9f3a\"],[0.8888888888888888,\"#fdca26\"],[1.0,\"#f0f921\"]]}],\"heatmap\":[{\"type\":\"heatmap\",\"colorbar\":{\"outlinewidth\":0,\"ticks\":\"\"},\"colorscale\":[[0.0,\"#0d0887\"],[0.1111111111111111,\"#46039f\"],[0.2222222222222222,\"#7201a8\"],[0.3333333333333333,\"#9c179e\"],[0.4444444444444444,\"#bd3786\"],[0.5555555555555556,\"#d8576b\"],[0.6666666666666666,\"#ed7953\"],[0.7777777777777778,\"#fb9f3a\"],[0.8888888888888888,\"#fdca26\"],[1.0,\"#f0f921\"]]}],\"heatmapgl\":[{\"type\":\"heatmapgl\",\"colorbar\":{\"outlinewidth\":0,\"ticks\":\"\"},\"colorscale\":[[0.0,\"#0d0887\"],[0.1111111111111111,\"#46039f\"],[0.2222222222222222,\"#7201a8\"],[0.3333333333333333,\"#9c179e\"],[0.4444444444444444,\"#bd3786\"],[0.5555555555555556,\"#d8576b\"],[0.6666666666666666,\"#ed7953\"],[0.7777777777777778,\"#fb9f3a\"],[0.8888888888888888,\"#fdca26\"],[1.0,\"#f0f921\"]]}],\"contourcarpet\":[{\"type\":\"contourcarpet\",\"colorbar\":{\"outlinewidth\":0,\"ticks\":\"\"}}],\"contour\":[{\"type\":\"contour\",\"colorbar\":{\"outlinewidth\":0,\"ticks\":\"\"},\"colorscale\":[[0.0,\"#0d0887\"],[0.1111111111111111,\"#46039f\"],[0.2222222222222222,\"#7201a8\"],[0.3333333333333333,\"#9c179e\"],[0.4444444444444444,\"#bd3786\"],[0.5555555555555556,\"#d8576b\"],[0.6666666666666666,\"#ed7953\"],[0.7777777777777778,\"#fb9f3a\"],[0.8888888888888888,\"#fdca26\"],[1.0,\"#f0f921\"]]}],\"surface\":[{\"type\":\"surface\",\"colorbar\":{\"outlinewidth\":0,\"ticks\":\"\"},\"colorscale\":[[0.0,\"#0d0887\"],[0.1111111111111111,\"#46039f\"],[0.2222222222222222,\"#7201a8\"],[0.3333333333333333,\"#9c179e\"],[0.4444444444444444,\"#bd3786\"],[0.5555555555555556,\"#d8576b\"],[0.6666666666666666,\"#ed7953\"],[0.7777777777777778,\"#fb9f3a\"],[0.8888888888888888,\"#fdca26\"],[1.0,\"#f0f921\"]]}],\"mesh3d\":[{\"type\":\"mesh3d\",\"colorbar\":{\"outlinewidth\":0,\"ticks\":\"\"}}],\"scatter\":[{\"fillpattern\":{\"fillmode\":\"overlay\",\"size\":10,\"solidity\":0.2},\"type\":\"scatter\"}],\"parcoords\":[{\"type\":\"parcoords\",\"line\":{\"colorbar\":{\"outlinewidth\":0,\"ticks\":\"\"}}}],\"scatterpolargl\":[{\"type\":\"scatterpolargl\",\"marker\":{\"colorbar\":{\"outlinewidth\":0,\"ticks\":\"\"}}}],\"bar\":[{\"error_x\":{\"color\":\"#2a3f5f\"},\"error_y\":{\"color\":\"#2a3f5f\"},\"marker\":{\"line\":{\"color\":\"#E5ECF6\",\"width\":0.5},\"pattern\":{\"fillmode\":\"overlay\",\"size\":10,\"solidity\":0.2}},\"type\":\"bar\"}],\"scattergeo\":[{\"type\":\"scattergeo\",\"marker\":{\"colorbar\":{\"outlinewidth\":0,\"ticks\":\"\"}}}],\"scatterpolar\":[{\"type\":\"scatterpolar\",\"marker\":{\"colorbar\":{\"outlinewidth\":0,\"ticks\":\"\"}}}],\"histogram\":[{\"marker\":{\"pattern\":{\"fillmode\":\"overlay\",\"size\":10,\"solidity\":0.2}},\"type\":\"histogram\"}],\"scattergl\":[{\"type\":\"scattergl\",\"marker\":{\"colorbar\":{\"outlinewidth\":0,\"ticks\":\"\"}}}],\"scatter3d\":[{\"type\":\"scatter3d\",\"line\":{\"colorbar\":{\"outlinewidth\":0,\"ticks\":\"\"}},\"marker\":{\"colorbar\":{\"outlinewidth\":0,\"ticks\":\"\"}}}],\"scattermapbox\":[{\"type\":\"scattermapbox\",\"marker\":{\"colorbar\":{\"outlinewidth\":0,\"ticks\":\"\"}}}],\"scatterternary\":[{\"type\":\"scatterternary\",\"marker\":{\"colorbar\":{\"outlinewidth\":0,\"ticks\":\"\"}}}],\"scattercarpet\":[{\"type\":\"scattercarpet\",\"marker\":{\"colorbar\":{\"outlinewidth\":0,\"ticks\":\"\"}}}],\"carpet\":[{\"aaxis\":{\"endlinecolor\":\"#2a3f5f\",\"gridcolor\":\"white\",\"linecolor\":\"white\",\"minorgridcolor\":\"white\",\"startlinecolor\":\"#2a3f5f\"},\"baxis\":{\"endlinecolor\":\"#2a3f5f\",\"gridcolor\":\"white\",\"linecolor\":\"white\",\"minorgridcolor\":\"white\",\"startlinecolor\":\"#2a3f5f\"},\"type\":\"carpet\"}],\"table\":[{\"cells\":{\"fill\":{\"color\":\"#EBF0F8\"},\"line\":{\"color\":\"white\"}},\"header\":{\"fill\":{\"color\":\"#C8D4E3\"},\"line\":{\"color\":\"white\"}},\"type\":\"table\"}],\"barpolar\":[{\"marker\":{\"line\":{\"color\":\"#E5ECF6\",\"width\":0.5},\"pattern\":{\"fillmode\":\"overlay\",\"size\":10,\"solidity\":0.2}},\"type\":\"barpolar\"}],\"pie\":[{\"automargin\":true,\"type\":\"pie\"}]},\"layout\":{\"autotypenumbers\":\"strict\",\"colorway\":[\"#636efa\",\"#EF553B\",\"#00cc96\",\"#ab63fa\",\"#FFA15A\",\"#19d3f3\",\"#FF6692\",\"#B6E880\",\"#FF97FF\",\"#FECB52\"],\"font\":{\"color\":\"#2a3f5f\"},\"hovermode\":\"closest\",\"hoverlabel\":{\"align\":\"left\"},\"paper_bgcolor\":\"white\",\"plot_bgcolor\":\"#E5ECF6\",\"polar\":{\"bgcolor\":\"#E5ECF6\",\"angularaxis\":{\"gridcolor\":\"white\",\"linecolor\":\"white\",\"ticks\":\"\"},\"radialaxis\":{\"gridcolor\":\"white\",\"linecolor\":\"white\",\"ticks\":\"\"}},\"ternary\":{\"bgcolor\":\"#E5ECF6\",\"aaxis\":{\"gridcolor\":\"white\",\"linecolor\":\"white\",\"ticks\":\"\"},\"baxis\":{\"gridcolor\":\"white\",\"linecolor\":\"white\",\"ticks\":\"\"},\"caxis\":{\"gridcolor\":\"white\",\"linecolor\":\"white\",\"ticks\":\"\"}},\"coloraxis\":{\"colorbar\":{\"outlinewidth\":0,\"ticks\":\"\"}},\"colorscale\":{\"sequential\":[[0.0,\"#0d0887\"],[0.1111111111111111,\"#46039f\"],[0.2222222222222222,\"#7201a8\"],[0.3333333333333333,\"#9c179e\"],[0.4444444444444444,\"#bd3786\"],[0.5555555555555556,\"#d8576b\"],[0.6666666666666666,\"#ed7953\"],[0.7777777777777778,\"#fb9f3a\"],[0.8888888888888888,\"#fdca26\"],[1.0,\"#f0f921\"]],\"sequentialminus\":[[0.0,\"#0d0887\"],[0.1111111111111111,\"#46039f\"],[0.2222222222222222,\"#7201a8\"],[0.3333333333333333,\"#9c179e\"],[0.4444444444444444,\"#bd3786\"],[0.5555555555555556,\"#d8576b\"],[0.6666666666666666,\"#ed7953\"],[0.7777777777777778,\"#fb9f3a\"],[0.8888888888888888,\"#fdca26\"],[1.0,\"#f0f921\"]],\"diverging\":[[0,\"#8e0152\"],[0.1,\"#c51b7d\"],[0.2,\"#de77ae\"],[0.3,\"#f1b6da\"],[0.4,\"#fde0ef\"],[0.5,\"#f7f7f7\"],[0.6,\"#e6f5d0\"],[0.7,\"#b8e186\"],[0.8,\"#7fbc41\"],[0.9,\"#4d9221\"],[1,\"#276419\"]]},\"xaxis\":{\"gridcolor\":\"white\",\"linecolor\":\"white\",\"ticks\":\"\",\"title\":{\"standoff\":15},\"zerolinecolor\":\"white\",\"automargin\":true,\"zerolinewidth\":2},\"yaxis\":{\"gridcolor\":\"white\",\"linecolor\":\"white\",\"ticks\":\"\",\"title\":{\"standoff\":15},\"zerolinecolor\":\"white\",\"automargin\":true,\"zerolinewidth\":2},\"scene\":{\"xaxis\":{\"backgroundcolor\":\"#E5ECF6\",\"gridcolor\":\"white\",\"linecolor\":\"white\",\"showbackground\":true,\"ticks\":\"\",\"zerolinecolor\":\"white\",\"gridwidth\":2},\"yaxis\":{\"backgroundcolor\":\"#E5ECF6\",\"gridcolor\":\"white\",\"linecolor\":\"white\",\"showbackground\":true,\"ticks\":\"\",\"zerolinecolor\":\"white\",\"gridwidth\":2},\"zaxis\":{\"backgroundcolor\":\"#E5ECF6\",\"gridcolor\":\"white\",\"linecolor\":\"white\",\"showbackground\":true,\"ticks\":\"\",\"zerolinecolor\":\"white\",\"gridwidth\":2}},\"shapedefaults\":{\"line\":{\"color\":\"#2a3f5f\"}},\"annotationdefaults\":{\"arrowcolor\":\"#2a3f5f\",\"arrowhead\":0,\"arrowwidth\":1},\"geo\":{\"bgcolor\":\"white\",\"landcolor\":\"#E5ECF6\",\"subunitcolor\":\"white\",\"showland\":true,\"showlakes\":true,\"lakecolor\":\"white\"},\"title\":{\"x\":0.05},\"mapbox\":{\"style\":\"light\"}}},\"title\":{\"text\":\"\\u0412\\u043e\\u0440\\u043e\\u043d\\u043a\\u0430 \\u0441\\u043e\\u0431\\u044b\\u0442\\u0438\\u0439: \\u043f\\u043e\\u043b\\u044c\\u0437\\u043e\\u0432\\u0430\\u0442\\u0435\\u043b\\u0438,\\u0441\\u043e\\u0432\\u0435\\u0440\\u0448\\u0438\\u0432\\u0448\\u0438\\u0435 \\u0442\\u043e\\u043b\\u044c\\u043a\\u043e tips_show\"}},                        {\"responsive\": true}                    ).then(function(){\n",
       "                            \n",
       "var gd = document.getElementById('8e023afa-e492-430c-8075-6ed8d70d701e');\n",
       "var x = new MutationObserver(function (mutations, observer) {{\n",
       "        var display = window.getComputedStyle(gd).display;\n",
       "        if (!display || display === 'none') {{\n",
       "            console.log([gd, 'removed!']);\n",
       "            Plotly.purge(gd);\n",
       "            observer.disconnect();\n",
       "        }}\n",
       "}});\n",
       "\n",
       "// Listen for the removal of the full notebook cells\n",
       "var notebookContainer = gd.closest('#notebook-container');\n",
       "if (notebookContainer) {{\n",
       "    x.observe(notebookContainer, {childList: true});\n",
       "}}\n",
       "\n",
       "// Listen for the clearing of the current output cell\n",
       "var outputEl = gd.closest('.output');\n",
       "if (outputEl) {{\n",
       "    x.observe(outputEl, {childList: true});\n",
       "}}\n",
       "\n",
       "                        })                };                });            </script>        </div>"
      ]
     },
     "metadata": {},
     "output_type": "display_data"
    }
   ],
   "source": [
    "fig = go.Figure(go.Funnel(\n",
    "    y=[\"Просмотр рекомендации\",\n",
    "       \"Просмотр карты объявлений\", \n",
    "       \"Поиск по сайту\",\n",
    "       \"Открытие карточки объявления\",\n",
    "       \"Просмотр контактов\"],\n",
    "    x=[tips_show_conversion['user_id'][0],\n",
    "       tips_show_conversion['user_id'][1],\n",
    "       tips_show_conversion['user_id'][2],\n",
    "       tips_show_conversion['user_id'][3],\n",
    "       tips_show_conversion['user_id'][4]],\n",
    "    textposition = \"inside\",\n",
    "    textinfo = \"value+percent initial\",\n",
    "    opacity = 0.65, marker = {\"color\": [\"#66c2a5\", \"#fc8d62\", \"#8da0cb\",\"#e78ac3\",\"#e78ac3\"],\n",
    "    \"line\": {\"width\": [4, 2, 2, 3, 1, 1], \"color\": [\"#66c2a5\", \"#fc8d62\", \"#8da0cb\", \"#e78ac3\", \"#e78ac3\"]}},\n",
    "    connector = {\"line\": {\"color\": \"#66c2a5\", \"dash\": \"dot\", \"width\": 3}})\n",
    "    )\n",
    "fig.update_layout(title='Воронка событий: пользователи,совершившие только tips_show')\n",
    "fig.show()"
   ]
  },
  {
   "cell_type": "markdown",
   "id": "cd75e2b2",
   "metadata": {},
   "source": [
    "**17% пользователей, совершивших только tips_show, доходят до целевого действия.**"
   ]
  },
  {
   "cell_type": "markdown",
   "id": "98e55e77",
   "metadata": {},
   "source": [
    "**Переходим к тестированию гипотезы.**"
   ]
  },
  {
   "cell_type": "code",
   "execution_count": 65,
   "id": "9f5e8ce9",
   "metadata": {},
   "outputs": [
    {
     "name": "stdout",
     "output_type": "stream",
     "text": [
      "p-значение: 9.218316554537864e-09\n",
      "Отвергаем нулевую гипотезу: есть существенные различия в конверсии\n"
     ]
    }
   ],
   "source": [
    "alpha = .05 #задаем критический уровень статистической значимости\n",
    "        \n",
    "successes = np.array([len(tips_show_click_users),\n",
    "                      len(tips_show_only_users)\n",
    "                     ])\n",
    "                                 \n",
    "trials = np.array([len(tips_show_click_users_info),\n",
    "                   len(tips_show_only)\n",
    "                  ])\n",
    "\n",
    "#конверсия в первой группе:\n",
    "p1 = successes[0] / trials[0] \n",
    "#конверсия во второй группе\n",
    "p2 = successes[1] / trials[1] \n",
    "    \n",
    "#конверсия в комбинированном датасете\n",
    "p_combined = (successes[0] + successes[1]) / (trials[0] + trials[1]) \n",
    "\n",
    "    \n",
    "# разница пропорций в датасетах\n",
    "difference = p1 - p2\n",
    "\n",
    "# считаем статистику в ст.отклонениях стандартного нормального распределения\n",
    "z_value = difference / mth.sqrt(p_combined * (1 - p_combined) * (1 / trials[0] + 1 / trials[1]))\n",
    "    \n",
    "    # задаем стандартное нормальное распределение (среднее 0, ст.отклонение 1)\n",
    "distr = st.norm(0, 1)\n",
    "p_value = (1 - distr.cdf(abs(z_value))) * 2\n",
    "    \n",
    "print('p-значение:', p_value)\n",
    "\n",
    "if p_value < alpha:\n",
    "    print(\"Отвергаем нулевую гипотезу: есть существенные различия в конверсии\")\n",
    "else:\n",
    "    print(\"Не получилось отвергнуть нулевую гипотезу\") "
   ]
  },
  {
   "cell_type": "markdown",
   "id": "81b42ea3",
   "metadata": {},
   "source": [
    "**По результатам статистического теста нам нужно принять альтернативную гипотезу: конверсия в просмотры контактов различается у пользователей, совершающих действия и tips_show и tips_click, и тех, кто, кто совершает только tips_show. Таким образом, можно прийти к выводу о том, что выполнение tips_show в комбинации с tips_click влияет на реализацию целевого действия в приложении.**"
   ]
  },
  {
   "cell_type": "markdown",
   "id": "193ff5f2",
   "metadata": {},
   "source": [
    "### Проверка гипотезы №2"
   ]
  },
  {
   "cell_type": "markdown",
   "id": "2e883dfb",
   "metadata": {},
   "source": [
    "      Нулевая гипотеза: \"конверсия у пользователей; просмотревших фотографии, и тех, кто пропустил этот шаг, одинаковая\".\n",
    "      \n",
    "      Альтернативная гипотеза: \"cуществуют значимые различия в конверсии у пользователей; просмотревших фотографии, и тех, кто пропустил этот шаг\"."
   ]
  },
  {
   "cell_type": "markdown",
   "id": "8a14c785",
   "metadata": {},
   "source": [
    "**Сначала узнаем количество пользователей, просмотревших фотографии.**"
   ]
  },
  {
   "cell_type": "code",
   "execution_count": 66,
   "id": "603c9b6f",
   "metadata": {},
   "outputs": [
    {
     "name": "stdout",
     "output_type": "stream",
     "text": [
      "Количество пользователей, просмотревших фотографии: 1095\n"
     ]
    }
   ],
   "source": [
    "photos_show = data.query('event_name == \"photos_show\"')['user_id'].unique().tolist()\n",
    "print('Количество пользователей, просмотревших фотографии:', len(photos_show))"
   ]
  },
  {
   "cell_type": "markdown",
   "id": "1155229f",
   "metadata": {},
   "source": [
    "**Теперь узнаем количество пользователей, которые не просмотрели фотографии.**"
   ]
  },
  {
   "cell_type": "code",
   "execution_count": 67,
   "id": "3bfc45f7",
   "metadata": {},
   "outputs": [
    {
     "name": "stdout",
     "output_type": "stream",
     "text": [
      "Количество пользователей, которые не смотрели фотографии: 3198\n"
     ]
    }
   ],
   "source": [
    "all_users = data.user_id.unique().tolist()\n",
    "no_photos_show = list(set(all_users) - set(photos_show))\n",
    "print('Количество пользователей, которые не смотрели фотографии:', len(no_photos_show))"
   ]
  },
  {
   "cell_type": "markdown",
   "id": "2a9f4cbf",
   "metadata": {},
   "source": [
    "**Узнаем количество людей, кто просмотрел фотографии и сделал целевое действие и тех, кто не просмотрел фотографии, но также совершил целевое действие.**"
   ]
  },
  {
   "cell_type": "code",
   "execution_count": 68,
   "id": "8646a5df",
   "metadata": {},
   "outputs": [
    {
     "name": "stdout",
     "output_type": "stream",
     "text": [
      "Количество пользователей, кто просмотрел фотографии и сделал целевое действие: 339\n",
      "Количество пользователей, кто не просмотрел фотографии и сделал целевое действие: 642\n"
     ]
    }
   ],
   "source": [
    "#cоздаем датафрейм для пользователей, просмотревших фотографии\n",
    "photos_show_df = data.query('user_id == @photos_show')\n",
    "#аналогично для тех, кто совершил не просмотрел фотографии\n",
    "no_photos_show_df = data.query('user_id == @no_photos_show')\n",
    "#получим список с пользователями, которые совершили целевое действие\n",
    "contact_show_users = data.query('event_name == \"contacts_show\"')['user_id']\n",
    "\n",
    "photos_show_df = photos_show_df[photos_show_df['user_id'].isin(contact_show_users)]\n",
    "photos_show_users = photos_show_df.user_id.unique().tolist()\n",
    "print('Количество пользователей, кто просмотрел фотографии и сделал целевое действие:', len(photos_show_users))\n",
    "no_photos_show_df = no_photos_show_df[no_photos_show_df['user_id'].isin(contact_show_users)]\n",
    "no_photos_show_users = no_photos_show_df.user_id.unique().tolist()\n",
    "print('Количество пользователей, кто не просмотрел фотографии и сделал целевое действие:', len(no_photos_show_users))"
   ]
  },
  {
   "cell_type": "markdown",
   "id": "88da8a3d",
   "metadata": {},
   "source": [
    "**Переходим к статистическому тесту.**"
   ]
  },
  {
   "cell_type": "code",
   "execution_count": 69,
   "id": "bc895378",
   "metadata": {},
   "outputs": [
    {
     "name": "stdout",
     "output_type": "stream",
     "text": [
      "[339 642] [1095 3198]\n",
      "p-значение: 1.3278267374516872e-13\n",
      "Отвергаем нулевую гипотезу: есть существенные различия в конверсии\n"
     ]
    }
   ],
   "source": [
    "alpha = .01 #задаем критический уровень статистической значимости\n",
    "        \n",
    "successes = np.array([len(photos_show_users),\n",
    "                      len(no_photos_show_users)\n",
    "                     ])\n",
    "                                 \n",
    "trials = np.array([len(photos_show),\n",
    "                   len(no_photos_show)\n",
    "                  ])\n",
    "\n",
    "print(successes, trials) # КОД РЕВЬЮЕРА\n",
    "\n",
    "#конверсия в первой группе:\n",
    "p1 = successes[0] / trials[0] \n",
    "#конверсия во второй группе\n",
    "p2 = successes[1] / trials[1] \n",
    "    \n",
    "#конверсия в комбинированном датасете\n",
    "p_combined = (successes[0] + successes[1]) / (trials[0] + trials[1]) \n",
    "\n",
    "    \n",
    "# разница пропорций в датасетах\n",
    "difference = p1 - p2\n",
    "\n",
    "# считаем статистику в ст.отклонениях стандартного нормального распределения\n",
    "z_value = difference / mth.sqrt(p_combined * (1 - p_combined) * (1 / trials[0] + 1 / trials[1]))\n",
    "    \n",
    "    # задаем стандартное нормальное распределение (среднее 0, ст.отклонение 1)\n",
    "distr = st.norm(0, 1)\n",
    "p_value = (1 - distr.cdf(abs(z_value))) * 2\n",
    "    \n",
    "print('p-значение:', p_value)\n",
    "\n",
    "if p_value < alpha:\n",
    "    print(\"Отвергаем нулевую гипотезу: есть существенные различия в конверсии\")\n",
    "else:\n",
    "    print(\"Не получилось отвергнуть нулевую гипотезу\") "
   ]
  },
  {
   "cell_type": "markdown",
   "id": "a962b207",
   "metadata": {},
   "source": [
    "**По результам теста нам нужно принять альтернативную гипотезу: \"cуществуют значимые различия в конверсии у пользователей; просмотревших фотографии, и тех, кто пропустил этот шаг\". Мы приходим к выводу о том, что фактор просмотра фотографий влияет на конверсию в целевое действие.**"
   ]
  },
  {
   "cell_type": "markdown",
   "id": "8bd390cf",
   "metadata": {},
   "source": [
    "## Выводы"
   ]
  },
  {
   "cell_type": "markdown",
   "id": "cdbe92da",
   "metadata": {},
   "source": [
    "     Для того, чтобы выявить, какие шаги влияют на конверсию в целевое действие (просмотр контактов) в исследовании\n",
    "     были предприняты следующие шаги:\n",
    "     \n",
    "        -открытие и изучение файла;\n",
    "        -предобработка данных, включающая в себя изучение типов данных в датафреймах, его изменение в случае необходимости,\n",
    "         проверка датафреймов на наличие пропусков, дубликатов(как явных, так и неявных), а также объединение датафреймов и \n",
    "         добавление новых столбцов(с днем, номером недели и датой начала недели);\n",
    "        -выявление количества логов, а также уникальных пользователей в датафрейме; \n",
    "        -изучение периода проведения эксперимента, в частности выявление даты его начала и завершения;\n",
    "        -выявление среднего и медианного количества событий на пользователя;\n",
    "        -изучение источников привлечения пользователей посредством построения сводной таблицы и столбчатой диаграммы;\n",
    "        -изучение частоты событий посредством построения сводной таблицы и столбчатой диаграмму;\n",
    "        -выявление количества пользователей, совершивших целевое действие;\n",
    "        -выявление среднего значения тайм-аута и последующее выявление количества сессий;\n",
    "        -изучение таких показателей как DAU и WAU;\n",
    "        -построение диаграммы Санкея для выявления наиболее распространенных сценариев совершения целевого действия;\n",
    "        -расчет конверсии для пользователей, которые дошли до целевого действия по разным сценариям;\n",
    "        -построение воронок событий;\n",
    "        -статистический анализ данных, включающий в себя проверку 2 гипотез:\n",
    "        \n",
    "           Гипотеза 1(нулевая): \"конверсия у пользователей, совершающих действия и tips_show и tips_click, и тех, кто\n",
    "           совершает только tips_show, одинакова\"; \n",
    "           Гипотеза 1(альтернативная): \"Альтернативная гипотеза -  \"конверсия в просмотры контактов различается у \n",
    "           пользователей, совершающих действия и tips_show и tips_click, и тех, кто, кто совершает только tips_show\".\n",
    "\n",
    "           Гипотеза 2(нулевая): \"конверсия у пользователей; просмотревших фотографии, и тех, кто пропустил этот шаг, \n",
    "           одинаковая\".\n",
    "           Гипотеза 2 (альтернативная): \"cуществуют значимые различия в конверсии у пользователей; просмотревших фотографии,\n",
    "           и тех, кто пропустил этот шаг\".\n",
    "    \n",
    "\n",
    "      Следуя данному алгоритму, удалось установить, что в исследуемый период 932 пользователя совершили целевое действие. \n",
    "    \n",
    "      При помощи диаграммы Санкея было выявлено 3 следующих сценария, по которым пользователи доходили до просмотра \n",
    "         контактов:\n",
    "    \n",
    "          Cценарий 1:\n",
    "          -поиск по сайту (search);\n",
    "          -просмотр фотографий (photos show);\n",
    "          -просмотр контактов (contacts_show).\n",
    "    \n",
    "          Cценарий 2:\n",
    "          -просмотр карты объявлений (map);\n",
    "          -открытие карточки объявлений (advert open);\n",
    "          -просмотр рекомендаций (tips show);\n",
    "          -просмотр контактов (contacts show).\n",
    "    \n",
    "          Сценарий 3:\n",
    "          -поиск по сайту (search);\n",
    "          -просмотр карты объявлений (map);\n",
    "          -просмотр рекомендаций (tips show);\n",
    "          -просмотр контактов (contacts show)\n",
    "    \n",
    "          Изучение воронок событий для каждого отдельного сценария помогло нам найти события, которые негативно сказываются\n",
    "    на конверсии в целевое действие. Во-первых, наблюдается сильный отток пользователей после поиска по сайту; это может \n",
    "    свидетельствовать о том, что пользователи не смогли для себя объявления. Возможно, в приложении не хватает функционала\n",
    "    для поисковых действий. Во-вторых, многие пользователи \"ушли\", посмотрев карту объявлений; либо они не нашли актуальных \n",
    "    объявлений в своей локации, либо у них возникли трудности с их нахождением, что указывает на  недоработки в приложении.\n",
    "    В-третьих, существенная доля пользователей, увидев рекомендованные объявления, так и не посмотрели их страницы и, \n",
    "    следовательно, не совершили целевое действие. Уместно предположить, что столь заметный отток пользователей связан с тем,\n",
    "    что рекомендации не всегда учитывают пользовательские предпочтения. \n",
    "    \n",
    "          Статистический анализ показал, что некоторые действия оказывают влияние на конверсию в целевое действие. По\n",
    "     итогам 2 тестов мы придерживаемся гипотезы о том, что существуют значимые различия в конверсии пользователей, которые \n",
    "     совершили и  tips_show, и tips_click и теми, кто сделал только tips_show. Также мы придерживаемся гипотезы\n",
    "     о существовании разницы в  конверсии пользователей, просмотревших фотографии на странице объявлений, и теми, кто\n",
    "     этот шаг пропустил. Таким образом, мы приходим к выводу о том, что существует положительная корреляция между 2 \n",
    "     событями, - переходом на страницу объявлений и просмотром фотографий, и совершением целевого действия. \n",
    "     \n",
    "          Для того, чтобы повысить конверсию в целевое действие, рекомендуется улучшить UX. Например, поскольку наблюдается\n",
    "      отток пользователей после просмотра карты, нужно добавить опцию просмотра списка объявлений на странице с картой; так \n",
    "      повышается вероятность того, что пользователи увидят объявление, которе их заинтересует. Для того, чтобы сделать\n",
    "      интерфейс более user_friendly, также необходимо улучшить систему поиска по сайту. Было выявлено, что\n",
    "      половина  пользователей не переходит на страницы рекомендованных объявлений. Дело может быть в том, что\n",
    "      пользовательские предпочтения не учитываются с высокой степенью течности: это указывает на важность улучшения\n",
    "      алгоритма для прогнозирования предпочтений. \n",
    " \n",
    "   \n",
    "    \n",
    "    \n",
    "    \n",
    "    \n",
    "    "
   ]
  }
 ],
 "metadata": {
  "ExecuteTimeLog": [
   {
    "duration": 1413,
    "start_time": "2023-03-26T12:15:04.100Z"
   },
   {
    "duration": 261,
    "start_time": "2023-03-26T12:15:05.516Z"
   },
   {
    "duration": 27,
    "start_time": "2023-03-26T12:15:05.779Z"
   },
   {
    "duration": 71,
    "start_time": "2023-03-26T12:15:05.809Z"
   },
   {
    "duration": 20,
    "start_time": "2023-03-26T12:15:05.882Z"
   },
   {
    "duration": 26,
    "start_time": "2023-03-26T12:15:05.903Z"
   },
   {
    "duration": 24,
    "start_time": "2023-03-26T12:15:05.931Z"
   },
   {
    "duration": 17,
    "start_time": "2023-03-26T12:15:05.957Z"
   },
   {
    "duration": 16,
    "start_time": "2023-03-26T12:15:05.976Z"
   },
   {
    "duration": 5,
    "start_time": "2023-03-26T12:15:05.995Z"
   },
   {
    "duration": 25,
    "start_time": "2023-03-26T12:15:06.001Z"
   },
   {
    "duration": 18,
    "start_time": "2023-03-26T12:15:06.027Z"
   },
   {
    "duration": 19,
    "start_time": "2023-03-26T12:15:06.046Z"
   },
   {
    "duration": 62,
    "start_time": "2023-03-26T12:15:06.067Z"
   },
   {
    "duration": 5,
    "start_time": "2023-03-26T12:15:06.131Z"
   },
   {
    "duration": 11,
    "start_time": "2023-03-26T12:15:06.138Z"
   },
   {
    "duration": 5,
    "start_time": "2023-03-26T12:15:06.151Z"
   },
   {
    "duration": 7,
    "start_time": "2023-03-26T12:15:06.158Z"
   },
   {
    "duration": 2638,
    "start_time": "2023-03-26T12:15:06.166Z"
   },
   {
    "duration": 32,
    "start_time": "2023-03-26T12:15:08.822Z"
   },
   {
    "duration": 83,
    "start_time": "2023-03-26T12:15:08.856Z"
   },
   {
    "duration": 84,
    "start_time": "2023-03-26T12:15:08.940Z"
   },
   {
    "duration": 156,
    "start_time": "2023-03-26T12:15:09.026Z"
   },
   {
    "duration": 123,
    "start_time": "2023-03-26T12:15:09.184Z"
   },
   {
    "duration": 234,
    "start_time": "2023-03-26T12:15:09.309Z"
   },
   {
    "duration": 6,
    "start_time": "2023-03-26T12:15:09.545Z"
   },
   {
    "duration": 14,
    "start_time": "2023-03-26T12:15:09.552Z"
   },
   {
    "duration": 13,
    "start_time": "2023-03-26T12:15:09.569Z"
   },
   {
    "duration": 54,
    "start_time": "2023-03-26T12:15:09.583Z"
   },
   {
    "duration": 154,
    "start_time": "2023-03-26T12:15:09.638Z"
   },
   {
    "duration": 194,
    "start_time": "2023-03-26T12:15:09.793Z"
   },
   {
    "duration": 122,
    "start_time": "2023-03-26T12:15:09.988Z"
   },
   {
    "duration": 20,
    "start_time": "2023-03-26T12:15:10.112Z"
   },
   {
    "duration": 2422,
    "start_time": "2023-03-26T12:15:10.134Z"
   },
   {
    "duration": 857,
    "start_time": "2023-03-26T12:15:12.557Z"
   },
   {
    "duration": 25,
    "start_time": "2023-03-26T12:15:13.416Z"
   },
   {
    "duration": 27,
    "start_time": "2023-03-26T12:15:13.443Z"
   },
   {
    "duration": 417,
    "start_time": "2023-03-26T12:15:13.472Z"
   },
   {
    "duration": 33,
    "start_time": "2023-03-26T12:15:13.891Z"
   },
   {
    "duration": 26,
    "start_time": "2023-03-26T12:15:13.926Z"
   },
   {
    "duration": 324,
    "start_time": "2023-03-26T12:15:13.954Z"
   },
   {
    "duration": 11,
    "start_time": "2023-03-26T12:15:14.280Z"
   },
   {
    "duration": 101,
    "start_time": "2023-03-26T12:15:14.292Z"
   },
   {
    "duration": 128,
    "start_time": "2023-03-26T12:15:14.395Z"
   },
   {
    "duration": 7,
    "start_time": "2023-03-26T12:15:14.525Z"
   },
   {
    "duration": 16,
    "start_time": "2023-03-26T12:15:14.534Z"
   },
   {
    "duration": 3,
    "start_time": "2023-03-26T12:15:14.552Z"
   },
   {
    "duration": 310,
    "start_time": "2023-03-26T12:15:14.557Z"
   },
   {
    "duration": 5,
    "start_time": "2023-03-26T12:15:14.868Z"
   },
   {
    "duration": 766,
    "start_time": "2023-03-26T12:15:14.875Z"
   },
   {
    "duration": 24,
    "start_time": "2023-03-26T12:15:15.643Z"
   },
   {
    "duration": 9,
    "start_time": "2023-03-26T12:15:15.669Z"
   },
   {
    "duration": 185,
    "start_time": "2023-03-26T12:15:15.680Z"
   },
   {
    "duration": 24,
    "start_time": "2023-03-26T12:15:15.867Z"
   },
   {
    "duration": 19,
    "start_time": "2023-03-26T12:15:15.892Z"
   },
   {
    "duration": 27,
    "start_time": "2023-03-26T12:15:15.912Z"
   },
   {
    "duration": 11,
    "start_time": "2023-03-26T12:15:15.941Z"
   },
   {
    "duration": 31,
    "start_time": "2023-03-26T12:15:15.953Z"
   },
   {
    "duration": 12,
    "start_time": "2023-03-26T12:15:15.985Z"
   },
   {
    "duration": 30,
    "start_time": "2023-03-26T12:15:15.999Z"
   },
   {
    "duration": 10,
    "start_time": "2023-03-26T12:15:16.031Z"
   },
   {
    "duration": 4,
    "start_time": "2023-03-26T12:15:16.043Z"
   },
   {
    "duration": 25,
    "start_time": "2023-03-26T12:15:16.048Z"
   },
   {
    "duration": 7,
    "start_time": "2023-03-26T12:15:16.075Z"
   },
   {
    "duration": 41,
    "start_time": "2023-03-26T12:15:16.084Z"
   },
   {
    "duration": 16,
    "start_time": "2023-03-26T12:15:16.127Z"
   },
   {
    "duration": 28,
    "start_time": "2023-03-26T12:15:16.145Z"
   },
   {
    "duration": 7,
    "start_time": "2023-03-26T12:15:16.175Z"
   },
   {
    "duration": 17,
    "start_time": "2023-03-26T12:16:25.396Z"
   },
   {
    "duration": 9,
    "start_time": "2023-03-26T12:26:17.474Z"
   },
   {
    "duration": 8,
    "start_time": "2023-03-26T12:26:24.440Z"
   },
   {
    "duration": 8,
    "start_time": "2023-03-26T12:27:17.156Z"
   },
   {
    "duration": 1285,
    "start_time": "2023-03-28T05:36:49.432Z"
   },
   {
    "duration": 286,
    "start_time": "2023-03-28T05:36:50.718Z"
   },
   {
    "duration": 31,
    "start_time": "2023-03-28T05:36:51.007Z"
   },
   {
    "duration": 51,
    "start_time": "2023-03-28T05:36:51.040Z"
   },
   {
    "duration": 18,
    "start_time": "2023-03-28T05:36:51.093Z"
   },
   {
    "duration": 4,
    "start_time": "2023-03-28T05:36:51.135Z"
   },
   {
    "duration": 33,
    "start_time": "2023-03-28T05:36:51.141Z"
   },
   {
    "duration": 18,
    "start_time": "2023-03-28T05:36:51.176Z"
   },
   {
    "duration": 16,
    "start_time": "2023-03-28T05:36:51.196Z"
   },
   {
    "duration": 7,
    "start_time": "2023-03-28T05:36:51.216Z"
   },
   {
    "duration": 9,
    "start_time": "2023-03-28T05:36:51.234Z"
   },
   {
    "duration": 24,
    "start_time": "2023-03-28T05:36:51.245Z"
   },
   {
    "duration": 43,
    "start_time": "2023-03-28T05:36:51.271Z"
   },
   {
    "duration": 48,
    "start_time": "2023-03-28T05:36:51.315Z"
   },
   {
    "duration": 6,
    "start_time": "2023-03-28T05:36:51.365Z"
   },
   {
    "duration": 13,
    "start_time": "2023-03-28T05:36:51.373Z"
   },
   {
    "duration": 12,
    "start_time": "2023-03-28T05:36:51.388Z"
   },
   {
    "duration": 8,
    "start_time": "2023-03-28T05:36:51.401Z"
   },
   {
    "duration": 2407,
    "start_time": "2023-03-28T05:36:51.411Z"
   },
   {
    "duration": 31,
    "start_time": "2023-03-28T05:36:53.820Z"
   },
   {
    "duration": 27,
    "start_time": "2023-03-28T05:36:53.852Z"
   },
   {
    "duration": 77,
    "start_time": "2023-03-28T05:36:53.881Z"
   },
   {
    "duration": 605,
    "start_time": "2023-03-28T05:36:53.960Z"
   },
   {
    "duration": 208,
    "start_time": "2023-03-28T05:36:54.567Z"
   },
   {
    "duration": 182,
    "start_time": "2023-03-28T05:36:54.777Z"
   },
   {
    "duration": 109,
    "start_time": "2023-03-28T05:36:54.960Z"
   },
   {
    "duration": 17,
    "start_time": "2023-03-28T05:36:55.071Z"
   },
   {
    "duration": 2041,
    "start_time": "2023-03-28T05:36:55.091Z"
   },
   {
    "duration": 826,
    "start_time": "2023-03-28T05:36:57.135Z"
   },
   {
    "duration": 24,
    "start_time": "2023-03-28T05:36:57.964Z"
   },
   {
    "duration": 49,
    "start_time": "2023-03-28T05:36:57.989Z"
   },
   {
    "duration": 409,
    "start_time": "2023-03-28T05:36:58.040Z"
   },
   {
    "duration": 16,
    "start_time": "2023-03-28T05:36:58.450Z"
   },
   {
    "duration": 22,
    "start_time": "2023-03-28T05:36:58.468Z"
   },
   {
    "duration": 319,
    "start_time": "2023-03-28T05:36:58.492Z"
   },
   {
    "duration": 58,
    "start_time": "2023-03-28T05:36:58.813Z"
   },
   {
    "duration": 30,
    "start_time": "2023-03-28T05:36:58.873Z"
   },
   {
    "duration": 38,
    "start_time": "2023-03-28T05:36:58.904Z"
   },
   {
    "duration": 12,
    "start_time": "2023-03-28T05:36:58.944Z"
   },
   {
    "duration": 98,
    "start_time": "2023-03-28T05:36:58.957Z"
   },
   {
    "duration": 103,
    "start_time": "2023-03-28T05:36:59.057Z"
   },
   {
    "duration": 7,
    "start_time": "2023-03-28T05:36:59.162Z"
   },
   {
    "duration": 108,
    "start_time": "2023-03-28T05:36:59.170Z"
   },
   {
    "duration": 4,
    "start_time": "2023-03-28T05:36:59.280Z"
   },
   {
    "duration": 308,
    "start_time": "2023-03-28T05:36:59.286Z"
   },
   {
    "duration": 5,
    "start_time": "2023-03-28T05:36:59.596Z"
   },
   {
    "duration": 818,
    "start_time": "2023-03-28T05:36:59.604Z"
   },
   {
    "duration": 30,
    "start_time": "2023-03-28T05:37:00.436Z"
   },
   {
    "duration": 22,
    "start_time": "2023-03-28T05:37:00.468Z"
   },
   {
    "duration": 206,
    "start_time": "2023-03-28T05:37:00.491Z"
   },
   {
    "duration": 22,
    "start_time": "2023-03-28T05:37:00.698Z"
   },
   {
    "duration": 43,
    "start_time": "2023-03-28T05:37:00.722Z"
   },
   {
    "duration": 59,
    "start_time": "2023-03-28T05:37:00.767Z"
   },
   {
    "duration": 12,
    "start_time": "2023-03-28T05:37:00.828Z"
   },
   {
    "duration": 99,
    "start_time": "2023-03-28T05:37:00.842Z"
   },
   {
    "duration": 37,
    "start_time": "2023-03-28T05:37:00.943Z"
   },
   {
    "duration": 34,
    "start_time": "2023-03-28T05:37:00.982Z"
   },
   {
    "duration": 21,
    "start_time": "2023-03-28T05:37:01.018Z"
   },
   {
    "duration": 50,
    "start_time": "2023-03-28T05:37:01.041Z"
   },
   {
    "duration": 23,
    "start_time": "2023-03-28T05:37:01.093Z"
   },
   {
    "duration": 54,
    "start_time": "2023-03-28T05:37:01.118Z"
   },
   {
    "duration": 51,
    "start_time": "2023-03-28T05:37:01.174Z"
   },
   {
    "duration": 91,
    "start_time": "2023-03-28T05:37:01.227Z"
   },
   {
    "duration": 13,
    "start_time": "2023-03-28T05:37:01.320Z"
   },
   {
    "duration": 66,
    "start_time": "2023-03-28T05:37:01.335Z"
   },
   {
    "duration": 81,
    "start_time": "2023-03-28T05:37:01.404Z"
   },
   {
    "duration": 34,
    "start_time": "2023-03-28T05:37:01.487Z"
   },
   {
    "duration": 79,
    "start_time": "2023-03-28T05:37:01.523Z"
   },
   {
    "duration": 41,
    "start_time": "2023-03-28T05:37:01.604Z"
   },
   {
    "duration": 20,
    "start_time": "2023-03-28T05:37:01.647Z"
   },
   {
    "duration": 4,
    "start_time": "2023-03-28T05:41:32.778Z"
   },
   {
    "duration": 11,
    "start_time": "2023-03-28T05:43:59.841Z"
   },
   {
    "duration": 1628,
    "start_time": "2023-03-28T17:36:59.379Z"
   },
   {
    "duration": 349,
    "start_time": "2023-03-28T17:37:01.010Z"
   },
   {
    "duration": 34,
    "start_time": "2023-03-28T17:37:01.361Z"
   },
   {
    "duration": 63,
    "start_time": "2023-03-28T17:37:01.398Z"
   },
   {
    "duration": 22,
    "start_time": "2023-03-28T17:37:01.487Z"
   },
   {
    "duration": 18,
    "start_time": "2023-03-28T17:37:01.510Z"
   },
   {
    "duration": 56,
    "start_time": "2023-03-28T17:37:01.530Z"
   },
   {
    "duration": 38,
    "start_time": "2023-03-28T17:37:01.588Z"
   },
   {
    "duration": 44,
    "start_time": "2023-03-28T17:37:01.628Z"
   },
   {
    "duration": 36,
    "start_time": "2023-03-28T17:37:01.675Z"
   },
   {
    "duration": 39,
    "start_time": "2023-03-28T17:37:01.714Z"
   },
   {
    "duration": 48,
    "start_time": "2023-03-28T17:37:01.755Z"
   },
   {
    "duration": 52,
    "start_time": "2023-03-28T17:37:01.805Z"
   },
   {
    "duration": 97,
    "start_time": "2023-03-28T17:37:01.860Z"
   },
   {
    "duration": 8,
    "start_time": "2023-03-28T17:37:01.960Z"
   },
   {
    "duration": 65,
    "start_time": "2023-03-28T17:37:01.970Z"
   },
   {
    "duration": 25,
    "start_time": "2023-03-28T17:37:02.037Z"
   },
   {
    "duration": 43,
    "start_time": "2023-03-28T17:37:02.064Z"
   },
   {
    "duration": 2706,
    "start_time": "2023-03-28T17:37:02.109Z"
   },
   {
    "duration": 20,
    "start_time": "2023-03-28T17:37:04.818Z"
   },
   {
    "duration": 60,
    "start_time": "2023-03-28T17:37:04.840Z"
   },
   {
    "duration": 95,
    "start_time": "2023-03-28T17:37:04.902Z"
   },
   {
    "duration": 671,
    "start_time": "2023-03-28T17:37:04.999Z"
   },
   {
    "duration": 160,
    "start_time": "2023-03-28T17:37:05.672Z"
   },
   {
    "duration": 214,
    "start_time": "2023-03-28T17:37:05.834Z"
   },
   {
    "duration": 116,
    "start_time": "2023-03-28T17:37:06.051Z"
   },
   {
    "duration": 26,
    "start_time": "2023-03-28T17:37:06.169Z"
   },
   {
    "duration": 2410,
    "start_time": "2023-03-28T17:37:06.198Z"
   },
   {
    "duration": 924,
    "start_time": "2023-03-28T17:37:08.610Z"
   },
   {
    "duration": 27,
    "start_time": "2023-03-28T17:37:09.536Z"
   },
   {
    "duration": 46,
    "start_time": "2023-03-28T17:37:09.565Z"
   },
   {
    "duration": 433,
    "start_time": "2023-03-28T17:37:09.613Z"
   },
   {
    "duration": 24,
    "start_time": "2023-03-28T17:37:10.048Z"
   },
   {
    "duration": 28,
    "start_time": "2023-03-28T17:37:10.086Z"
   },
   {
    "duration": 341,
    "start_time": "2023-03-28T17:37:10.116Z"
   },
   {
    "duration": 56,
    "start_time": "2023-03-28T17:37:10.459Z"
   },
   {
    "duration": 41,
    "start_time": "2023-03-28T17:37:10.516Z"
   },
   {
    "duration": 42,
    "start_time": "2023-03-28T17:37:10.559Z"
   },
   {
    "duration": 19,
    "start_time": "2023-03-28T17:37:10.603Z"
   },
   {
    "duration": 132,
    "start_time": "2023-03-28T17:37:10.624Z"
   },
   {
    "duration": 146,
    "start_time": "2023-03-28T17:37:10.759Z"
   },
   {
    "duration": 10,
    "start_time": "2023-03-28T17:37:10.907Z"
   },
   {
    "duration": 119,
    "start_time": "2023-03-28T17:37:10.918Z"
   },
   {
    "duration": 3,
    "start_time": "2023-03-28T17:37:11.039Z"
   },
   {
    "duration": 322,
    "start_time": "2023-03-28T17:37:11.044Z"
   },
   {
    "duration": 4,
    "start_time": "2023-03-28T17:37:11.368Z"
   },
   {
    "duration": 851,
    "start_time": "2023-03-28T17:37:11.374Z"
   },
   {
    "duration": 29,
    "start_time": "2023-03-28T17:37:12.227Z"
   },
   {
    "duration": 8,
    "start_time": "2023-03-28T17:37:12.258Z"
   },
   {
    "duration": 192,
    "start_time": "2023-03-28T17:37:12.268Z"
   },
   {
    "duration": 27,
    "start_time": "2023-03-28T17:37:12.462Z"
   },
   {
    "duration": 21,
    "start_time": "2023-03-28T17:37:12.491Z"
   },
   {
    "duration": 41,
    "start_time": "2023-03-28T17:37:12.514Z"
   },
   {
    "duration": 32,
    "start_time": "2023-03-28T17:37:12.556Z"
   },
   {
    "duration": 33,
    "start_time": "2023-03-28T17:37:12.590Z"
   },
   {
    "duration": 13,
    "start_time": "2023-03-28T17:37:12.624Z"
   },
   {
    "duration": 16,
    "start_time": "2023-03-28T17:37:12.639Z"
   },
   {
    "duration": 43,
    "start_time": "2023-03-28T17:37:12.656Z"
   },
   {
    "duration": 42,
    "start_time": "2023-03-28T17:37:12.701Z"
   },
   {
    "duration": 12,
    "start_time": "2023-03-28T17:37:12.745Z"
   },
   {
    "duration": 28,
    "start_time": "2023-03-28T17:37:12.759Z"
   },
   {
    "duration": 37,
    "start_time": "2023-03-28T17:37:12.790Z"
   },
   {
    "duration": 67,
    "start_time": "2023-03-28T17:37:12.829Z"
   },
   {
    "duration": 12,
    "start_time": "2023-03-28T17:37:12.898Z"
   },
   {
    "duration": 10,
    "start_time": "2023-03-28T17:37:12.912Z"
   },
   {
    "duration": 15,
    "start_time": "2023-03-28T17:37:12.924Z"
   },
   {
    "duration": 11,
    "start_time": "2023-03-28T17:37:12.942Z"
   },
   {
    "duration": 64,
    "start_time": "2023-03-28T17:37:12.955Z"
   },
   {
    "duration": 8,
    "start_time": "2023-03-28T17:37:13.021Z"
   },
   {
    "duration": 1420,
    "start_time": "2023-03-29T19:43:57.119Z"
   },
   {
    "duration": 256,
    "start_time": "2023-03-29T19:43:58.541Z"
   },
   {
    "duration": 23,
    "start_time": "2023-03-29T19:43:58.798Z"
   },
   {
    "duration": 55,
    "start_time": "2023-03-29T19:43:58.822Z"
   },
   {
    "duration": 17,
    "start_time": "2023-03-29T19:43:58.879Z"
   },
   {
    "duration": 13,
    "start_time": "2023-03-29T19:43:58.897Z"
   },
   {
    "duration": 33,
    "start_time": "2023-03-29T19:43:58.911Z"
   },
   {
    "duration": 14,
    "start_time": "2023-03-29T19:43:58.945Z"
   },
   {
    "duration": 14,
    "start_time": "2023-03-29T19:43:58.960Z"
   },
   {
    "duration": 6,
    "start_time": "2023-03-29T19:43:58.976Z"
   },
   {
    "duration": 12,
    "start_time": "2023-03-29T19:43:58.984Z"
   },
   {
    "duration": 19,
    "start_time": "2023-03-29T19:43:58.997Z"
   },
   {
    "duration": 48,
    "start_time": "2023-03-29T19:43:59.017Z"
   },
   {
    "duration": 39,
    "start_time": "2023-03-29T19:43:59.066Z"
   },
   {
    "duration": 6,
    "start_time": "2023-03-29T19:43:59.107Z"
   },
   {
    "duration": 19,
    "start_time": "2023-03-29T19:43:59.134Z"
   },
   {
    "duration": 21,
    "start_time": "2023-03-29T19:43:59.155Z"
   },
   {
    "duration": 16,
    "start_time": "2023-03-29T19:43:59.177Z"
   },
   {
    "duration": 2172,
    "start_time": "2023-03-29T19:43:59.195Z"
   },
   {
    "duration": 20,
    "start_time": "2023-03-29T19:44:01.369Z"
   },
   {
    "duration": 60,
    "start_time": "2023-03-29T19:44:01.391Z"
   },
   {
    "duration": 97,
    "start_time": "2023-03-29T19:44:01.453Z"
   },
   {
    "duration": 511,
    "start_time": "2023-03-29T19:44:01.551Z"
   },
   {
    "duration": 148,
    "start_time": "2023-03-29T19:44:02.064Z"
   },
   {
    "duration": 198,
    "start_time": "2023-03-29T19:44:02.214Z"
   },
   {
    "duration": 120,
    "start_time": "2023-03-29T19:44:02.414Z"
   },
   {
    "duration": 20,
    "start_time": "2023-03-29T19:44:02.536Z"
   },
   {
    "duration": 2025,
    "start_time": "2023-03-29T19:44:02.560Z"
   },
   {
    "duration": 1000,
    "start_time": "2023-03-29T19:44:04.586Z"
   },
   {
    "duration": 22,
    "start_time": "2023-03-29T19:44:05.588Z"
   },
   {
    "duration": 46,
    "start_time": "2023-03-29T19:44:05.612Z"
   },
   {
    "duration": 389,
    "start_time": "2023-03-29T19:44:05.659Z"
   },
   {
    "duration": 17,
    "start_time": "2023-03-29T19:44:06.049Z"
   },
   {
    "duration": 38,
    "start_time": "2023-03-29T19:44:06.067Z"
   },
   {
    "duration": 329,
    "start_time": "2023-03-29T19:44:06.106Z"
   },
   {
    "duration": 43,
    "start_time": "2023-03-29T19:44:06.437Z"
   },
   {
    "duration": 29,
    "start_time": "2023-03-29T19:44:06.482Z"
   },
   {
    "duration": 40,
    "start_time": "2023-03-29T19:44:06.512Z"
   },
   {
    "duration": 38,
    "start_time": "2023-03-29T19:44:06.554Z"
   },
   {
    "duration": 87,
    "start_time": "2023-03-29T19:44:06.594Z"
   },
   {
    "duration": 112,
    "start_time": "2023-03-29T19:44:06.683Z"
   },
   {
    "duration": 7,
    "start_time": "2023-03-29T19:44:06.797Z"
   },
   {
    "duration": 113,
    "start_time": "2023-03-29T19:44:06.806Z"
   },
   {
    "duration": 3,
    "start_time": "2023-03-29T19:44:06.920Z"
   },
   {
    "duration": 163,
    "start_time": "2023-03-29T19:44:06.925Z"
   },
   {
    "duration": 5,
    "start_time": "2023-03-29T19:44:07.090Z"
   },
   {
    "duration": 838,
    "start_time": "2023-03-29T19:44:07.097Z"
   },
   {
    "duration": 27,
    "start_time": "2023-03-29T19:44:07.937Z"
   },
   {
    "duration": 8,
    "start_time": "2023-03-29T19:44:07.965Z"
   },
   {
    "duration": 282,
    "start_time": "2023-03-29T19:44:07.975Z"
   },
   {
    "duration": 24,
    "start_time": "2023-03-29T19:44:08.259Z"
   },
   {
    "duration": 17,
    "start_time": "2023-03-29T19:44:08.285Z"
   },
   {
    "duration": 29,
    "start_time": "2023-03-29T19:44:08.304Z"
   },
   {
    "duration": 12,
    "start_time": "2023-03-29T19:44:08.335Z"
   },
   {
    "duration": 29,
    "start_time": "2023-03-29T19:44:08.348Z"
   },
   {
    "duration": 12,
    "start_time": "2023-03-29T19:44:08.378Z"
   },
   {
    "duration": 14,
    "start_time": "2023-03-29T19:44:08.392Z"
   },
   {
    "duration": 35,
    "start_time": "2023-03-29T19:44:08.408Z"
   },
   {
    "duration": 33,
    "start_time": "2023-03-29T19:44:08.445Z"
   },
   {
    "duration": 10,
    "start_time": "2023-03-29T19:44:08.480Z"
   },
   {
    "duration": 5,
    "start_time": "2023-03-29T19:44:08.491Z"
   },
   {
    "duration": 57,
    "start_time": "2023-03-29T19:44:08.497Z"
   },
   {
    "duration": 43,
    "start_time": "2023-03-29T19:44:08.556Z"
   },
   {
    "duration": 13,
    "start_time": "2023-03-29T19:44:08.601Z"
   },
   {
    "duration": 24,
    "start_time": "2023-03-29T19:44:08.616Z"
   },
   {
    "duration": 14,
    "start_time": "2023-03-29T19:44:08.641Z"
   },
   {
    "duration": 9,
    "start_time": "2023-03-29T19:44:08.656Z"
   },
   {
    "duration": 36,
    "start_time": "2023-03-29T19:44:08.667Z"
   },
   {
    "duration": 31,
    "start_time": "2023-03-29T19:44:08.705Z"
   }
  ],
  "kernelspec": {
   "display_name": "Python 3 (ipykernel)",
   "language": "python",
   "name": "python3"
  },
  "language_info": {
   "codemirror_mode": {
    "name": "ipython",
    "version": 3
   },
   "file_extension": ".py",
   "mimetype": "text/x-python",
   "name": "python",
   "nbconvert_exporter": "python",
   "pygments_lexer": "ipython3",
   "version": "3.9.13"
  },
  "toc": {
   "base_numbering": 1,
   "nav_menu": {},
   "number_sections": true,
   "sideBar": false,
   "skip_h1_title": false,
   "title_cell": "Table of Contents",
   "title_sidebar": "Contents",
   "toc_cell": false,
   "toc_position": {
    "height": "569.6px",
    "left": "2px",
    "top": "111.125px",
    "width": "210px"
   },
   "toc_section_display": true,
   "toc_window_display": true
  }
 },
 "nbformat": 4,
 "nbformat_minor": 5
}
